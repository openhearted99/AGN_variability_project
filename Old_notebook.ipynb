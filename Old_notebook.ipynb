{
 "cells": [
  {
   "cell_type": "code",
   "execution_count": 1,
   "metadata": {
    "ExecuteTime": {
     "end_time": "2019-07-03T17:13:37.819307Z",
     "start_time": "2019-07-03T17:13:37.811097Z"
    }
   },
   "outputs": [
    {
     "name": "stdout",
     "output_type": "stream",
     "text": [
      "\n"
     ]
    }
   ],
   "source": [
    "\"\"\"\n",
    "Created on October 14 2018\n",
    "@author: Neven Caplar\n",
    "@contact: ncaplar@princeton.edu\n",
    "\"\"\"\n",
    "\"\"\"\n",
    "Edited and remade on June 17th, 2019\n",
    "@author: Theodore Pena\n",
    "@contact: theodore.pena@tufts.edu\n",
    "\"\"\"\n",
    "print()"
   ]
  },
  {
   "cell_type": "markdown",
   "metadata": {},
   "source": [
    "We're starting everything off with some basic imports."
   ]
  },
  {
   "cell_type": "code",
   "execution_count": 2,
   "metadata": {
    "ExecuteTime": {
     "end_time": "2019-07-03T17:13:43.930723Z",
     "start_time": "2019-07-03T17:13:41.179349Z"
    }
   },
   "outputs": [
    {
     "name": "stdout",
     "output_type": "stream",
     "text": [
      "sys version: 3.7.3 (default, Mar 27 2019, 22:11:17) \n",
      "[GCC 7.3.0]\n",
      "numpy version: 1.16.2\n",
      "pandas version: 0.24.2\n"
     ]
    },
    {
     "data": {
      "text/html": [
       "<style>.container { width:100% !important; }</style>"
      ],
      "text/plain": [
       "<IPython.core.display.HTML object>"
      ]
     },
     "metadata": {},
     "output_type": "display_data"
    }
   ],
   "source": [
    "import sys\n",
    "print(\"sys version: {}\".format(sys.version))\n",
    "\n",
    "import matplotlib\n",
    "import matplotlib.pyplot as plt\n",
    "%matplotlib qt \n",
    "# If you don't have an xserver, the above line might crash your kernel. Try '%matplotlib inline' instead.\n",
    "\n",
    "import numpy as np\n",
    "print(\"numpy version: {}\".format(np.__version__))\n",
    "\n",
    "import pandas as pd\n",
    "print(\"pandas version: {}\".format(pd.__version__))\n",
    "\n",
    "from tqdm import tqdm\n",
    "# This gives for loops progress bars.\n",
    "\n",
    "from sklearn.metrics.pairwise import euclidean_distances\n",
    "# We need this to match AGN from one catalog to another.\n",
    "\n",
    "from IPython.core.display import display, HTML\n",
    "# An alternate, cleaner take on the jupyter workspace\n",
    "display(HTML(\"<style>.container { width:100% !important; }</style>\"))"
   ]
  },
  {
   "cell_type": "markdown",
   "metadata": {},
   "source": [
    "The below cell is just code prettification. Feel free to skip if you dislike any changes."
   ]
  },
  {
   "cell_type": "code",
   "execution_count": 3,
   "metadata": {
    "ExecuteTime": {
     "end_time": "2019-07-03T17:13:43.967030Z",
     "start_time": "2019-07-03T17:13:43.936043Z"
    },
    "code_folding": [
     0
    ]
   },
   "outputs": [
    {
     "data": {
      "application/javascript": [
       "try {\n",
       "  require(['base/js/utils'], function (utils) {\n",
       "    utils.load_extension('code_prettify/code_prettify');\n",
       "    utils.load_extension('collapsible_headings/main'); \n",
       "    utils.load_extension('codefolding/edit'); \n",
       "    utils.load_extension('codefolding/main'); \n",
       "    utils.load_extension('execute_time/ExecuteTime');   \n",
       "    utils.load_extension('toc2/main'); \n",
       "  });\n",
       "}\n",
       "catch (err) {\n",
       "  console.log('toc2 load error:', err);\n",
       "}\n"
      ],
      "text/plain": [
       "<IPython.core.display.Javascript object>"
      ]
     },
     "metadata": {},
     "output_type": "display_data"
    }
   ],
   "source": [
    "%%javascript\n",
    "try {\n",
    "  require(['base/js/utils'], function (utils) {\n",
    "    utils.load_extension('code_prettify/code_prettify');\n",
    "    utils.load_extension('collapsible_headings/main'); \n",
    "    utils.load_extension('codefolding/edit'); \n",
    "    utils.load_extension('codefolding/main'); \n",
    "    utils.load_extension('execute_time/ExecuteTime');   \n",
    "    utils.load_extension('toc2/main'); \n",
    "  });\n",
    "}\n",
    "catch (err) {\n",
    "  console.log('toc2 load error:', err);\n",
    "}"
   ]
  },
  {
   "cell_type": "markdown",
   "metadata": {},
   "source": [
    "Last thing we've got left is to define a few global variables we're going to come back to."
   ]
  },
  {
   "cell_type": "code",
   "execution_count": 4,
   "metadata": {
    "ExecuteTime": {
     "end_time": "2019-07-03T17:14:00.853590Z",
     "start_time": "2019-07-03T17:14:00.844264Z"
    }
   },
   "outputs": [],
   "source": [
    "DATA_DIRECTORY='/home/tpena01/Variability/HSC/' \n",
    "# Change '/home/tpena01' to a path leading to Neven Caplar's Variability repo, presuming you've alredy cloned it.\n",
    "# If not, here's a link: https://github.com/nevencaplar/Variability"
   ]
  },
  {
   "cell_type": "markdown",
   "metadata": {},
   "source": [
    "# Data intake"
   ]
  },
  {
   "cell_type": "markdown",
   "metadata": {},
   "source": [
    "## SDSS"
   ]
  },
  {
   "cell_type": "markdown",
   "metadata": {},
   "source": [
    "The first catalog we'll need is the SDSS quasar catalog, DR7 edition. Read about it here: https://classic.sdss.org/dr7/products/value_added/qsocat_dr7.html."
   ]
  },
  {
   "cell_type": "code",
   "execution_count": 5,
   "metadata": {
    "ExecuteTime": {
     "end_time": "2019-07-03T17:14:26.117566Z",
     "start_time": "2019-07-03T17:14:11.496157Z"
    },
    "scrolled": true
   },
   "outputs": [
    {
     "name": "stderr",
     "output_type": "stream",
     "text": [
      "Skipping line 305: Expected 75 fields in line 305, saw 76. Error could possibly be due to quotes being ignored when a multi-char delimiter is used.\n",
      "Skipping line 1633: Expected 75 fields in line 1633, saw 76. Error could possibly be due to quotes being ignored when a multi-char delimiter is used.\n",
      "Skipping line 1745: Expected 75 fields in line 1745, saw 76. Error could possibly be due to quotes being ignored when a multi-char delimiter is used.\n",
      "Skipping line 1828: Expected 75 fields in line 1828, saw 76. Error could possibly be due to quotes being ignored when a multi-char delimiter is used.\n",
      "Skipping line 3631: Expected 75 fields in line 3631, saw 76. Error could possibly be due to quotes being ignored when a multi-char delimiter is used.\n",
      "Skipping line 4123: Expected 75 fields in line 4123, saw 76. Error could possibly be due to quotes being ignored when a multi-char delimiter is used.\n",
      "Skipping line 4124: Expected 75 fields in line 4124, saw 76. Error could possibly be due to quotes being ignored when a multi-char delimiter is used.\n",
      "Skipping line 4238: Expected 75 fields in line 4238, saw 76. Error could possibly be due to quotes being ignored when a multi-char delimiter is used.\n",
      "Skipping line 4248: Expected 75 fields in line 4248, saw 76. Error could possibly be due to quotes being ignored when a multi-char delimiter is used.\n",
      "Skipping line 5456: Expected 75 fields in line 5456, saw 76. Error could possibly be due to quotes being ignored when a multi-char delimiter is used.\n",
      "Skipping line 6375: Expected 75 fields in line 6375, saw 76. Error could possibly be due to quotes being ignored when a multi-char delimiter is used.\n",
      "Skipping line 10353: Expected 75 fields in line 10353, saw 76. Error could possibly be due to quotes being ignored when a multi-char delimiter is used.\n",
      "Skipping line 14972: Expected 75 fields in line 14972, saw 76. Error could possibly be due to quotes being ignored when a multi-char delimiter is used.\n",
      "Skipping line 18544: Expected 75 fields in line 18544, saw 76. Error could possibly be due to quotes being ignored when a multi-char delimiter is used.\n",
      "Skipping line 18641: Expected 75 fields in line 18641, saw 76. Error could possibly be due to quotes being ignored when a multi-char delimiter is used.\n",
      "Skipping line 18809: Expected 75 fields in line 18809, saw 76. Error could possibly be due to quotes being ignored when a multi-char delimiter is used.\n",
      "Skipping line 21010: Expected 75 fields in line 21010, saw 76. Error could possibly be due to quotes being ignored when a multi-char delimiter is used.\n",
      "Skipping line 21361: Expected 75 fields in line 21361, saw 76. Error could possibly be due to quotes being ignored when a multi-char delimiter is used.\n",
      "Skipping line 21437: Expected 75 fields in line 21437, saw 76. Error could possibly be due to quotes being ignored when a multi-char delimiter is used.\n",
      "Skipping line 23667: Expected 75 fields in line 23667, saw 76. Error could possibly be due to quotes being ignored when a multi-char delimiter is used.\n",
      "Skipping line 24564: Expected 75 fields in line 24564, saw 76. Error could possibly be due to quotes being ignored when a multi-char delimiter is used.\n",
      "Skipping line 25106: Expected 75 fields in line 25106, saw 76. Error could possibly be due to quotes being ignored when a multi-char delimiter is used.\n",
      "Skipping line 25702: Expected 75 fields in line 25702, saw 76. Error could possibly be due to quotes being ignored when a multi-char delimiter is used.\n",
      "Skipping line 25756: Expected 75 fields in line 25756, saw 76. Error could possibly be due to quotes being ignored when a multi-char delimiter is used.\n",
      "Skipping line 26759: Expected 75 fields in line 26759, saw 76. Error could possibly be due to quotes being ignored when a multi-char delimiter is used.\n",
      "Skipping line 28490: Expected 75 fields in line 28490, saw 76. Error could possibly be due to quotes being ignored when a multi-char delimiter is used.\n",
      "Skipping line 28815: Expected 75 fields in line 28815, saw 76. Error could possibly be due to quotes being ignored when a multi-char delimiter is used.\n",
      "Skipping line 29963: Expected 75 fields in line 29963, saw 76. Error could possibly be due to quotes being ignored when a multi-char delimiter is used.\n",
      "Skipping line 33691: Expected 75 fields in line 33691, saw 76. Error could possibly be due to quotes being ignored when a multi-char delimiter is used.\n",
      "Skipping line 33920: Expected 75 fields in line 33920, saw 76. Error could possibly be due to quotes being ignored when a multi-char delimiter is used.\n",
      "Skipping line 34775: Expected 75 fields in line 34775, saw 76. Error could possibly be due to quotes being ignored when a multi-char delimiter is used.\n",
      "Skipping line 35598: Expected 75 fields in line 35598, saw 76. Error could possibly be due to quotes being ignored when a multi-char delimiter is used.\n",
      "Skipping line 36729: Expected 75 fields in line 36729, saw 76. Error could possibly be due to quotes being ignored when a multi-char delimiter is used.\n",
      "Skipping line 37012: Expected 75 fields in line 37012, saw 76. Error could possibly be due to quotes being ignored when a multi-char delimiter is used.\n",
      "Skipping line 40860: Expected 75 fields in line 40860, saw 76. Error could possibly be due to quotes being ignored when a multi-char delimiter is used.\n",
      "Skipping line 41001: Expected 75 fields in line 41001, saw 76. Error could possibly be due to quotes being ignored when a multi-char delimiter is used.\n",
      "Skipping line 41012: Expected 75 fields in line 41012, saw 76. Error could possibly be due to quotes being ignored when a multi-char delimiter is used.\n",
      "Skipping line 41076: Expected 75 fields in line 41076, saw 76. Error could possibly be due to quotes being ignored when a multi-char delimiter is used.\n",
      "Skipping line 41080: Expected 75 fields in line 41080, saw 76. Error could possibly be due to quotes being ignored when a multi-char delimiter is used.\n",
      "Skipping line 41268: Expected 75 fields in line 41268, saw 76. Error could possibly be due to quotes being ignored when a multi-char delimiter is used.\n",
      "Skipping line 41335: Expected 75 fields in line 41335, saw 76. Error could possibly be due to quotes being ignored when a multi-char delimiter is used.\n",
      "Skipping line 41952: Expected 75 fields in line 41952, saw 76. Error could possibly be due to quotes being ignored when a multi-char delimiter is used.\n",
      "Skipping line 42080: Expected 75 fields in line 42080, saw 76. Error could possibly be due to quotes being ignored when a multi-char delimiter is used.\n",
      "Skipping line 42206: Expected 75 fields in line 42206, saw 76. Error could possibly be due to quotes being ignored when a multi-char delimiter is used.\n",
      "Skipping line 43184: Expected 75 fields in line 43184, saw 76. Error could possibly be due to quotes being ignored when a multi-char delimiter is used.\n",
      "Skipping line 43655: Expected 75 fields in line 43655, saw 77. Error could possibly be due to quotes being ignored when a multi-char delimiter is used.\n",
      "Skipping line 43770: Expected 75 fields in line 43770, saw 76. Error could possibly be due to quotes being ignored when a multi-char delimiter is used.\n",
      "Skipping line 43857: Expected 75 fields in line 43857, saw 76. Error could possibly be due to quotes being ignored when a multi-char delimiter is used.\n",
      "Skipping line 44262: Expected 75 fields in line 44262, saw 76. Error could possibly be due to quotes being ignored when a multi-char delimiter is used.\n",
      "Skipping line 45311: Expected 75 fields in line 45311, saw 77. Error could possibly be due to quotes being ignored when a multi-char delimiter is used.\n",
      "Skipping line 49664: Expected 75 fields in line 49664, saw 76. Error could possibly be due to quotes being ignored when a multi-char delimiter is used.\n",
      "Skipping line 49762: Expected 75 fields in line 49762, saw 76. Error could possibly be due to quotes being ignored when a multi-char delimiter is used.\n",
      "Skipping line 51345: Expected 75 fields in line 51345, saw 76. Error could possibly be due to quotes being ignored when a multi-char delimiter is used.\n",
      "Skipping line 53261: Expected 75 fields in line 53261, saw 76. Error could possibly be due to quotes being ignored when a multi-char delimiter is used.\n",
      "Skipping line 53752: Expected 75 fields in line 53752, saw 76. Error could possibly be due to quotes being ignored when a multi-char delimiter is used.\n",
      "Skipping line 55282: Expected 75 fields in line 55282, saw 76. Error could possibly be due to quotes being ignored when a multi-char delimiter is used.\n",
      "Skipping line 55324: Expected 75 fields in line 55324, saw 76. Error could possibly be due to quotes being ignored when a multi-char delimiter is used.\n",
      "Skipping line 55515: Expected 75 fields in line 55515, saw 76. Error could possibly be due to quotes being ignored when a multi-char delimiter is used.\n",
      "Skipping line 55734: Expected 75 fields in line 55734, saw 76. Error could possibly be due to quotes being ignored when a multi-char delimiter is used.\n",
      "Skipping line 56635: Expected 75 fields in line 56635, saw 76. Error could possibly be due to quotes being ignored when a multi-char delimiter is used.\n",
      "Skipping line 57989: Expected 75 fields in line 57989, saw 76. Error could possibly be due to quotes being ignored when a multi-char delimiter is used.\n",
      "Skipping line 57996: Expected 75 fields in line 57996, saw 76. Error could possibly be due to quotes being ignored when a multi-char delimiter is used.\n",
      "Skipping line 58059: Expected 75 fields in line 58059, saw 76. Error could possibly be due to quotes being ignored when a multi-char delimiter is used.\n",
      "Skipping line 58108: Expected 75 fields in line 58108, saw 76. Error could possibly be due to quotes being ignored when a multi-char delimiter is used.\n",
      "Skipping line 58647: Expected 75 fields in line 58647, saw 76. Error could possibly be due to quotes being ignored when a multi-char delimiter is used.\n",
      "Skipping line 60159: Expected 75 fields in line 60159, saw 76. Error could possibly be due to quotes being ignored when a multi-char delimiter is used.\n",
      "Skipping line 60198: Expected 75 fields in line 60198, saw 76. Error could possibly be due to quotes being ignored when a multi-char delimiter is used.\n",
      "Skipping line 60200: Expected 75 fields in line 60200, saw 76. Error could possibly be due to quotes being ignored when a multi-char delimiter is used.\n",
      "Skipping line 60376: Expected 75 fields in line 60376, saw 76. Error could possibly be due to quotes being ignored when a multi-char delimiter is used.\n",
      "Skipping line 61344: Expected 75 fields in line 61344, saw 76. Error could possibly be due to quotes being ignored when a multi-char delimiter is used.\n",
      "Skipping line 63658: Expected 75 fields in line 63658, saw 76. Error could possibly be due to quotes being ignored when a multi-char delimiter is used.\n",
      "Skipping line 63750: Expected 75 fields in line 63750, saw 76. Error could possibly be due to quotes being ignored when a multi-char delimiter is used.\n",
      "Skipping line 64216: Expected 75 fields in line 64216, saw 76. Error could possibly be due to quotes being ignored when a multi-char delimiter is used.\n",
      "Skipping line 64294: Expected 75 fields in line 64294, saw 76. Error could possibly be due to quotes being ignored when a multi-char delimiter is used.\n",
      "Skipping line 64299: Expected 75 fields in line 64299, saw 76. Error could possibly be due to quotes being ignored when a multi-char delimiter is used.\n",
      "Skipping line 64390: Expected 75 fields in line 64390, saw 76. Error could possibly be due to quotes being ignored when a multi-char delimiter is used.\n",
      "Skipping line 64437: Expected 75 fields in line 64437, saw 76. Error could possibly be due to quotes being ignored when a multi-char delimiter is used.\n",
      "Skipping line 64737: Expected 75 fields in line 64737, saw 76. Error could possibly be due to quotes being ignored when a multi-char delimiter is used.\n",
      "Skipping line 64758: Expected 75 fields in line 64758, saw 76. Error could possibly be due to quotes being ignored when a multi-char delimiter is used.\n",
      "Skipping line 64998: Expected 75 fields in line 64998, saw 76. Error could possibly be due to quotes being ignored when a multi-char delimiter is used.\n",
      "Skipping line 65354: Expected 75 fields in line 65354, saw 76. Error could possibly be due to quotes being ignored when a multi-char delimiter is used.\n",
      "Skipping line 65391: Expected 75 fields in line 65391, saw 76. Error could possibly be due to quotes being ignored when a multi-char delimiter is used.\n",
      "Skipping line 65410: Expected 75 fields in line 65410, saw 76. Error could possibly be due to quotes being ignored when a multi-char delimiter is used.\n",
      "Skipping line 65484: Expected 75 fields in line 65484, saw 76. Error could possibly be due to quotes being ignored when a multi-char delimiter is used.\n",
      "Skipping line 65549: Expected 75 fields in line 65549, saw 76. Error could possibly be due to quotes being ignored when a multi-char delimiter is used.\n",
      "Skipping line 66970: Expected 75 fields in line 66970, saw 76. Error could possibly be due to quotes being ignored when a multi-char delimiter is used.\n",
      "Skipping line 67337: Expected 75 fields in line 67337, saw 76. Error could possibly be due to quotes being ignored when a multi-char delimiter is used.\n",
      "Skipping line 67414: Expected 75 fields in line 67414, saw 76. Error could possibly be due to quotes being ignored when a multi-char delimiter is used.\n",
      "Skipping line 67433: Expected 75 fields in line 67433, saw 76. Error could possibly be due to quotes being ignored when a multi-char delimiter is used.\n",
      "Skipping line 70145: Expected 75 fields in line 70145, saw 76. Error could possibly be due to quotes being ignored when a multi-char delimiter is used.\n",
      "Skipping line 70234: Expected 75 fields in line 70234, saw 76. Error could possibly be due to quotes being ignored when a multi-char delimiter is used.\n",
      "Skipping line 70328: Expected 75 fields in line 70328, saw 76. Error could possibly be due to quotes being ignored when a multi-char delimiter is used.\n",
      "Skipping line 70340: Expected 75 fields in line 70340, saw 76. Error could possibly be due to quotes being ignored when a multi-char delimiter is used.\n",
      "Skipping line 70791: Expected 75 fields in line 70791, saw 76. Error could possibly be due to quotes being ignored when a multi-char delimiter is used.\n",
      "Skipping line 70869: Expected 75 fields in line 70869, saw 76. Error could possibly be due to quotes being ignored when a multi-char delimiter is used.\n",
      "Skipping line 71018: Expected 75 fields in line 71018, saw 76. Error could possibly be due to quotes being ignored when a multi-char delimiter is used.\n",
      "Skipping line 71408: Expected 75 fields in line 71408, saw 76. Error could possibly be due to quotes being ignored when a multi-char delimiter is used.\n",
      "Skipping line 71577: Expected 75 fields in line 71577, saw 76. Error could possibly be due to quotes being ignored when a multi-char delimiter is used.\n",
      "Skipping line 73150: Expected 75 fields in line 73150, saw 76. Error could possibly be due to quotes being ignored when a multi-char delimiter is used.\n",
      "Skipping line 73750: Expected 75 fields in line 73750, saw 76. Error could possibly be due to quotes being ignored when a multi-char delimiter is used.\n",
      "Skipping line 76006: Expected 75 fields in line 76006, saw 76. Error could possibly be due to quotes being ignored when a multi-char delimiter is used.\n",
      "Skipping line 76498: Expected 75 fields in line 76498, saw 76. Error could possibly be due to quotes being ignored when a multi-char delimiter is used.\n",
      "Skipping line 77443: Expected 75 fields in line 77443, saw 76. Error could possibly be due to quotes being ignored when a multi-char delimiter is used.\n",
      "Skipping line 80801: Expected 75 fields in line 80801, saw 76. Error could possibly be due to quotes being ignored when a multi-char delimiter is used.\n",
      "Skipping line 84050: Expected 75 fields in line 84050, saw 76. Error could possibly be due to quotes being ignored when a multi-char delimiter is used.\n",
      "Skipping line 84659: Expected 75 fields in line 84659, saw 76. Error could possibly be due to quotes being ignored when a multi-char delimiter is used.\n",
      "Skipping line 86016: Expected 75 fields in line 86016, saw 76. Error could possibly be due to quotes being ignored when a multi-char delimiter is used.\n",
      "Skipping line 86039: Expected 75 fields in line 86039, saw 76. Error could possibly be due to quotes being ignored when a multi-char delimiter is used.\n",
      "Skipping line 90294: Expected 75 fields in line 90294, saw 76. Error could possibly be due to quotes being ignored when a multi-char delimiter is used.\n",
      "Skipping line 90473: Expected 75 fields in line 90473, saw 76. Error could possibly be due to quotes being ignored when a multi-char delimiter is used.\n",
      "Skipping line 92343: Expected 75 fields in line 92343, saw 76. Error could possibly be due to quotes being ignored when a multi-char delimiter is used.\n",
      "Skipping line 95203: Expected 75 fields in line 95203, saw 76. Error could possibly be due to quotes being ignored when a multi-char delimiter is used.\n",
      "Skipping line 95289: Expected 75 fields in line 95289, saw 76. Error could possibly be due to quotes being ignored when a multi-char delimiter is used.\n",
      "Skipping line 95312: Expected 75 fields in line 95312, saw 76. Error could possibly be due to quotes being ignored when a multi-char delimiter is used.\n",
      "Skipping line 95765: Expected 75 fields in line 95765, saw 76. Error could possibly be due to quotes being ignored when a multi-char delimiter is used.\n",
      "Skipping line 95782: Expected 75 fields in line 95782, saw 76. Error could possibly be due to quotes being ignored when a multi-char delimiter is used.\n",
      "Skipping line 95836: Expected 75 fields in line 95836, saw 76. Error could possibly be due to quotes being ignored when a multi-char delimiter is used.\n",
      "Skipping line 95909: Expected 75 fields in line 95909, saw 76. Error could possibly be due to quotes being ignored when a multi-char delimiter is used.\n",
      "Skipping line 96288: Expected 75 fields in line 96288, saw 76. Error could possibly be due to quotes being ignored when a multi-char delimiter is used.\n",
      "Skipping line 96969: Expected 75 fields in line 96969, saw 76. Error could possibly be due to quotes being ignored when a multi-char delimiter is used.\n",
      "Skipping line 97028: Expected 75 fields in line 97028, saw 76. Error could possibly be due to quotes being ignored when a multi-char delimiter is used.\n",
      "Skipping line 97031: Expected 75 fields in line 97031, saw 76. Error could possibly be due to quotes being ignored when a multi-char delimiter is used.\n",
      "Skipping line 97048: Expected 75 fields in line 97048, saw 76. Error could possibly be due to quotes being ignored when a multi-char delimiter is used.\n",
      "Skipping line 97062: Expected 75 fields in line 97062, saw 76. Error could possibly be due to quotes being ignored when a multi-char delimiter is used.\n",
      "Skipping line 98324: Expected 75 fields in line 98324, saw 76. Error could possibly be due to quotes being ignored when a multi-char delimiter is used.\n",
      "Skipping line 99100: Expected 75 fields in line 99100, saw 76. Error could possibly be due to quotes being ignored when a multi-char delimiter is used.\n",
      "Skipping line 102999: Expected 75 fields in line 102999, saw 76. Error could possibly be due to quotes being ignored when a multi-char delimiter is used.\n",
      "Skipping line 103217: Expected 75 fields in line 103217, saw 76. Error could possibly be due to quotes being ignored when a multi-char delimiter is used.\n",
      "Skipping line 104899: Expected 75 fields in line 104899, saw 76. Error could possibly be due to quotes being ignored when a multi-char delimiter is used.\n",
      "Skipping line 105110: Expected 75 fields in line 105110, saw 76. Error could possibly be due to quotes being ignored when a multi-char delimiter is used.\n",
      "Skipping line 105200: Expected 75 fields in line 105200, saw 76. Error could possibly be due to quotes being ignored when a multi-char delimiter is used.\n",
      "Skipping line 105212: Expected 75 fields in line 105212, saw 76. Error could possibly be due to quotes being ignored when a multi-char delimiter is used.\n",
      "Skipping line 105288: Expected 75 fields in line 105288, saw 76. Error could possibly be due to quotes being ignored when a multi-char delimiter is used.\n",
      "Skipping line 105387: Expected 75 fields in line 105387, saw 76. Error could possibly be due to quotes being ignored when a multi-char delimiter is used.\n",
      "Skipping line 105406: Expected 75 fields in line 105406, saw 76. Error could possibly be due to quotes being ignored when a multi-char delimiter is used.\n",
      "Skipping line 105498: Expected 75 fields in line 105498, saw 76. Error could possibly be due to quotes being ignored when a multi-char delimiter is used.\n",
      "Skipping line 105527: Expected 75 fields in line 105527, saw 76. Error could possibly be due to quotes being ignored when a multi-char delimiter is used.\n",
      "Skipping line 105768: Expected 75 fields in line 105768, saw 76. Error could possibly be due to quotes being ignored when a multi-char delimiter is used.\n"
     ]
    }
   ],
   "source": [
    "dr7 = pd.read_csv(DATA_DIRECTORY+'dr7qso.dat', skiprows=80, sep='\\s+', engine='python', error_bad_lines=False, header=None)"
   ]
  },
  {
   "cell_type": "markdown",
   "metadata": {},
   "source": [
    "Before we extract our list of positions, let's clean the catalog a bit."
   ]
  },
  {
   "cell_type": "code",
   "execution_count": 128,
   "metadata": {
    "ExecuteTime": {
     "end_time": "2019-06-28T21:00:12.417140Z",
     "start_time": "2019-06-28T21:00:12.402567Z"
    }
   },
   "outputs": [
    {
     "ename": "SyntaxError",
     "evalue": "invalid syntax (<ipython-input-128-dbd40ec5d6c1>, line 1)",
     "output_type": "error",
     "traceback": [
      "\u001b[0;36m  File \u001b[0;32m\"<ipython-input-128-dbd40ec5d6c1>\"\u001b[0;36m, line \u001b[0;32m1\u001b[0m\n\u001b[0;31m    dr7[dr7.'0' != '1']\u001b[0m\n\u001b[0m              ^\u001b[0m\n\u001b[0;31mSyntaxError\u001b[0m\u001b[0;31m:\u001b[0m invalid syntax\n"
     ]
    }
   ],
   "source": [
    "dr7[dr7. != '1']"
   ]
  },
  {
   "cell_type": "code",
   "execution_count": 121,
   "metadata": {
    "ExecuteTime": {
     "end_time": "2019-06-28T20:56:02.032010Z",
     "start_time": "2019-06-28T20:56:02.025812Z"
    },
    "scrolled": true
   },
   "outputs": [
    {
     "ename": "SyntaxError",
     "evalue": "invalid syntax (<ipython-input-121-59179afcf8b7>, line 1)",
     "output_type": "error",
     "traceback": [
      "\u001b[0;36m  File \u001b[0;32m\"<ipython-input-121-59179afcf8b7>\"\u001b[0;36m, line \u001b[0;32m1\u001b[0m\n\u001b[0;31m    test = dr7[dr7.54 == 1]\u001b[0m\n\u001b[0m                    ^\u001b[0m\n\u001b[0;31mSyntaxError\u001b[0m\u001b[0;31m:\u001b[0m invalid syntax\n"
     ]
    }
   ],
   "source": [
    "test = dr7[ == 1]"
   ]
  },
  {
   "cell_type": "code",
   "execution_count": 8,
   "metadata": {
    "ExecuteTime": {
     "end_time": "2019-07-03T17:14:45.813796Z",
     "start_time": "2019-07-03T17:14:45.805605Z"
    }
   },
   "outputs": [],
   "source": [
    "Positions_of_dr7 = np.transpose([dr7[1].values, dr7[2].values])"
   ]
  },
  {
   "cell_type": "markdown",
   "metadata": {},
   "source": [
    "## HSC"
   ]
  },
  {
   "cell_type": "code",
   "execution_count": 9,
   "metadata": {
    "ExecuteTime": {
     "end_time": "2019-07-03T17:14:46.675590Z",
     "start_time": "2019-07-03T17:14:46.625599Z"
    }
   },
   "outputs": [],
   "source": [
    "#extract ra and dec values for SQL query\n",
    "\n",
    "data = np.zeros(len(Positions_of_dr7), dtype={'names':('ra', 'dec'),\n",
    "                          'formats':('f8','f8')})\n",
    "\n",
    "data['ra'] = Positions_of_dr7[:,0]\n",
    "data['dec'] =  Positions_of_dr7[:,1]\n",
    "\n",
    "PositionOfQuasars=data\n",
    "\n",
    "np.save(DATA_DIRECTORY+'PositionOfQuasars',PositionOfQuasars)"
   ]
  },
  {
   "cell_type": "code",
   "execution_count": 10,
   "metadata": {
    "ExecuteTime": {
     "end_time": "2019-07-03T17:14:47.346940Z",
     "start_time": "2019-07-03T17:14:47.297992Z"
    }
   },
   "outputs": [],
   "source": [
    "PositionOfQuasar=np.load(DATA_DIRECTORY+'PositionOfQuasars.npy')"
   ]
  },
  {
   "cell_type": "code",
   "execution_count": 11,
   "metadata": {
    "ExecuteTime": {
     "end_time": "2019-07-03T17:14:48.000748Z",
     "start_time": "2019-07-03T17:14:47.995373Z"
    }
   },
   "outputs": [],
   "source": [
    "#############################\n",
    "# This is how to find create values to be feed to SQL query system for HSC\n",
    "# This query creates the table that we import in the analysis part below (so it can be skipped if you just want to just analyze result of this query).\n",
    "# In terminal run command seen below - this is code which I modified from https://hsc-gitlab.mtk.nao.ac.jp/snippets/13\n",
    "# Run the command in Python 2!!!\n",
    "# the part in the command below that says <--columns [\"g_cmodel_mag\",\"g_cmodel_mag\"]> does not mean I am just taking g_cmodel magnitude - I needed something as a filler\n",
    "\n",
    "# run 'python CatalogCreator.py PositionOfQuasars.npy --columns [\"g_cmodel_mag\",\"g_cmodel_mag\"]'\n",
    "\n",
    "#############################"
   ]
  },
  {
   "cell_type": "code",
   "execution_count": 12,
   "metadata": {
    "ExecuteTime": {
     "end_time": "2019-07-03T17:14:48.593819Z",
     "start_time": "2019-07-03T17:14:48.581191Z"
    }
   },
   "outputs": [
    {
     "data": {
      "text/plain": [
       "'\\nWITH\\n    user_catalog(\"user.ra\",\"user.dec\") AS (VALUES(\\'2.7227999642500000e-02\\'::double precision,\\'5.1534098386799998e-01\\'::double precision),(\\'3.3900000154999999e-02\\',\\'2.7630099654200002e-01\\'),(\\'3.8603998720599997e-02\\',\\'1.5298477172900000e+01\\'),(\\'3.9089001715200002e-02\\',\\'1.3938449859600000e+01\\'),(\\'3.9271000772700002e-02\\',\\'-1.0464426040599999e+01\\'),(\\'4.7548998147199997e-02\\',\\'1.4929354667700000e+01\\'),(\\'4.9839001148899997e-02\\',\\'4.0364999324100002e-02\\'),(\\'5.1079001277700001e-02\\',\\'-5.3904700279200002e-01\\'),(\\'5.4786998778600000e-02\\',\\'1.4176302909900000e+01\\'),(\\'5.7505998760499999e-02\\',\\'-9.1300100088100000e-01\\'))\\n    ,\\n    match AS (\\n        SELECT\\n            object_id,\\n            earth_distance(coord, ll_to_earth(\"user.dec\", \"user.ra\")) AS match_distance,\\n            user_catalog.*\\n        FROM\\n            user_catalog JOIN s18a_wide.forced\\n                ON coneSearch(coord, \"user.ra\", \"user.dec\", 0.1) \\n    )\\nSELECT\\n\\tf.ra,\\n\\tf.dec,\\n\\tf.g_cmodel_mag,\\n\\tf.g_cmodel_magsigma,\\n\\tf.r_cmodel_mag,\\n\\tf.r_cmodel_magsigma,\\n\\tf.i_cmodel_mag,\\n\\tf.i_cmodel_magsigma,\\n    f2.g_psfflux_mag,\\n    f2.g_psfflux_magsigma,\\n    f2.r_psfflux_mag,\\n    f2.r_psfflux_magsigma,\\n    f2.i_psfflux_mag,\\n    f2.i_psfflux_magsigma,\\n    f.object_id\\nFROM\\n    match LEFT JOIN s18a_wide.forced AS f USING(object_id)\\nJOIN s18a_wide.forced2 AS f2 ON f.object_id = f2.object_id\\nWHERE\\n    f.isprimary\\n'"
      ]
     },
     "execution_count": 12,
     "metadata": {},
     "output_type": "execute_result"
    }
   ],
   "source": [
    "# This is example of the SQL query to find the data\n",
    "# Copy paste result from the CatalogCreator.py (also avaliable on github) command into VALUES() bracket, make sure VALUES() is in only one line, and run query at https://hscdata.mtk.nao.ac.jp:4443/datasearch/\n",
    "# This run took around 3 hours\n",
    "\n",
    "'''\n",
    "WITH\n",
    "    user_catalog(\"user.ra\",\"user.dec\") AS (VALUES('2.7227999642500000e-02'::double precision,'5.1534098386799998e-01'::double precision),('3.3900000154999999e-02','2.7630099654200002e-01'),('3.8603998720599997e-02','1.5298477172900000e+01'),('3.9089001715200002e-02','1.3938449859600000e+01'),('3.9271000772700002e-02','-1.0464426040599999e+01'),('4.7548998147199997e-02','1.4929354667700000e+01'),('4.9839001148899997e-02','4.0364999324100002e-02'),('5.1079001277700001e-02','-5.3904700279200002e-01'),('5.4786998778600000e-02','1.4176302909900000e+01'),('5.7505998760499999e-02','-9.1300100088100000e-01'))\n",
    "    ,\n",
    "    match AS (\n",
    "        SELECT\n",
    "            object_id,\n",
    "            earth_distance(coord, ll_to_earth(\"user.dec\", \"user.ra\")) AS match_distance,\n",
    "            user_catalog.*\n",
    "        FROM\n",
    "            user_catalog JOIN s18a_wide.forced\n",
    "                ON coneSearch(coord, \"user.ra\", \"user.dec\", 0.1) \n",
    "    )\n",
    "SELECT\n",
    "\tf.ra,\n",
    "\tf.dec,\n",
    "\tf.g_cmodel_mag,\n",
    "\tf.g_cmodel_magsigma,\n",
    "\tf.r_cmodel_mag,\n",
    "\tf.r_cmodel_magsigma,\n",
    "\tf.i_cmodel_mag,\n",
    "\tf.i_cmodel_magsigma,\n",
    "    f2.g_psfflux_mag,\n",
    "    f2.g_psfflux_magsigma,\n",
    "    f2.r_psfflux_mag,\n",
    "    f2.r_psfflux_magsigma,\n",
    "    f2.i_psfflux_mag,\n",
    "    f2.i_psfflux_magsigma,\n",
    "    f.object_id\n",
    "FROM\n",
    "    match LEFT JOIN s18a_wide.forced AS f USING(object_id)\n",
    "JOIN s18a_wide.forced2 AS f2 ON f.object_id = f2.object_id\n",
    "WHERE\n",
    "    f.isprimary\n",
    "'''"
   ]
  },
  {
   "cell_type": "code",
   "execution_count": 13,
   "metadata": {
    "ExecuteTime": {
     "end_time": "2019-07-03T17:14:49.103507Z",
     "start_time": "2019-07-03T17:14:49.092682Z"
    }
   },
   "outputs": [
    {
     "data": {
      "text/plain": [
       "'\\nWITH\\n    user_catalog(\"user.ra\",\"user.dec\") AS (VALUES(\\'2.7227999642500000e-02\\'::double precision,\\'5.1534098386799998e-01\\'::double precision),(\\'3.3900000154999999e-02\\',\\'2.7630099654200002e-01\\'),(\\'3.8603998720599997e-02\\',\\'1.5298477172900000e+01\\'),(\\'3.9089001715200002e-02\\',\\'1.3938449859600000e+01\\'),(\\'3.9271000772700002e-02\\',\\'-1.0464426040599999e+01\\'),(\\'4.7548998147199997e-02\\',\\'1.4929354667700000e+01\\'),(\\'4.9839001148899997e-02\\',\\'4.0364999324100002e-02\\'),(\\'5.1079001277700001e-02\\',\\'-5.3904700279200002e-01\\'),(\\'5.4786998778600000e-02\\',\\'1.4176302909900000e+01\\'),(\\'5.7505998760499999e-02\\',\\'-9.1300100088100000e-01\\'))\\n    ,\\n    match AS (\\n        SELECT\\n            object_id,\\n            earth_distance(coord, ll_to_earth(\"user.dec\", \"user.ra\")) AS match_distance,\\n            user_catalog.*\\n        FROM\\n            user_catalog JOIN s18a_wide.forced\\n                ON coneSearch(coord, \"user.ra\", \"user.dec\", 0.1) \\n    )\\nSELECT\\n\\tf.ra,\\n\\tf.dec,\\n\\tf.g_cmodel_mag,\\n\\tf.g_cmodel_magsigma,\\n\\tf.r_cmodel_mag,\\n\\tf.r_cmodel_magsigma,\\n\\tf.i_cmodel_mag,\\n\\tf.i_cmodel_magsigma,\\n    f2.g_psfflux_mag,\\n    f2.g_psfflux_magsigma,\\n    f2.r_psfflux_mag,\\n    f2.r_psfflux_magsigma,\\n    f2.i_psfflux_mag,\\n    f2.i_psfflux_magsigma,\\n    f.object_id\\n    f.g_psfflux_flag\\n    f.r_psfflux_flag\\n    f.i_psfflux_flag\\n    f.g_cmodel_flag \\n    f.r_cmodel_flag\\n    f.i_cmodel_flag\\n    f.g_pixelflags_edge\\n    f.r_pixelflags_edge\\n    f.i_pixelflags_edge        \\n    f.g_pixelflags_bad \\n    f.r_pixelflags_bad\\n    f.i_pixelflags_bad\\n    f.g_pixelflags_interpolatedcenter\\n    f.r_pixelflags_interpolatedcenter\\n    f.i_pixelflags_interpolatedcenter\\n    f.g_pixelflags_saturatedcenter \\n    f.r_pixelflags_saturatedcenter\\n    f.i_pixelflags_saturatedcenter\\n    f.g_pixelflags_crcenter\\n    f.r_pixelflags_crcenter\\n    f.i_pixelflags_crcenter\\nFROM\\n    match LEFT JOIN s18a_wide.forced AS f USING(object_id)\\nJOIN s18a_wide.forced2 AS f2 ON f.object_id = f2.object_id\\nWHERE\\n    f.isprimary\\n\\n'"
      ]
     },
     "execution_count": 13,
     "metadata": {},
     "output_type": "execute_result"
    }
   ],
   "source": [
    "# This is the example of the SQL query to find the data, as ran on the server on February 8, 2019\n",
    "# Added quality flags from Yusra AlSayyad\n",
    "# Copy paste result from the CatalogCreator.py (also avaliable on github) command into VALUES() bracket, make sure VALUES() is in only one line, and run query at https://hscdata.mtk.nao.ac.jp:4443/datasearch/\n",
    "# This run took around 3 hours\n",
    "\n",
    "'''\n",
    "WITH\n",
    "    user_catalog(\"user.ra\",\"user.dec\") AS (VALUES('2.7227999642500000e-02'::double precision,'5.1534098386799998e-01'::double precision),('3.3900000154999999e-02','2.7630099654200002e-01'),('3.8603998720599997e-02','1.5298477172900000e+01'),('3.9089001715200002e-02','1.3938449859600000e+01'),('3.9271000772700002e-02','-1.0464426040599999e+01'),('4.7548998147199997e-02','1.4929354667700000e+01'),('4.9839001148899997e-02','4.0364999324100002e-02'),('5.1079001277700001e-02','-5.3904700279200002e-01'),('5.4786998778600000e-02','1.4176302909900000e+01'),('5.7505998760499999e-02','-9.1300100088100000e-01'))\n",
    "    ,\n",
    "    match AS (\n",
    "        SELECT\n",
    "            object_id,\n",
    "            earth_distance(coord, ll_to_earth(\"user.dec\", \"user.ra\")) AS match_distance,\n",
    "            user_catalog.*\n",
    "        FROM\n",
    "            user_catalog JOIN s18a_wide.forced\n",
    "                ON coneSearch(coord, \"user.ra\", \"user.dec\", 0.1) \n",
    "    )\n",
    "SELECT\n",
    "\tf.ra,\n",
    "\tf.dec,\n",
    "\tf.g_cmodel_mag,\n",
    "\tf.g_cmodel_magsigma,\n",
    "\tf.r_cmodel_mag,\n",
    "\tf.r_cmodel_magsigma,\n",
    "\tf.i_cmodel_mag,\n",
    "\tf.i_cmodel_magsigma,\n",
    "    f2.g_psfflux_mag,\n",
    "    f2.g_psfflux_magsigma,\n",
    "    f2.r_psfflux_mag,\n",
    "    f2.r_psfflux_magsigma,\n",
    "    f2.i_psfflux_mag,\n",
    "    f2.i_psfflux_magsigma,\n",
    "    f.object_id\n",
    "    f.g_psfflux_flag\n",
    "    f.r_psfflux_flag\n",
    "    f.i_psfflux_flag\n",
    "    f.g_cmodel_flag \n",
    "    f.r_cmodel_flag\n",
    "    f.i_cmodel_flag\n",
    "    f.g_pixelflags_edge\n",
    "    f.r_pixelflags_edge\n",
    "    f.i_pixelflags_edge        \n",
    "    f.g_pixelflags_bad \n",
    "    f.r_pixelflags_bad\n",
    "    f.i_pixelflags_bad\n",
    "    f.g_pixelflags_interpolatedcenter\n",
    "    f.r_pixelflags_interpolatedcenter\n",
    "    f.i_pixelflags_interpolatedcenter\n",
    "    f.g_pixelflags_saturatedcenter \n",
    "    f.r_pixelflags_saturatedcenter\n",
    "    f.i_pixelflags_saturatedcenter\n",
    "    f.g_pixelflags_crcenter\n",
    "    f.r_pixelflags_crcenter\n",
    "    f.i_pixelflags_crcenter\n",
    "FROM\n",
    "    match LEFT JOIN s18a_wide.forced AS f USING(object_id)\n",
    "JOIN s18a_wide.forced2 AS f2 ON f.object_id = f2.object_id\n",
    "WHERE\n",
    "    f.isprimary\n",
    "\n",
    "'''"
   ]
  },
  {
   "cell_type": "markdown",
   "metadata": {},
   "source": [
    "# Analysis of the output"
   ]
  },
  {
   "cell_type": "markdown",
   "metadata": {},
   "source": [
    "## Initial Analysis"
   ]
  },
  {
   "cell_type": "code",
   "execution_count": 14,
   "metadata": {
    "ExecuteTime": {
     "end_time": "2019-07-03T17:15:33.613484Z",
     "start_time": "2019-07-03T17:15:22.083740Z"
    }
   },
   "outputs": [
    {
     "name": "stderr",
     "output_type": "stream",
     "text": [
      "Skipping line 305: Expected 75 fields in line 305, saw 76. Error could possibly be due to quotes being ignored when a multi-char delimiter is used.\n",
      "Skipping line 1633: Expected 75 fields in line 1633, saw 76. Error could possibly be due to quotes being ignored when a multi-char delimiter is used.\n",
      "Skipping line 1745: Expected 75 fields in line 1745, saw 76. Error could possibly be due to quotes being ignored when a multi-char delimiter is used.\n",
      "Skipping line 1828: Expected 75 fields in line 1828, saw 76. Error could possibly be due to quotes being ignored when a multi-char delimiter is used.\n",
      "Skipping line 3631: Expected 75 fields in line 3631, saw 76. Error could possibly be due to quotes being ignored when a multi-char delimiter is used.\n",
      "Skipping line 4123: Expected 75 fields in line 4123, saw 76. Error could possibly be due to quotes being ignored when a multi-char delimiter is used.\n",
      "Skipping line 4124: Expected 75 fields in line 4124, saw 76. Error could possibly be due to quotes being ignored when a multi-char delimiter is used.\n",
      "Skipping line 4238: Expected 75 fields in line 4238, saw 76. Error could possibly be due to quotes being ignored when a multi-char delimiter is used.\n",
      "Skipping line 4248: Expected 75 fields in line 4248, saw 76. Error could possibly be due to quotes being ignored when a multi-char delimiter is used.\n",
      "Skipping line 5456: Expected 75 fields in line 5456, saw 76. Error could possibly be due to quotes being ignored when a multi-char delimiter is used.\n",
      "Skipping line 6375: Expected 75 fields in line 6375, saw 76. Error could possibly be due to quotes being ignored when a multi-char delimiter is used.\n",
      "Skipping line 10353: Expected 75 fields in line 10353, saw 76. Error could possibly be due to quotes being ignored when a multi-char delimiter is used.\n",
      "Skipping line 14972: Expected 75 fields in line 14972, saw 76. Error could possibly be due to quotes being ignored when a multi-char delimiter is used.\n",
      "Skipping line 18544: Expected 75 fields in line 18544, saw 76. Error could possibly be due to quotes being ignored when a multi-char delimiter is used.\n",
      "Skipping line 18641: Expected 75 fields in line 18641, saw 76. Error could possibly be due to quotes being ignored when a multi-char delimiter is used.\n",
      "Skipping line 18809: Expected 75 fields in line 18809, saw 76. Error could possibly be due to quotes being ignored when a multi-char delimiter is used.\n",
      "Skipping line 21010: Expected 75 fields in line 21010, saw 76. Error could possibly be due to quotes being ignored when a multi-char delimiter is used.\n",
      "Skipping line 21361: Expected 75 fields in line 21361, saw 76. Error could possibly be due to quotes being ignored when a multi-char delimiter is used.\n",
      "Skipping line 21437: Expected 75 fields in line 21437, saw 76. Error could possibly be due to quotes being ignored when a multi-char delimiter is used.\n",
      "Skipping line 23667: Expected 75 fields in line 23667, saw 76. Error could possibly be due to quotes being ignored when a multi-char delimiter is used.\n",
      "Skipping line 24564: Expected 75 fields in line 24564, saw 76. Error could possibly be due to quotes being ignored when a multi-char delimiter is used.\n",
      "Skipping line 25106: Expected 75 fields in line 25106, saw 76. Error could possibly be due to quotes being ignored when a multi-char delimiter is used.\n",
      "Skipping line 25702: Expected 75 fields in line 25702, saw 76. Error could possibly be due to quotes being ignored when a multi-char delimiter is used.\n",
      "Skipping line 25756: Expected 75 fields in line 25756, saw 76. Error could possibly be due to quotes being ignored when a multi-char delimiter is used.\n",
      "Skipping line 26759: Expected 75 fields in line 26759, saw 76. Error could possibly be due to quotes being ignored when a multi-char delimiter is used.\n",
      "Skipping line 28490: Expected 75 fields in line 28490, saw 76. Error could possibly be due to quotes being ignored when a multi-char delimiter is used.\n",
      "Skipping line 28815: Expected 75 fields in line 28815, saw 76. Error could possibly be due to quotes being ignored when a multi-char delimiter is used.\n",
      "Skipping line 29963: Expected 75 fields in line 29963, saw 76. Error could possibly be due to quotes being ignored when a multi-char delimiter is used.\n",
      "Skipping line 33691: Expected 75 fields in line 33691, saw 76. Error could possibly be due to quotes being ignored when a multi-char delimiter is used.\n",
      "Skipping line 33920: Expected 75 fields in line 33920, saw 76. Error could possibly be due to quotes being ignored when a multi-char delimiter is used.\n",
      "Skipping line 34775: Expected 75 fields in line 34775, saw 76. Error could possibly be due to quotes being ignored when a multi-char delimiter is used.\n",
      "Skipping line 35598: Expected 75 fields in line 35598, saw 76. Error could possibly be due to quotes being ignored when a multi-char delimiter is used.\n",
      "Skipping line 36729: Expected 75 fields in line 36729, saw 76. Error could possibly be due to quotes being ignored when a multi-char delimiter is used.\n",
      "Skipping line 37012: Expected 75 fields in line 37012, saw 76. Error could possibly be due to quotes being ignored when a multi-char delimiter is used.\n",
      "Skipping line 40860: Expected 75 fields in line 40860, saw 76. Error could possibly be due to quotes being ignored when a multi-char delimiter is used.\n",
      "Skipping line 41001: Expected 75 fields in line 41001, saw 76. Error could possibly be due to quotes being ignored when a multi-char delimiter is used.\n",
      "Skipping line 41012: Expected 75 fields in line 41012, saw 76. Error could possibly be due to quotes being ignored when a multi-char delimiter is used.\n",
      "Skipping line 41076: Expected 75 fields in line 41076, saw 76. Error could possibly be due to quotes being ignored when a multi-char delimiter is used.\n",
      "Skipping line 41080: Expected 75 fields in line 41080, saw 76. Error could possibly be due to quotes being ignored when a multi-char delimiter is used.\n",
      "Skipping line 41268: Expected 75 fields in line 41268, saw 76. Error could possibly be due to quotes being ignored when a multi-char delimiter is used.\n",
      "Skipping line 41335: Expected 75 fields in line 41335, saw 76. Error could possibly be due to quotes being ignored when a multi-char delimiter is used.\n",
      "Skipping line 41952: Expected 75 fields in line 41952, saw 76. Error could possibly be due to quotes being ignored when a multi-char delimiter is used.\n",
      "Skipping line 42080: Expected 75 fields in line 42080, saw 76. Error could possibly be due to quotes being ignored when a multi-char delimiter is used.\n",
      "Skipping line 42206: Expected 75 fields in line 42206, saw 76. Error could possibly be due to quotes being ignored when a multi-char delimiter is used.\n",
      "Skipping line 43184: Expected 75 fields in line 43184, saw 76. Error could possibly be due to quotes being ignored when a multi-char delimiter is used.\n",
      "Skipping line 43655: Expected 75 fields in line 43655, saw 77. Error could possibly be due to quotes being ignored when a multi-char delimiter is used.\n",
      "Skipping line 43770: Expected 75 fields in line 43770, saw 76. Error could possibly be due to quotes being ignored when a multi-char delimiter is used.\n",
      "Skipping line 43857: Expected 75 fields in line 43857, saw 76. Error could possibly be due to quotes being ignored when a multi-char delimiter is used.\n",
      "Skipping line 44262: Expected 75 fields in line 44262, saw 76. Error could possibly be due to quotes being ignored when a multi-char delimiter is used.\n",
      "Skipping line 45311: Expected 75 fields in line 45311, saw 77. Error could possibly be due to quotes being ignored when a multi-char delimiter is used.\n",
      "Skipping line 49664: Expected 75 fields in line 49664, saw 76. Error could possibly be due to quotes being ignored when a multi-char delimiter is used.\n",
      "Skipping line 49762: Expected 75 fields in line 49762, saw 76. Error could possibly be due to quotes being ignored when a multi-char delimiter is used.\n",
      "Skipping line 51345: Expected 75 fields in line 51345, saw 76. Error could possibly be due to quotes being ignored when a multi-char delimiter is used.\n",
      "Skipping line 53261: Expected 75 fields in line 53261, saw 76. Error could possibly be due to quotes being ignored when a multi-char delimiter is used.\n",
      "Skipping line 53752: Expected 75 fields in line 53752, saw 76. Error could possibly be due to quotes being ignored when a multi-char delimiter is used.\n",
      "Skipping line 55282: Expected 75 fields in line 55282, saw 76. Error could possibly be due to quotes being ignored when a multi-char delimiter is used.\n",
      "Skipping line 55324: Expected 75 fields in line 55324, saw 76. Error could possibly be due to quotes being ignored when a multi-char delimiter is used.\n",
      "Skipping line 55515: Expected 75 fields in line 55515, saw 76. Error could possibly be due to quotes being ignored when a multi-char delimiter is used.\n",
      "Skipping line 55734: Expected 75 fields in line 55734, saw 76. Error could possibly be due to quotes being ignored when a multi-char delimiter is used.\n",
      "Skipping line 56635: Expected 75 fields in line 56635, saw 76. Error could possibly be due to quotes being ignored when a multi-char delimiter is used.\n",
      "Skipping line 57989: Expected 75 fields in line 57989, saw 76. Error could possibly be due to quotes being ignored when a multi-char delimiter is used.\n",
      "Skipping line 57996: Expected 75 fields in line 57996, saw 76. Error could possibly be due to quotes being ignored when a multi-char delimiter is used.\n",
      "Skipping line 58059: Expected 75 fields in line 58059, saw 76. Error could possibly be due to quotes being ignored when a multi-char delimiter is used.\n",
      "Skipping line 58108: Expected 75 fields in line 58108, saw 76. Error could possibly be due to quotes being ignored when a multi-char delimiter is used.\n",
      "Skipping line 58647: Expected 75 fields in line 58647, saw 76. Error could possibly be due to quotes being ignored when a multi-char delimiter is used.\n",
      "Skipping line 60159: Expected 75 fields in line 60159, saw 76. Error could possibly be due to quotes being ignored when a multi-char delimiter is used.\n",
      "Skipping line 60198: Expected 75 fields in line 60198, saw 76. Error could possibly be due to quotes being ignored when a multi-char delimiter is used.\n",
      "Skipping line 60200: Expected 75 fields in line 60200, saw 76. Error could possibly be due to quotes being ignored when a multi-char delimiter is used.\n",
      "Skipping line 60376: Expected 75 fields in line 60376, saw 76. Error could possibly be due to quotes being ignored when a multi-char delimiter is used.\n",
      "Skipping line 61344: Expected 75 fields in line 61344, saw 76. Error could possibly be due to quotes being ignored when a multi-char delimiter is used.\n",
      "Skipping line 63658: Expected 75 fields in line 63658, saw 76. Error could possibly be due to quotes being ignored when a multi-char delimiter is used.\n",
      "Skipping line 63750: Expected 75 fields in line 63750, saw 76. Error could possibly be due to quotes being ignored when a multi-char delimiter is used.\n",
      "Skipping line 64216: Expected 75 fields in line 64216, saw 76. Error could possibly be due to quotes being ignored when a multi-char delimiter is used.\n",
      "Skipping line 64294: Expected 75 fields in line 64294, saw 76. Error could possibly be due to quotes being ignored when a multi-char delimiter is used.\n",
      "Skipping line 64299: Expected 75 fields in line 64299, saw 76. Error could possibly be due to quotes being ignored when a multi-char delimiter is used.\n",
      "Skipping line 64390: Expected 75 fields in line 64390, saw 76. Error could possibly be due to quotes being ignored when a multi-char delimiter is used.\n",
      "Skipping line 64437: Expected 75 fields in line 64437, saw 76. Error could possibly be due to quotes being ignored when a multi-char delimiter is used.\n",
      "Skipping line 64737: Expected 75 fields in line 64737, saw 76. Error could possibly be due to quotes being ignored when a multi-char delimiter is used.\n",
      "Skipping line 64758: Expected 75 fields in line 64758, saw 76. Error could possibly be due to quotes being ignored when a multi-char delimiter is used.\n",
      "Skipping line 64998: Expected 75 fields in line 64998, saw 76. Error could possibly be due to quotes being ignored when a multi-char delimiter is used.\n",
      "Skipping line 65354: Expected 75 fields in line 65354, saw 76. Error could possibly be due to quotes being ignored when a multi-char delimiter is used.\n",
      "Skipping line 65391: Expected 75 fields in line 65391, saw 76. Error could possibly be due to quotes being ignored when a multi-char delimiter is used.\n",
      "Skipping line 65410: Expected 75 fields in line 65410, saw 76. Error could possibly be due to quotes being ignored when a multi-char delimiter is used.\n",
      "Skipping line 65484: Expected 75 fields in line 65484, saw 76. Error could possibly be due to quotes being ignored when a multi-char delimiter is used.\n",
      "Skipping line 65549: Expected 75 fields in line 65549, saw 76. Error could possibly be due to quotes being ignored when a multi-char delimiter is used.\n",
      "Skipping line 66970: Expected 75 fields in line 66970, saw 76. Error could possibly be due to quotes being ignored when a multi-char delimiter is used.\n",
      "Skipping line 67337: Expected 75 fields in line 67337, saw 76. Error could possibly be due to quotes being ignored when a multi-char delimiter is used.\n",
      "Skipping line 67414: Expected 75 fields in line 67414, saw 76. Error could possibly be due to quotes being ignored when a multi-char delimiter is used.\n",
      "Skipping line 67433: Expected 75 fields in line 67433, saw 76. Error could possibly be due to quotes being ignored when a multi-char delimiter is used.\n",
      "Skipping line 70145: Expected 75 fields in line 70145, saw 76. Error could possibly be due to quotes being ignored when a multi-char delimiter is used.\n",
      "Skipping line 70234: Expected 75 fields in line 70234, saw 76. Error could possibly be due to quotes being ignored when a multi-char delimiter is used.\n",
      "Skipping line 70328: Expected 75 fields in line 70328, saw 76. Error could possibly be due to quotes being ignored when a multi-char delimiter is used.\n",
      "Skipping line 70340: Expected 75 fields in line 70340, saw 76. Error could possibly be due to quotes being ignored when a multi-char delimiter is used.\n",
      "Skipping line 70791: Expected 75 fields in line 70791, saw 76. Error could possibly be due to quotes being ignored when a multi-char delimiter is used.\n",
      "Skipping line 70869: Expected 75 fields in line 70869, saw 76. Error could possibly be due to quotes being ignored when a multi-char delimiter is used.\n",
      "Skipping line 71018: Expected 75 fields in line 71018, saw 76. Error could possibly be due to quotes being ignored when a multi-char delimiter is used.\n",
      "Skipping line 71408: Expected 75 fields in line 71408, saw 76. Error could possibly be due to quotes being ignored when a multi-char delimiter is used.\n",
      "Skipping line 71577: Expected 75 fields in line 71577, saw 76. Error could possibly be due to quotes being ignored when a multi-char delimiter is used.\n",
      "Skipping line 73150: Expected 75 fields in line 73150, saw 76. Error could possibly be due to quotes being ignored when a multi-char delimiter is used.\n",
      "Skipping line 73750: Expected 75 fields in line 73750, saw 76. Error could possibly be due to quotes being ignored when a multi-char delimiter is used.\n",
      "Skipping line 76006: Expected 75 fields in line 76006, saw 76. Error could possibly be due to quotes being ignored when a multi-char delimiter is used.\n",
      "Skipping line 76498: Expected 75 fields in line 76498, saw 76. Error could possibly be due to quotes being ignored when a multi-char delimiter is used.\n",
      "Skipping line 77443: Expected 75 fields in line 77443, saw 76. Error could possibly be due to quotes being ignored when a multi-char delimiter is used.\n",
      "Skipping line 80801: Expected 75 fields in line 80801, saw 76. Error could possibly be due to quotes being ignored when a multi-char delimiter is used.\n",
      "Skipping line 84050: Expected 75 fields in line 84050, saw 76. Error could possibly be due to quotes being ignored when a multi-char delimiter is used.\n",
      "Skipping line 84659: Expected 75 fields in line 84659, saw 76. Error could possibly be due to quotes being ignored when a multi-char delimiter is used.\n",
      "Skipping line 86016: Expected 75 fields in line 86016, saw 76. Error could possibly be due to quotes being ignored when a multi-char delimiter is used.\n",
      "Skipping line 86039: Expected 75 fields in line 86039, saw 76. Error could possibly be due to quotes being ignored when a multi-char delimiter is used.\n",
      "Skipping line 90294: Expected 75 fields in line 90294, saw 76. Error could possibly be due to quotes being ignored when a multi-char delimiter is used.\n",
      "Skipping line 90473: Expected 75 fields in line 90473, saw 76. Error could possibly be due to quotes being ignored when a multi-char delimiter is used.\n",
      "Skipping line 92343: Expected 75 fields in line 92343, saw 76. Error could possibly be due to quotes being ignored when a multi-char delimiter is used.\n",
      "Skipping line 95203: Expected 75 fields in line 95203, saw 76. Error could possibly be due to quotes being ignored when a multi-char delimiter is used.\n",
      "Skipping line 95289: Expected 75 fields in line 95289, saw 76. Error could possibly be due to quotes being ignored when a multi-char delimiter is used.\n",
      "Skipping line 95312: Expected 75 fields in line 95312, saw 76. Error could possibly be due to quotes being ignored when a multi-char delimiter is used.\n",
      "Skipping line 95765: Expected 75 fields in line 95765, saw 76. Error could possibly be due to quotes being ignored when a multi-char delimiter is used.\n",
      "Skipping line 95782: Expected 75 fields in line 95782, saw 76. Error could possibly be due to quotes being ignored when a multi-char delimiter is used.\n",
      "Skipping line 95836: Expected 75 fields in line 95836, saw 76. Error could possibly be due to quotes being ignored when a multi-char delimiter is used.\n",
      "Skipping line 95909: Expected 75 fields in line 95909, saw 76. Error could possibly be due to quotes being ignored when a multi-char delimiter is used.\n",
      "Skipping line 96288: Expected 75 fields in line 96288, saw 76. Error could possibly be due to quotes being ignored when a multi-char delimiter is used.\n",
      "Skipping line 96969: Expected 75 fields in line 96969, saw 76. Error could possibly be due to quotes being ignored when a multi-char delimiter is used.\n",
      "Skipping line 97028: Expected 75 fields in line 97028, saw 76. Error could possibly be due to quotes being ignored when a multi-char delimiter is used.\n",
      "Skipping line 97031: Expected 75 fields in line 97031, saw 76. Error could possibly be due to quotes being ignored when a multi-char delimiter is used.\n",
      "Skipping line 97048: Expected 75 fields in line 97048, saw 76. Error could possibly be due to quotes being ignored when a multi-char delimiter is used.\n",
      "Skipping line 97062: Expected 75 fields in line 97062, saw 76. Error could possibly be due to quotes being ignored when a multi-char delimiter is used.\n",
      "Skipping line 98324: Expected 75 fields in line 98324, saw 76. Error could possibly be due to quotes being ignored when a multi-char delimiter is used.\n",
      "Skipping line 99100: Expected 75 fields in line 99100, saw 76. Error could possibly be due to quotes being ignored when a multi-char delimiter is used.\n",
      "Skipping line 102999: Expected 75 fields in line 102999, saw 76. Error could possibly be due to quotes being ignored when a multi-char delimiter is used.\n",
      "Skipping line 103217: Expected 75 fields in line 103217, saw 76. Error could possibly be due to quotes being ignored when a multi-char delimiter is used.\n",
      "Skipping line 104899: Expected 75 fields in line 104899, saw 76. Error could possibly be due to quotes being ignored when a multi-char delimiter is used.\n",
      "Skipping line 105110: Expected 75 fields in line 105110, saw 76. Error could possibly be due to quotes being ignored when a multi-char delimiter is used.\n",
      "Skipping line 105200: Expected 75 fields in line 105200, saw 76. Error could possibly be due to quotes being ignored when a multi-char delimiter is used.\n",
      "Skipping line 105212: Expected 75 fields in line 105212, saw 76. Error could possibly be due to quotes being ignored when a multi-char delimiter is used.\n",
      "Skipping line 105288: Expected 75 fields in line 105288, saw 76. Error could possibly be due to quotes being ignored when a multi-char delimiter is used.\n",
      "Skipping line 105387: Expected 75 fields in line 105387, saw 76. Error could possibly be due to quotes being ignored when a multi-char delimiter is used.\n",
      "Skipping line 105406: Expected 75 fields in line 105406, saw 76. Error could possibly be due to quotes being ignored when a multi-char delimiter is used.\n",
      "Skipping line 105498: Expected 75 fields in line 105498, saw 76. Error could possibly be due to quotes being ignored when a multi-char delimiter is used.\n",
      "Skipping line 105527: Expected 75 fields in line 105527, saw 76. Error could possibly be due to quotes being ignored when a multi-char delimiter is used.\n",
      "Skipping line 105768: Expected 75 fields in line 105768, saw 76. Error could possibly be due to quotes being ignored when a multi-char delimiter is used.\n"
     ]
    }
   ],
   "source": [
    "# This is dr7 qso catalog from https://classic.sdss.org/dr7/products/value_added/qsocat_dr7.html\n",
    "dr7 = pd.read_csv(DATA_DIRECTORY+'dr7qso.dat',skiprows=80,sep='\\s+',engine='python', error_bad_lines=False, header=None )\n",
    "Positions_of_dr7=np.transpose([dr7[1].values,dr7[2].values])"
   ]
  },
  {
   "cell_type": "code",
   "execution_count": 15,
   "metadata": {
    "ExecuteTime": {
     "end_time": "2019-07-03T17:15:33.662487Z",
     "start_time": "2019-07-03T17:15:33.617665Z"
    }
   },
   "outputs": [],
   "source": [
    "#read in catalogue from HSC query with pandas\n",
    "#This is the version without quality flags\n",
    "#df = pd.read_csv(DATA_DIRECTORY+'192565.csv')\n",
    "\n",
    "#version with flags\n",
    "df = pd.read_csv(DATA_DIRECTORY+'194782.csv')\n",
    "\n",
    "# give ra and dec\n",
    "Positions_of_df=np.transpose([df['# ra'].values,df['dec'].values])"
   ]
  },
  {
   "cell_type": "code",
   "execution_count": 16,
   "metadata": {
    "ExecuteTime": {
     "end_time": "2019-07-03T17:15:34.276486Z",
     "start_time": "2019-07-03T17:15:33.669032Z"
    }
   },
   "outputs": [],
   "source": [
    "# check the overlap with SDSS\n",
    "# import dr7 (at the start of section 1), if you skipped section 1\n",
    "%matplotlib qt\n",
    "plt.scatter(Positions_of_dr7[:,0],Positions_of_dr7[:,1],color='black', s=20)\n",
    "plt.scatter(Positions_of_df[:,0],Positions_of_df[:,1],color='red', s=5)\n",
    "plt.show()"
   ]
  },
  {
   "cell_type": "code",
   "execution_count": 74,
   "metadata": {
    "ExecuteTime": {
     "end_time": "2019-07-03T16:08:05.221296Z",
     "start_time": "2019-07-03T16:08:05.091143Z"
    }
   },
   "outputs": [
    {
     "name": "stdout",
     "output_type": "stream",
     "text": [
      "1\n",
      "[[343.539981   0.941435]]\n",
      "2\n",
      "[[345.091915   0.716739]]\n",
      "3\n",
      "[[343.538706   0.574188]]\n",
      "4\n",
      "[[344.947254   0.50916 ]]\n",
      "5\n",
      "[[345.293804   0.515499]]\n",
      "6\n",
      "[[345.620658   0.380341]]\n",
      "7\n",
      "[[3.45548222e+02 3.28786000e-01]]\n",
      "8\n",
      "[[3.452765e+02 3.235220e-01]]\n",
      "9\n",
      "[[3.45030316e+02 2.94201000e-01]]\n",
      "10\n",
      "[[3.44369552e+02 1.89026000e-01]]\n",
      "11\n",
      "[[3.44077751e+02 1.48786000e-01]]\n",
      "12\n",
      "[[3.45207442e+02 1.75392000e-01]]\n",
      "13\n",
      "[[3.45002633e+02 1.26146000e-01]]\n",
      "14\n",
      "[[ 3.43892104e+02 -4.76100000e-03]]\n",
      "15\n",
      "[[ 3.44579177e+02 -6.44520000e-02]]\n",
      "16\n",
      "[[ 3.43960003e+02 -1.54925000e-01]]\n",
      "17\n",
      "[[345.274163  -0.400494]]\n",
      "18\n",
      "[[344.069482  -0.566076]]\n",
      "19\n",
      "[[344.870285  -0.95636 ]]\n"
     ]
    }
   ],
   "source": [
    "print(\"1\")\n",
    "print(Positions_of_dr7[np.where((Positions_of_dr7[:,0]>343.50) & (Positions_of_dr7[:,0]<343.60) & (Positions_of_dr7[:,1]>0.940) & (Positions_of_dr7[:,1]<0.95))])\n",
    "\n",
    "print(\"2\")\n",
    "print(Positions_of_dr7[np.where((Positions_of_dr7[:,0]>345.05) & (Positions_of_dr7[:,0]<345.10) & (Positions_of_dr7[:,1]>0.71) & (Positions_of_dr7[:,1]<0.72))])\n",
    "\n",
    "print(\"3\")\n",
    "print(Positions_of_dr7[np.where((Positions_of_dr7[:,0]>343.45) & (Positions_of_dr7[:,0]<343.60) & (Positions_of_dr7[:,1]>0.57) & (Positions_of_dr7[:,1]<0.58))])\n",
    "\n",
    "print(\"4\")\n",
    "print(Positions_of_dr7[np.where((Positions_of_dr7[:,0]>344.90) & (Positions_of_dr7[:,0]<345.00) & (Positions_of_dr7[:,1]>0.50) & (Positions_of_dr7[:,1]<0.52))])\n",
    "\n",
    "print(\"5\")\n",
    "print(Positions_of_dr7[np.where((Positions_of_dr7[:,0]>345.20) & (Positions_of_dr7[:,0]<345.40) & (Positions_of_dr7[:,1]>0.50) & (Positions_of_dr7[:,1]<0.52))])\n",
    "\n",
    "print(\"6\")\n",
    "print(Positions_of_dr7[np.where((Positions_of_dr7[:,0]>345.60) & (Positions_of_dr7[:,0]<345.80) & (Positions_of_dr7[:,1]>0.37) & (Positions_of_dr7[:,1]<0.40))])\n",
    "\n",
    "print(\"7\")\n",
    "print(Positions_of_dr7[np.where((Positions_of_dr7[:,0]>345.54) & (Positions_of_dr7[:,0]<345.57) & (Positions_of_dr7[:,1]>0.328) & (Positions_of_dr7[:,1]<0.330))])\n",
    "\n",
    "print(\"8\")\n",
    "print(Positions_of_dr7[np.where((Positions_of_dr7[:,0]>345.27) & (Positions_of_dr7[:,0]<345.30) & (Positions_of_dr7[:,1]>0.322) & (Positions_of_dr7[:,1]<0.326))])\n",
    "\n",
    "print(\"9\")\n",
    "print(Positions_of_dr7[np.where((Positions_of_dr7[:,0]>345.02) & (Positions_of_dr7[:,0]<345.05) & (Positions_of_dr7[:,1]>0.294) & (Positions_of_dr7[:,1]<0.296))])\n",
    "\n",
    "print(\"10\")\n",
    "print(Positions_of_dr7[np.where((Positions_of_dr7[:,0]>344.20) & (Positions_of_dr7[:,0]<344.40) & (Positions_of_dr7[:,1]>0.18) & (Positions_of_dr7[:,1]<0.20))])\n",
    "\n",
    "print(\"11\")\n",
    "print(Positions_of_dr7[np.where((Positions_of_dr7[:,0]>344.0) & (Positions_of_dr7[:,0]<344.10) & (Positions_of_dr7[:,1]>0.14) & (Positions_of_dr7[:,1]<0.16))])\n",
    "\n",
    "print(\"12\")\n",
    "print(Positions_of_dr7[np.where((Positions_of_dr7[:,0]>345.19) & (Positions_of_dr7[:,0]<345.23) & (Positions_of_dr7[:,1]>0.17) & (Positions_of_dr7[:,1]<0.18))])\n",
    "\n",
    "print(\"13\")\n",
    "print(Positions_of_dr7[np.where((Positions_of_dr7[:,0]>344.90) & (Positions_of_dr7[:,0]<345.10) & (Positions_of_dr7[:,1]>0.12) & (Positions_of_dr7[:,1]<0.13))])\n",
    "\n",
    "print(\"14\")\n",
    "print(Positions_of_dr7[np.where((Positions_of_dr7[:,0]>343.80) & (Positions_of_dr7[:,0]<343.90) & (Positions_of_dr7[:,1]>-0.01) & (Positions_of_dr7[:,1]<0.01))])\n",
    "\n",
    "print(\"15\")\n",
    "print(Positions_of_dr7[np.where((Positions_of_dr7[:,0]>344.5) & (Positions_of_dr7[:,0]<344.6) & (Positions_of_dr7[:,1]>-0.07) & (Positions_of_dr7[:,1]<-0.05))])\n",
    "\n",
    "print(\"16\")\n",
    "print(Positions_of_dr7[np.where((Positions_of_dr7[:,0]>343.90) & (Positions_of_dr7[:,0]<344.0) & (Positions_of_dr7[:,1]>-0.16) & (Positions_of_dr7[:,1]<-0.14))])\n",
    "\n",
    "print(\"17\")\n",
    "print(Positions_of_dr7[np.where((Positions_of_dr7[:,0]>345.24) & (Positions_of_dr7[:,0]<345.30) & (Positions_of_dr7[:,1]>-0.41) & (Positions_of_dr7[:,1]<-0.39))])\n",
    "\n",
    "print(\"18\")\n",
    "print(Positions_of_dr7[np.where((Positions_of_dr7[:,0]>344.05) & (Positions_of_dr7[:,0]<344.10) & (Positions_of_dr7[:,1]>-0.57) & (Positions_of_dr7[:,1]<-0.55))])\n",
    "\n",
    "print(\"19\")\n",
    "print(Positions_of_dr7[np.where((Positions_of_dr7[:,0]>344.85) & (Positions_of_dr7[:,0]<344.90) & (Positions_of_dr7[:,1]>-0.96) & (Positions_of_dr7[:,1]<-0.95))])"
   ]
  },
  {
   "cell_type": "code",
   "execution_count": 17,
   "metadata": {
    "ExecuteTime": {
     "end_time": "2019-07-03T17:17:32.003677Z",
     "start_time": "2019-07-03T17:16:04.347280Z"
    }
   },
   "outputs": [
    {
     "name": "stderr",
     "output_type": "stream",
     "text": [
      "100%|██████████| 105645/105645 [01:27<00:00, 1205.72it/s]\n"
     ]
    }
   ],
   "source": [
    "# takes a bit less than 1 minute on my laptop\n",
    "# this matches QSO from SDSS and resulting catalog from HSC\n",
    "res_matching=[]\n",
    "for j in tqdm(range(len(Positions_of_dr7))):\n",
    "    # finds distance from each of the objects in dr7 catalogue from the objects in HSC catalogue\n",
    "    PositionOfQuasars_euclidean_distances=euclidean_distances([Positions_of_dr7[j]],Positions_of_df)\n",
    "    # shortest distance\n",
    "    shortest_distance=np.min(PositionOfQuasars_euclidean_distances[0])\n",
    "    # element of the ``Positions_of_df'' that has the shortest distance to the SDSS QSO\n",
    "    shortest_distance_index=np.where(PositionOfQuasars_euclidean_distances[0]==np.min(PositionOfQuasars_euclidean_distances[0]))[0][0]\n",
    "    res_matching.append([shortest_distance,df.loc[shortest_distance_index].values])"
   ]
  },
  {
   "cell_type": "code",
   "execution_count": 18,
   "metadata": {
    "ExecuteTime": {
     "end_time": "2019-07-03T17:17:50.290531Z",
     "start_time": "2019-07-03T17:17:32.006313Z"
    }
   },
   "outputs": [
    {
     "name": "stderr",
     "output_type": "stream",
     "text": [
      "100%|██████████| 105645/105645 [00:18<00:00, 5794.61it/s] \n"
     ]
    }
   ],
   "source": [
    "# create array that has objects from SDSS that are found in HSC\n",
    "\n",
    "matched_array=[]\n",
    "matched_array_extended_SDSS=[]\n",
    "for i in tqdm(range(len(res_matching))):\n",
    "    if res_matching[i][0]>0.001:\n",
    "        pass\n",
    "    else:\n",
    "        # extract columns 0,1,2,3,6,7,8,9,10,11 from SDSS, which are SDSS ID, ra, dec, redshift and psf measurments in different bands (g->[6,7],r->[8,9],i->[10,11])\n",
    "        matched_array.append(np.concatenate((dr7.loc[i][[0,1,2,3,6,7,8,9,10,11]],res_matching[i][1])))\n",
    "        # extract columns 1,2,3 which are ra, dec and redshift (plan to add mass from Schen catalog)\n",
    "        matched_array_extended_SDSS.append(np.concatenate((dr7.loc[i][[1,2,3]],res_matching[i][1])))\n",
    "        \n",
    "matched_array=np.array(matched_array)\n",
    "matched_array_extended_SDSS=np.array(matched_array_extended_SDSS)"
   ]
  },
  {
   "cell_type": "code",
   "execution_count": 19,
   "metadata": {
    "ExecuteTime": {
     "end_time": "2019-07-03T17:17:50.337229Z",
     "start_time": "2019-07-03T17:17:50.297262Z"
    }
   },
   "outputs": [],
   "source": [
    "# filter out QSO which failed measurment, (g-band set at 0 in SDSS catlog)\n",
    "matched_array_filtered=matched_array[matched_array[:,4]>16]\n",
    "matched_array_extended_SDSS_filtered=matched_array_extended_SDSS[matched_array[:,4]>16]"
   ]
  },
  {
   "cell_type": "code",
   "execution_count": 20,
   "metadata": {
    "ExecuteTime": {
     "end_time": "2019-07-03T17:19:29.700383Z",
     "start_time": "2019-07-03T17:19:29.247931Z"
    }
   },
   "outputs": [],
   "source": [
    "# plot differences using cmodel values from HSC\n",
    "plt.figure(figsize=(20,6))\n",
    "plt.subplot(131)\n",
    "\n",
    "plt.scatter(matched_array_filtered[:,4],matched_array_filtered[:,8+4],s=1)\n",
    "plt.scatter(matched_array_filtered[:,4][(matched_array_filtered[:,8+4]-matched_array_filtered[:,4])>1],matched_array_filtered[:,8+4][(matched_array_filtered[:,8+4]-matched_array_filtered[:,4])>1],s=2)\n",
    "plt.scatter(matched_array_filtered[:,4][(matched_array_filtered[:,8+4]-matched_array_filtered[:,4])>2],matched_array_filtered[:,8+4][(matched_array_filtered[:,8+4]-matched_array_filtered[:,4])>2],s=3,color='red')\n",
    "\n",
    "plt.xlabel('SDSS g magnitude')\n",
    "plt.ylabel('HSC cmodel g magnitude')\n",
    "plt.plot(range(0,100),range(0,100),color='black',ls='--')\n",
    "plt.xlim(17,25)\n",
    "plt.ylim(17,25)\n",
    "\n",
    "plt.subplot(132)\n",
    "\n",
    "plt.scatter(matched_array_filtered[:,6],matched_array_filtered[:,8+6],s=1)\n",
    "plt.scatter(matched_array_filtered[:,6][(matched_array_filtered[:,8+4]-matched_array_filtered[:,4])>1],matched_array_filtered[:,8+6][(matched_array_filtered[:,8+4]-matched_array_filtered[:,4])>1],s=2)\n",
    "plt.scatter(matched_array_filtered[:,6][(matched_array_filtered[:,8+4]-matched_array_filtered[:,4])>2],matched_array_filtered[:,8+6][(matched_array_filtered[:,8+4]-matched_array_filtered[:,4])>2],s=3,color='red')\n",
    "plt.xlabel('SDSS r magnitude')\n",
    "plt.ylabel('HSC cmodel r magnitude')\n",
    "plt.plot(range(0,100),range(0,100),color='black',ls='--')\n",
    "plt.xlim(17,25)\n",
    "plt.ylim(17,25)\n",
    "\n",
    "plt.subplot(133)\n",
    "\n",
    "plt.scatter(matched_array_filtered[:,8],matched_array_filtered[:,8+8],s=1)\n",
    "plt.scatter(matched_array_filtered[:,8][(matched_array_filtered[:,8+4]-matched_array_filtered[:,4])>1],matched_array_filtered[:,8+8][(matched_array_filtered[:,8+4]-matched_array_filtered[:,4])>1],s=2)\n",
    "plt.scatter(matched_array_filtered[:,8][(matched_array_filtered[:,8+4]-matched_array_filtered[:,4])>2],matched_array_filtered[:,8+8][(matched_array_filtered[:,8+4]-matched_array_filtered[:,4])>2],s=3,color='red')\n",
    "plt.xlabel('SDSS i magnitude')\n",
    "plt.ylabel('HSC cmodel i magnitude')\n",
    "plt.plot(range(0,100),range(0,100),color='black',ls='--')\n",
    "plt.xlim(17,25)\n",
    "plt.ylim(17,25)\n",
    "plt.show()"
   ]
  },
  {
   "cell_type": "code",
   "execution_count": 79,
   "metadata": {
    "ExecuteTime": {
     "end_time": "2019-07-03T16:09:27.973457Z",
     "start_time": "2019-07-03T16:09:27.676485Z"
    }
   },
   "outputs": [],
   "source": [
    "# plot differences using psf values from HSC\n",
    "plt.figure(figsize=(20,6))\n",
    "plt.subplot(131)\n",
    "\n",
    "plt.scatter(matched_array_filtered[:,4],matched_array_filtered[:,14+4],s=1)\n",
    "plt.scatter(matched_array_filtered[:,4][(matched_array_filtered[:,14+4]-matched_array_filtered[:,4])>1],matched_array_filtered[:,14+4][(matched_array_filtered[:,14+4]-matched_array_filtered[:,4])>1],s=2)\n",
    "plt.scatter(matched_array_filtered[:,4][(matched_array_filtered[:,14+4]-matched_array_filtered[:,4])>2],matched_array_filtered[:,14+4][(matched_array_filtered[:,14+4]-matched_array_filtered[:,4])>2],s=3,color='red')\n",
    "\n",
    "plt.xlabel('SDSS g magnitude')\n",
    "plt.ylabel('HSC psf g magnitude')\n",
    "plt.plot(range(0,100),range(0,100),color='black',ls='--')\n",
    "plt.xlim(17,25)\n",
    "plt.ylim(17,25)\n",
    "\n",
    "plt.subplot(132)\n",
    "\n",
    "plt.scatter(matched_array_filtered[:,6],matched_array_filtered[:,14+6],s=1)\n",
    "plt.scatter(matched_array_filtered[:,6][(matched_array_filtered[:,14+4]-matched_array_filtered[:,4])>1],matched_array_filtered[:,14+6][(matched_array_filtered[:,14+4]-matched_array_filtered[:,4])>1],s=2)\n",
    "plt.scatter(matched_array_filtered[:,6][(matched_array_filtered[:,14+4]-matched_array_filtered[:,4])>2],matched_array_filtered[:,14+6][(matched_array_filtered[:,14+4]-matched_array_filtered[:,4])>2],s=3,color='red')\n",
    "plt.xlabel('SDSS r magnitude')\n",
    "plt.ylabel('HSC psf r magnitude')\n",
    "plt.plot(range(0,100),range(0,100),color='black',ls='--')\n",
    "plt.xlim(17,25)\n",
    "plt.ylim(17,25)\n",
    "plt.subplot(133)\n",
    "\n",
    "plt.scatter(matched_array_filtered[:,8],matched_array_filtered[:,14+8],s=1)\n",
    "plt.scatter(matched_array_filtered[:,8][(matched_array_filtered[:,14+4]-matched_array_filtered[:,4])>1],matched_array_filtered[:,14+8][(matched_array_filtered[:,14+4]-matched_array_filtered[:,4])>1],s=2)\n",
    "plt.scatter(matched_array_filtered[:,8][(matched_array_filtered[:,14+4]-matched_array_filtered[:,4])>2],matched_array_filtered[:,14+8][(matched_array_filtered[:,14+4]-matched_array_filtered[:,4])>2],s=3,color='red')\n",
    "plt.xlabel('SDSS i magnitude')\n",
    "plt.ylabel('HSC psf i magnitude')\n",
    "plt.plot(range(0,100),range(0,100),color='black',ls='--')\n",
    "plt.xlim(17,25)\n",
    "plt.ylim(17,25)\n",
    "plt.show()"
   ]
  },
  {
   "cell_type": "markdown",
   "metadata": {
    "heading_collapsed": true
   },
   "source": [
    "## Adding MacLeod catalogue"
   ]
  },
  {
   "cell_type": "code",
   "execution_count": null,
   "metadata": {
    "ExecuteTime": {
     "end_time": "2019-06-25T15:38:36.455466Z",
     "start_time": "2019-06-25T15:38:36.434215Z"
    },
    "hidden": true
   },
   "outputs": [],
   "source": [
    "#########\n",
    "#Can be skipped, just used for consistency check and to compare results\n",
    "#########\n",
    "\n",
    "#read in catalogue with pandas\n",
    "MacLeod_Cat= np.loadtxt(DATA_DIRECTORY+'MacLeod2019_tab2.txt',dtype='str')\n",
    "\n",
    "ra_dec_MacLeod_Cat_step1=[]\n",
    "for i in range(len(MacLeod_Cat)):\n",
    "    if '+' in MacLeod_Cat[:,0][i]:\n",
    "        split_string=str.split(MacLeod_Cat[:,0][i],'+')\n",
    "        split_string.insert(1,'+1')\n",
    "        ra_dec_MacLeod_Cat_step1.append(split_string)\n",
    "    else:\n",
    "        split_string=str.split(MacLeod_Cat[:,0][i],'-')\n",
    "        split_string.insert(1,'-1')\n",
    "        ra_dec_MacLeod_Cat_step1.append(split_string)\n",
    "\n",
    "ra_dec_MacLeod_Cat_step1=np.array(ra_dec_MacLeod_Cat_step1)"
   ]
  },
  {
   "cell_type": "code",
   "execution_count": null,
   "metadata": {
    "ExecuteTime": {
     "end_time": "2019-06-25T15:38:36.467908Z",
     "start_time": "2019-06-25T15:38:36.457168Z"
    },
    "hidden": true
   },
   "outputs": [],
   "source": [
    "# split strings from MacLeod catalogue \n",
    "ra_dec_MacLeod_Cat_step2=[]\n",
    "n=2\n",
    "for i in range(len(ra_dec_MacLeod_Cat_step1)):\n",
    "    ra_string=ra_dec_MacLeod_Cat_step1[i][0]\n",
    "    dec_string=ra_dec_MacLeod_Cat_step1[i][2]\n",
    "    ra_string_split=[ra_string[i:i+n] for i in range(0, len(ra_string), n)]\n",
    "    dec_string_split=[dec_string[i:i+n] for i in range(0, len(dec_string), n)]\n",
    "    ra_split=[float(ra_string_split[0]),float(ra_string_split[1]),float(ra_string_split[2]),float(ra_string_split[3]),float(ra_string_split[4])]\n",
    "    dec_split=[float(ra_dec_MacLeod_Cat_step1[0][1])*float(dec_string_split[0]),float(dec_string_split[1]),float(dec_string_split[2]),float(dec_string_split[3])]\n",
    "    ra_dec_MacLeod_Cat_step2.append([ra_split,dec_split])"
   ]
  },
  {
   "cell_type": "code",
   "execution_count": null,
   "metadata": {
    "ExecuteTime": {
     "end_time": "2019-06-25T15:38:36.478059Z",
     "start_time": "2019-06-25T15:38:36.470148Z"
    },
    "hidden": true
   },
   "outputs": [],
   "source": [
    "# move in the same format as other catalogues\n",
    "ra_dec_MacLeod_Cat_step3=[]\n",
    "for i in range(len(ra_dec_MacLeod_Cat_step2)):\n",
    "    ra_dec_MacLeod_Cat_step3.append([ra_dec_MacLeod_Cat_step2[i][0][0]*15+(ra_dec_MacLeod_Cat_step2[i][0][1]/60)*15+((ra_dec_MacLeod_Cat_step2[i][0][2]+ra_dec_MacLeod_Cat_step2[i][0][3])/3600)*15,\n",
    "     ra_dec_MacLeod_Cat_step2[i][1][0]+(ra_dec_MacLeod_Cat_step2[i][1][1]/60)+(ra_dec_MacLeod_Cat_step2[i][1][2]/3600)])\n",
    "    \n",
    "ra_dec_MacLeod_Cat_step3=np.array(ra_dec_MacLeod_Cat_step3)"
   ]
  },
  {
   "cell_type": "code",
   "execution_count": null,
   "metadata": {
    "ExecuteTime": {
     "end_time": "2019-06-25T21:36:53.638528Z",
     "start_time": "2019-06-25T21:36:53.390211Z"
    },
    "hidden": true
   },
   "outputs": [],
   "source": [
    "# check the overlap with SDSS\n",
    "%matplotlib qt\n",
    "plt.figure(figsize=(12,8))\n",
    "plt.scatter(Positions_of_dr7[:,0],Positions_of_dr7[:,1],color='black',label='SDSS')\n",
    "plt.scatter(Positions_of_df[:,0],Positions_of_df[:,1],color='blue',label='HSC')\n",
    "plt.scatter(ra_dec_MacLeod_Cat_step3[:,0],ra_dec_MacLeod_Cat_step3[:,1],color='red',label='MacLeod')\n",
    "plt.legend()\n",
    "plt.show()"
   ]
  },
  {
   "cell_type": "code",
   "execution_count": null,
   "metadata": {
    "ExecuteTime": {
     "end_time": "2019-06-25T15:39:38.415848Z",
     "start_time": "2019-06-25T15:38:38.595271Z"
    },
    "hidden": true
   },
   "outputs": [],
   "source": [
    "# again takes around a minute\n",
    "res=[]\n",
    "for j in tqdm(range(len(Positions_of_dr7))):\n",
    "    \n",
    "    #HSC catalogue search; same as above\n",
    "    # finds distance from each of the objects in dr7 catalogue from the objects in HSC catalogue\n",
    "    PositionOfQuasars_euclidean_distances=euclidean_distances([Positions_of_dr7[j]],Positions_of_df)\n",
    "    # shortest distance\n",
    "    shortest_distance_HSC=np.min(PositionOfQuasars_euclidean_distances[0])\n",
    "    # element of the ``Positions_of_df'' that has the shortest distance to the SDSS QSO\n",
    "    shortest_distance_index_HSC=np.where(PositionOfQuasars_euclidean_distances[0]==shortest_distance_HSC)[0][0]\n",
    "    \n",
    "    \n",
    "    \n",
    "    #MacLeod catalogue search; same as above\n",
    "    # finds distance from each of the objects in dr7 catalogue from the objects in HSC catalogue\n",
    "    PositionOfQuasars_euclidean_distances=euclidean_distances([Positions_of_dr7[j]],ra_dec_MacLeod_Cat_step3)\n",
    "    # shortest distance\n",
    "    shortest_distance_MacLeod=np.min(PositionOfQuasars_euclidean_distances[0])\n",
    "    # element of the ``Positions_of_df'' that has the shortest distance to the SDSS QSO\n",
    "    shortest_distance_index_MacLeod=np.where(PositionOfQuasars_euclidean_distances[0]==shortest_distance_MacLeod)[0][0]    \n",
    "    \n",
    "    res.append([shortest_distance_HSC,shortest_distance_MacLeod,df.loc[shortest_distance_index_HSC].values,MacLeod_Cat[shortest_distance_index_MacLeod]])"
   ]
  },
  {
   "cell_type": "code",
   "execution_count": null,
   "metadata": {
    "ExecuteTime": {
     "end_time": "2019-06-25T15:39:38.633385Z",
     "start_time": "2019-06-25T15:39:38.418101Z"
    },
    "hidden": true
   },
   "outputs": [],
   "source": [
    "# extract columns 0,1,2,3,6,7,8,9,10,11 from SDSS, which are as above: sdss id, ra, dec, z, and measurments in different bands (gri)\n",
    "matched_array_MacLeod_SDSS=[]\n",
    "not_matched_array_MacLeod_SDSS=[]\n",
    "for i in tqdm(range(len(res))):\n",
    "    # is object close to HSC \n",
    "    if res[i][0]>0.001:\n",
    "        pass\n",
    "    else:\n",
    "        # if the objects is avaliabe in HSC, search for it in MacLeod\n",
    "        if res[i][1]>0.001:\n",
    "            pass\n",
    "        else:\n",
    "            # join the SDSSvalue, with the value from HSC and MacLeod\n",
    "            matched_array_MacLeod_SDSS.append(np.concatenate((dr7.loc[i][[0,1,2,3,6,7,8,9,10,11]],res[i][2],res[i][3])))\n",
    "        \n",
    "matched_array_MacLeod_SDSS=np.array(matched_array_MacLeod_SDSS)"
   ]
  },
  {
   "cell_type": "code",
   "execution_count": null,
   "metadata": {
    "ExecuteTime": {
     "end_time": "2019-06-25T15:39:40.231394Z",
     "start_time": "2019-06-25T15:39:38.639546Z"
    },
    "hidden": true
   },
   "outputs": [],
   "source": [
    "# check the overlap of the matched_array_MacLeod_SDSS wit the SDSS\n",
    "print('number of objects that have been found is: '+str(len(matched_array_MacLeod_SDSS)))\n",
    "plt.figure(figsize=(10,6))\n",
    "plt.scatter(Positions_of_dr7[:,0],Positions_of_dr7[:,1],color='black')\n",
    "plt.scatter(matched_array_MacLeod_SDSS[:,1],matched_array_MacLeod_SDSS[:,2],color='red')\n",
    "plt.show()"
   ]
  },
  {
   "cell_type": "code",
   "execution_count": null,
   "metadata": {
    "ExecuteTime": {
     "end_time": "2019-06-25T15:39:40.240166Z",
     "start_time": "2019-06-25T15:39:40.236890Z"
    },
    "hidden": true
   },
   "outputs": [],
   "source": [
    "# columns of matched_array_MacLeod_SDSS\n",
    "# 0. SDSS ID, 1. ra (SDSS), 2. dec (SDSS), 3. redshift (SDSS), 4. g-mag (SDSS) 5. sigma g-mag (SDSS), 6. r-mag (SDSS) 7. sigma r-mag (SDSS), 8. i-mag (SDSS) 9. sigma i-mag (SDSS)\n",
    "# 10. ra (HSC), 11. dec (HSC), 12. g_cmodel_mag, 13. g_cmodel_magsigma, 14. r_cmodel_mag, 15. r_cmodel_magsigma, 16. i_cmodel_mag, 17. i_cmodel_magsigma,\n",
    "# 18. g_psfflux_mag, 19. g_psfflux_magsigma, 20. r_psfflux_mag, 21. r_psfflux_magsigma, 22. i_psfflux_mag, 23. i_psfflux_magsigma, 24. object_id\n",
    "# 25. SDSSJID, 26. z, 27. morph. flag (=0 for point source, 1 for extended), 28. Phot. MJD_1, 29. g_1 (mag), 30. sigma_1 (mag), 31. Phot. MJD_2\n",
    "# 32. g_2 (mag), 33. sigma_2 (mag), 34. Spec. MJD_1, 35.  MJD (PS1), 36. g_PS1 (mag), 37. sigma_PS1 (mag), 38. Spec. MJD_2, 39. Facility , \n",
    "# 40. CLQ by VI?  (=1 for visual CLQ, 0 otherwise), 41. N_sigma (Hbeta) "
   ]
  },
  {
   "cell_type": "code",
   "execution_count": null,
   "metadata": {
    "ExecuteTime": {
     "end_time": "2019-06-25T15:39:40.253471Z",
     "start_time": "2019-06-25T15:39:40.241957Z"
    },
    "hidden": true
   },
   "outputs": [],
   "source": [
    "# Check that you selected correct objects by comparing SDSS and MacLeod catalogue\n",
    "is_correctly_matched=[]\n",
    "for i in range(len(matched_array_MacLeod_SDSS)):\n",
    "    is_correctly_matched.append(matched_array_MacLeod_SDSS[i][0]==matched_array_MacLeod_SDSS[i][25])\n",
    "    \n",
    "# if result is 1, it is correct\n",
    "print(np.mean(is_correctly_matched))"
   ]
  },
  {
   "cell_type": "code",
   "execution_count": null,
   "metadata": {
    "ExecuteTime": {
     "end_time": "2019-06-25T15:39:40.269709Z",
     "start_time": "2019-06-25T15:39:40.256612Z"
    },
    "hidden": true
   },
   "outputs": [],
   "source": [
    "mag_selection=(matched_array_filtered[:,2]<10)&(matched_array_filtered[:,1]<16*15)&(matched_array_filtered[:,1]>10*15)"
   ]
  },
  {
   "cell_type": "code",
   "execution_count": null,
   "metadata": {
    "ExecuteTime": {
     "end_time": "2019-06-25T15:39:41.543719Z",
     "start_time": "2019-06-25T15:39:40.272369Z"
    },
    "hidden": true
   },
   "outputs": [],
   "source": [
    "matplotlib.rcParams.update({'font.size': 16})\n",
    "\n",
    "#showing the same plot, but now with the psf magnitudes\n",
    "selection_of_objects_1_mag_dimmer=np.abs((matched_array_filtered[:,14+4]-matched_array_filtered[:,4]))>1\n",
    "selection_of_objects_2_mag_dimmer=np.abs((matched_array_filtered[:,14+4]-matched_array_filtered[:,4]))>2\n",
    "\n",
    "selection_of_objects_actual_1_mag_dimmer=(matched_array_filtered[:,14+4]-matched_array_filtered[:,4])>1\n",
    "arrowup = u'$\\u2191$'\n",
    "\n",
    "# select object fainter than 23 mag in g-band today to represent with arrows on the plot\n",
    "matched_array_filtered_and_more_than_2_mag_dimmer=matched_array_filtered[selection_of_objects_2_mag_dimmer]\n",
    "matched_array_filtered_and_more_than_2_mag_dimmer_and_faint_now=matched_array_filtered_and_more_than_2_mag_dimmer[matched_array_filtered_and_more_than_2_mag_dimmer[:,8+4]>23]\n",
    "\n",
    "matched_array_filtered_and_more_than_1_mag_dimmer=matched_array_filtered[selection_of_objects_1_mag_dimmer]\n",
    "matched_array_filtered_and_more_than_1_mag_dimmer_and_faint_now=matched_array_filtered_and_more_than_1_mag_dimmer[matched_array_filtered_and_more_than_1_mag_dimmer[:,8+4]>23]\n",
    "\n",
    "\n",
    "plt.figure(figsize=(20,7))\n",
    "plt.subplot(131)\n",
    "\n",
    "plt.subplots_adjust(left=-0.10)\n",
    "\n",
    "plt.scatter(matched_array_filtered[:,4],matched_array_filtered[:,14+4],s=1)\n",
    "plt.scatter(matched_array_filtered[:,4][selection_of_objects_1_mag_dimmer],\n",
    "            matched_array_filtered[:,14+4][selection_of_objects_1_mag_dimmer],s=3)\n",
    "plt.scatter(matched_array_filtered[:,4][selection_of_objects_2_mag_dimmer],\n",
    "            matched_array_filtered[:,14+4][selection_of_objects_2_mag_dimmer],s=5,color='red')\n",
    "# first plot those that are 1 mag dimmer and faint\n",
    "plt.scatter(matched_array_filtered_and_more_than_1_mag_dimmer_and_faint_now[:,4],\n",
    "            np.full(len(matched_array_filtered_and_more_than_1_mag_dimmer_and_faint_now),22.8),s=30,color='orange',marker=arrowup)\n",
    "# and then those that are 2 mag dimmer and faint (which will overwrite correct orange objects)\n",
    "plt.scatter(matched_array_filtered_and_more_than_2_mag_dimmer_and_faint_now[:,4],\n",
    "            np.full(len(matched_array_filtered_and_more_than_2_mag_dimmer_and_faint_now),22.8),s=30,color='red',marker=arrowup)\n",
    "\n",
    "plt.scatter(matched_array_filtered[mag_selection][:,4],matched_array_filtered[mag_selection][:,14+4],s=1,marker='*')\n",
    "plt.scatter(matched_array_filtered[np.all((selection_of_objects_1_mag_dimmer,mag_selection),axis=0)][:,4],\n",
    "            matched_array_filtered[np.all((selection_of_objects_1_mag_dimmer,mag_selection),axis=0)][:,14+4],s=50,marker='*',color='orange',label='dec<10, 10*16<ra<15*16')\n",
    "plt.scatter(matched_array_filtered[np.all((selection_of_objects_2_mag_dimmer,mag_selection),axis=0)][:,4],\n",
    "            matched_array_filtered[np.all((selection_of_objects_2_mag_dimmer,mag_selection),axis=0)][:,14+4],s=50,marker='*',color='red',label='dec<10, 10*16<ra<15*16')\n",
    "\n",
    "plt.scatter(matched_array_MacLeod_SDSS[:,4],matched_array_MacLeod_SDSS[:,18],s=20,color='black')\n",
    "\n",
    "plt.scatter([], [], c='orange', s=25,label='$\\Delta g>1$')\n",
    "plt.scatter([], [], c='red',  s=25,label='$\\Delta g>2$')\n",
    "plt.scatter([], [], c='black', s=25,label='MacLeod+ 2019, catalog')\n",
    "plt.legend(loc=4, fontsize=14)\n",
    "\n",
    "plt.xlabel('SDSS psf-g magnitude')\n",
    "plt.ylabel('HSC psf-g magnitude')\n",
    "plt.plot(range(0,100),range(0,100),color='black',ls='--')\n",
    "plt.xlim(17,23)\n",
    "plt.ylim(17,23)\n",
    "\n",
    "plt.subplot(132)\n",
    "\n",
    "plt.scatter(matched_array_filtered[:,6],matched_array_filtered[:,14+6],s=1)\n",
    "plt.scatter(matched_array_filtered[:,6][selection_of_objects_1_mag_dimmer],matched_array_filtered[:,14+6][selection_of_objects_1_mag_dimmer],s=3,color='orange')\n",
    "plt.scatter(matched_array_filtered[:,6][np.all((selection_of_objects_1_mag_dimmer,mag_selection),axis=0)],matched_array_filtered[:,14+6][np.all((selection_of_objects_1_mag_dimmer,mag_selection),axis=0)],s=50,color='orange',marker='*')\n",
    "plt.scatter(matched_array_filtered[:,6][selection_of_objects_2_mag_dimmer],matched_array_filtered[:,14+6][selection_of_objects_2_mag_dimmer],s=5,color='red')\n",
    "plt.scatter(matched_array_filtered[np.all((selection_of_objects_2_mag_dimmer,mag_selection),axis=0)][:,6],\n",
    "            matched_array_filtered[np.all((selection_of_objects_2_mag_dimmer,mag_selection),axis=0)][:,14+6],s=50,marker='*',color='red',label='dec<10, 10*16<ra<15*16')\n",
    "\n",
    "\n",
    "plt.scatter(matched_array_MacLeod_SDSS[:,6],matched_array_MacLeod_SDSS[:,20],s=20,color='black')\n",
    "\n",
    "plt.xlabel('SDSS psf-r magnitude')\n",
    "plt.ylabel('HSC psf-r magnitude')\n",
    "plt.plot(range(0,100),range(0,100),color='black',ls='--')\n",
    "plt.xlim(17,23)\n",
    "plt.ylim(17,23)\n",
    "\n",
    "plt.subplot(133)\n",
    "\n",
    "plt.scatter(matched_array_filtered[:,8],matched_array_filtered[:,14+8],s=1)\n",
    "plt.scatter(matched_array_filtered[:,8][selection_of_objects_1_mag_dimmer],matched_array_filtered[:,14+8][selection_of_objects_1_mag_dimmer],s=3)\n",
    "plt.scatter(matched_array_filtered[:,8][np.all((selection_of_objects_1_mag_dimmer,mag_selection),axis=0)],matched_array_filtered[:,14+8][np.all((selection_of_objects_1_mag_dimmer,mag_selection),axis=0)],s=50,color='orange',marker='*')\n",
    "\n",
    "plt.scatter(matched_array_filtered[:,8][selection_of_objects_2_mag_dimmer],matched_array_filtered[:,14+8][selection_of_objects_2_mag_dimmer],s=5,color='red')\n",
    "\n",
    "plt.scatter(matched_array_filtered[np.all((selection_of_objects_2_mag_dimmer,mag_selection),axis=0)][:,8],\n",
    "            matched_array_filtered[np.all((selection_of_objects_2_mag_dimmer,mag_selection),axis=0)][:,14+8],s=50,marker='*',color='red',label='dec<10, 10*16<ra<15*16')\n",
    "\n",
    "plt.scatter(matched_array_MacLeod_SDSS[:,8],matched_array_MacLeod_SDSS[:,22],s=20,color='black')\n",
    "\n",
    "plt.xlabel('SDSS psf-i magnitude')\n",
    "plt.ylabel('HSC psf-i magnitude')\n",
    "plt.plot(range(0,100),range(0,100),color='black',ls='--')\n",
    "plt.xlim(17,23)\n",
    "plt.ylim(17,23)\n",
    "plt.show()"
   ]
  },
  {
   "cell_type": "code",
   "execution_count": null,
   "metadata": {
    "ExecuteTime": {
     "end_time": "2019-06-25T15:39:41.574515Z",
     "start_time": "2019-06-25T15:39:41.547652Z"
    },
    "hidden": true
   },
   "outputs": [],
   "source": [
    "ra_Mag_selected=(matched_array_filtered[(matched_array_filtered[:,1]<10)&(matched_array_filtered[:,2]<24*15)&(matched_array_filtered[:,2]>0*15)])[:,1]\n",
    "dec_Mag_selected=(matched_array_filtered[(matched_array_filtered[:,1]<10)&(matched_array_filtered[:,2]<24*15)&(matched_array_filtered[:,2]>0*15)])[:2]"
   ]
  },
  {
   "cell_type": "code",
   "execution_count": null,
   "metadata": {
    "ExecuteTime": {
     "end_time": "2019-06-25T15:39:41.799544Z",
     "start_time": "2019-06-25T15:39:41.577800Z"
    },
    "hidden": true
   },
   "outputs": [],
   "source": [
    "plt.scatter(matched_array_filtered[mag_selection][:,4],matched_array_filtered[mag_selection][:,14+4],s=1,marker='*')\n",
    "plt.scatter(matched_array_filtered[np.all((selection_of_objects_1_mag_dimmer,mag_selection),axis=0)][:,4],\n",
    "            matched_array_filtered[np.all((selection_of_objects_1_mag_dimmer,mag_selection),axis=0)][:,14+4],s=10,marker='*')\n",
    "plt.scatter(matched_array_filtered[np.all((selection_of_objects_2_mag_dimmer,mag_selection),axis=0)][:,4],\n",
    "            matched_array_filtered[np.all((selection_of_objects_2_mag_dimmer,mag_selection),axis=0)][:,14+4],s=5,color='red',marker='*')\n",
    "plt.show()\n",
    "# first plot those that are 1 mag dimmer and faint\n",
    "#plt.scatter(matched_array_filtered_and_more_than_1_mag_dimmer_and_faint_now[:,4],\n",
    "#            np.full(len(matched_array_filtered_and_more_than_1_mag_dimmer_and_faint_now),22.8),s=30,color='orange',marker=arrowup)\n",
    "# and then those that are 2 mag dimmer and faint (which will overwrite correct orange objects)\n",
    "#plt.scatter(matched_array_filtered_and_more_than_2_mag_dimmer_and_faint_now[:,4],\n",
    "#            np.full(len(matched_array_filtered_and_more_than_2_mag_dimmer_and_faint_now),22.8),s=30,color='red',marker=arrowup)"
   ]
  },
  {
   "cell_type": "markdown",
   "metadata": {},
   "source": [
    "# Combining both c-model and psf magnitudes and output"
   ]
  },
  {
   "cell_type": "code",
   "execution_count": 21,
   "metadata": {
    "ExecuteTime": {
     "end_time": "2019-07-03T17:19:44.203566Z",
     "start_time": "2019-07-03T17:19:44.156922Z"
    }
   },
   "outputs": [],
   "source": [
    "# to run this you have to run Section 2.1. - Initial analysis (above)\n",
    "\n",
    "# sdss psf-g band mag - HSC psf-g band mag\n",
    "g_mag_dif=(matched_array_filtered[:,4]-matched_array_filtered[:,14+4]).astype(float)\n",
    "\n",
    "# sdss psf-r band mag - HSC psf-r band mag\n",
    "r_mag_dif=(matched_array_filtered[:,6]-matched_array_filtered[:,14+6]).astype(float)\n",
    "\n",
    "# sdss psf-i band mag - HSC psf-i band\n",
    "i_mag_dif=(matched_array_filtered[:,8]-matched_array_filtered[:,14+8]).astype(float)\n",
    "\n",
    "\n",
    "\n",
    "# error sdss g band mag - HSC g band mag\n",
    "g_mag_dif_err=np.sqrt(((matched_array_filtered[:,5]).astype(float))**2+((matched_array_filtered[:,14+5]).astype(float))**2)\n",
    "\n",
    "# Error for the sdss psf-r band magnitude - HSC psf-r band magnitude\n",
    "r_mag_dif_err=np.sqrt(((matched_array_filtered[:,7]).astype(float))**2+((matched_array_filtered[:,14+7]).astype(float))**2)\n",
    "\n",
    "# Error for the sdss psf-i band magnitude - HSC psf-i band magnitude\n",
    "i_mag_dif_err=np.sqrt(((matched_array_filtered[:,9]).astype(float))**2+((matched_array_filtered[:,14+9]).astype(float))**2)\n",
    "\n",
    "\n",
    "\n",
    "\n",
    "# sdss psf-g band mag - HSC cmodel-g band mag\n",
    "gcmodel_mag_dif=(matched_array_filtered[:,4]-matched_array_filtered[:,4+8]).astype(float)\n",
    "\n",
    "# sdss psf-r band mag - HSC cmodel-r band mag\n",
    "rcmodel_mag_dif=(matched_array_filtered[:,6]-matched_array_filtered[:,6+8]).astype(float)\n",
    "\n",
    "# sdss psf-i band mag - HSC cmodel-i band\n",
    "icmodel_mag_dif=(matched_array_filtered[:,8]-matched_array_filtered[:,8+8]).astype(float)\n",
    "\n",
    "\n",
    "\n",
    "# error sdss g band mag - HSC cmodel-g band mag\n",
    "gcmodel_mag_dif_err=np.sqrt(((matched_array_filtered[:,5]).astype(float))**2+((matched_array_filtered[:,5+8]).astype(float))**2)\n",
    "\n",
    "# Error for the SDSS psf-r band magnitude - HSC cmodel-r band magnitude\n",
    "rcmodel_mag_dif_err=np.sqrt(((matched_array_filtered[:,7]).astype(float))**2+((matched_array_filtered[:,7+8]).astype(float))**2)\n",
    "\n",
    "# Error for the SDSS psf-i band magnitude - HSC cmodel-i band magnitude\n",
    "icmodel_mag_dif_err=np.sqrt(((matched_array_filtered[:,9]).astype(float))**2+((matched_array_filtered[:,9+8]).astype(float))**2)"
   ]
  },
  {
   "cell_type": "code",
   "execution_count": 22,
   "metadata": {
    "ExecuteTime": {
     "end_time": "2019-07-03T17:19:46.616052Z",
     "start_time": "2019-07-03T17:19:44.581918Z"
    }
   },
   "outputs": [],
   "source": [
    "# insert differences in the catalog\n",
    "matched_array_filtered_with_g_mag_dif=np.insert(matched_array_filtered, 4, g_mag_dif, axis=1)\n",
    "matched_array_filtered_with_g_mag_dif_and_err=np.insert(matched_array_filtered_with_g_mag_dif, 5, g_mag_dif_err, axis=1)\n",
    "\n",
    "matched_array_filtered_with_r_mag_dif=np.insert(matched_array_filtered, 6, r_mag_dif, axis=1)\n",
    "matched_array_filtered_with_r_mag_dif_and_err=np.insert(matched_array_filtered_with_r_mag_dif, 7, r_mag_dif_err, axis=1)\n",
    "\n",
    "matched_array_filtered_with_i_mag_dif=np.insert(matched_array_filtered, 8, i_mag_dif, axis=1)\n",
    "matched_array_filtered_with_i_mag_dif_and_err=np.insert(matched_array_filtered_with_i_mag_dif, 9, i_mag_dif_err, axis=1)\n",
    "\n",
    "# insert differences in the catalog\n",
    "matched_array_filtered_with_gcmodel_mag_dif=np.insert(matched_array_filtered, 4, gcmodel_mag_dif, axis=1)\n",
    "matched_array_filtered_with_gcmodel_mag_dif_and_err=np.insert(matched_array_filtered_with_gcmodel_mag_dif, 5, gcmodel_mag_dif_err, axis=1)\n",
    "\n",
    "matched_array_filtered_with_rcmodel_mag_dif=np.insert(matched_array_filtered, 6, rcmodel_mag_dif, axis=1)\n",
    "matched_array_filtered_with_rcmodel_mag_dif_and_err=np.insert(matched_array_filtered_with_rcmodel_mag_dif, 7, rcmodel_mag_dif_err, axis=1)\n",
    "\n",
    "matched_array_filtered_with_icmodel_mag_dif=np.insert(matched_array_filtered, 8, icmodel_mag_dif, axis=1)\n",
    "matched_array_filtered_with_icmodel_mag_dif_and_err=np.insert(matched_array_filtered_with_icmodel_mag_dif, 9, icmodel_mag_dif_err, axis=1)\n",
    "\n",
    "#np.save(\"/home/tpena01/AGN_variability_project/matched_array_filtered_with_g_mag_dif_and_err.npy\",matched_array_filtered_with_g_mag_dif_and_err)\n",
    "#np.save(\"/home/tpena01/AGN_variability_project/matched_array_filtered_with_r_mag_dif_and_err.npy\",matched_array_filtered_with_r_mag_dif_and_err)\n",
    "#np.save(\"/home/tpena01/AGN_variability_project/matched_array_filtered_with_i_mag_dif_and_err.npy\",matched_array_filtered_with_i_mag_dif_and_err)\n",
    "\n",
    "#np.save(\"/home/tpena01/AGN_variability_project/matched_array_filtered_with_gcmodel_mag_dif_and_err.npy\",matched_array_filtered_with_gcmodel_mag_dif_and_err)\n",
    "#np.save(\"/home/tpena01/AGN_variability_project/matched_array_filtered_with_rcmodel_mag_dif_and_err.npy\",matched_array_filtered_with_rcmodel_mag_dif_and_err)\n",
    "#np.save(\"/home/tpena01/AGN_variability_project/matched_array_filtered_with_icmodel_mag_dif_and_err.npy\",matched_array_filtered_with_icmodel_mag_dif_and_err)"
   ]
  },
  {
   "cell_type": "code",
   "execution_count": 23,
   "metadata": {
    "ExecuteTime": {
     "end_time": "2019-07-03T17:19:47.202530Z",
     "start_time": "2019-07-03T17:19:46.619014Z"
    }
   },
   "outputs": [],
   "source": [
    "# insert psfSDSS - psfHSC differences in the catalog\n",
    "new_matched_data_array = np.insert(matched_array_filtered, 4, g_mag_dif, axis=1)\n",
    "new_matched_data_array = np.insert(new_matched_data_array, 5, g_mag_dif_err, axis=1)\n",
    "new_matched_data_array = np.insert(new_matched_data_array, 6, gcmodel_mag_dif, axis=1)\n",
    "new_matched_data_array = np.insert(new_matched_data_array, 7, gcmodel_mag_dif_err, axis=1)\n",
    "new_matched_data_array = np.insert(new_matched_data_array, 10, r_mag_dif, axis=1)\n",
    "new_matched_data_array = np.insert(new_matched_data_array, 11, r_mag_dif_err, axis=1)\n",
    "new_matched_data_array = np.insert(new_matched_data_array, 12, rcmodel_mag_dif, axis=1)\n",
    "new_matched_data_array = np.insert(new_matched_data_array, 13, rcmodel_mag_dif_err, axis=1)\n",
    "new_matched_data_array = np.insert(new_matched_data_array, 16, i_mag_dif, axis=1)\n",
    "new_matched_data_array = np.insert(new_matched_data_array, 17, i_mag_dif_err, axis=1)\n",
    "new_matched_data_array = np.insert(new_matched_data_array, 18, icmodel_mag_dif, axis=1)\n",
    "new_matched_data_array = np.insert(new_matched_data_array, 19, icmodel_mag_dif_err, axis=1)\n",
    "\n",
    "\n",
    "#np.save(\"/home/tpena01/AGN_variability_project/new_matched_data_array.npy\", new_matched_data_array)"
   ]
  },
  {
   "cell_type": "code",
   "execution_count": 26,
   "metadata": {
    "ExecuteTime": {
     "end_time": "2019-07-03T17:19:57.714455Z",
     "start_time": "2019-07-03T17:19:57.639682Z"
    },
    "code_folding": []
   },
   "outputs": [],
   "source": [
    "# extra step to get our g_mag data looking nice when it's exported to .txt\n",
    "g_mag_data = np.zeros((len(matched_array_filtered_with_g_mag_dif_and_err)), dtype={'names':['SDSS ID','ra (SDSS)', 'dec (SDSS)', 'redshift', 'Delta g-band','Delta g-band err', 'g-band (SDSS)', 'g-band err (SDSS)',\n",
    "                                                                                   'r-band (SDSS)','r-band err (SDSS)','i-band (SDSS)','i-band err (SDSS)','ra (HSC)', 'dec (HSC)',\n",
    "                                                                                   'g_cmodel_mag (HSC)','g_cmodel_magsigma (HSC)','r_cmodel_mag (HSC)','r_cmodel_magsigma (HSC)',\n",
    "                                                                                   'i_cmodel_mag (HSC)','i_cmodel_magsigma (HSC)','g_psfflux_mag (HSC)','g_psfflux_magsigma (HSC)',\n",
    "                                                                                  'r_psfflux_mag (HSC)','r_psfflux_magsigma (HSC)','i_psfflux_mag (HSC)', 'i_psfflux_magsigma (HSC)',\n",
    "                                                                                   'object_id (HSC)'],\n",
    "                          'formats':['U18','f2', 'f4','f4', 'f4','f4', 'f4', 'f4','f4', 'f4', 'f4','f4', 'f4', 'f4','f4', 'f4', 'f4','f4', 'f4', 'f4','f4', 'f4', 'f4','f4', 'f4', 'f4','i8']})\n",
    "\n",
    "for i in range(matched_array_filtered_with_g_mag_dif_and_err.shape[1]):\n",
    "    g_mag_data[g_mag_data.dtype.names[i]]=matched_array_filtered_with_g_mag_dif_and_err[:,i]\n",
    "\n",
    "# extra step to get our r_mag data looking nice when it's exported to .txt\n",
    "r_mag_data = np.zeros((len(matched_array_filtered_with_r_mag_dif_and_err)), dtype={'names':['SDSS ID','ra (SDSS)', 'dec (SDSS)', 'redshift', 'g-band (SDSS)', 'g-band err (SDSS)',  'Delta r-band','Delta r-band err',\n",
    "                                                                                   'r-band (SDSS)','r-band err (SDSS)','i-band (SDSS)','i-band err (SDSS)','ra (HSC)', 'dec (HSC)',\n",
    "                                                                                   'g_cmodel_mag (HSC)','g_cmodel_magsigma (HSC)','r_cmodel_mag (HSC)','r_cmodel_magsigma (HSC)',\n",
    "                                                                                   'i_cmodel_mag (HSC)','i_cmodel_magsigma (HSC)','g_psfflux_mag (HSC)','g_psfflux_magsigma (HSC)',\n",
    "                                                                                  'r_psfflux_mag (HSC)','r_psfflux_magsigma (HSC)','i_psfflux_mag (HSC)', 'i_psfflux_magsigma (HSC)',\n",
    "                                                                                   'object_id (HSC)'],\n",
    "                          'formats':['U18','f2', 'f4','f4', 'f4','f4', 'f4', 'f4','f4', 'f4', 'f4','f4', 'f4', 'f4','f4', 'f4', 'f4','f4', 'f4', 'f4','f4', 'f4', 'f4','f4', 'f4', 'f4','i8']})\n",
    "\n",
    "for i in range(matched_array_filtered_with_r_mag_dif_and_err.shape[1]):\n",
    "    r_mag_data[r_mag_data.dtype.names[i]]=matched_array_filtered_with_r_mag_dif_and_err[:,i]\n",
    "\n",
    "# extra step to get our i_mag data looking nice when it's exported to .txt\n",
    "i_mag_data = np.zeros((len(matched_array_filtered_with_i_mag_dif_and_err)), dtype={'names':['SDSS ID','ra (SDSS)', 'dec (SDSS)', 'redshift', 'g-band (SDSS)', 'g-band err (SDSS)',\n",
    "                                                                                   'r-band (SDSS)','r-band err (SDSS)', 'Delta i-band','Delta i-band err', 'i-band (SDSS)','i-band err (SDSS)','ra (HSC)', 'dec (HSC)',\n",
    "                                                                                   'g_cmodel_mag (HSC)','g_cmodel_magsigma (HSC)','r_cmodel_mag (HSC)','r_cmodel_magsigma (HSC)',\n",
    "                                                                                   'i_cmodel_mag (HSC)','i_cmodel_magsigma (HSC)','g_psfflux_mag (HSC)','g_psfflux_magsigma (HSC)',\n",
    "                                                                                  'r_psfflux_mag (HSC)','r_psfflux_magsigma (HSC)','i_psfflux_mag (HSC)', 'i_psfflux_magsigma (HSC)',\n",
    "                                                                                   'object_id (HSC)'],\n",
    "                          'formats':['U18','f2', 'f4','f4', 'f4','f4', 'f4', 'f4','f4', 'f4', 'f4','f4', 'f4', 'f4','f4', 'f4', 'f4','f4', 'f4', 'f4','f4', 'f4', 'f4','f4', 'f4', 'f4','i8']})\n",
    "\n",
    "for i in range(matched_array_filtered_with_i_mag_dif_and_err.shape[1]):\n",
    "    i_mag_data[i_mag_data.dtype.names[i]]=matched_array_filtered_with_i_mag_dif_and_err[:,i]"
   ]
  },
  {
   "cell_type": "code",
   "execution_count": 27,
   "metadata": {
    "ExecuteTime": {
     "end_time": "2019-07-03T17:19:58.456612Z",
     "start_time": "2019-07-03T17:19:58.361983Z"
    }
   },
   "outputs": [],
   "source": [
    "# Same as above. Only difference is that this time, we're doing everything wtih cmodel data, rather than psf data.\n",
    "gcmodel_mag_data = np.zeros((len(matched_array_filtered_with_gcmodel_mag_dif_and_err)), dtype={'names':['SDSS ID','ra (SDSS)', 'dec (SDSS)', 'redshift', 'Delta g-band','Delta g-band err', 'g-band (SDSS)', 'g-band err (SDSS)',\n",
    "                                                                                   'r-band (SDSS)','r-band err (SDSS)','i-band (SDSS)','i-band err (SDSS)','ra (HSC)', 'dec (HSC)',\n",
    "                                                                                   'g_cmodel_mag (HSC)','g_cmodel_magsigma (HSC)','r_cmodel_mag (HSC)','r_cmodel_magsigma (HSC)',\n",
    "                                                                                   'i_cmodel_mag (HSC)','i_cmodel_magsigma (HSC)','g_psfflux_mag (HSC)','g_psfflux_magsigma (HSC)',\n",
    "                                                                                  'r_psfflux_mag (HSC)','r_psfflux_magsigma (HSC)','i_psfflux_mag (HSC)', 'i_psfflux_magsigma (HSC)',\n",
    "                                                                                   'object_id (HSC)'],\n",
    "                          'formats':['U18','f2', 'f4','f4', 'f4','f4', 'f4', 'f4','f4', 'f4', 'f4','f4', 'f4', 'f4','f4', 'f4', 'f4','f4', 'f4', 'f4','f4', 'f4', 'f4','f4', 'f4', 'f4','i8']})\n",
    "\n",
    "for i in range(matched_array_filtered_with_gcmodel_mag_dif_and_err.shape[1]):\n",
    "    gcmodel_mag_data[gcmodel_mag_data.dtype.names[i]]=matched_array_filtered_with_gcmodel_mag_dif_and_err[:,i]\n",
    "\n",
    "rcmodel_mag_data = np.zeros((len(matched_array_filtered_with_rcmodel_mag_dif_and_err)), dtype={'names':['SDSS ID','ra (SDSS)', 'dec (SDSS)', 'redshift', 'g-band (SDSS)', 'g-band err (SDSS)',  'Delta r-band','Delta r-band err',\n",
    "                                                                                   'r-band (SDSS)','r-band err (SDSS)','i-band (SDSS)','i-band err (SDSS)','ra (HSC)', 'dec (HSC)',\n",
    "                                                                                   'g_cmodel_mag (HSC)','g_cmodel_magsigma (HSC)','r_cmodel_mag (HSC)','r_cmodel_magsigma (HSC)',\n",
    "                                                                                   'i_cmodel_mag (HSC)','i_cmodel_magsigma (HSC)','g_psfflux_mag (HSC)','g_psfflux_magsigma (HSC)',\n",
    "                                                                                  'r_psfflux_mag (HSC)','r_psfflux_magsigma (HSC)','i_psfflux_mag (HSC)', 'i_psfflux_magsigma (HSC)',\n",
    "                                                                                   'object_id (HSC)'],\n",
    "                          'formats':['U18','f2', 'f4','f4', 'f4','f4', 'f4', 'f4','f4', 'f4', 'f4','f4', 'f4', 'f4','f4', 'f4', 'f4','f4', 'f4', 'f4','f4', 'f4', 'f4','f4', 'f4', 'f4','i8']})\n",
    "\n",
    "for i in range(matched_array_filtered_with_rcmodel_mag_dif_and_err.shape[1]):\n",
    "    rcmodel_mag_data[rcmodel_mag_data.dtype.names[i]]=matched_array_filtered_with_rcmodel_mag_dif_and_err[:,i]\n",
    "\n",
    "icmodel_mag_data = np.zeros((len(matched_array_filtered_with_icmodel_mag_dif_and_err)), dtype={'names':['SDSS ID','ra (SDSS)', 'dec (SDSS)', 'redshift', 'g-band (SDSS)', 'g-band err (SDSS)',\n",
    "                                                                                   'r-band (SDSS)','r-band err (SDSS)', 'Delta i-band','Delta i-band err', 'i-band (SDSS)','i-band err (SDSS)','ra (HSC)', 'dec (HSC)',\n",
    "                                                                                   'g_cmodel_mag (HSC)','g_cmodel_magsigma (HSC)','r_cmodel_mag (HSC)','r_cmodel_magsigma (HSC)',\n",
    "                                                                                   'i_cmodel_mag (HSC)','i_cmodel_magsigma (HSC)','g_psfflux_mag (HSC)','g_psfflux_magsigma (HSC)',\n",
    "                                                                                  'r_psfflux_mag (HSC)','r_psfflux_magsigma (HSC)','i_psfflux_mag (HSC)', 'i_psfflux_magsigma (HSC)',\n",
    "                                                                                   'object_id (HSC)'],\n",
    "                          'formats':['U18','f2', 'f4','f4', 'f4','f4', 'f4', 'f4','f4', 'f4', 'f4','f4', 'f4', 'f4','f4', 'f4', 'f4','f4', 'f4', 'f4','f4', 'f4', 'f4','f4', 'f4', 'f4','i8']})\n",
    "\n",
    "for i in range(matched_array_filtered_with_icmodel_mag_dif_and_err.shape[1]):\n",
    "    icmodel_mag_data[icmodel_mag_data.dtype.names[i]]=matched_array_filtered_with_icmodel_mag_dif_and_err[:,i]"
   ]
  },
  {
   "cell_type": "code",
   "execution_count": 28,
   "metadata": {
    "ExecuteTime": {
     "end_time": "2019-07-03T17:19:59.193899Z",
     "start_time": "2019-07-03T17:19:59.157040Z"
    }
   },
   "outputs": [],
   "source": [
    "# extra step to get our g_mag data looking nice when it's exported to .txt\n",
    "catalog_with_changes = np.zeros((len(new_matched_data_array)), dtype={'names':['SDSS ID','ra (SDSS)', 'dec (SDSS)', 'redshift', 'Delta g-band (psf SDSS - psf HSC)','Delta g-band err (psf SDSS - psf HSC)',\n",
    "                                                                                  'Delta g-band (psf SDSS - cmodel HSC)', 'Delta g-band err (psf SDSS - cmodel HSC)', 'g-band (SDSS)', 'g-band err (SDSS)',\n",
    "                                                                                   'Delta r-band (psf SDSS - psf HSC)','Delta r-band err (psf SDSS - psf HSC)', 'Delta r-band (psf SDSS - cmodel HSC)','Delta r-band err (psf SDSS - cmodel HSC)', 'r-band (SDSS)','r-band err (SDSS)',\n",
    "                                                                                   'Delta i-band (psf SDSS - psf HSC)','Delta i-band err (psf SDSS - psf HSC)', 'Delta i-band (psf SDSS - cmodel HSC)','Delta i-band err (psf SDSS - cmodel HSC)', 'i-band (SDSS)','i-band err (SDSS)',\n",
    "                                                                                   'ra (HSC)', 'dec (HSC)', 'g_cmodel_mag (HSC)','g_cmodel_magsigma (HSC)','r_cmodel_mag (HSC)','r_cmodel_magsigma (HSC)',\n",
    "                                                                                   'i_cmodel_mag (HSC)','i_cmodel_magsigma (HSC)','g_psfflux_mag (HSC)','g_psfflux_magsigma (HSC)',\n",
    "                                                                                  'r_psfflux_mag (HSC)','r_psfflux_magsigma (HSC)','i_psfflux_mag (HSC)', 'i_psfflux_magsigma (HSC)',\n",
    "                                                                                   'object_id (HSC)'],\n",
    "                          'formats':['U18','f2', 'f4','f4', 'f4','f4', 'f4', 'f4','f4', 'f4', 'f4','f4', 'f4', 'f4','f4', 'f4', 'f4', 'f4','f4', 'f4', 'f4','f4', 'f4', 'f4','f4', 'f4', 'f4','f4', 'f4', 'f4','f4', 'f4', 'f4','f4', 'f4', 'f4','i8']})\n",
    "\n",
    "for i in range(new_matched_data_array.shape[1]):\n",
    "    catalog_with_changes[catalog_with_changes.dtype.names[i]] = new_matched_data_array[:,i]\n"
   ]
  },
  {
   "cell_type": "code",
   "execution_count": null,
   "metadata": {
    "ExecuteTime": {
     "end_time": "2019-06-25T15:39:44.217816Z",
     "start_time": "2019-06-25T15:37:28.231Z"
    }
   },
   "outputs": [],
   "source": [
    "#np.save(\"/home/tpena01/AGN_variability_project/catalog_with_changes\", catalog_with_changes)"
   ]
  },
  {
   "cell_type": "code",
   "execution_count": null,
   "metadata": {
    "ExecuteTime": {
     "end_time": "2019-06-25T15:39:44.219751Z",
     "start_time": "2019-06-25T15:37:28.912Z"
    }
   },
   "outputs": [],
   "source": [
    "#g_mag_data = np.load(\"/home/tpena01/AGN_variability_project/catalog_with_changes\")"
   ]
  },
  {
   "cell_type": "code",
   "execution_count": null,
   "metadata": {
    "ExecuteTime": {
     "end_time": "2019-06-25T15:39:44.222827Z",
     "start_time": "2019-06-25T15:37:29.198Z"
    }
   },
   "outputs": [],
   "source": [
    "#np.savetxt(\"/home/tpena01/AGN_variability_project/catalog_with_changes.csv\", catalog_with_changes, delimiter=\",\",\n",
    "#           header=\"#List of SDSS AGN from DR7 that are found in HSC survey, with their magnitudes \\n#created on Feb 16, 2019\\n#code at https://github.com/nevencaplar/Variability/tree/master/HSC \\n#@Neven Caplar, Princeton University \\n#ncaplar@princeton.edu\\n# \\n#SDSS ID \\n#ra (SDSS) \\n#dec (SDSS) \\n#redshift \\n#Delta g-band (g-band psf SDSS magnitude - g_psfflux_mag (HSC))  \\n#Delta g-band err (sqrt(g-band psf err (SDSS)**2+g_psfflux_magsigma (HSC)**2)) \\n#g-band (SDSS - all SDSS magnitudes are psf magnitudes) \\n#g-band err (SDSS)  \\n#r-band (SDSS)  \\n#r-band err (SDSS) \\n#i-band (SDSS) \\n#i-band err (SDSS)  \\n#ra (HSC)  \\n#dec (HSC)  \\n#g_cmodel_mag (HSC)  \\n#g_cmodel_magsigma (HSC)  \\n#r_cmodel_mag (HSC)  \\n#r_cmodel_magsigma (HSC)  \\n#i_cmodel_mag (HSC) \\n# i_cmodel_magsigma (HSC)  \\n#g_psfflux_mag (HSC)  \\n# g_psfflux_magsigma (HSC) \\n#r_psfflux_mag (HSC) \\n#r_psfflux_magsigma (HSC) \\n#i_psfflux_mag (HSC) \\n#i_psfflux_magsigma (HSC) \\n#object_id (HSC) \\n  \", comments='',fmt='%s')"
   ]
  },
  {
   "cell_type": "markdown",
   "metadata": {
    "heading_collapsed": true
   },
   "source": [
    "# Creating selection for Spectro follow up"
   ]
  },
  {
   "cell_type": "code",
   "execution_count": null,
   "metadata": {
    "ExecuteTime": {
     "end_time": "2019-06-25T15:39:44.224428Z",
     "start_time": "2019-06-25T15:37:29.924Z"
    },
    "hidden": true
   },
   "outputs": [],
   "source": [
    "data_selected=g_mag_data[np.all((selection_of_objects_actual_1_mag_dimmer,mag_selection),axis=0)]\n",
    "data_selected_cleaned=np.delete(data_selected,11)"
   ]
  },
  {
   "cell_type": "code",
   "execution_count": null,
   "metadata": {
    "ExecuteTime": {
     "end_time": "2019-06-25T15:39:44.225946Z",
     "start_time": "2019-06-25T15:37:30.262Z"
    },
    "hidden": true
   },
   "outputs": [],
   "source": [
    "SDSS_name_MacLeod=[]\n",
    "for i in range(len(matched_array_MacLeod_SDSS)):\n",
    "    SDSS_name_MacLeod.append(matched_array_MacLeod_SDSS[i][0])"
   ]
  },
  {
   "cell_type": "code",
   "execution_count": null,
   "metadata": {
    "ExecuteTime": {
     "end_time": "2019-06-25T15:39:44.228444Z",
     "start_time": "2019-06-25T15:37:30.547Z"
    },
    "hidden": true
   },
   "outputs": [],
   "source": [
    "SDSS_name_MacLeod"
   ]
  },
  {
   "cell_type": "code",
   "execution_count": null,
   "metadata": {
    "ExecuteTime": {
     "end_time": "2019-06-25T15:39:44.230310Z",
     "start_time": "2019-06-25T15:37:30.822Z"
    },
    "hidden": true
   },
   "outputs": [],
   "source": [
    "data_selected_cleaned_priority_1=data_selected_cleaned[data_selected_cleaned['Delta g-band']<-1.25]\n",
    "data_selected_cleaned_priority_1"
   ]
  },
  {
   "cell_type": "code",
   "execution_count": null,
   "metadata": {
    "ExecuteTime": {
     "end_time": "2019-06-25T15:39:44.233449Z",
     "start_time": "2019-06-25T15:37:31.124Z"
    },
    "hidden": true
   },
   "outputs": [],
   "source": [
    "data_selected_cleaned_priority_2=data_selected_cleaned[data_selected_cleaned['Delta g-band']>-1.25]"
   ]
  },
  {
   "cell_type": "code",
   "execution_count": null,
   "metadata": {
    "ExecuteTime": {
     "end_time": "2019-06-25T15:39:44.235345Z",
     "start_time": "2019-06-25T15:37:31.397Z"
    },
    "hidden": true
   },
   "outputs": [],
   "source": [
    "np.savetxt(\"/home/tpena01/AGN_variability_project/data_selected_cleaned_priority_1.csv\", data_selected_cleaned_priority_1, delimiter=\",\", \n",
    "           header=\"#List of SDSS AGN from DR7 that are found in HSC survey, with their magnitudes \\n#Difference between HSC and SDSS larger than 1 mag \\n#Within Magellan footprint \\n#created on Mar 22, 2019\\n#code at https://github.com/nevencaplar/Variability/tree/master/HSC \\n#@Neven Caplar, Princeton University \\n#ncaplar@princeton.edu\\n# \\n#SDSS ID \\n#dec (SDSS) \\n#ra (SDSS) \\n#redshift \\n#Delta g-band (g-band psf SDSS magnitude - g_psfflux_mag (HSC))  \\n#Delta g-band err (sqrt(g-band psf err (SDSS)**2+g_psfflux_magsigma (HSC)**2)) \\n#g-band (SDSS - all SDSS magnitudes are psf magnitudes) \\n#g-band err (SDSS)  \\n#r-band (SDSS)  \\n#r-band err (SDSS) \\n#i-band (SDSS) \\n#i-band err (SDSS)  \\n#ra (HSC)  \\n#dec (HSC)  \\n#g_cmodel_mag (HSC)  \\n#g_cmodel_magsigma (HSC)  \\n#r_cmodel_mag (HSC)  \\n#r_cmodel_magsigma (HSC)  \\n#i_cmodel_mag (HSC) \\n# i_cmodel_magsigma (HSC)  \\n#g_psfflux_mag (HSC)  \\n# g_psfflux_magsigma (HSC) \\n#r_psfflux_mag (HSC) \\n#r_psfflux_magsigma (HSC) \\n#i_psfflux_mag (HSC) \\n#i_psfflux_magsigma (HSC) \\n#object_id (HSC) \\n  \", comments='',fmt='%s')"
   ]
  },
  {
   "cell_type": "code",
   "execution_count": null,
   "metadata": {
    "ExecuteTime": {
     "end_time": "2019-06-25T15:39:44.237493Z",
     "start_time": "2019-06-25T15:37:31.666Z"
    },
    "hidden": true
   },
   "outputs": [],
   "source": [
    "np.savetxt(\"/home/tpena01/AGN_variability_project/data_selected_cleaned_priority_2.csv\", data_selected_cleaned_priority_2, delimiter=\",\", \n",
    "           header=\"#List of SDSS AGN from DR7 that are found in HSC survey, with their magnitudes \\n#Difference between HSC and SDSS larger than 1 mag \\n#Within Magellan footprint \\n#created on Mar 22, 2019\\n#code at https://github.com/nevencaplar/Variability/tree/master/HSC \\n#@Neven Caplar, Princeton University \\n#ncaplar@princeton.edu\\n# \\n#SDSS ID \\n#dec (SDSS) \\n#ra (SDSS) \\n#redshift \\n#Delta g-band (g-band psf SDSS magnitude - g_psfflux_mag (HSC))  \\n#Delta g-band err (sqrt(g-band psf err (SDSS)**2+g_psfflux_magsigma (HSC)**2)) \\n#g-band (SDSS - all SDSS magnitudes are psf magnitudes) \\n#g-band err (SDSS)  \\n#r-band (SDSS)  \\n#r-band err (SDSS) \\n#i-band (SDSS) \\n#i-band err (SDSS)  \\n#ra (HSC)  \\n#dec (HSC)  \\n#g_cmodel_mag (HSC)  \\n#g_cmodel_magsigma (HSC)  \\n#r_cmodel_mag (HSC)  \\n#r_cmodel_magsigma (HSC)  \\n#i_cmodel_mag (HSC) \\n# i_cmodel_magsigma (HSC)  \\n#g_psfflux_mag (HSC)  \\n# g_psfflux_magsigma (HSC) \\n#r_psfflux_mag (HSC) \\n#r_psfflux_magsigma (HSC) \\n#i_psfflux_mag (HSC) \\n#i_psfflux_magsigma (HSC) \\n#object_id (HSC) \\n  \", comments='',fmt='%s')"
   ]
  },
  {
   "cell_type": "markdown",
   "metadata": {},
   "source": [
    "# Small investigation of the properties of sources selected as variable"
   ]
  },
  {
   "cell_type": "markdown",
   "metadata": {},
   "source": [
    "## Graphing function"
   ]
  },
  {
   "cell_type": "code",
   "execution_count": 29,
   "metadata": {
    "ExecuteTime": {
     "end_time": "2019-07-03T17:21:21.249326Z",
     "start_time": "2019-07-03T17:21:21.161815Z"
    },
    "code_folding": []
   },
   "outputs": [],
   "source": [
    "def make_graph(data_array, data_col=4, obj_per_bin=100, sortby='redshift', smoothing_method='mean', num_to_choose=None, ylim=None):\n",
    "    '''\n",
    "    Graphing function. \n",
    "    Input is new_matched_data_array and your favorite set of parameters.\n",
    "    Output is a graph.\n",
    "    '''\n",
    "    # Set variables\n",
    "    redshift_col = 3\n",
    "    error_col = data_col + 1\n",
    "    g_mag_SDSS_col = 8\n",
    "    \n",
    "    # Failsafe in case the user forgets to select a number of objects per bin.\n",
    "    if (num_to_choose == None):\n",
    "        num_to_choose = obj_per_bin\n",
    "        \n",
    "    # Extract the data that we're going to use.\n",
    "    delta_band_and_redshift = data_array[:, [data_col, redshift_col, error_col]]\n",
    "    \n",
    "    \n",
    "    if (sortby == 'delta_band'):\n",
    "        # Split our data into bins. Each bin has \"obj_per_bin\" elements\n",
    "        delta_band_and_redshift_sorted_and_split=np.array_split(delta_band_and_redshift[np.argsort(delta_band_and_redshift[:,0])], int(len(delta_band_and_redshift)/obj_per_bin))\n",
    "        \n",
    "        # The following pair of for loops sorts and smooths the data.\n",
    "        res_delta_band_and_redshift = []\n",
    "        res_delta_band_and_redshift_median = []\n",
    "        res_delta_std = []\n",
    "        \n",
    "        for i in range(len(delta_band_and_redshift_sorted_and_split)):\n",
    "            res_delta_band_and_redshift.append(np.mean(delta_band_and_redshift_sorted_and_split[i],axis=0))\n",
    "            res_delta_band_and_redshift_median.append(np.median(delta_band_and_redshift_sorted_and_split[i],axis=0))\n",
    "            res_delta_std.append(np.array(delta_band_and_redshift_sorted_and_split[i][:,:], dtype=np.float64).std(axis=0))\n",
    "\n",
    "        # Now that our data is in a graph\n",
    "        res_delta_band_and_redshift=np.array(res_delta_band_and_redshift)\n",
    "        res_delta_band_and_redshift_median=np.array(res_delta_band_and_redshift_median)\n",
    "        res_delta_std=np.array(res_delta_std)\n",
    "\n",
    "        \n",
    "        if (smoothing_method == 'mean'):\n",
    "            # Plotting\n",
    "            matplotlib.rcParams.update({'font.size': 12})\n",
    "            plt.figure(figsize=(18,6))\n",
    "            plt.title('negative $\\Delta$ BAND-band values= fainter in HSC; positive $\\Delta$ BAND-band values= brighter in HSC; DATA ORIGIN UNKNOWN')\n",
    "            plt.errorbar(res_delta_band_and_redshift[:,0], res_delta_band_and_redshift[:,1], yerr=res_delta_std[:,1])   \n",
    "            plt.xlabel('$\\Delta$ BAND-band (SDSS - HSC)')\n",
    "            plt.ylabel('redshift')\n",
    "            if (ylim != None):\n",
    "                plt.ylim(ylim[0], ylim[1])\n",
    "            else:\n",
    "                pass\n",
    "            plt.show()\n",
    "        \n",
    "        elif (smoothing_method == 'median'):\n",
    "            # Plotting\n",
    "            matplotlib.rcParams.update({'font.size': 12})\n",
    "            plt.figure(figsize=(18,6))\n",
    "            plt.title('negative $\\Delta$ BAND-band values= fainter in HSC; positive $\\Delta$ BAND-band values= brighter in HSC; DATA ORIGIN UNKNOWN')\n",
    "            plt.errorbar(res_delta_band_and_redshift_median[:,0], res_delta_band_and_redshift_median[:,1], yerr=res_delta_std[:,1])\n",
    "            plt.xlabel('$\\Delta$ g-band (SDSS - HSC)')\n",
    "            plt.ylabel('redshift')\n",
    "            if (ylim != None):\n",
    "                plt.ylim(ylim[0], ylim[1])\n",
    "            else:\n",
    "                pass\n",
    "            plt.show()\n",
    "            \n",
    "        else:\n",
    "            # Throw an error here later\n",
    "            pass\n",
    "    \n",
    "    \n",
    "    elif (sortby == 'redshift'):\n",
    "        delta_band_and_redshift_sorted_and_split=np.array_split(delta_band_and_redshift[np.argsort(delta_band_and_redshift[:,1])], int(len(delta_band_and_redshift)/obj_per_bin))\n",
    "\n",
    "        # Smoothing\n",
    "        res_delta_band_and_redshift = []\n",
    "        res_delta_band_and_redshift_median = []\n",
    "        res_delta_std = []\n",
    "        \n",
    "\n",
    "        for i in range(len(delta_band_and_redshift_sorted_and_split)):\n",
    "            res_delta_band_and_redshift.append(np.mean(delta_band_and_redshift_sorted_and_split[i],axis=0))\n",
    "            res_delta_band_and_redshift_median.append(np.median(delta_band_and_redshift_sorted_and_split[i],axis=0))\n",
    "            res_delta_std.append(np.array(delta_band_and_redshift_sorted_and_split[i][:,:], dtype=np.float64).std(axis=0))\n",
    "                \n",
    "        res_delta_band_and_redshift=np.array(res_delta_band_and_redshift)\n",
    "        res_delta_band_and_redshift_median=np.array(res_delta_band_and_redshift_median)\n",
    "        res_delta_std=np.array(res_delta_std)\n",
    "\n",
    "                \n",
    "        second_deg_fit=np.poly1d(np.polyfit(res_delta_band_and_redshift[:,1].astype(float), res_delta_band_and_redshift[:,0].astype(float), 2))\n",
    "    \n",
    "        \n",
    "        if (smoothing_method == 'mean'):\n",
    "            # PLotting\n",
    "            matplotlib.rcParams.update({'font.size': 12})\n",
    "            plt.figure(figsize=(18,6))\n",
    "            plt.title('negative $\\Delta$ BAND-band values= fainter in HSC; positive $\\Delta$ BAND-band values= brighter in HSC; DATA ORIGIN UNKNOWN')\n",
    "            plt.errorbar(res_delta_band_and_redshift[:,1], res_delta_band_and_redshift[:,0], yerr=res_delta_std[:,0])\n",
    "            plt.plot(res_delta_band_and_redshift[:,1], second_deg_fit(res_delta_band_and_redshift[:,1].astype(float)), ls='--', color='orange')    \n",
    "            plt.ylabel('$\\Delta$ BAND-band (SDSS - HSC)')\n",
    "            plt.xlabel('redshift')\n",
    "            if (ylim != None):\n",
    "                plt.ylim(ylim[0], ylim[1])\n",
    "            else:\n",
    "                pass\n",
    "            plt.show()\n",
    "        \n",
    "        elif (smoothing_method == 'median'):\n",
    "            # PLotting\n",
    "            matplotlib.rcParams.update({'font.size': 12})\n",
    "            plt.figure(figsize=(18,6))\n",
    "            plt.title('negative $\\Delta$ BAND-band values= fainter in HSC; positive $\\Delta$ BAND-band values= brighter in HSC; DATA ORIGIN UNKNOWN')\n",
    "            plt.errorbar(res_delta_band_and_redshift_median[:,1], res_delta_band_and_redshift_median[:,0], yerr=res_delta_std[:,0])\n",
    "            plt.plot(res_delta_band_and_redshift_median[:,1], second_deg_fit(res_delta_band_and_redshift_median[:,1].astype(float)), ls='--', color='orange')    \n",
    "            plt.ylabel('$\\Delta$ BAND-band (SDSS - HSC)')\n",
    "            plt.xlabel('redshift')\n",
    "            if (ylim != None):\n",
    "                plt.ylim(ylim[0], ylim[1])\n",
    "            else:\n",
    "                pass\n",
    "            plt.show()\n",
    "    \n",
    "\n",
    "    elif (sortby == 'g_mag_SDSS'):\n",
    "\n",
    "        # Add on a row that represents the g_mag in SDSS. We'll sort by this later\n",
    "        delta_band_and_redshift = np.hstack((delta_band_and_redshift, np.reshape(data_array[:, g_mag_SDSS_col], (len(data_array[:]),1)) ))\n",
    "        \n",
    "        \n",
    "        delta_band_and_redshift_sorted_and_split=np.array_split(delta_band_and_redshift[np.argsort(delta_band_and_redshift[:,1])], int(len(delta_band_and_redshift)/obj_per_bin))\n",
    "        \n",
    "        \n",
    "        \n",
    "        # Next we sort each bin by g_mag\n",
    "        for i in range(len(delta_band_and_redshift_sorted_and_split)):\n",
    "            delta_band_and_redshift_sorted_and_split[i] = delta_band_and_redshift_sorted_and_split[i][np.argsort(delta_band_and_redshift_sorted_and_split[i][:, delta_band_and_redshift_sorted_and_split[i].shape[1]-1])]\n",
    "\n",
    "            \n",
    "\n",
    "        res_delta_band_and_redshift = []\n",
    "        res_delta_band_and_redshift_median = []\n",
    "        res_delta_std = []\n",
    "        \n",
    "        if (num_to_choose < 0):\n",
    "            for i in range(len(delta_band_and_redshift_sorted_and_split)):\n",
    "                res_delta_band_and_redshift.append(np.mean(delta_band_and_redshift_sorted_and_split[i][num_to_choose:],axis=0))\n",
    "                res_delta_std.append(np.array(delta_band_and_redshift_sorted_and_split[i][num_to_choose:][:,:], dtype=np.float64).std(axis=0))\n",
    "                res_delta_band_and_redshift_median.append(np.median(delta_band_and_redshift_sorted_and_split[i][num_to_choose:],axis=0))\n",
    "\n",
    "        elif (num_to_choose >= 0):\n",
    "            for i in range(len(delta_band_and_redshift_sorted_and_split)):\n",
    "                res_delta_band_and_redshift.append(np.mean(delta_band_and_redshift_sorted_and_split[i][:num_to_choose],axis=0))\n",
    "                res_delta_band_and_redshift_median.append(np.median(delta_band_and_redshift_sorted_and_split[i][:num_to_choose],axis=0))\n",
    "                res_delta_std.append(np.array(delta_band_and_redshift_sorted_and_split[i][:num_to_choose][:,:], dtype=np.float64).std(axis=0))\n",
    "\n",
    "        else:\n",
    "            # You guessed it, throw an error\n",
    "            pass\n",
    "        \n",
    "        res_delta_band_and_redshift=np.array(res_delta_band_and_redshift)\n",
    "        res_delta_band_and_redshift_median=np.array(res_delta_band_and_redshift_median)\n",
    "        res_delta_std=np.array(res_delta_std)\n",
    "        \n",
    "\n",
    "                \n",
    "        second_deg_fit=np.poly1d(np.polyfit(res_delta_band_and_redshift[:,1].astype(float), res_delta_band_and_redshift[:,0].astype(float), 2))\n",
    "    \n",
    "        \n",
    "        if (smoothing_method == 'mean'):\n",
    "            # PLotting\n",
    "            matplotlib.rcParams.update({'font.size': 12})\n",
    "            plt.figure(figsize=(18,6))\n",
    "            plt.title('negative $\\Delta$ BAND-band values= fainter in HSC; positive $\\Delta$ BAND-band values= brighter in HSC; DATA ORIGIN UNKNOWN')\n",
    "            plt.errorbar(res_delta_band_and_redshift[:,1], res_delta_band_and_redshift[:,0], yerr=res_delta_std[:,0])\n",
    "            plt.plot(res_delta_band_and_redshift[:,1], second_deg_fit(res_delta_band_and_redshift[:,1].astype(float)), ls='--', color='orange')    \n",
    "            plt.ylabel('$\\Delta$ BAND-band (SDSS - HSC)')\n",
    "            plt.xlabel('redshift')\n",
    "            if (ylim != None):\n",
    "                plt.ylim(ylim[0], ylim[1])\n",
    "            else:\n",
    "                pass\n",
    "                \n",
    "            plt.show()\n",
    "        \n",
    "        elif (smoothing_method == 'median'):\n",
    "            # PLotting\n",
    "            matplotlib.rcParams.update({'font.size': 12})\n",
    "            plt.figure(figsize=(18,6))\n",
    "            plt.title('negative $\\Delta$ BAND-band values= fainter in HSC; positive $\\Delta$ BAND-band values= brighter in HSC; DATA ORIGIN UNKNOWN')\n",
    "            plt.errorbar(res_delta_band_and_redshift_median[:,1], res_delta_band_and_redshift_median[:,0], yerr=res_delta_std[:,0])\n",
    "            plt.plot(res_delta_band_and_redshift_median[:,1], second_deg_fit(res_delta_band_and_redshift_median[:,1].astype(float)), ls='--', color='orange')    \n",
    "            plt.ylabel('$\\Delta$ BAND-band (SDSS - HSC)')\n",
    "            plt.xlabel('redshift')\n",
    "            if (ylim != None):\n",
    "                plt.ylim(ylim[0], ylim[1])\n",
    "                plt.xlim(0.1, 0)\n",
    "            else:\n",
    "                pass\n",
    "            plt.show()\n",
    "            \n",
    "\n",
    "    elif (sortby == 'g_mag_HSC'):\n",
    "        \n",
    "        delta_band_and_redshift = np.hstack((delta_band_and_redshift, np.reshape(data_array[:,20], (len(data_array[:]),1)) )) \n",
    "        delta_band_and_redshift_sorted_and_split=np.array_split(delta_band_and_redshift[np.argsort(delta_band_and_redshift[:,1])], int(len(delta_band_and_redshift)/obj_per_bin))\n",
    "        \n",
    "        \n",
    "        \n",
    "        # Next we sort each bin by g_mag\n",
    "        for i in range(len(delta_band_and_redshift_sorted_and_split)):\n",
    "            delta_band_and_redshift_sorted_and_split[i] = delta_band_and_redshift_sorted_and_split[i][np.argsort(delta_band_and_redshift_sorted_and_split[i][:, delta_band_and_redshift_sorted_and_split[i].shape[1]-1])]\n",
    "\n",
    "        res_delta_band_and_redshift = []\n",
    "        res_delta_band_and_redshift_median = []\n",
    "        res_delta_std = []\n",
    "        \n",
    "        if (num_to_choose <= 0):\n",
    "            for i in range(len(delta_band_and_redshift_sorted_and_split)):\n",
    "                res_delta_band_and_redshift.append(np.mean(delta_band_and_redshift_sorted_and_split[i][num_to_choose:],axis=0))\n",
    "                res_delta_band_and_redshift_median.append(np.median(delta_band_and_redshift_sorted_and_split[i][num_to_choose:],axis=0))\n",
    "                res_delta_std.append(np.array(delta_band_and_redshift_sorted_and_split[i][num_to_choose:][:,:], dtype=np.float64).std(axis=0))\n",
    "\n",
    "        elif (num_to_choose >= 0):\n",
    "            for i in range(len(delta_band_and_redshift_sorted_and_split)):\n",
    "                res_delta_band_and_redshift.append(np.mean(delta_band_and_redshift_sorted_and_split[i][:num_to_choose],axis=0))\n",
    "                res_delta_band_and_redshift_median.append(np.median(delta_band_and_redshift_sorted_and_split[i][:num_to_choose],axis=0))\n",
    "                res_delta_std.append(np.array(delta_band_and_redshift_sorted_and_split[i][:num_to_choose][:,:], dtype=np.float64).std(axis=0))\n",
    "\n",
    "        else:\n",
    "            # You guessed it, throw an error\n",
    "            pass\n",
    "        \n",
    "        res_delta_band_and_redshift=np.array(res_delta_band_and_redshift)\n",
    "        res_delta_band_and_redshift_median=np.array(res_delta_band_and_redshift_median)\n",
    "        res_delta_std=np.array(res_delta_std)\n",
    "        \n",
    "\n",
    "                \n",
    "        second_deg_fit=np.poly1d(np.polyfit(res_delta_band_and_redshift[:,1].astype(float), res_delta_band_and_redshift[:,0].astype(float), 2))\n",
    "    \n",
    "        \n",
    "        if (smoothing_method == 'mean'):\n",
    "            # PLotting\n",
    "            matplotlib.rcParams.update({'font.size': 12})\n",
    "            plt.figure(figsize=(18,6))\n",
    "            plt.title('negative $\\Delta$ BAND-band values= fainter in HSC; positive $\\Delta$ BAND-band values= brighter in HSC; DATA ORIGIN UNKNOWN')\n",
    "            plt.errorbar(res_delta_band_and_redshift[:,1], res_delta_band_and_redshift[:,0], yerr=res_delta_std[:,0])\n",
    "            plt.plot(res_delta_band_and_redshift[:,1], second_deg_fit(res_delta_band_and_redshift[:,1].astype(float)), ls='--', color='orange')    \n",
    "            plt.ylabel('$\\Delta$ BAND-band (SDSS - HSC)')\n",
    "            plt.xlabel('redshift')\n",
    "            if (ylim != None):\n",
    "                plt.ylim(ylim[0], ylim[1])\n",
    "                plt.xlim(0.1, 0.35)\n",
    "            else:\n",
    "                pass\n",
    "            plt.show()\n",
    "        \n",
    "        elif (smoothing_method == 'median'):\n",
    "            # PLotting\n",
    "            matplotlib.rcParams.update({'font.size': 12})\n",
    "            plt.figure(figsize=(18,6))\n",
    "            plt.title('negative $\\Delta$ BAND-band values= fainter in HSC; positive $\\Delta$ BAND-band values= brighter in HSC; DATA ORIGIN UNKNOWN')\n",
    "            plt.errorbar(res_delta_band_and_redshift_median[:,1], res_delta_band_and_redshift_median[:,0], yerr=res_delta_std[:,0])\n",
    "            plt.plot(res_delta_band_and_redshift_median[:,1], second_deg_fit(res_delta_band_and_redshift_median[:,1].astype(float)), ls='--', color='orange')    \n",
    "            plt.ylabel('$\\Delta$ BAND-band (SDSS - HSC)')\n",
    "            plt.xlabel('redshift')\n",
    "            if (ylim != None):\n",
    "                plt.ylim(ylim[0], ylim[1])\n",
    "                plt.xlim(0.1, 0.35)\n",
    "            else:\n",
    "                pass\n",
    "            plt.show()\n",
    "    \n",
    "    \n",
    "    else:\n",
    "        \"Throw an error here later\"\n",
    "        pass\n",
    "\n",
    "    return  "
   ]
  },
  {
   "cell_type": "code",
   "execution_count": 30,
   "metadata": {
    "ExecuteTime": {
     "end_time": "2019-07-03T17:21:22.416969Z",
     "start_time": "2019-07-03T17:21:22.139651Z"
    }
   },
   "outputs": [],
   "source": [
    "\"\"\"\n",
    "DRIVER CELL\n",
    "===============\n",
    "data_col needs to be updated for the function to work properly!!\n",
    "delta_g = 4\n",
    "delta_g_cmodel=6\n",
    "delta_r = 10\n",
    "delta_r_cmodel = 12\n",
    "delta_ i = 16\n",
    "delta_i_cmodel = 18\n",
    "\n",
    "\n",
    "PARAMETERS\n",
    "---------------\n",
    "data_array. Where you want to pull information from. \n",
    "data_col. Which column the data is in.\n",
    "obj_per_bin. Self explaintory.\n",
    "sortby. Options are 'redshift', 'delta_band', 'g_mag_HSC', and 'g_mag_SDSS' \n",
    "smoothing_method. Options are 'mean' and 'median'\n",
    "num_to_choose=20. How many objects you want to choose to use from each bin. Only relevant when sorting due to g_band mag. Use a positive number to choose dim objects, negative to choose bright objects.\n",
    "\"\"\"\n",
    "\n",
    "make_graph(new_matched_data_array, data_col=10, obj_per_bin = 100, sortby='g_mag_SDSS', smoothing_method='median', num_to_choose=-20, ylim=(-0.4, 0.2))\n",
    "make_graph(new_matched_data_array, data_col=10, obj_per_bin = 100, sortby='g_mag_SDSS', smoothing_method='mean', num_to_choose=20, ylim=(-0.4, 0.2))"
   ]
  },
  {
   "cell_type": "markdown",
   "metadata": {},
   "source": [
    "## Further plots"
   ]
  },
  {
   "cell_type": "code",
   "execution_count": null,
   "metadata": {
    "ExecuteTime": {
     "end_time": "2019-06-25T15:39:44.245625Z",
     "start_time": "2019-06-25T15:37:33.756Z"
    }
   },
   "outputs": [],
   "source": [
    "np.std(np.array(x[9][:,0]))\n",
    "graphable_data = []\n",
    "for i in range(len(x[9])):\n",
    "    graphable_data.append(x[9][i,0])"
   ]
  },
  {
   "cell_type": "code",
   "execution_count": null,
   "metadata": {
    "ExecuteTime": {
     "end_time": "2019-06-25T15:39:44.247377Z",
     "start_time": "2019-06-25T15:37:34.081Z"
    }
   },
   "outputs": [],
   "source": [
    "plt.hist(graphable_data)\n",
    "plt.axvline(np.mean(graphable_data), color='red')\n",
    "plt.hist(graphable_data[-20:])\n",
    "plt.axvline(np.mean(graphable_data[-20:]), color='cyan')\n",
    "plt.hist(graphable_data[:20])\n",
    "plt.axvline(np.mean(graphable_data[:20]), color='black')\n",
    "plt.show()"
   ]
  },
  {
   "cell_type": "markdown",
   "metadata": {},
   "source": [
    "## Custom order plot"
   ]
  },
  {
   "cell_type": "code",
   "execution_count": 36,
   "metadata": {
    "ExecuteTime": {
     "end_time": "2019-07-03T17:26:19.461443Z",
     "start_time": "2019-07-03T17:26:19.381443Z"
    }
   },
   "outputs": [],
   "source": [
    "def DCSP(data_col=4, smoothing_method='mean', ylim=None, num_to_choose=None):\n",
    "    '''\n",
    "    Graphing function. \n",
    "    Input is new_matched_data_array and your favorite set of parameters.\n",
    "    Output is a graph.\n",
    "    '''\n",
    "    # Set variables\n",
    "    redshift_col = 3\n",
    "    error_col = data_col + 1\n",
    "    g_mag_SDSS_col = 8\n",
    "    obj_per_bin = 100\n",
    "    data_array = new_matched_data_array\n",
    "    \n",
    "    # Failsafe in case the user forgets to select a number of objects per bin.\n",
    "    \n",
    "    # Extract the data that we're going to use.\n",
    "    delta_band_and_redshift = data_array[:, [data_col, redshift_col]]\n",
    "    \n",
    "    # Add on a row that represents the g_mag in SDSS. We'll sort by this later\n",
    "    delta_band_and_redshift = np.hstack((delta_band_and_redshift, np.reshape(data_array[:, g_mag_SDSS_col], (len(data_array[:]),1)) ))\n",
    "\n",
    "\n",
    "    delta_band_and_redshift_sorted_and_split=np.array_split(delta_band_and_redshift[np.argsort(delta_band_and_redshift[:,1])], int(len(delta_band_and_redshift)/obj_per_bin))\n",
    "\n",
    "\n",
    "\n",
    "    # Next we sort each bin by g_mag\n",
    "    for i in range(len(delta_band_and_redshift_sorted_and_split)):\n",
    "        delta_band_and_redshift_sorted_and_split[i] = delta_band_and_redshift_sorted_and_split[i][np.argsort(delta_band_and_redshift_sorted_and_split[i][:, delta_band_and_redshift_sorted_and_split[i].shape[1]-1])]\n",
    "\n",
    "    \n",
    "    \n",
    "    res_delta_band_and_redshift_0_20 = []\n",
    "    res_delta_band_and_redshift_20_40 = []\n",
    "    res_delta_band_and_redshift_40_60 = []\n",
    "    res_delta_band_and_redshift_60_80 = []\n",
    "    res_delta_band_and_redshift_80_100 = []\n",
    "    res_delta_band_and_redshift_all = []\n",
    "\n",
    "    res_delta_band_and_redshift_0_20_med = []\n",
    "    res_delta_band_and_redshift_20_40_med = []\n",
    "    res_delta_band_and_redshift_40_60_med = []\n",
    "    res_delta_band_and_redshift_60_80_med = []\n",
    "    res_delta_band_and_redshift_80_100_med = []\n",
    "    res_delta_band_and_redshift_all_med = []\n",
    "    \n",
    "    res_delta_std_all = []\n",
    "    \n",
    "    for i in range(len(delta_band_and_redshift_sorted_and_split)):\n",
    "        res_delta_band_and_redshift_0_20.append(np.mean(delta_band_and_redshift_sorted_and_split[i][:20],axis=0))\n",
    "        res_delta_band_and_redshift_20_40.append(np.mean(delta_band_and_redshift_sorted_and_split[i][20:40],axis=0))\n",
    "        res_delta_band_and_redshift_40_60.append(np.mean(delta_band_and_redshift_sorted_and_split[i][40:60],axis=0))\n",
    "        res_delta_band_and_redshift_60_80.append(np.mean(delta_band_and_redshift_sorted_and_split[i][60:80],axis=0))\n",
    "        res_delta_band_and_redshift_80_100.append(np.mean(delta_band_and_redshift_sorted_and_split[i][80:100],axis=0))\n",
    "        res_delta_band_and_redshift_all.append(np.mean(delta_band_and_redshift_sorted_and_split[i],axis=0))\n",
    "        \n",
    "        res_delta_band_and_redshift_0_20_med.append(np.median(delta_band_and_redshift_sorted_and_split[i][:20],axis=0))\n",
    "        res_delta_band_and_redshift_20_40_med.append(np.median(delta_band_and_redshift_sorted_and_split[i][20:40],axis=0))\n",
    "        res_delta_band_and_redshift_40_60_med.append(np.median(delta_band_and_redshift_sorted_and_split[i][40:60],axis=0))\n",
    "        res_delta_band_and_redshift_60_80_med.append(np.median(delta_band_and_redshift_sorted_and_split[i][60:80],axis=0))\n",
    "        res_delta_band_and_redshift_80_100_med.append(np.median(delta_band_and_redshift_sorted_and_split[i][80:100],axis=0))\n",
    "        res_delta_band_and_redshift_all_med.append(np.median(delta_band_and_redshift_sorted_and_split[i],axis=0))\n",
    "\n",
    "        res_delta_std_all.append(np.array(delta_band_and_redshift_sorted_and_split[i][:,:], dtype=np.float64).std(axis=0))\n",
    "        \n",
    "    else:\n",
    "        # You guessed it, throw an error\n",
    "        pass\n",
    "\n",
    "    res_delta_band_and_redshift_0_20 = np.array(res_delta_band_and_redshift_0_20)\n",
    "    res_delta_band_and_redshift_20_40 = np.array(res_delta_band_and_redshift_20_40)\n",
    "    res_delta_band_and_redshift_40_60 = np.array(res_delta_band_and_redshift_40_60)\n",
    "    res_delta_band_and_redshift_60_80 = np.array(res_delta_band_and_redshift_60_80)\n",
    "    res_delta_band_and_redshift_80_100 = np.array(res_delta_band_and_redshift_80_100)\n",
    "    res_delta_band_and_redshift_all = np.array(res_delta_band_and_redshift_all)\n",
    "\n",
    "    res_delta_band_and_redshift_0_20_med = np.array(res_delta_band_and_redshift_0_20_med)\n",
    "    res_delta_band_and_redshift_20_40_med = np.array(res_delta_band_and_redshift_20_40_med)\n",
    "    res_delta_band_and_redshift_40_60_med = np.array(res_delta_band_and_redshift_40_60_med)\n",
    "    res_delta_band_and_redshift_60_80_med = np.array(res_delta_band_and_redshift_60_80_med)\n",
    "    res_delta_band_and_redshift_80_100_med = np.array(res_delta_band_and_redshift_80_100_med)\n",
    "    res_delta_band_and_redshift_all_med = np.array(res_delta_band_and_redshift_all_med)\n",
    "    \n",
    "    res_delta_std_all = np.array(res_delta_std_all)\n",
    "\n",
    "    second_deg_fit_0_20 = np.poly1d(np.polyfit(res_delta_band_and_redshift_0_20[:,1].astype(float), res_delta_band_and_redshift_0_20[:, 0].astype(float), 2))\n",
    "    second_deg_fit_20_40 = np.poly1d(np.polyfit(res_delta_band_and_redshift_20_40[:,1].astype(float), res_delta_band_and_redshift_20_40[:, 0].astype(float), 2))\n",
    "    second_deg_fit_40_60 = np.poly1d(np.polyfit(res_delta_band_and_redshift_40_60[:,1].astype(float), res_delta_band_and_redshift_40_60[:, 0].astype(float), 2))\n",
    "    second_deg_fit_60_80 = np.poly1d(np.polyfit(res_delta_band_and_redshift_60_80[:,1].astype(float), res_delta_band_and_redshift_60_80[:, 0].astype(float), 2))\n",
    "    second_deg_fit_80_100 = np.poly1d(np.polyfit(res_delta_band_and_redshift_80_100[:,1].astype(float), res_delta_band_and_redshift_80_100[:, 0].astype(float), 2))\n",
    "    \n",
    "    second_deg_fit_0_20_med = np.poly1d(np.polyfit(res_delta_band_and_redshift_0_20_med[:,1].astype(float), res_delta_band_and_redshift_0_20_med[:, 0].astype(float), 2))\n",
    "    second_deg_fit_20_40_med = np.poly1d(np.polyfit(res_delta_band_and_redshift_20_40_med[:,1].astype(float), res_delta_band_and_redshift_20_40_med[:, 0].astype(float), 2))\n",
    "    second_deg_fit_40_60_med = np.poly1d(np.polyfit(res_delta_band_and_redshift_40_60_med[:,1].astype(float), res_delta_band_and_redshift_40_60_med[:, 0].astype(float), 2))\n",
    "    second_deg_fit_60_80_med = np.poly1d(np.polyfit(res_delta_band_and_redshift_60_80_med[:,1].astype(float), res_delta_band_and_redshift_60_80_med[:, 0].astype(float), 2))\n",
    "    second_deg_fit_80_100_med = np.poly1d(np.polyfit(res_delta_band_and_redshift_80_100_med[:,1].astype(float), res_delta_band_and_redshift_80_100_med[:, 0].astype(float), 2))\n",
    "\n",
    "\n",
    "    if (smoothing_method == 'mean'):\n",
    "        # PLotting\n",
    "        matplotlib.rcParams.update({'font.size': 12})\n",
    "        plt.figure(figsize=(18,6))\n",
    "        plt.title('negative $\\Delta$ BAND-band values= fainter in HSC; positive $\\Delta$ BAND-band values= brighter in HSC')\n",
    "        plt.errorbar(res_delta_band_and_redshift_all[:,1], res_delta_band_and_redshift_all[:,0], yerr=res_delta_std_all[:,0], color='grey', alpha=.5)\n",
    "        plt.plot(res_delta_band_and_redshift_all[:,1], second_deg_fit_80_100(res_delta_band_and_redshift_80_100[:,1].astype(float)), ls='--', color='blue', label='Brightest')\n",
    "        plt.plot(res_delta_band_and_redshift_all[:,1], second_deg_fit_60_80(res_delta_band_and_redshift_60_80[:,1].astype(float)), ls='--', color='green', label='Brighter')\n",
    "        plt.plot(res_delta_band_and_redshift_all[:,1], second_deg_fit_40_60(res_delta_band_and_redshift_40_60[:,1].astype(float)), ls='--', color='brown', label='Average')\n",
    "        plt.plot(res_delta_band_and_redshift_all[:,1], second_deg_fit_20_40(res_delta_band_and_redshift_20_40[:,1].astype(float)), ls='--', color='orange', label='Dimmer')\n",
    "        plt.plot(res_delta_band_and_redshift_all[:,1], second_deg_fit_0_20(res_delta_band_and_redshift_0_20[:,1].astype(float)), ls='--', color='red', label='Dimmest')        \n",
    "        plt.ylabel('$\\Delta$ BAND-band (SDSS - HSC)')\n",
    "        plt.xlabel('redshift')\n",
    "        if (ylim != None):\n",
    "            plt.ylim(ylim[0], ylim[1])\n",
    "            plt.xlim(0.1, 4)\n",
    "        plt.legend()\n",
    "        plt.show()\n",
    "\n",
    "    elif (smoothing_method == 'median'):\n",
    "        # PLotting\n",
    "        matplotlib.rcParams.update({'font.size': 12})\n",
    "        plt.figure(figsize=(18,6))\n",
    "        plt.title('negative $\\Delta$ BAND-band values= fainter in HSC; positive $\\Delta$ BAND-band values= brighter in HSC')\n",
    "        plt.errorbar(res_delta_band_and_redshift_all_med[:,1], res_delta_band_and_redshift_all_med[:,0], yerr=res_delta_std_all[:,0], color='grey', alpha=.5)\n",
    "        plt.plot(res_delta_band_and_redshift_all_med[:,1], second_deg_fit_80_100(res_delta_band_and_redshift_80_100_med[:,1].astype(float)), ls='--', color='blue', label='Brightest')\n",
    "        plt.plot(res_delta_band_and_redshift_all_med[:,1], second_deg_fit_60_80(res_delta_band_and_redshift_60_80_med[:,1].astype(float)), ls='--', color='green', label='Brighter')\n",
    "        plt.plot(res_delta_band_and_redshift_all_med[:,1], second_deg_fit_40_60(res_delta_band_and_redshift_40_60_med[:,1].astype(float)), ls='--', color='brown', label='Average')\n",
    "        plt.plot(res_delta_band_and_redshift_all_med[:,1], second_deg_fit_20_40(res_delta_band_and_redshift_20_40_med[:,1].astype(float)), ls='--', color='orange', label='Dimmer')\n",
    "        plt.plot(res_delta_band_and_redshift_all_med[:,1], second_deg_fit_0_20(res_delta_band_and_redshift_0_20_med[:,1].astype(float)), ls='--', color='red', label='Dimmest')           \n",
    "        plt.ylabel('$\\Delta$ BAND-band (SDSS - HSC)')\n",
    "        plt.xlabel('redshift')\n",
    "        if (ylim != None):\n",
    "            plt.ylim(ylim[0], ylim[1])\n",
    "        else:\n",
    "            pass\n",
    "        plt.legend()\n",
    "        plt.show()\n",
    "    pass"
   ]
  },
  {
   "cell_type": "code",
   "execution_count": 37,
   "metadata": {
    "ExecuteTime": {
     "end_time": "2019-07-03T17:26:20.346374Z",
     "start_time": "2019-07-03T17:26:20.159001Z"
    }
   },
   "outputs": [],
   "source": [
    "# Test cell\n",
    "\n",
    "DCSP(data_col=4, smoothing_method='median', ylim=(-.4, .4), num_to_choose=100)\n",
    "#DCSP(data_col=18, smoothing_method='mean', ylim=(-.4,.4), num_to_choose=100)"
   ]
  },
  {
   "cell_type": "markdown",
   "metadata": {
    "heading_collapsed": true
   },
   "source": [
    "## redshift effect "
   ]
  },
  {
   "cell_type": "code",
   "execution_count": null,
   "metadata": {
    "ExecuteTime": {
     "end_time": "2019-06-25T15:39:44.253798Z",
     "start_time": "2019-06-25T15:37:35.562Z"
    },
    "hidden": true
   },
   "outputs": [],
   "source": [
    "# array with has delta g as the first column, redshift as the second column\n",
    "delta_g_and_redshift=matched_array_filtered_with_g_mag_dif_and_err[:,[4,3]]\n",
    "delta_g_and_redshift_sorted_by_delta_g_and_split=np.array_split(delta_g_and_redshift[np.argsort(delta_g_and_redshift[:,0])],int(len(delta_g_and_redshift)/100))\n",
    "\n",
    "# array with has delta r as the first column, redshift as the second column\n",
    "delta_r_and_redshift=matched_array_filtered_with_r_mag_dif_and_err[:,[6,3]]\n",
    "\n",
    "# array with has delta i as the first column, redshift as the second column\n",
    "delta_i_and_redshift=matched_array_filtered_with_i_mag_dif_and_err[:,[8,3]]\n",
    "\n",
    "\n",
    "# array with has delta gcmodel as the first column, redshift as the second column\n",
    "delta_gcmodel_and_redshift=matched_array_filtered_with_gcmodel_mag_dif_and_err[:,[4,3]]\n",
    "\n",
    "# array with has delta rcmodel as the first column, redshift as the second column\n",
    "delta_rcmodel_and_redshift=matched_array_filtered_with_rcmodel_mag_dif_and_err[:,[6,3]]\n",
    "\n",
    "# array with has delta icmodel as the first column, redshift as the second column\n",
    "delta_icmodel_and_redshift=matched_array_filtered_with_icmodel_mag_dif_and_err[:,[8,3]]"
   ]
  },
  {
   "cell_type": "code",
   "execution_count": null,
   "metadata": {
    "ExecuteTime": {
     "end_time": "2019-06-25T15:39:44.256903Z",
     "start_time": "2019-06-25T15:37:36.074Z"
    },
    "hidden": true
   },
   "outputs": [],
   "source": [
    "# previous array (g), sorted by delta g first and then split in bins, 100 objects in each bin\n",
    "delta_g_and_redshift_sorted_by_delta_g_and_split=np.array_split(delta_g_and_redshift[np.argsort(delta_g_and_redshift[:,0])],int(len(delta_g_and_redshift)/100))\n",
    "# previous array (g), sorted by redshift first and then split in bins, 100 objects in each bin\n",
    "delta_g_and_redshift_sorted_by_redshift_g_and_split=np.array_split(delta_g_and_redshift[np.argsort(delta_g_and_redshift[:,1])],int(len(delta_g_and_redshift)/100))\n",
    "\n",
    "# previous array (r), sorted by delta r first and then split in bins, 10 objects in each bin\n",
    "delta_r_and_redshift_sorted_by_delta_r_and_split=np.array_split(delta_r_and_redshift[np.argsort(delta_r_and_redshift[:,0])],int(len(delta_r_and_redshift)/10))\n",
    "# previous array (r), sorted by redshift first and then split in bins, 10 objects in each bin\n",
    "delta_r_and_redshift_sorted_by_redshift_r_and_split=np.array_split(delta_r_and_redshift[np.argsort(delta_r_and_redshift[:,1])],int(len(delta_r_and_redshift)/10))\n",
    "\n",
    "# previous array (i), sorted by delta i first and then split in bins, 10 objects in each bin\n",
    "delta_i_and_redshift_sorted_by_delta_i_and_split=np.array_split(delta_i_and_redshift[np.argsort(delta_i_and_redshift[:,0])],int(len(delta_i_and_redshift)/10))\n",
    "# previous array (i), sorted by redshift first and then split in bins, 10 objects in each bin\n",
    "delta_i_and_redshift_sorted_by_redshift_i_and_split=np.array_split(delta_i_and_redshift[np.argsort(delta_i_and_redshift[:,1])],int(len(delta_i_and_redshift)/10))\n",
    "\n",
    "\n",
    "\n",
    "# previous array (gcmodel), sorted by delta gmodel first and then split in bins, 10 objects in each bin\n",
    "delta_gcmodel_and_redshift_sorted_by_delta_gcmodel_and_split=np.array_split(delta_gcmodel_and_redshift[np.argsort(delta_gcmodel_and_redshift[:,0])],int(len(delta_gcmodel_and_redshift)/10))\n",
    "# previous array (gcmodel), sorted by redshift first and then split in bins, 10 objects in each bin\n",
    "delta_gcmodel_and_redshift_sorted_by_redshift_gcmodel_and_split=np.array_split(delta_gcmodel_and_redshift[np.argsort(delta_gcmodel_and_redshift[:,1])],int(len(delta_gcmodel_and_redshift)/10))\n",
    "\n",
    "# previous array (rcmodel), sorted by delta rcmodel first and then split in bins, 10 objects in each bin\n",
    "delta_rcmodel_and_redshift_sorted_by_delta_rcmodel_and_split=np.array_split(delta_rcmodel_and_redshift[np.argsort(delta_rcmodel_and_redshift[:,0])],int(len(delta_rcmodel_and_redshift)/10))\n",
    "# previous array (rcmodel), sorted by redshift first and then split in bins, 10 objects in each bin\n",
    "delta_rcmodel_and_redshift_sorted_by_redshift_rcmodel_and_split=np.array_split(delta_rcmodel_and_redshift[np.argsort(delta_rcmodel_and_redshift[:,1])],int(len(delta_rcmodel_and_redshift)/10))\n",
    "\n",
    "# previous array (icmodel), sorted by delta icmodel first and then split in bins, 10 objects in each bin\n",
    "delta_icmodel_and_redshift_sorted_by_delta_icmodel_and_split=np.array_split(delta_icmodel_and_redshift[np.argsort(delta_icmodel_and_redshift[:,0])],int(len(delta_icmodel_and_redshift)/10))\n",
    "# previous array (icmodel), sorted by redshift first and then split in bins, 10 objects in each bin\n",
    "delta_icmodel_and_redshift_sorted_by_redshift_icmodel_and_split=np.array_split(delta_icmodel_and_redshift[np.argsort(delta_icmodel_and_redshift[:,1])],int(len(delta_icmodel_and_redshift)/10))"
   ]
  },
  {
   "cell_type": "code",
   "execution_count": null,
   "metadata": {
    "ExecuteTime": {
     "end_time": "2019-06-25T15:39:44.259455Z",
     "start_time": "2019-06-25T15:37:36.284Z"
    },
    "hidden": true
   },
   "outputs": [],
   "source": [
    "# Smoothing the R-band data\n",
    "res_delta_redshift_via_delta_r=[]\n",
    "res_delta_redshift_via_delta_median_r=[]\n",
    "for i in range(len(delta_r_and_redshift_sorted_by_delta_r_and_split)):\n",
    "    res_delta_redshift_via_delta_r.append(np.mean(delta_r_and_redshift_sorted_by_delta_r_and_split[i],axis=0))\n",
    "    res_delta_redshift_via_delta_median_r.append(np.median(delta_r_and_redshift_sorted_by_delta_r_and_split[i],axis=0))\n",
    "    \n",
    "res_delta_redshift_via_delta_r=np.array(res_delta_redshift_via_delta_r)\n",
    "res_delta_redshift_via_delta_median_r=np.array(res_delta_redshift_via_delta_median_r)\n",
    "\n",
    "res_delta_redshift_via_redshift_r=[]\n",
    "res_delta_redshift_via_redshift_median_r=[]\n",
    "for i in range(len(delta_r_and_redshift_sorted_by_redshift_r_and_split)):\n",
    "    res_delta_redshift_via_redshift_r.append(np.mean(delta_r_and_redshift_sorted_by_redshift_r_and_split[i],axis=0))\n",
    "    res_delta_redshift_via_redshift_median_r.append(np.median(delta_r_and_redshift_sorted_by_redshift_r_and_split[i],axis=0))\n",
    "    \n",
    "res_delta_redshift_via_redshift_r=np.array(res_delta_redshift_via_redshift_r)\n",
    "res_delta_redshift_via_redshift_median_r=np.array(res_delta_redshift_via_redshift_median_r)\n",
    "\n",
    "# Smoothing the I-band data\n",
    "res_delta_redshift_via_delta_i=[]\n",
    "res_delta_redshift_via_delta_median_i=[]\n",
    "for i in range(len(delta_i_and_redshift_sorted_by_delta_i_and_split)):\n",
    "    res_delta_redshift_via_delta_i.append(np.mean(delta_i_and_redshift_sorted_by_delta_i_and_split[i],axis=0))\n",
    "    res_delta_redshift_via_delta_median_i.append(np.median(delta_i_and_redshift_sorted_by_delta_i_and_split[i],axis=0))\n",
    "    \n",
    "res_delta_redshift_via_delta_i=np.array(res_delta_redshift_via_delta_i)\n",
    "res_delta_redshift_via_delta_median_i=np.array(res_delta_redshift_via_delta_median_i)\n",
    "\n",
    "res_delta_redshift_via_redshift_i=[]\n",
    "res_delta_redshift_via_redshift_median_i=[]\n",
    "for i in range(len(delta_i_and_redshift_sorted_by_redshift_i_and_split)):\n",
    "    res_delta_redshift_via_redshift_i.append(np.mean(delta_i_and_redshift_sorted_by_redshift_i_and_split[i],axis=0))\n",
    "    res_delta_redshift_via_redshift_median_i.append(np.median(delta_i_and_redshift_sorted_by_redshift_i_and_split[i],axis=0))\n",
    "    \n",
    "res_delta_redshift_via_redshift_i=np.array(res_delta_redshift_via_redshift_i)\n",
    "res_delta_redshift_via_redshift_median_i=np.array(res_delta_redshift_via_redshift_median_i)\n",
    "\n",
    "# Smoothing the G-band data\n",
    "res_delta_redshift_via_delta=[]\n",
    "res_delta_redshift_via_delta_median=[]\n",
    "for i in range(len(delta_g_and_redshift_sorted_by_delta_g_and_split)):\n",
    "    res_delta_redshift_via_delta.append(np.mean(delta_g_and_redshift_sorted_by_delta_g_and_split[i],axis=0))\n",
    "    res_delta_redshift_via_delta_median.append(np.median(delta_g_and_redshift_sorted_by_delta_g_and_split[i],axis=0))\n",
    "    \n",
    "res_delta_redshift_via_delta=np.array(res_delta_redshift_via_delta)\n",
    "res_delta_redshift_via_delta_median=np.array(res_delta_redshift_via_delta_median)\n",
    "\n",
    "res_delta_redshift_via_redshift=[]\n",
    "res_delta_redshift_via_redshift_median=[]\n",
    "for i in range(len(delta_g_and_redshift_sorted_by_redshift_g_and_split)):\n",
    "    res_delta_redshift_via_redshift.append(np.mean(delta_g_and_redshift_sorted_by_redshift_g_and_split[i],axis=0))\n",
    "    res_delta_redshift_via_redshift_median.append(np.median(delta_g_and_redshift_sorted_by_redshift_g_and_split[i],axis=0))\n",
    "    \n",
    "res_delta_redshift_via_redshift=np.array(res_delta_redshift_via_redshift)\n",
    "res_delta_redshift_via_redshift_median=np.array(res_delta_redshift_via_redshift_median)\n",
    "\n",
    "\n",
    "# Further smoothing. We choose, out of the 100 objects in each bin, the brightest 20 and the dimmest 20.\n",
    "# res_delta_redshift_via_redshift_min=[]\n",
    "# res_delta_redshift_via_redshift_max=[]\n",
    "# for i in range(len(delta_g_and_redshift_sorted_by_redshift_g_and_split)):\n",
    "#     res_delta_redshift_via_redshift_min.append(delta_g_and_redshift_sorted_by_redshift_g_and_split[i].astype(float).sort()[-20:])\n",
    "#     res_delta_redshift_via_redshift_max.append(delta_g_and_redshift_sorted_by_redshift_g_and_split[i].sort()[:20])"
   ]
  },
  {
   "cell_type": "code",
   "execution_count": null,
   "metadata": {
    "ExecuteTime": {
     "end_time": "2019-06-25T15:39:44.261695Z",
     "start_time": "2019-06-25T15:37:36.787Z"
    },
    "hidden": true
   },
   "outputs": [],
   "source": [
    "# Same thing, but for the cmodel data.\n",
    "res_delta_redshift_via_delta_rcmodel=[]\n",
    "res_delta_redshift_via_delta_median_rcmodel=[]\n",
    "for i in range(len(delta_rcmodel_and_redshift_sorted_by_delta_rcmodel_and_split)):\n",
    "    res_delta_redshift_via_delta_rcmodel.append(np.mean(delta_rcmodel_and_redshift_sorted_by_delta_rcmodel_and_split[i],axis=0))\n",
    "    res_delta_redshift_via_delta_median_rcmodel.append(np.median(delta_rcmodel_and_redshift_sorted_by_delta_rcmodel_and_split[i],axis=0))\n",
    "    \n",
    "res_delta_redshift_via_delta_rcmodel=np.array(res_delta_redshift_via_delta_rcmodel)\n",
    "res_delta_redshift_via_delta_median_rcmodel=np.array(res_delta_redshift_via_delta_median_rcmodel)\n",
    "\n",
    "res_delta_redshift_via_redshift_rcmodel=[]\n",
    "res_delta_redshift_via_redshift_median_rcmodel=[]\n",
    "for i in range(len(delta_rcmodel_and_redshift_sorted_by_redshift_rcmodel_and_split)):\n",
    "    res_delta_redshift_via_redshift_rcmodel.append(np.mean(delta_rcmodel_and_redshift_sorted_by_redshift_rcmodel_and_split[i],axis=0))\n",
    "    res_delta_redshift_via_redshift_median_rcmodel.append(np.median(delta_rcmodel_and_redshift_sorted_by_redshift_rcmodel_and_split[i],axis=0))\n",
    "    \n",
    "res_delta_redshift_via_redshift_rcmodel=np.array(res_delta_redshift_via_redshift_rcmodel)\n",
    "res_delta_redshift_via_redshift_median_rcmodel=np.array(res_delta_redshift_via_redshift_median_rcmodel)\n",
    "\n",
    "res_delta_redshift_via_delta_icmodel=[]\n",
    "res_delta_redshift_via_delta_median_icmodel=[]\n",
    "for i in range(len(delta_icmodel_and_redshift_sorted_by_delta_icmodel_and_split)):\n",
    "    res_delta_redshift_via_delta_icmodel.append(np.mean(delta_icmodel_and_redshift_sorted_by_delta_icmodel_and_split[i],axis=0))\n",
    "    res_delta_redshift_via_delta_median_icmodel.append(np.median(delta_icmodel_and_redshift_sorted_by_delta_icmodel_and_split[i],axis=0))\n",
    "    \n",
    "res_delta_redshift_via_delta_icmodel=np.array(res_delta_redshift_via_delta_icmodel)\n",
    "res_delta_redshift_via_delta_median_icmodel=np.array(res_delta_redshift_via_delta_median_icmodel)\n",
    "\n",
    "res_delta_redshift_via_redshift_icmodel=[]\n",
    "res_delta_redshift_via_redshift_median_icmodel=[]\n",
    "for i in range(len(delta_icmodel_and_redshift_sorted_by_redshift_icmodel_and_split)):\n",
    "    res_delta_redshift_via_redshift_icmodel.append(np.mean(delta_icmodel_and_redshift_sorted_by_redshift_icmodel_and_split[i],axis=0))\n",
    "    res_delta_redshift_via_redshift_median_icmodel.append(np.median(delta_icmodel_and_redshift_sorted_by_redshift_icmodel_and_split[i],axis=0))\n",
    "    \n",
    "res_delta_redshift_via_redshift_icmodel=np.array(res_delta_redshift_via_redshift_icmodel)\n",
    "res_delta_redshift_via_redshift_median_icmodel=np.array(res_delta_redshift_via_redshift_median_icmodel)\n",
    "\n",
    "res_delta_redshift_via_delta_gcmodel=[]\n",
    "res_delta_redshift_via_delta_median_gcmodel=[]\n",
    "for i in range(len(delta_gcmodel_and_redshift_sorted_by_delta_gcmodel_and_split)):\n",
    "    res_delta_redshift_via_delta_gcmodel.append(np.mean(delta_gcmodel_and_redshift_sorted_by_delta_gcmodel_and_split[i],axis=0))\n",
    "    res_delta_redshift_via_delta_median_gcmodel.append(np.median(delta_gcmodel_and_redshift_sorted_by_delta_gcmodel_and_split[i],axis=0))\n",
    "    \n",
    "res_delta_redshift_via_delta_gcmodel=np.array(res_delta_redshift_via_delta_gcmodel)\n",
    "res_delta_redshift_via_delta_median_gcmodel=np.array(res_delta_redshift_via_delta_median_gcmodel)\n",
    "\n",
    "res_delta_redshift_via_redshift_gcmodel=[]\n",
    "res_delta_redshift_via_redshift_median_gcmodel=[]\n",
    "for i in range(len(delta_gcmodel_and_redshift_sorted_by_redshift_gcmodel_and_split)):\n",
    "    res_delta_redshift_via_redshift_gcmodel.append(np.mean(delta_gcmodel_and_redshift_sorted_by_redshift_gcmodel_and_split[i],axis=0))\n",
    "    res_delta_redshift_via_redshift_median_gcmodel.append(np.median(delta_gcmodel_and_redshift_sorted_by_redshift_gcmodel_and_split[i],axis=0))\n",
    "    \n",
    "res_delta_redshift_via_redshift_gcmodel=np.array(res_delta_redshift_via_redshift_gcmodel)\n",
    "res_delta_redshift_via_redshift_median_gcmodel=np.array(res_delta_redshift_via_redshift_median_gcmodel)"
   ]
  },
  {
   "cell_type": "code",
   "execution_count": null,
   "metadata": {
    "ExecuteTime": {
     "end_time": "2019-06-25T15:39:44.263611Z",
     "start_time": "2019-06-25T15:37:37.002Z"
    },
    "hidden": true
   },
   "outputs": [],
   "source": [
    "p20_g=np.poly1d(np.polyfit(res_delta_redshift_via_redshift[:,1].astype(float),res_delta_redshift_via_redshift[:,0].astype(float),2))\n",
    "p20_r=np.poly1d(np.polyfit(res_delta_redshift_via_redshift_r[:,1].astype(float),res_delta_redshift_via_redshift_r[:,0].astype(float),2))\n",
    "p20_i=np.poly1d(np.polyfit(res_delta_redshift_via_redshift_i[:,1].astype(float),res_delta_redshift_via_redshift_i[:,0].astype(float),2))\n",
    "\n",
    "p20_gcmodel=np.poly1d(np.polyfit(res_delta_redshift_via_redshift_gcmodel[:,1].astype(float),res_delta_redshift_via_redshift_gcmodel[:,0].astype(float),2))\n",
    "p20_rcmodel=np.poly1d(np.polyfit(res_delta_redshift_via_redshift_rcmodel[:,1].astype(float),res_delta_redshift_via_redshift_rcmodel[:,0].astype(float),2))\n",
    "p20_icmodel=np.poly1d(np.polyfit(res_delta_redshift_via_redshift_icmodel[:,1].astype(float),res_delta_redshift_via_redshift_icmodel[:,0].astype(float),2))"
   ]
  },
  {
   "cell_type": "markdown",
   "metadata": {
    "heading_collapsed": true
   },
   "source": [
    "# Plots"
   ]
  },
  {
   "cell_type": "markdown",
   "metadata": {
    "heading_collapsed": true,
    "hidden": true
   },
   "source": [
    "## Change in luminosity as a function of redshift. HSC data is from psf model."
   ]
  },
  {
   "cell_type": "code",
   "execution_count": null,
   "metadata": {
    "ExecuteTime": {
     "end_time": "2019-06-25T15:39:44.265945Z",
     "start_time": "2019-06-25T15:37:38.412Z"
    },
    "hidden": true
   },
   "outputs": [],
   "source": [
    "# below we are seeing, most probably, difference between SDSS and HSC filters \n",
    "matplotlib.rcParams.update({'font.size': 12})\n",
    "plt.figure(figsize=(18,6))\n",
    "plt.subplot(121)\n",
    "plt.suptitle('negative $\\Delta$ g-band values= fainter in HSC; positive $\\Delta$ g-band values= brighter in HSC; Both data from psf')\n",
    "plt.plot(res_delta_redshift_via_delta[:,0],res_delta_redshift_via_delta[:,1])\n",
    "#plt.plot(res_delta_redshift_via_delta_median[:,0],res_delta_redshift_via_delta_median[:,1],alpha=0.2)\n",
    "plt.xlabel('$\\Delta$ g-band (SDSS - HSC)')\n",
    "plt.ylabel('redshift')\n",
    "plt.subplot(122)\n",
    "plt.plot(res_delta_redshift_via_redshift[:,1],res_delta_redshift_via_redshift[:,0])\n",
    "plt.plot(res_delta_redshift_via_redshift[:,1],p20_g(res_delta_redshift_via_redshift[:,1].astype(float)),ls='--',color='orange')\n",
    "#plt.plot(res_delta_redshift_via_redshift_median[:,1],res_delta_redshift_via_redshift_median[:,0],alpha=0.2)\n",
    "plt.ylabel('$\\Delta$ g-band (SDSS - HSC)')\n",
    "plt.xlabel('redshift')\n",
    "plt.show()"
   ]
  },
  {
   "cell_type": "code",
   "execution_count": null,
   "metadata": {
    "ExecuteTime": {
     "end_time": "2019-06-25T15:39:44.268884Z",
     "start_time": "2019-06-25T15:37:38.862Z"
    },
    "hidden": true
   },
   "outputs": [],
   "source": [
    "matplotlib.rcParams.update({'font.size': 12})\n",
    "plt.figure(figsize=(18,6))\n",
    "plt.subplot(121)\n",
    "plt.suptitle('negative $\\Delta$ r-band values= fainter in HSC; positive $\\Delta$ r-band values= brighter in HSC; Both data from psf')\n",
    "plt.plot(res_delta_redshift_via_delta_r[:,0],res_delta_redshift_via_delta_r[:,1])\n",
    "#plt.plot(res_delta_redshift_via_delta_median[:,0],res_delta_redshift_via_delta_median[:,1],alpha=0.2)\n",
    "plt.xlabel('$\\Delta$ g-band (SDSS - HSC)')\n",
    "plt.ylabel('redshift')\n",
    "plt.subplot(122)\n",
    "plt.plot(res_delta_redshift_via_redshift_r[:,1],res_delta_redshift_via_redshift_r[:,0])\n",
    "plt.plot(res_delta_redshift_via_redshift_r[:,1],p20_r(res_delta_redshift_via_redshift_r[:,1]),ls='--',color='orange')\n",
    "#plt.plot(res_delta_redshift_via_redshift_median[:,1],res_delta_redshift_via_redshift_median[:,0],alpha=0.2)\n",
    "plt.ylabel('$\\Delta$ g-band (SDSS - HSC)')\n",
    "plt.xlabel('redshift')\n",
    "plt.show()"
   ]
  },
  {
   "cell_type": "code",
   "execution_count": null,
   "metadata": {
    "ExecuteTime": {
     "end_time": "2019-06-25T15:39:44.270882Z",
     "start_time": "2019-06-25T15:37:39.112Z"
    },
    "hidden": true
   },
   "outputs": [],
   "source": [
    "matplotlib.rcParams.update({'font.size': 12})\n",
    "plt.figure(figsize=(18,6))\n",
    "plt.subplot(121)\n",
    "plt.suptitle('negative $\\Delta$ i-band values= fainter in HSC; positive $\\Delta$ i-band values= brighter in HSC; Both data from psf')\n",
    "plt.plot(res_delta_redshift_via_delta_i[:,0],res_delta_redshift_via_delta_i[:,1])\n",
    "#plt.plot(res_delta_redshift_via_delta_median[:,0],res_delta_redshift_via_delta_median[:,1],alpha=0.2)\n",
    "plt.xlabel('$\\Delta$ i-band (SDSS - HSC)')\n",
    "plt.ylabel('redshift')\n",
    "plt.subplot(122)\n",
    "plt.plot(res_delta_redshift_via_redshift_i[:,1],res_delta_redshift_via_redshift_i[:,0])\n",
    "plt.plot(res_delta_redshift_via_redshift_i[:,1],p20_i(res_delta_redshift_via_redshift_i[:,1]),ls='--',color='orange')\n",
    "#plt.plot(res_delta_redshift_via_redshift_median[:,1],res_delta_redshift_via_redshift_median[:,0],alpha=0.2)\n",
    "plt.ylabel('$\\Delta$ i-band (SDSS - HSC)')\n",
    "plt.xlabel('redshift')\n",
    "plt.show()"
   ]
  },
  {
   "cell_type": "markdown",
   "metadata": {
    "heading_collapsed": true,
    "hidden": true
   },
   "source": [
    "## Change in luminosity as a function of redshift. HSC data is from cmodel."
   ]
  },
  {
   "cell_type": "code",
   "execution_count": null,
   "metadata": {
    "ExecuteTime": {
     "end_time": "2019-06-25T15:39:44.272561Z",
     "start_time": "2019-06-25T15:37:39.835Z"
    },
    "hidden": true
   },
   "outputs": [],
   "source": [
    "# below we are seeing, most probably, difference between SDSS and HSC filters \n",
    "matplotlib.rcParams.update({'font.size': 12})\n",
    "plt.figure(figsize=(18,6))\n",
    "plt.subplot(121)\n",
    "plt.suptitle('negative $\\Delta$ g-band values= fainter in HSC; positive $\\Delta$ g-band values= brighter in HSC; HSC data is from cmodel')\n",
    "plt.plot(res_delta_redshift_via_delta_gcmodel[:,0],res_delta_redshift_via_delta_gcmodel[:,1])\n",
    "#plt.plot(res_delta_redshift_via_delta_median[:,0],res_delta_redshift_via_delta_median[:,1],alpha=0.2)\n",
    "plt.xlabel('$\\Delta$ g-band (SDSS - HSC)')\n",
    "plt.ylabel('redshift')\n",
    "plt.subplot(122)\n",
    "plt.plot(res_delta_redshift_via_redshift_gcmodel[:,1],res_delta_redshift_via_redshift_gcmodel[:,0])\n",
    "plt.plot(res_delta_redshift_via_redshift_gcmodel[:,1],p20_g(res_delta_redshift_via_redshift_gcmodel[:,1].astype(float)),ls='--',color='orange')\n",
    "#plt.plot(res_delta_redshift_via_redshift_median[:,1],res_delta_redshift_via_redshift_median[:,0],alpha=0.2)\n",
    "plt.ylabel('$\\Delta$ g-band (SDSS - HSC)')\n",
    "plt.xlabel('redshift')\n",
    "plt.show()"
   ]
  },
  {
   "cell_type": "code",
   "execution_count": null,
   "metadata": {
    "ExecuteTime": {
     "end_time": "2019-06-25T15:39:44.274684Z",
     "start_time": "2019-06-25T15:37:40.178Z"
    },
    "hidden": true
   },
   "outputs": [],
   "source": [
    "matplotlib.rcParams.update({'font.size': 12})\n",
    "plt.figure(figsize=(18,6))\n",
    "plt.subplot(121)\n",
    "plt.suptitle('negative $\\Delta$ r-band values= fainter in HSC; positive $\\Delta$ r-band values= brighter in HSC; Both data from psf')\n",
    "plt.plot(res_delta_redshift_via_delta_rcmodel[:,0],res_delta_redshift_via_delta_rcmodel[:,1])\n",
    "#plt.plot(res_delta_redshift_via_delta_median[:,0],res_delta_redshift_via_delta_median[:,1],alpha=0.2)\n",
    "plt.xlabel('$\\Delta$ g-band (SDSS - HSC)')\n",
    "plt.ylabel('redshift')\n",
    "plt.subplot(122)\n",
    "plt.plot(res_delta_redshift_via_redshift_rcmodel[:,1],res_delta_redshift_via_redshift_rcmodel[:,0])\n",
    "plt.plot(res_delta_redshift_via_redshift_rcmodel[:,1],p20_r(res_delta_redshift_via_redshift_rcmodel[:,1]),ls='--',color='orange')\n",
    "#plt.plot(res_delta_redshift_via_redshift_median[:,1],res_delta_redshift_via_redshift_median[:,0],alpha=0.2)\n",
    "plt.ylabel('$\\Delta$ g-band (SDSS - HSC)')\n",
    "plt.xlabel('redshift')\n",
    "plt.show()"
   ]
  },
  {
   "cell_type": "code",
   "execution_count": null,
   "metadata": {
    "ExecuteTime": {
     "end_time": "2019-06-25T15:39:44.276305Z",
     "start_time": "2019-06-25T15:37:40.509Z"
    },
    "hidden": true
   },
   "outputs": [],
   "source": [
    "matplotlib.rcParams.update({'font.size': 12})\n",
    "plt.figure(figsize=(18,6))\n",
    "plt.subplot(121)\n",
    "plt.suptitle('negative $\\Delta$ i-band values= fainter in HSC; positive $\\Delta$ i-band values= brighter in HSC; HSC data is from cmodel')\n",
    "plt.plot(res_delta_redshift_via_delta_icmodel[:,0],res_delta_redshift_via_delta_icmodel[:,1])\n",
    "#plt.plot(res_delta_redshift_via_delta_median[:,0],res_delta_redshift_via_delta_median[:,1],alpha=0.2)\n",
    "plt.xlabel('$\\Delta$ i-band (SDSS - HSC)')\n",
    "plt.ylabel('redshift')\n",
    "plt.subplot(122)\n",
    "plt.plot(res_delta_redshift_via_redshift_icmodel[:,1],res_delta_redshift_via_redshift_icmodel[:,0])\n",
    "plt.plot(res_delta_redshift_via_redshift_icmodel[:,1],p20_i(res_delta_redshift_via_redshift_icmodel[:,1]),ls='--',color='orange')\n",
    "#plt.plot(res_delata_redshift_via_redshift_median[:,1],res_delta_redshift_via_redshift_median[:,0],alpha=0.2)\n",
    "plt.ylabel('$\\Delta$ i-band (SDSS - HSC)')\n",
    "plt.xlabel('redshift')\n",
    "plt.show()"
   ]
  },
  {
   "cell_type": "markdown",
   "metadata": {
    "heading_collapsed": true,
    "hidden": true
   },
   "source": [
    "## More graphs"
   ]
  },
  {
   "cell_type": "code",
   "execution_count": null,
   "metadata": {
    "ExecuteTime": {
     "end_time": "2019-06-18T19:33:27.937964Z",
     "start_time": "2019-06-18T19:33:27.930889Z"
    },
    "hidden": true
   },
   "outputs": [],
   "source": [
    "res_delta_redshift_via_redshift"
   ]
  },
  {
   "cell_type": "code",
   "execution_count": null,
   "metadata": {
    "ExecuteTime": {
     "end_time": "2019-06-18T19:34:25.154240Z",
     "start_time": "2019-06-18T19:34:24.929699Z"
    },
    "hidden": true
   },
   "outputs": [],
   "source": [
    "matplotlib.rcParams.update({'font.size': 12})\n",
    "plt.figure(figsize=(18,6))\n",
    "plt.plot(res_delta_redshift_via_redshift[:,1],res_delta_redshift_via_redshift_median[:,0])\n",
    "plt.plot(res_delta_redshift_via_redshift[:,1],p20_g(res_delta_redshift_via_redshift[:,1].astype(float)),ls='--',color='orange')\n",
    "plt.ylabel('$\\Delta$ g-band (SDSS - HSC)')\n",
    "plt.xlabel('redshift')\n",
    "plt.show()"
   ]
  },
  {
   "cell_type": "markdown",
   "metadata": {
    "heading_collapsed": true,
    "hidden": true
   },
   "source": [
    "## dependence with Mass, Luminosity, Eddington ratio"
   ]
  },
  {
   "cell_type": "markdown",
   "metadata": {
    "heading_collapsed": true,
    "hidden": true
   },
   "source": [
    "## Nice plot summarizing what we've done."
   ]
  },
  {
   "cell_type": "code",
   "execution_count": null,
   "metadata": {
    "hidden": true
   },
   "outputs": [],
   "source": [
    "from astropy.io import fits\n",
    "\n",
    "dr7_bh=fits.open('/Users/nevencaplar/Documents/Variability/HSC_Data/dr7_bh_May09_2011.fits')"
   ]
  },
  {
   "cell_type": "markdown",
   "metadata": {},
   "source": [
    "# Star test"
   ]
  },
  {
   "cell_type": "code",
   "execution_count": 32,
   "metadata": {
    "ExecuteTime": {
     "end_time": "2019-06-28T17:03:54.497077Z",
     "start_time": "2019-06-28T17:03:34.686226Z"
    }
   },
   "outputs": [],
   "source": [
    "test = pd.read_csv('~/stripe82calibStars_v2.6.dat', header=None, delimiter='\\s+', names=['Useless', 'RA', 'DEC', 'RA_rms', 'DEC_rms', 'Ntot', 'Ar', 'u_obs_num', 'u_median_mag', 'u_mean_mag', 'u_mean_err', 'u_rms', 'u_chi2', 'g_obs_num', 'g_median_mag', 'g_mean_mag', 'g_mean_err', 'g_rms', 'g_chi2', 'r_obs_num', 'r_median_mag', 'r_mean_mag', 'r_mean_err', 'r_rms', 'r_chi2', 'i_obs_num', 'i_median_mag', 'i_mean_mag', 'i_mean_err', 'i_rms', 'i_chi2', 'z_obs_num', 'z_median_mag', 'z_mean_mag', 'z_mean_err', 'z_rms', 'z_chi2',], usecols=['RA', 'DEC', 'g_mean_mag'], skiprows=41, engine='python', dtype='f8')"
   ]
  },
  {
   "cell_type": "code",
   "execution_count": 33,
   "metadata": {
    "ExecuteTime": {
     "end_time": "2019-06-28T17:03:54.506497Z",
     "start_time": "2019-06-28T17:03:54.498998Z"
    }
   },
   "outputs": [
    {
     "data": {
      "text/plain": [
       "RA            308.500214\n",
       "DEC            -1.227721\n",
       "g_mean_mag     22.265000\n",
       "Name: 0, dtype: float64"
      ]
     },
     "execution_count": 33,
     "metadata": {},
     "output_type": "execute_result"
    }
   ],
   "source": [
    "test.iloc[0,:]"
   ]
  },
  {
   "cell_type": "code",
   "execution_count": 70,
   "metadata": {
    "ExecuteTime": {
     "end_time": "2019-06-28T17:59:38.861948Z",
     "start_time": "2019-06-28T17:59:38.853300Z"
    }
   },
   "outputs": [
    {
     "data": {
      "text/plain": [
       "array([[ 3.08500214e+02, -1.22772100e+00,  2.22650000e+01],\n",
       "       [ 3.08500092e+02, -1.24026420e+00,  2.04470000e+01],\n",
       "       [ 3.08500092e+02, -1.21715590e+00,  1.80000000e+01],\n",
       "       ...,\n",
       "       [ 5.99976196e+01, -4.10360000e-02,  2.18730000e+01],\n",
       "       [ 5.99978180e+01, -9.27300000e-02,  2.27390000e+01],\n",
       "       [ 5.99975166e+01,  1.07724020e+00,  1.49870000e+01]])"
      ]
     },
     "execution_count": 70,
     "metadata": {},
     "output_type": "execute_result"
    }
   ],
   "source": [
    "star_coords_and_gmag"
   ]
  },
  {
   "cell_type": "code",
   "execution_count": 81,
   "metadata": {
    "ExecuteTime": {
     "end_time": "2019-06-28T18:01:25.880057Z",
     "start_time": "2019-06-28T18:01:25.861507Z"
    }
   },
   "outputs": [
    {
     "data": {
      "text/plain": [
       "(99817, 3)"
      ]
     },
     "execution_count": 81,
     "metadata": {},
     "output_type": "execute_result"
    }
   ],
   "source": [
    "star_coords_and_gmag[star_coords_and_gmag[:,2]>22.5].shape"
   ]
  },
  {
   "cell_type": "code",
   "execution_count": 69,
   "metadata": {
    "ExecuteTime": {
     "end_time": "2019-06-28T17:59:09.929158Z",
     "start_time": "2019-06-28T17:59:09.900202Z"
    }
   },
   "outputs": [
    {
     "ename": "AxisError",
     "evalue": "axis 2 is out of bounds for array of dimension 2",
     "output_type": "error",
     "traceback": [
      "\u001b[0;31m---------------------------------------------------------------------------\u001b[0m",
      "\u001b[0;31mAxisError\u001b[0m                                 Traceback (most recent call last)",
      "\u001b[0;32m<ipython-input-69-e529ab335bff>\u001b[0m in \u001b[0;36m<module>\u001b[0;34m\u001b[0m\n\u001b[1;32m      3\u001b[0m \u001b[0;34m\u001b[0m\u001b[0m\n\u001b[1;32m      4\u001b[0m \u001b[0;31m# Mask out irrelevant stars. https://stackoverflow.com/questions/47819146/how-to-delete-a-row-based-on-a-condition-from-a-numpy-array\u001b[0m\u001b[0;34m\u001b[0m\u001b[0;34m\u001b[0m\u001b[0;34m\u001b[0m\u001b[0m\n\u001b[0;32m----> 5\u001b[0;31m \u001b[0mmask\u001b[0m \u001b[0;34m=\u001b[0m \u001b[0;34m(\u001b[0m\u001b[0mstar_coords_and_gmag\u001b[0m \u001b[0;34m<=\u001b[0m \u001b[0;36m50\u001b[0m\u001b[0;34m)\u001b[0m\u001b[0;34m.\u001b[0m\u001b[0mall\u001b[0m\u001b[0;34m(\u001b[0m\u001b[0maxis\u001b[0m\u001b[0;34m=\u001b[0m\u001b[0;36m2\u001b[0m\u001b[0;34m)\u001b[0m\u001b[0;34m\u001b[0m\u001b[0;34m\u001b[0m\u001b[0m\n\u001b[0m\u001b[1;32m      6\u001b[0m \u001b[0mstar_coords_and_gmag\u001b[0m \u001b[0;34m=\u001b[0m \u001b[0mstar_coords_and_gmag\u001b[0m\u001b[0;34m[\u001b[0m\u001b[0mmask\u001b[0m\u001b[0;34m,\u001b[0m \u001b[0;34m:\u001b[0m\u001b[0;34m]\u001b[0m\u001b[0;34m\u001b[0m\u001b[0;34m\u001b[0m\u001b[0m\n\u001b[1;32m      7\u001b[0m \u001b[0mprint\u001b[0m\u001b[0;34m(\u001b[0m\u001b[0mstar_coords_and_gmag\u001b[0m\u001b[0;34m.\u001b[0m\u001b[0mshape\u001b[0m\u001b[0;34m)\u001b[0m\u001b[0;34m\u001b[0m\u001b[0;34m\u001b[0m\u001b[0m\n",
      "\u001b[0;32m~/anaconda3/lib/python3.7/site-packages/numpy/core/_methods.py\u001b[0m in \u001b[0;36m_all\u001b[0;34m(a, axis, dtype, out, keepdims)\u001b[0m\n\u001b[1;32m     44\u001b[0m \u001b[0;34m\u001b[0m\u001b[0m\n\u001b[1;32m     45\u001b[0m \u001b[0;32mdef\u001b[0m \u001b[0m_all\u001b[0m\u001b[0;34m(\u001b[0m\u001b[0ma\u001b[0m\u001b[0;34m,\u001b[0m \u001b[0maxis\u001b[0m\u001b[0;34m=\u001b[0m\u001b[0;32mNone\u001b[0m\u001b[0;34m,\u001b[0m \u001b[0mdtype\u001b[0m\u001b[0;34m=\u001b[0m\u001b[0;32mNone\u001b[0m\u001b[0;34m,\u001b[0m \u001b[0mout\u001b[0m\u001b[0;34m=\u001b[0m\u001b[0;32mNone\u001b[0m\u001b[0;34m,\u001b[0m \u001b[0mkeepdims\u001b[0m\u001b[0;34m=\u001b[0m\u001b[0;32mFalse\u001b[0m\u001b[0;34m)\u001b[0m\u001b[0;34m:\u001b[0m\u001b[0;34m\u001b[0m\u001b[0;34m\u001b[0m\u001b[0m\n\u001b[0;32m---> 46\u001b[0;31m     \u001b[0;32mreturn\u001b[0m \u001b[0mumr_all\u001b[0m\u001b[0;34m(\u001b[0m\u001b[0ma\u001b[0m\u001b[0;34m,\u001b[0m \u001b[0maxis\u001b[0m\u001b[0;34m,\u001b[0m \u001b[0mdtype\u001b[0m\u001b[0;34m,\u001b[0m \u001b[0mout\u001b[0m\u001b[0;34m,\u001b[0m \u001b[0mkeepdims\u001b[0m\u001b[0;34m)\u001b[0m\u001b[0;34m\u001b[0m\u001b[0;34m\u001b[0m\u001b[0m\n\u001b[0m\u001b[1;32m     47\u001b[0m \u001b[0;34m\u001b[0m\u001b[0m\n\u001b[1;32m     48\u001b[0m \u001b[0;32mdef\u001b[0m \u001b[0m_count_reduce_items\u001b[0m\u001b[0;34m(\u001b[0m\u001b[0marr\u001b[0m\u001b[0;34m,\u001b[0m \u001b[0maxis\u001b[0m\u001b[0;34m)\u001b[0m\u001b[0;34m:\u001b[0m\u001b[0;34m\u001b[0m\u001b[0;34m\u001b[0m\u001b[0m\n",
      "\u001b[0;31mAxisError\u001b[0m: axis 2 is out of bounds for array of dimension 2"
     ]
    }
   ],
   "source": [
    "star_coords_and_gmag = test.values\n",
    "star_coords_and_gmag.shape\n",
    "\n",
    "# Mask out irrelevant stars. https://stackoverflow.com/questions/47819146/how-to-delete-a-row-based-on-a-condition-from-a-numpy-array\n",
    "mask = (star_coords_and_gmag <= 50).all(axis=)\n",
    "star_coords_and_gmag = star_coords_and_gmag[mask, :]\n",
    "print(star_coords_and_gmag.shape)"
   ]
  },
  {
   "cell_type": "code",
   "execution_count": 57,
   "metadata": {
    "ExecuteTime": {
     "end_time": "2019-06-28T17:26:12.629907Z",
     "start_time": "2019-06-28T17:26:12.626346Z"
    }
   },
   "outputs": [],
   "source": [
    "SQL_string = \"\""
   ]
  },
  {
   "cell_type": "code",
   "execution_count": 58,
   "metadata": {
    "ExecuteTime": {
     "end_time": "2019-06-28T17:26:13.918242Z",
     "start_time": "2019-06-28T17:26:13.880208Z"
    }
   },
   "outputs": [],
   "source": [
    "for i in range(star_coords_and_gmag.shape[0]):\n",
    "    SQL_string += \"(\" + str(star_coords_and_gmag[i][0]) + \",\" + str(star_coords_and_gmag[i][1]) + \"), \""
   ]
  },
  {
   "cell_type": "code",
   "execution_count": 59,
   "metadata": {
    "ExecuteTime": {
     "end_time": "2019-06-28T17:26:14.361586Z",
     "start_time": "2019-06-28T17:26:14.354663Z"
    }
   },
   "outputs": [],
   "source": [
    "with open(\"SQL_stuff.txt\", \"w\") as text_file:\n",
    "    text_file.write(SQL_string)"
   ]
  }
 ],
 "metadata": {
  "kernelspec": {
   "display_name": "Python 3",
   "language": "python",
   "name": "python3"
  },
  "language_info": {
   "codemirror_mode": {
    "name": "ipython",
    "version": 3
   },
   "file_extension": ".py",
   "mimetype": "text/x-python",
   "name": "python",
   "nbconvert_exporter": "python",
   "pygments_lexer": "ipython3",
   "version": "3.7.3"
  },
  "toc": {
   "base_numbering": 1,
   "nav_menu": {},
   "number_sections": true,
   "sideBar": true,
   "skip_h1_title": false,
   "title_cell": "Table of Contents",
   "title_sidebar": "Contents",
   "toc_cell": false,
   "toc_position": {},
   "toc_section_display": true,
   "toc_window_display": false
  }
 },
 "nbformat": 4,
 "nbformat_minor": 2
}
