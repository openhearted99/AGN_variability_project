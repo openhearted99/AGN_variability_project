{
 "cells": [
  {
   "cell_type": "code",
   "execution_count": 2,
   "metadata": {
    "ExecuteTime": {
     "end_time": "2019-08-02T19:07:02.171607Z",
     "start_time": "2019-08-02T19:07:02.163560Z"
    }
   },
   "outputs": [
    {
     "name": "stdout",
     "output_type": "stream",
     "text": [
      "\n"
     ]
    }
   ],
   "source": [
    "\"\"\"\n",
    "Created on October 14 2018\n",
    "@author: Neven Caplar\n",
    "@contact: ncaplar@princeton.edu\n",
    "\"\"\"\n",
    "\"\"\"\n",
    "Edited and remade on June 17th, 2019\n",
    "@author: Theodore Pena\n",
    "@contact: theodore.pena@tufts.edu\n",
    "\"\"\"\n",
    "print()"
   ]
  },
  {
   "cell_type": "markdown",
   "metadata": {},
   "source": [
    "We'll start everything off with some basic imports."
   ]
  },
  {
   "cell_type": "code",
   "execution_count": 1,
   "metadata": {
    "ExecuteTime": {
     "end_time": "2019-08-02T19:50:23.470095Z",
     "start_time": "2019-08-02T19:50:20.175982Z"
    }
   },
   "outputs": [
    {
     "name": "stdout",
     "output_type": "stream",
     "text": [
      "sys version: 3.7.3 (default, Mar 27 2019, 22:11:17) \n",
      "[GCC 7.3.0]\n",
      "numpy version: 1.16.4\n",
      "pandas version: 0.24.2\n"
     ]
    },
    {
     "data": {
      "text/html": [
       "<style>.container { width:100% !important; }</style>"
      ],
      "text/plain": [
       "<IPython.core.display.HTML object>"
      ]
     },
     "metadata": {},
     "output_type": "display_data"
    }
   ],
   "source": [
    "import sys\n",
    "print(\"sys version: {}\".format(sys.version))\n",
    "# This project is entirely in python 3.7\n",
    "\n",
    "import matplotlib\n",
    "import matplotlib.pyplot as plt\n",
    "%matplotlib qt \n",
    "# If you don't have an X server, line 7 might crash your kernel. Try '%matplotlib inline' instead.\n",
    "\n",
    "import numpy as np\n",
    "print(\"numpy version: {}\".format(np.__version__))\n",
    "\n",
    "import pandas as pd\n",
    "print(\"pandas version: {}\".format(pd.__version__))\n",
    "\n",
    "from tqdm import tqdm\n",
    "# This gives for loops progress bars.\n",
    "\n",
    "from sklearn.metrics.pairwise import euclidean_distances\n",
    "# We need this to match AGN from one catalog to another.\n",
    "\n",
    "from IPython.core.display import display, HTML\n",
    "# An alternate, cleaner take on the jupyter workspace\n",
    "display(HTML(\"<style>.container { width:100% !important; }</style>\"))"
   ]
  },
  {
   "cell_type": "markdown",
   "metadata": {},
   "source": [
    "The below cell is just code prettification. Feel free to skip if you dislike any changes."
   ]
  },
  {
   "cell_type": "code",
   "execution_count": 2,
   "metadata": {
    "ExecuteTime": {
     "end_time": "2019-08-02T19:50:23.479826Z",
     "start_time": "2019-08-02T19:50:23.473370Z"
    },
    "code_folding": []
   },
   "outputs": [
    {
     "data": {
      "application/javascript": [
       "try {\n",
       "  require(['base/js/utils'], function (utils) {\n",
       "    utils.load_extension('code_prettify/code_prettify');\n",
       "    utils.load_extension('collapsible_headings/main'); \n",
       "    utils.load_extension('codefolding/edit'); \n",
       "    utils.load_extension('codefolding/main'); \n",
       "    utils.load_extension('execute_time/ExecuteTime');   \n",
       "    utils.load_extension('toc2/main'); \n",
       "  });\n",
       "}\n",
       "catch (err) {\n",
       "  console.log('toc2 load error:', err);\n",
       "}\n"
      ],
      "text/plain": [
       "<IPython.core.display.Javascript object>"
      ]
     },
     "metadata": {},
     "output_type": "display_data"
    }
   ],
   "source": [
    "%%javascript\n",
    "try {\n",
    "  require(['base/js/utils'], function (utils) {\n",
    "    utils.load_extension('code_prettify/code_prettify');\n",
    "    utils.load_extension('collapsible_headings/main'); \n",
    "    utils.load_extension('codefolding/edit'); \n",
    "    utils.load_extension('codefolding/main'); \n",
    "    utils.load_extension('execute_time/ExecuteTime');   \n",
    "    utils.load_extension('toc2/main'); \n",
    "  });\n",
    "}\n",
    "catch (err) {\n",
    "  console.log('toc2 load error:', err);\n",
    "}"
   ]
  },
  {
   "cell_type": "markdown",
   "metadata": {},
   "source": [
    "Last thing we've got left is to define a few global variables we're going to come back to."
   ]
  },
  {
   "cell_type": "code",
   "execution_count": 3,
   "metadata": {
    "ExecuteTime": {
     "end_time": "2019-08-02T19:50:23.490914Z",
     "start_time": "2019-08-02T19:50:23.483639Z"
    }
   },
   "outputs": [],
   "source": [
    "DATA_DIRECTORY='/home/tpena01/AGN_variability_project/Data/'\n",
    "# Change '/home/tpena01' to a path leading to my variability repo, presuming you've alredy cloned it.\n",
    "# If not, here's a link: https://github.com/openhearted99/AGN_variability_project\n",
    "\n",
    "HSC_CATALOG_NAME = 'HSCpdr2QuasarCatalog.csv'\n",
    "# If you're pulling data from your own HSC catalog, put your new catalog in\n",
    "# .../AGN_variability_project/Data, and change this."
   ]
  },
  {
   "cell_type": "markdown",
   "metadata": {},
   "source": [
    "# Data intake"
   ]
  },
  {
   "cell_type": "markdown",
   "metadata": {},
   "source": [
    "## SDSS"
   ]
  },
  {
   "cell_type": "markdown",
   "metadata": {},
   "source": [
    "The first catalog we'll need is the SDSS quasar catalog, DR7 edition. Read about it here: https://classic.sdss.org/dr7/products/value_added/qsocat_dr7.html."
   ]
  },
  {
   "cell_type": "code",
   "execution_count": 4,
   "metadata": {
    "ExecuteTime": {
     "end_time": "2019-08-02T19:50:35.744546Z",
     "start_time": "2019-08-02T19:50:26.997145Z"
    },
    "scrolled": true
   },
   "outputs": [
    {
     "name": "stderr",
     "output_type": "stream",
     "text": [
      "Skipping line 305: Expected 75 fields in line 305, saw 76. Error could possibly be due to quotes being ignored when a multi-char delimiter is used.\n",
      "Skipping line 1633: Expected 75 fields in line 1633, saw 76. Error could possibly be due to quotes being ignored when a multi-char delimiter is used.\n",
      "Skipping line 1745: Expected 75 fields in line 1745, saw 76. Error could possibly be due to quotes being ignored when a multi-char delimiter is used.\n",
      "Skipping line 1828: Expected 75 fields in line 1828, saw 76. Error could possibly be due to quotes being ignored when a multi-char delimiter is used.\n",
      "Skipping line 3631: Expected 75 fields in line 3631, saw 76. Error could possibly be due to quotes being ignored when a multi-char delimiter is used.\n",
      "Skipping line 4123: Expected 75 fields in line 4123, saw 76. Error could possibly be due to quotes being ignored when a multi-char delimiter is used.\n",
      "Skipping line 4124: Expected 75 fields in line 4124, saw 76. Error could possibly be due to quotes being ignored when a multi-char delimiter is used.\n",
      "Skipping line 4238: Expected 75 fields in line 4238, saw 76. Error could possibly be due to quotes being ignored when a multi-char delimiter is used.\n",
      "Skipping line 4248: Expected 75 fields in line 4248, saw 76. Error could possibly be due to quotes being ignored when a multi-char delimiter is used.\n",
      "Skipping line 5456: Expected 75 fields in line 5456, saw 76. Error could possibly be due to quotes being ignored when a multi-char delimiter is used.\n",
      "Skipping line 6375: Expected 75 fields in line 6375, saw 76. Error could possibly be due to quotes being ignored when a multi-char delimiter is used.\n",
      "Skipping line 10353: Expected 75 fields in line 10353, saw 76. Error could possibly be due to quotes being ignored when a multi-char delimiter is used.\n",
      "Skipping line 14972: Expected 75 fields in line 14972, saw 76. Error could possibly be due to quotes being ignored when a multi-char delimiter is used.\n",
      "Skipping line 18544: Expected 75 fields in line 18544, saw 76. Error could possibly be due to quotes being ignored when a multi-char delimiter is used.\n",
      "Skipping line 18641: Expected 75 fields in line 18641, saw 76. Error could possibly be due to quotes being ignored when a multi-char delimiter is used.\n",
      "Skipping line 18809: Expected 75 fields in line 18809, saw 76. Error could possibly be due to quotes being ignored when a multi-char delimiter is used.\n",
      "Skipping line 21010: Expected 75 fields in line 21010, saw 76. Error could possibly be due to quotes being ignored when a multi-char delimiter is used.\n",
      "Skipping line 21361: Expected 75 fields in line 21361, saw 76. Error could possibly be due to quotes being ignored when a multi-char delimiter is used.\n",
      "Skipping line 21437: Expected 75 fields in line 21437, saw 76. Error could possibly be due to quotes being ignored when a multi-char delimiter is used.\n",
      "Skipping line 23667: Expected 75 fields in line 23667, saw 76. Error could possibly be due to quotes being ignored when a multi-char delimiter is used.\n",
      "Skipping line 24564: Expected 75 fields in line 24564, saw 76. Error could possibly be due to quotes being ignored when a multi-char delimiter is used.\n",
      "Skipping line 25106: Expected 75 fields in line 25106, saw 76. Error could possibly be due to quotes being ignored when a multi-char delimiter is used.\n",
      "Skipping line 25702: Expected 75 fields in line 25702, saw 76. Error could possibly be due to quotes being ignored when a multi-char delimiter is used.\n",
      "Skipping line 25756: Expected 75 fields in line 25756, saw 76. Error could possibly be due to quotes being ignored when a multi-char delimiter is used.\n",
      "Skipping line 26759: Expected 75 fields in line 26759, saw 76. Error could possibly be due to quotes being ignored when a multi-char delimiter is used.\n",
      "Skipping line 28490: Expected 75 fields in line 28490, saw 76. Error could possibly be due to quotes being ignored when a multi-char delimiter is used.\n",
      "Skipping line 28815: Expected 75 fields in line 28815, saw 76. Error could possibly be due to quotes being ignored when a multi-char delimiter is used.\n",
      "Skipping line 29963: Expected 75 fields in line 29963, saw 76. Error could possibly be due to quotes being ignored when a multi-char delimiter is used.\n",
      "Skipping line 33691: Expected 75 fields in line 33691, saw 76. Error could possibly be due to quotes being ignored when a multi-char delimiter is used.\n",
      "Skipping line 33920: Expected 75 fields in line 33920, saw 76. Error could possibly be due to quotes being ignored when a multi-char delimiter is used.\n",
      "Skipping line 34775: Expected 75 fields in line 34775, saw 76. Error could possibly be due to quotes being ignored when a multi-char delimiter is used.\n",
      "Skipping line 35598: Expected 75 fields in line 35598, saw 76. Error could possibly be due to quotes being ignored when a multi-char delimiter is used.\n",
      "Skipping line 36729: Expected 75 fields in line 36729, saw 76. Error could possibly be due to quotes being ignored when a multi-char delimiter is used.\n",
      "Skipping line 37012: Expected 75 fields in line 37012, saw 76. Error could possibly be due to quotes being ignored when a multi-char delimiter is used.\n",
      "Skipping line 40860: Expected 75 fields in line 40860, saw 76. Error could possibly be due to quotes being ignored when a multi-char delimiter is used.\n",
      "Skipping line 41001: Expected 75 fields in line 41001, saw 76. Error could possibly be due to quotes being ignored when a multi-char delimiter is used.\n",
      "Skipping line 41012: Expected 75 fields in line 41012, saw 76. Error could possibly be due to quotes being ignored when a multi-char delimiter is used.\n",
      "Skipping line 41076: Expected 75 fields in line 41076, saw 76. Error could possibly be due to quotes being ignored when a multi-char delimiter is used.\n",
      "Skipping line 41080: Expected 75 fields in line 41080, saw 76. Error could possibly be due to quotes being ignored when a multi-char delimiter is used.\n",
      "Skipping line 41268: Expected 75 fields in line 41268, saw 76. Error could possibly be due to quotes being ignored when a multi-char delimiter is used.\n",
      "Skipping line 41335: Expected 75 fields in line 41335, saw 76. Error could possibly be due to quotes being ignored when a multi-char delimiter is used.\n",
      "Skipping line 41952: Expected 75 fields in line 41952, saw 76. Error could possibly be due to quotes being ignored when a multi-char delimiter is used.\n",
      "Skipping line 42080: Expected 75 fields in line 42080, saw 76. Error could possibly be due to quotes being ignored when a multi-char delimiter is used.\n",
      "Skipping line 42206: Expected 75 fields in line 42206, saw 76. Error could possibly be due to quotes being ignored when a multi-char delimiter is used.\n",
      "Skipping line 43184: Expected 75 fields in line 43184, saw 76. Error could possibly be due to quotes being ignored when a multi-char delimiter is used.\n",
      "Skipping line 43655: Expected 75 fields in line 43655, saw 77. Error could possibly be due to quotes being ignored when a multi-char delimiter is used.\n",
      "Skipping line 43770: Expected 75 fields in line 43770, saw 76. Error could possibly be due to quotes being ignored when a multi-char delimiter is used.\n",
      "Skipping line 43857: Expected 75 fields in line 43857, saw 76. Error could possibly be due to quotes being ignored when a multi-char delimiter is used.\n",
      "Skipping line 44262: Expected 75 fields in line 44262, saw 76. Error could possibly be due to quotes being ignored when a multi-char delimiter is used.\n",
      "Skipping line 45311: Expected 75 fields in line 45311, saw 77. Error could possibly be due to quotes being ignored when a multi-char delimiter is used.\n",
      "Skipping line 49664: Expected 75 fields in line 49664, saw 76. Error could possibly be due to quotes being ignored when a multi-char delimiter is used.\n",
      "Skipping line 49762: Expected 75 fields in line 49762, saw 76. Error could possibly be due to quotes being ignored when a multi-char delimiter is used.\n",
      "Skipping line 51345: Expected 75 fields in line 51345, saw 76. Error could possibly be due to quotes being ignored when a multi-char delimiter is used.\n",
      "Skipping line 53261: Expected 75 fields in line 53261, saw 76. Error could possibly be due to quotes being ignored when a multi-char delimiter is used.\n",
      "Skipping line 53752: Expected 75 fields in line 53752, saw 76. Error could possibly be due to quotes being ignored when a multi-char delimiter is used.\n",
      "Skipping line 55282: Expected 75 fields in line 55282, saw 76. Error could possibly be due to quotes being ignored when a multi-char delimiter is used.\n",
      "Skipping line 55324: Expected 75 fields in line 55324, saw 76. Error could possibly be due to quotes being ignored when a multi-char delimiter is used.\n",
      "Skipping line 55515: Expected 75 fields in line 55515, saw 76. Error could possibly be due to quotes being ignored when a multi-char delimiter is used.\n",
      "Skipping line 55734: Expected 75 fields in line 55734, saw 76. Error could possibly be due to quotes being ignored when a multi-char delimiter is used.\n",
      "Skipping line 56635: Expected 75 fields in line 56635, saw 76. Error could possibly be due to quotes being ignored when a multi-char delimiter is used.\n",
      "Skipping line 57989: Expected 75 fields in line 57989, saw 76. Error could possibly be due to quotes being ignored when a multi-char delimiter is used.\n",
      "Skipping line 57996: Expected 75 fields in line 57996, saw 76. Error could possibly be due to quotes being ignored when a multi-char delimiter is used.\n",
      "Skipping line 58059: Expected 75 fields in line 58059, saw 76. Error could possibly be due to quotes being ignored when a multi-char delimiter is used.\n",
      "Skipping line 58108: Expected 75 fields in line 58108, saw 76. Error could possibly be due to quotes being ignored when a multi-char delimiter is used.\n",
      "Skipping line 58647: Expected 75 fields in line 58647, saw 76. Error could possibly be due to quotes being ignored when a multi-char delimiter is used.\n",
      "Skipping line 60159: Expected 75 fields in line 60159, saw 76. Error could possibly be due to quotes being ignored when a multi-char delimiter is used.\n",
      "Skipping line 60198: Expected 75 fields in line 60198, saw 76. Error could possibly be due to quotes being ignored when a multi-char delimiter is used.\n",
      "Skipping line 60200: Expected 75 fields in line 60200, saw 76. Error could possibly be due to quotes being ignored when a multi-char delimiter is used.\n",
      "Skipping line 60376: Expected 75 fields in line 60376, saw 76. Error could possibly be due to quotes being ignored when a multi-char delimiter is used.\n",
      "Skipping line 61344: Expected 75 fields in line 61344, saw 76. Error could possibly be due to quotes being ignored when a multi-char delimiter is used.\n",
      "Skipping line 63658: Expected 75 fields in line 63658, saw 76. Error could possibly be due to quotes being ignored when a multi-char delimiter is used.\n",
      "Skipping line 63750: Expected 75 fields in line 63750, saw 76. Error could possibly be due to quotes being ignored when a multi-char delimiter is used.\n",
      "Skipping line 64216: Expected 75 fields in line 64216, saw 76. Error could possibly be due to quotes being ignored when a multi-char delimiter is used.\n",
      "Skipping line 64294: Expected 75 fields in line 64294, saw 76. Error could possibly be due to quotes being ignored when a multi-char delimiter is used.\n",
      "Skipping line 64299: Expected 75 fields in line 64299, saw 76. Error could possibly be due to quotes being ignored when a multi-char delimiter is used.\n",
      "Skipping line 64390: Expected 75 fields in line 64390, saw 76. Error could possibly be due to quotes being ignored when a multi-char delimiter is used.\n",
      "Skipping line 64437: Expected 75 fields in line 64437, saw 76. Error could possibly be due to quotes being ignored when a multi-char delimiter is used.\n",
      "Skipping line 64737: Expected 75 fields in line 64737, saw 76. Error could possibly be due to quotes being ignored when a multi-char delimiter is used.\n",
      "Skipping line 64758: Expected 75 fields in line 64758, saw 76. Error could possibly be due to quotes being ignored when a multi-char delimiter is used.\n",
      "Skipping line 64998: Expected 75 fields in line 64998, saw 76. Error could possibly be due to quotes being ignored when a multi-char delimiter is used.\n",
      "Skipping line 65354: Expected 75 fields in line 65354, saw 76. Error could possibly be due to quotes being ignored when a multi-char delimiter is used.\n",
      "Skipping line 65391: Expected 75 fields in line 65391, saw 76. Error could possibly be due to quotes being ignored when a multi-char delimiter is used.\n",
      "Skipping line 65410: Expected 75 fields in line 65410, saw 76. Error could possibly be due to quotes being ignored when a multi-char delimiter is used.\n",
      "Skipping line 65484: Expected 75 fields in line 65484, saw 76. Error could possibly be due to quotes being ignored when a multi-char delimiter is used.\n",
      "Skipping line 65549: Expected 75 fields in line 65549, saw 76. Error could possibly be due to quotes being ignored when a multi-char delimiter is used.\n",
      "Skipping line 66970: Expected 75 fields in line 66970, saw 76. Error could possibly be due to quotes being ignored when a multi-char delimiter is used.\n",
      "Skipping line 67337: Expected 75 fields in line 67337, saw 76. Error could possibly be due to quotes being ignored when a multi-char delimiter is used.\n",
      "Skipping line 67414: Expected 75 fields in line 67414, saw 76. Error could possibly be due to quotes being ignored when a multi-char delimiter is used.\n",
      "Skipping line 67433: Expected 75 fields in line 67433, saw 76. Error could possibly be due to quotes being ignored when a multi-char delimiter is used.\n",
      "Skipping line 70145: Expected 75 fields in line 70145, saw 76. Error could possibly be due to quotes being ignored when a multi-char delimiter is used.\n",
      "Skipping line 70234: Expected 75 fields in line 70234, saw 76. Error could possibly be due to quotes being ignored when a multi-char delimiter is used.\n",
      "Skipping line 70328: Expected 75 fields in line 70328, saw 76. Error could possibly be due to quotes being ignored when a multi-char delimiter is used.\n",
      "Skipping line 70340: Expected 75 fields in line 70340, saw 76. Error could possibly be due to quotes being ignored when a multi-char delimiter is used.\n",
      "Skipping line 70791: Expected 75 fields in line 70791, saw 76. Error could possibly be due to quotes being ignored when a multi-char delimiter is used.\n",
      "Skipping line 70869: Expected 75 fields in line 70869, saw 76. Error could possibly be due to quotes being ignored when a multi-char delimiter is used.\n",
      "Skipping line 71018: Expected 75 fields in line 71018, saw 76. Error could possibly be due to quotes being ignored when a multi-char delimiter is used.\n",
      "Skipping line 71408: Expected 75 fields in line 71408, saw 76. Error could possibly be due to quotes being ignored when a multi-char delimiter is used.\n",
      "Skipping line 71577: Expected 75 fields in line 71577, saw 76. Error could possibly be due to quotes being ignored when a multi-char delimiter is used.\n",
      "Skipping line 73150: Expected 75 fields in line 73150, saw 76. Error could possibly be due to quotes being ignored when a multi-char delimiter is used.\n",
      "Skipping line 73750: Expected 75 fields in line 73750, saw 76. Error could possibly be due to quotes being ignored when a multi-char delimiter is used.\n",
      "Skipping line 76006: Expected 75 fields in line 76006, saw 76. Error could possibly be due to quotes being ignored when a multi-char delimiter is used.\n",
      "Skipping line 76498: Expected 75 fields in line 76498, saw 76. Error could possibly be due to quotes being ignored when a multi-char delimiter is used.\n",
      "Skipping line 77443: Expected 75 fields in line 77443, saw 76. Error could possibly be due to quotes being ignored when a multi-char delimiter is used.\n",
      "Skipping line 80801: Expected 75 fields in line 80801, saw 76. Error could possibly be due to quotes being ignored when a multi-char delimiter is used.\n",
      "Skipping line 84050: Expected 75 fields in line 84050, saw 76. Error could possibly be due to quotes being ignored when a multi-char delimiter is used.\n",
      "Skipping line 84659: Expected 75 fields in line 84659, saw 76. Error could possibly be due to quotes being ignored when a multi-char delimiter is used.\n",
      "Skipping line 86016: Expected 75 fields in line 86016, saw 76. Error could possibly be due to quotes being ignored when a multi-char delimiter is used.\n",
      "Skipping line 86039: Expected 75 fields in line 86039, saw 76. Error could possibly be due to quotes being ignored when a multi-char delimiter is used.\n",
      "Skipping line 90294: Expected 75 fields in line 90294, saw 76. Error could possibly be due to quotes being ignored when a multi-char delimiter is used.\n",
      "Skipping line 90473: Expected 75 fields in line 90473, saw 76. Error could possibly be due to quotes being ignored when a multi-char delimiter is used.\n",
      "Skipping line 92343: Expected 75 fields in line 92343, saw 76. Error could possibly be due to quotes being ignored when a multi-char delimiter is used.\n",
      "Skipping line 95203: Expected 75 fields in line 95203, saw 76. Error could possibly be due to quotes being ignored when a multi-char delimiter is used.\n",
      "Skipping line 95289: Expected 75 fields in line 95289, saw 76. Error could possibly be due to quotes being ignored when a multi-char delimiter is used.\n",
      "Skipping line 95312: Expected 75 fields in line 95312, saw 76. Error could possibly be due to quotes being ignored when a multi-char delimiter is used.\n",
      "Skipping line 95765: Expected 75 fields in line 95765, saw 76. Error could possibly be due to quotes being ignored when a multi-char delimiter is used.\n",
      "Skipping line 95782: Expected 75 fields in line 95782, saw 76. Error could possibly be due to quotes being ignored when a multi-char delimiter is used.\n",
      "Skipping line 95836: Expected 75 fields in line 95836, saw 76. Error could possibly be due to quotes being ignored when a multi-char delimiter is used.\n",
      "Skipping line 95909: Expected 75 fields in line 95909, saw 76. Error could possibly be due to quotes being ignored when a multi-char delimiter is used.\n",
      "Skipping line 96288: Expected 75 fields in line 96288, saw 76. Error could possibly be due to quotes being ignored when a multi-char delimiter is used.\n",
      "Skipping line 96969: Expected 75 fields in line 96969, saw 76. Error could possibly be due to quotes being ignored when a multi-char delimiter is used.\n",
      "Skipping line 97028: Expected 75 fields in line 97028, saw 76. Error could possibly be due to quotes being ignored when a multi-char delimiter is used.\n",
      "Skipping line 97031: Expected 75 fields in line 97031, saw 76. Error could possibly be due to quotes being ignored when a multi-char delimiter is used.\n",
      "Skipping line 97048: Expected 75 fields in line 97048, saw 76. Error could possibly be due to quotes being ignored when a multi-char delimiter is used.\n",
      "Skipping line 97062: Expected 75 fields in line 97062, saw 76. Error could possibly be due to quotes being ignored when a multi-char delimiter is used.\n",
      "Skipping line 98324: Expected 75 fields in line 98324, saw 76. Error could possibly be due to quotes being ignored when a multi-char delimiter is used.\n",
      "Skipping line 99100: Expected 75 fields in line 99100, saw 76. Error could possibly be due to quotes being ignored when a multi-char delimiter is used.\n",
      "Skipping line 102999: Expected 75 fields in line 102999, saw 76. Error could possibly be due to quotes being ignored when a multi-char delimiter is used.\n",
      "Skipping line 103217: Expected 75 fields in line 103217, saw 76. Error could possibly be due to quotes being ignored when a multi-char delimiter is used.\n",
      "Skipping line 104899: Expected 75 fields in line 104899, saw 76. Error could possibly be due to quotes being ignored when a multi-char delimiter is used.\n",
      "Skipping line 105110: Expected 75 fields in line 105110, saw 76. Error could possibly be due to quotes being ignored when a multi-char delimiter is used.\n",
      "Skipping line 105200: Expected 75 fields in line 105200, saw 76. Error could possibly be due to quotes being ignored when a multi-char delimiter is used.\n",
      "Skipping line 105212: Expected 75 fields in line 105212, saw 76. Error could possibly be due to quotes being ignored when a multi-char delimiter is used.\n",
      "Skipping line 105288: Expected 75 fields in line 105288, saw 76. Error could possibly be due to quotes being ignored when a multi-char delimiter is used.\n",
      "Skipping line 105387: Expected 75 fields in line 105387, saw 76. Error could possibly be due to quotes being ignored when a multi-char delimiter is used.\n",
      "Skipping line 105406: Expected 75 fields in line 105406, saw 76. Error could possibly be due to quotes being ignored when a multi-char delimiter is used.\n",
      "Skipping line 105498: Expected 75 fields in line 105498, saw 76. Error could possibly be due to quotes being ignored when a multi-char delimiter is used.\n",
      "Skipping line 105527: Expected 75 fields in line 105527, saw 76. Error could possibly be due to quotes being ignored when a multi-char delimiter is used.\n",
      "Skipping line 105768: Expected 75 fields in line 105768, saw 76. Error could possibly be due to quotes being ignored when a multi-char delimiter is used.\n"
     ]
    }
   ],
   "source": [
    "dr7 = pd.read_csv(DATA_DIRECTORY+'SDSSdr7QuasarCatalog.dat', skiprows=80, sep='\\s+', engine='python', error_bad_lines=False, header=None)"
   ]
  },
  {
   "cell_type": "markdown",
   "metadata": {},
   "source": [
    "Before we extract our list of positions, let's clean the catalog a bit. Here we're selecting all quasars with 'target_selection_flag(TARGET)' equal to one."
   ]
  },
  {
   "cell_type": "code",
   "execution_count": 5,
   "metadata": {
    "ExecuteTime": {
     "end_time": "2019-08-02T19:50:35.827401Z",
     "start_time": "2019-08-02T19:50:35.746835Z"
    }
   },
   "outputs": [
    {
     "name": "stdout",
     "output_type": "stream",
     "text": [
      "Number of objects lost = 37280\n"
     ]
    }
   ],
   "source": [
    "_len_before = dr7.shape[0]\n",
    "\n",
    "dr7 = dr7[dr7.iloc[:,54] == 1]\n",
    "\n",
    "_len_after = dr7.shape[0]\n",
    "\n",
    "print(\"Number of objects lost = \" + str(_len_before - _len_after))"
   ]
  },
  {
   "cell_type": "code",
   "execution_count": 6,
   "metadata": {
    "ExecuteTime": {
     "end_time": "2019-08-02T19:50:35.834418Z",
     "start_time": "2019-08-02T19:50:35.829955Z"
    }
   },
   "outputs": [
    {
     "name": "stdout",
     "output_type": "stream",
     "text": [
      "68365\n"
     ]
    }
   ],
   "source": [
    "print(_len_after)"
   ]
  },
  {
   "cell_type": "code",
   "execution_count": 7,
   "metadata": {
    "ExecuteTime": {
     "end_time": "2019-08-02T19:50:35.853694Z",
     "start_time": "2019-08-02T19:50:35.838867Z"
    }
   },
   "outputs": [],
   "source": [
    "Positions_of_dr7 = np.transpose([dr7[1].values, dr7[2].values])"
   ]
  },
  {
   "cell_type": "code",
   "execution_count": 8,
   "metadata": {
    "ExecuteTime": {
     "end_time": "2019-08-02T19:50:35.902301Z",
     "start_time": "2019-08-02T19:50:35.856696Z"
    },
    "code_folding": []
   },
   "outputs": [],
   "source": [
    "data = np.zeros(len(Positions_of_dr7), dtype={'names':('ra', 'dec'),\n",
    "                          'formats':('f8','f8')})\n",
    "\n",
    "data['ra'] = Positions_of_dr7[:,0]\n",
    "data['dec'] =  Positions_of_dr7[:,1]\n",
    "\n",
    "PositionOfQuasars = data\n",
    "\n",
    "# Store the positions for later reference\n",
    "np.save(DATA_DIRECTORY + 'PositionOfQuasars', PositionOfQuasars)\n",
    "PositionOfQuasa = np.load(DATA_DIRECTORY + 'PositionOfQuasars.npy')"
   ]
  },
  {
   "cell_type": "markdown",
   "metadata": {},
   "source": [
    "## HSC"
   ]
  },
  {
   "cell_type": "markdown",
   "metadata": {},
   "source": [
    "The next step of our analysis requires Hyper Subprime Camera data for the SDSS quasars, which we get from https://hsc-release.mtk.nao.ac.jp. If you'd like to download HSC data for yourself, sign up for access here: https://hsc-release.mtk.nao.ac.jp/doc/index.php/tools-2/"
   ]
  },
  {
   "cell_type": "markdown",
   "metadata": {},
   "source": [
    "HSC data is obtained through an SQL query. The next few cells are devoted to setting up said query."
   ]
  },
  {
   "cell_type": "markdown",
   "metadata": {},
   "source": [
    "Each string below represents an attribute of a source that we're searching for."
   ]
  },
  {
   "cell_type": "code",
   "execution_count": 9,
   "metadata": {
    "ExecuteTime": {
     "end_time": "2019-08-02T19:50:35.910276Z",
     "start_time": "2019-08-02T19:50:35.904364Z"
    },
    "code_folding": []
   },
   "outputs": [],
   "source": [
    "column_names=[\"f.ra\",\"f.dec\",\"f.g_cmodel_mag\",\"f.g_cmodel_magsigma\",\"f.r_cmodel_mag\",\"f.r_cmodel_magsigma\",\"f.i_cmodel_mag\",\"f.i_cmodel_magsigma\",\"f2.g_psfflux_mag\",\"f2.g_psfflux_magsigma\",\"f2.r_psfflux_mag\",\n",
    "              \"f2.r_psfflux_magsigma\",\"f2.i_psfflux_mag\",\"f2.i_psfflux_magsigma\",\"f.object_id\",\"f2.g_psfflux_flag\",\"f2.r_psfflux_flag\",\"f2.i_psfflux_flag\",\"f.g_cmodel_flag\",\"f.r_cmodel_flag\",\"f.i_cmodel_flag\",\n",
    "              \"f.g_pixelflags_edge\",\"f.r_pixelflags_edge\",\"f.i_pixelflags_edge\",\"f.g_pixelflags_bad\",\"f.r_pixelflags_bad\",\"f.i_pixelflags_bad\",\"f.g_pixelflags_interpolatedcenter\",\n",
    "              \"f.r_pixelflags_interpolatedcenter\",\"f.i_pixelflags_interpolatedcenter\",\"f.g_pixelflags_saturatedcenter\",\"f.r_pixelflags_saturatedcenter\",\"f.i_pixelflags_saturatedcenter\",\n",
    "              \"f.g_pixelflags_crcenter\",\"f.r_pixelflags_crcenter\",\"f.i_pixelflags_crcenter\"]"
   ]
  },
  {
   "cell_type": "markdown",
   "metadata": {},
   "source": [
    "Head on over to .../AGN_variability_project/Data, and run the following command at your terminal. (You can just copy and paste the output of the next cell)."
   ]
  },
  {
   "cell_type": "code",
   "execution_count": 10,
   "metadata": {
    "ExecuteTime": {
     "end_time": "2019-08-02T19:50:35.928392Z",
     "start_time": "2019-08-02T19:50:35.914013Z"
    },
    "scrolled": false
   },
   "outputs": [
    {
     "name": "stdout",
     "output_type": "stream",
     "text": [
      "python QueryGenerator.py PositionOfQuasars.npy --columns [\"f.ra\",\"f.dec\",\"f.g_cmodel_mag\",\"f.g_cmodel_magsigma\",\"f.r_cmodel_mag\",\"f.r_cmodel_magsigma\",\"f.i_cmodel_mag\",\"f.i_cmodel_magsigma\",\"f2.g_psfflux_mag\",\"f2.g_psfflux_magsigma\",\"f2.r_psfflux_mag\",\"f2.r_psfflux_magsigma\",\"f2.i_psfflux_mag\",\"f2.i_psfflux_magsigma\",\"f.object_id\",\"f2.g_psfflux_flag\",\"f2.r_psfflux_flag\",\"f2.i_psfflux_flag\",\"f.g_cmodel_flag\",\"f.r_cmodel_flag\",\"f.i_cmodel_flag\",\"f.g_pixelflags_edge\",\"f.r_pixelflags_edge\",\"f.i_pixelflags_edge\",\"f.g_pixelflags_bad\",\"f.r_pixelflags_bad\",\"f.i_pixelflags_bad\",\"f.g_pixelflags_interpolatedcenter\",\"f.r_pixelflags_interpolatedcenter\",\"f.i_pixelflags_interpolatedcenter\",\"f.g_pixelflags_saturatedcenter\",\"f.r_pixelflags_saturatedcenter\",\"f.i_pixelflags_saturatedcenter\",\"f.g_pixelflags_crcenter\",\"f.r_pixelflags_crcenter\",\"f.i_pixelflags_crcenter\"]\n"
     ]
    }
   ],
   "source": [
    "print('python QueryGenerator.py PositionOfQuasars.npy --columns ['  \"\\\"\"+\"\\\",\\\"\".join(column_names)+\"\\\"\"+']')"
   ]
  },
  {
   "cell_type": "markdown",
   "metadata": {},
   "source": [
    "Next, copy and paste the output of QueryGenerator.py into the SQL entry box of the CAS search page (find this on the HSC's website). Don't be discouraged if the estimated completion time seems absurd; we once had a query time estimate of 12 days and the run took 58 minutes. This is a known bug."
   ]
  },
  {
   "cell_type": "markdown",
   "metadata": {},
   "source": [
    "You don't need to find your own data, however. If you'd just like to use the HSC catalog we generated, continue to follow along."
   ]
  },
  {
   "cell_type": "code",
   "execution_count": 11,
   "metadata": {
    "ExecuteTime": {
     "end_time": "2019-08-02T19:50:35.993836Z",
     "start_time": "2019-08-02T19:50:35.932067Z"
    }
   },
   "outputs": [],
   "source": [
    "df = pd.read_csv(DATA_DIRECTORY + HSC_CATALOG_NAME)"
   ]
  },
  {
   "cell_type": "code",
   "execution_count": 12,
   "metadata": {
    "ExecuteTime": {
     "end_time": "2019-08-02T19:50:36.008239Z",
     "start_time": "2019-08-02T19:50:36.001109Z"
    }
   },
   "outputs": [],
   "source": [
    "Positions_of_df = np.transpose([df['# ra'].values, df['dec'].values])"
   ]
  },
  {
   "cell_type": "markdown",
   "metadata": {},
   "source": [
    "# Analysis of the output"
   ]
  },
  {
   "cell_type": "markdown",
   "metadata": {},
   "source": [
    "## Initial Analysis"
   ]
  },
  {
   "cell_type": "markdown",
   "metadata": {},
   "source": [
    "Let's start our analysis in earnest. First, we'll check the overlap of the HSC data with SDSS."
   ]
  },
  {
   "cell_type": "code",
   "execution_count": 13,
   "metadata": {
    "ExecuteTime": {
     "end_time": "2019-08-02T19:50:37.031731Z",
     "start_time": "2019-08-02T19:50:36.011372Z"
    }
   },
   "outputs": [
    {
     "data": {
      "image/png": "[encoded data removed]",
      "text/plain": [
       "<Figure size 432x288 with 1 Axes>"
      ]
     },
     "metadata": {
      "needs_background": "light"
     },
     "output_type": "display_data"
    }
   ],
   "source": [
    "plt.scatter(Positions_of_dr7[:, 0], Positions_of_dr7[:, 1], color='black', s=20)\n",
    "plt.scatter(Positions_of_df[:, 0], Positions_of_df[:, 1], color='red', s=5)\n",
    "plt.show()"
   ]
  },
  {
   "cell_type": "markdown",
   "metadata": {},
   "source": [
    "Now that we have some spatial sense of our quasars, let's try to match objects from one catalog to objects in the other catalog. The next two cells should take around a minute to run."
   ]
  },
  {
   "cell_type": "code",
   "execution_count": 14,
   "metadata": {
    "ExecuteTime": {
     "end_time": "2019-08-02T19:51:13.469756Z",
     "start_time": "2019-08-02T19:50:37.034094Z"
    },
    "code_folding": []
   },
   "outputs": [
    {
     "name": "stderr",
     "output_type": "stream",
     "text": [
      "100%|██████████| 68365/68365 [00:36<00:00, 1877.34it/s]\n"
     ]
    }
   ],
   "source": [
    "res_matching = []\n",
    "for j in tqdm(range(len(Positions_of_dr7))):\n",
    "    \n",
    "    # Find the distance between each object in the dr7 catalog and each object in the HSC catalog\n",
    "    PositionOfQuasars_euclidean_distances = euclidean_distances([Positions_of_dr7[j]], Positions_of_df)\n",
    "    \n",
    "    # Find the shortest distance\n",
    "    shortest_distance = np.min(PositionOfQuasars_euclidean_distances[0])\n",
    "    \n",
    "    # Match the elements\n",
    "    shortest_distance_index=np.where(PositionOfQuasars_euclidean_distances[0] == np.min(PositionOfQuasars_euclidean_distances[0]))[0][0]\n",
    "    res_matching.append([shortest_distance, df.iloc[shortest_distance_index].values])"
   ]
  },
  {
   "cell_type": "code",
   "execution_count": 15,
   "metadata": {
    "ExecuteTime": {
     "end_time": "2019-08-02T19:51:27.164338Z",
     "start_time": "2019-08-02T19:51:13.473482Z"
    },
    "code_folding": [],
    "scrolled": true
   },
   "outputs": [
    {
     "name": "stderr",
     "output_type": "stream",
     "text": [
      "100%|██████████| 68365/68365 [00:13<00:00, 5010.67it/s] \n"
     ]
    }
   ],
   "source": [
    "# create array that has objects from SDSS that are found in HSC\n",
    "matched_array = []\n",
    "matched_array_extended_SDSS = []\n",
    "for i in tqdm(range(len(res_matching))):\n",
    "    \n",
    "    if res_matching[i][0] > 0.001:\n",
    "        pass\n",
    "    \n",
    "    else:\n",
    "        # extract columns 0,1,2,3,6,7,8,9,10,11 from SDSS, which are SDSS ID, ra, dec, redshift and psf measurments in different bands (g->[6,7],r->[8,9],i->[10,11])\n",
    "        matched_array.append(np.concatenate((dr7.iloc[i][[0, 1, 2, 3, 6, 7, 8, 9, 10, 11]], res_matching[i][1])))\n",
    "        \n",
    "        # extract columns 1,2,3 which are ra, dec and redshift (plan to add mass from Schen catalog)\n",
    "        matched_array_extended_SDSS.append(np.concatenate((dr7.iloc[i][[1, 2, 3]], res_matching[i][1])))\n",
    "        \n",
    "matched_array = np.array(matched_array)\n",
    "matched_array_extended_SDSS = np.array(matched_array_extended_SDSS)\n",
    "\n",
    "# filter out QSO which failed measurment, (g-band set at 0 in SDSS catlog)\n",
    "matched_array = matched_array[matched_array[:, 4] > 16]\n",
    "#matched_array_extended_SDSS = matched_array_extended_SDSS[matched_array[:, 4] > 16]"
   ]
  },
  {
   "cell_type": "markdown",
   "metadata": {},
   "source": [
    "# Combining both c-model and psf magnitudes and output"
   ]
  },
  {
   "cell_type": "code",
   "execution_count": 16,
   "metadata": {
    "ExecuteTime": {
     "end_time": "2019-07-09T14:00:19.509583Z",
     "start_time": "2019-07-09T14:00:19.494451Z"
    },
    "code_folding": []
   },
   "outputs": [],
   "source": [
    "def extract_g_mag_data(matched_array, SDSSband = 4, HSCband = 18, info=1):\n",
    "    \"\"\"\n",
    "    info just determines if you want a return value of (delta_band, redshift), or\n",
    "    (delta_band, redshift, g_mag_SDSS)\n",
    "    \"\"\"\n",
    "    # Set variables\n",
    "    redshift_col = 3\n",
    "    SDSSerr = SDSSband + 1\n",
    "    HSCerr = HSCband + 1\n",
    "    \n",
    "    interpolated_center = 37\n",
    "    saturated_center = 40\n",
    "    edge_flag = 31\n",
    "    \n",
    "    \n",
    "    matched_array_filtered = matched_array[np.logical_and.reduce((np.isfinite(matched_array[:, SDSSband].astype(float)), \\\n",
    "                                                                  np.isfinite(matched_array[:, HSCband].astype(float)), \\\n",
    "                                                                  np.isfinite(matched_array[:, SDSSerr].astype(float)), \\\n",
    "                                                                  np.isfinite(matched_array[:, HSCerr].astype(float)), \\\n",
    "                                                                  (matched_array[:, interpolated_center] == False), \\\n",
    "                                                                  (matched_array[:, saturated_center] == False), \\\n",
    "                                                                  (matched_array[:, edge_flag] == False), \\\n",
    "                                                                  ))]\n",
    "\n",
    "    band_mag_dif = (matched_array_filtered[:, SDSSband] - matched_array_filtered[:, HSCband]).astype(float)\n",
    "    band_mag_dif = np.vstack((band_mag_dif, matched_array_filtered[:, redshift_col]))\n",
    "    \n",
    "    band_mag_dif_err = np.sqrt(((matched_array_filtered[:, SDSSerr]).astype(float))**2 +\n",
    "                               ((matched_array_filtered[:, HSCerr]).astype(float))**2)\n",
    "    if info == 1:\n",
    "        pass\n",
    "        \n",
    "    if info == 2:\n",
    "        band_mag_dif = np.vstack((band_mag_dif, matched_array_filtered[:, SDSSband]))\n",
    "        \n",
    "    if info == 3:        \n",
    "        band_mag_dif = np.vstack((band_mag_dif, matched_array_filtered[:, HSCband]))\n",
    "    \n",
    "    if info == 4:\n",
    "        band_mag_dif = np.vstack((band_mag_dif, matched_array_filtered[:, interpolated_center]))\n",
    "        band_mag_dif = np.vstack((band_mag_dif, matched_array_filtered[:, saturated_center]))\n",
    "        band_mag_dif = np.vstack((band_mag_dif, matched_array_filtered[:, edge_flag]))\n",
    "        band_mag_dif = np.vstack((band_mag_dif, matched_array_filtered[:, 1]))\n",
    "        band_mag_dif = np.vstack((band_mag_dif, matched_array_filtered[:, 2]))\n",
    "        \n",
    "    return (band_mag_dif.T, band_mag_dif_err)"
   ]
  },
  {
   "cell_type": "code",
   "execution_count": 17,
   "metadata": {
    "ExecuteTime": {
     "end_time": "2019-07-09T14:00:19.587849Z",
     "start_time": "2019-07-09T14:00:19.511843Z"
    },
    "code_folding": []
   },
   "outputs": [],
   "source": [
    "# sdss psf-g band mag - HSC psf-g band mag, with error\n",
    "g_mag_dif_and_redshift, g_mag_err = extract_g_mag_data(matched_array, SDSSband=4, HSCband=18)\n",
    "\n",
    "# sdss psf-r band mag - HSC psf-r band mag, with error\n",
    "r_mag_dif_and_redshift, r_mag_err = extract_g_mag_data(matched_array, SDSSband=6, HSCband=20)\n",
    "\n",
    "# sdss psf-i band mag - HSC psf-i band, with error\n",
    "i_mag_dif_and_redshift, i_mag_err = extract_g_mag_data(matched_array, SDSSband=8, HSCband=22)\n",
    "\n",
    "\n",
    "# sdss psf-g band mag - HSC cmodel-g band mag, with error\n",
    "gcmodel_mag_dif_and_redshift, gcmodel_mag_err = extract_g_mag_data(matched_array, SDSSband=4, HSCband=12)\n",
    "\n",
    "# sdss psf-r band mag - HSC cmodel-r band mag, with error\n",
    "rcmodel_mag_dif_and_redshift, rcmodel_mag_err = extract_g_mag_data(matched_array, SDSSband=6, HSCband=14)\n",
    "\n",
    "# sdss psf-i band mag - HSC cmodel-i band, with error\n",
    "icmodel_mag_dif_and_redshift, icmodel_mag_err = extract_g_mag_data(matched_array, SDSSband=8, HSCband=18)"
   ]
  },
  {
   "cell_type": "markdown",
   "metadata": {},
   "source": [
    "# Small investigation of the properties of sources selected as variable"
   ]
  },
  {
   "cell_type": "markdown",
   "metadata": {
    "heading_collapsed": true
   },
   "source": [
    "## Graphing function"
   ]
  },
  {
   "cell_type": "code",
   "execution_count": 24,
   "metadata": {
    "ExecuteTime": {
     "end_time": "2019-07-06T18:17:50.522141Z",
     "start_time": "2019-07-06T18:17:50.399145Z"
    },
    "code_folding": [],
    "hidden": true
   },
   "outputs": [],
   "source": [
    "def make_graph(data_array, SDSSband=4, HSCband=18, obj_per_bin=100, sortby='redshift', smoothing_method='mean', num_to_choose=None, ylim=None, xlim=None):\n",
    "    '''\n",
    "    Graphing function. \n",
    "    Input is matched_array and your favorite set of parameters.\n",
    "    Output is a graph.\n",
    "    '''\n",
    "    \n",
    "    # Failsafe in case the user forgets to select a number of objects per bin.\n",
    "    if (num_to_choose == None):\n",
    "        num_to_choose = obj_per_bin\n",
    "        \n",
    "    \n",
    "    if (sortby == 'delta_band'):\n",
    "        \n",
    "        # Extract the data that we're going to use.\n",
    "        delta_band_and_redshift, delta_band_err = extract_g_mag_data(data_array, SDSSband, HSCband, info=1)    \n",
    "        \n",
    "        # Split our data into bins. Each bin has \"obj_per_bin\" elements\n",
    "        delta_band_and_redshift_sorted_and_split=np.array_split(delta_band_and_redshift[np.argsort(delta_band_and_redshift[:,0])], int(len(delta_band_and_redshift)/obj_per_bin))\n",
    "        \n",
    "        # The following pair of for loops sorts and smooths the data.\n",
    "        res_delta_band_and_redshift = []\n",
    "        res_delta_band_and_redshift_median = []\n",
    "        res_delta_std = []\n",
    "        \n",
    "        for i in range(len(delta_band_and_redshift_sorted_and_split)):\n",
    "            res_delta_band_and_redshift.append(np.mean(delta_band_and_redshift_sorted_and_split[i],axis=0))\n",
    "            res_delta_band_and_redshift_median.append(np.median(delta_band_and_redshift_sorted_and_split[i],axis=0))\n",
    "            res_delta_std.append(np.array(delta_band_and_redshift_sorted_and_split[i][:,:], dtype=np.float64).std(axis=0))\n",
    "\n",
    "        # Now that our data is in a graph\n",
    "        res_delta_band_and_redshift=np.array(res_delta_band_and_redshift)\n",
    "        res_delta_band_and_redshift_median=np.array(res_delta_band_and_redshift_median)\n",
    "        res_delta_std=np.array(res_delta_std)\n",
    "\n",
    "        \n",
    "        if (smoothing_method == 'mean'):\n",
    "            # Plotting\n",
    "            matplotlib.rcParams.update({'font.size': 12})\n",
    "            plt.figure(figsize=(18,6))\n",
    "            plt.title('negative $\\Delta$ BAND-band values= fainter in HSC; positive $\\Delta$ BAND-band values= brighter in HSC; DATA ORIGIN UNKNOWN')\n",
    "            plt.errorbar(res_delta_band_and_redshift[:,0], res_delta_band_and_redshift[:,1], yerr=res_delta_std[:,1])   \n",
    "            plt.xlabel('$\\Delta$ BAND-band (SDSS - HSC)')\n",
    "            plt.ylabel('redshift')\n",
    "            if (ylim != None):\n",
    "                plt.ylim(ylim[0], ylim[1])\n",
    "            if (xlim != None):\n",
    "                plt.xlim(xlim[0], xlim[1])\n",
    "                \n",
    "            plt.show()\n",
    "        \n",
    "        elif (smoothing_method == 'median'):\n",
    "            # Plotting\n",
    "            matplotlib.rcParams.update({'font.size': 12})\n",
    "            plt.figure(figsize=(18,6))\n",
    "            plt.title('negative $\\Delta$ BAND-band values= fainter in HSC; positive $\\Delta$ BAND-band values= brighter in HSC; DATA ORIGIN UNKNOWN')\n",
    "            plt.errorbar(res_delta_band_and_redshift_median[:,0], res_delta_band_and_redshift_median[:,1], yerr=res_delta_std[:,1])\n",
    "            plt.xlabel('$\\Delta$ g-band (SDSS - HSC)')\n",
    "            plt.ylabel('redshift')\n",
    "            if (ylim != None):\n",
    "                plt.ylim(ylim[0], ylim[1])\n",
    "            if (xlim != None):\n",
    "                plt.xlim(xlim[0], xlim[1])\n",
    "            \n",
    "            plt.show()\n",
    "            \n",
    "        else:\n",
    "            # Throw an error here later\n",
    "            pass\n",
    "    \n",
    "    \n",
    "    elif (sortby == 'redshift'):\n",
    "      \n",
    "        # Extract the data that we're going to use.\n",
    "        delta_band_and_redshift, delta_band_err = extract_g_mag_data(data_array, SDSSband, HSCband, info=1)\n",
    "    \n",
    "    \n",
    "        delta_band_and_redshift_sorted_and_split=np.array_split(delta_band_and_redshift[np.argsort(delta_band_and_redshift[:,1])], int(len(delta_band_and_redshift)/obj_per_bin))\n",
    "\n",
    "        # Smoothing\n",
    "        res_delta_band_and_redshift = []\n",
    "        res_delta_band_and_redshift_median = []\n",
    "        res_delta_std = []\n",
    "        \n",
    "\n",
    "        for i in range(len(delta_band_and_redshift_sorted_and_split)):\n",
    "            res_delta_band_and_redshift.append(np.mean(delta_band_and_redshift_sorted_and_split[i],axis=0))\n",
    "            res_delta_band_and_redshift_median.append(np.median(delta_band_and_redshift_sorted_and_split[i],axis=0))\n",
    "            res_delta_std.append(np.array(delta_band_and_redshift_sorted_and_split[i][:,:], dtype=np.float64).std(axis=0))\n",
    "                \n",
    "        res_delta_band_and_redshift=np.array(res_delta_band_and_redshift)\n",
    "        res_delta_band_and_redshift_median=np.array(res_delta_band_and_redshift_median)\n",
    "        res_delta_std=np.array(res_delta_std)\n",
    "\n",
    "                \n",
    "        second_deg_fit=np.poly1d(np.polyfit(res_delta_band_and_redshift[:,1].astype(float), res_delta_band_and_redshift[:,0].astype(float), 2))\n",
    "    \n",
    "        \n",
    "        if (smoothing_method == 'mean'):\n",
    "            # PLotting\n",
    "            matplotlib.rcParams.update({'font.size': 12})\n",
    "            plt.figure(figsize=(18,6))\n",
    "            plt.title('negative $\\Delta$ BAND-band values= fainter in HSC; positive $\\Delta$ BAND-band values= brighter in HSC; DATA ORIGIN UNKNOWN')\n",
    "            plt.errorbar(res_delta_band_and_redshift[:,1], res_delta_band_and_redshift[:,0], yerr=res_delta_std[:,0])\n",
    "            plt.plot(res_delta_band_and_redshift[:,1], second_deg_fit(res_delta_band_and_redshift[:,1].astype(float)), ls='--', color='orange')    \n",
    "            plt.ylabel('$\\Delta$ BAND-band (SDSS - HSC)')\n",
    "            plt.xlabel('redshift')\n",
    "            if (ylim != None):\n",
    "                plt.ylim(ylim[0], ylim[1])\n",
    "            if (xlim != None):\n",
    "                plt.xlim(xlim[0], xlim[1])\n",
    "                \n",
    "            plt.show()\n",
    "        \n",
    "        elif (smoothing_method == 'median'):\n",
    "            # PLotting\n",
    "            matplotlib.rcParams.update({'font.size': 12})\n",
    "            plt.figure(figsize=(18,6))\n",
    "            plt.title('negative $\\Delta$ BAND-band values= fainter in HSC; positive $\\Delta$ BAND-band values= brighter in HSC; DATA ORIGIN UNKNOWN')\n",
    "            plt.errorbar(res_delta_band_and_redshift_median[:,1], res_delta_band_and_redshift_median[:,0], yerr=res_delta_std[:,0])\n",
    "            plt.plot(res_delta_band_and_redshift_median[:,1], second_deg_fit(res_delta_band_and_redshift_median[:,1].astype(float)), ls='--', color='orange')    \n",
    "            plt.ylabel('$\\Delta$ BAND-band (SDSS - HSC)')\n",
    "            plt.xlabel('redshift')\n",
    "            if (ylim != None):\n",
    "                plt.ylim(ylim[0], ylim[1])\n",
    "            if (xlim != None):\n",
    "                plt.xlim(xlim[0], xlim[1])\n",
    "                \n",
    "            plt.show()\n",
    "    \n",
    "\n",
    "    elif (sortby == 'g_mag_SDSS'):\n",
    "        \n",
    "        # Extract the data that we're going to use.\n",
    "        delta_band_and_redshift, delta_band_err = extract_g_mag_data(data_array, SDSSband, HSCband, info=2)\n",
    "        \n",
    "        \n",
    "        delta_band_and_redshift_sorted_and_split=np.array_split(delta_band_and_redshift[np.argsort(delta_band_and_redshift[:,1])], int(len(delta_band_and_redshift)/obj_per_bin))\n",
    "        \n",
    "        \n",
    "        \n",
    "        # Next we sort each bin by g_mag\n",
    "        for i in range(len(delta_band_and_redshift_sorted_and_split)):\n",
    "            delta_band_and_redshift_sorted_and_split[i] = delta_band_and_redshift_sorted_and_split[i][np.argsort(delta_band_and_redshift_sorted_and_split[i][:, delta_band_and_redshift_sorted_and_split[i].shape[1]-1])]\n",
    "\n",
    "            \n",
    "\n",
    "        res_delta_band_and_redshift = []\n",
    "        res_delta_band_and_redshift_median = []\n",
    "        res_delta_std = []\n",
    "        \n",
    "        if (num_to_choose < 0):\n",
    "            for i in range(len(delta_band_and_redshift_sorted_and_split)):\n",
    "                res_delta_band_and_redshift.append(np.mean(delta_band_and_redshift_sorted_and_split[i][num_to_choose:],axis=0))\n",
    "                res_delta_std.append(np.array(delta_band_and_redshift_sorted_and_split[i][num_to_choose:][:,:], dtype=np.float64).std(axis=0))\n",
    "                res_delta_band_and_redshift_median.append(np.median(delta_band_and_redshift_sorted_and_split[i][num_to_choose:],axis=0))\n",
    "\n",
    "        elif (num_to_choose >= 0):\n",
    "            for i in range(len(delta_band_and_redshift_sorted_and_split)):\n",
    "                res_delta_band_and_redshift.append(np.mean(delta_band_and_redshift_sorted_and_split[i][:num_to_choose],axis=0))\n",
    "                res_delta_band_and_redshift_median.append(np.median(delta_band_and_redshift_sorted_and_split[i][:num_to_choose],axis=0))\n",
    "                res_delta_std.append(np.array(delta_band_and_redshift_sorted_and_split[i][:num_to_choose][:,:], dtype=np.float64).std(axis=0))\n",
    "\n",
    "        else:\n",
    "            # You guessed it, throw an error\n",
    "            pass\n",
    "        \n",
    "        res_delta_band_and_redshift=np.array(res_delta_band_and_redshift)\n",
    "        res_delta_band_and_redshift_median=np.array(res_delta_band_and_redshift_median)\n",
    "        res_delta_std=np.array(res_delta_std)\n",
    "        \n",
    "\n",
    "                \n",
    "        second_deg_fit=np.poly1d(np.polyfit(res_delta_band_and_redshift[:,1].astype(float), res_delta_band_and_redshift[:,0].astype(float), 2))\n",
    "    \n",
    "        \n",
    "        if (smoothing_method == 'mean'):\n",
    "            # PLotting\n",
    "            matplotlib.rcParams.update({'font.size': 12})\n",
    "            plt.figure(figsize=(18,6))\n",
    "            plt.title('negative $\\Delta$ BAND-band values= fainter in HSC; positive $\\Delta$ BAND-band values= brighter in HSC; DATA ORIGIN UNKNOWN')\n",
    "            plt.errorbar(res_delta_band_and_redshift[:,1], res_delta_band_and_redshift[:,0], yerr=res_delta_std[:,0])\n",
    "            plt.plot(res_delta_band_and_redshift[:,1], second_deg_fit(res_delta_band_and_redshift[:,1].astype(float)), ls='--', color='orange')    \n",
    "            plt.ylabel('$\\Delta$ BAND-band (SDSS - HSC)')\n",
    "            plt.xlabel('redshift')\n",
    "            if (ylim != None):\n",
    "                plt.ylim(ylim[0], ylim[1])\n",
    "            if (xlim != None):\n",
    "                plt.xlim(xlim[0], xlim[1])\n",
    "                \n",
    "            plt.show()\n",
    "        \n",
    "        elif (smoothing_method == 'median'):\n",
    "            # PLotting\n",
    "            matplotlib.rcParams.update({'font.size': 12})\n",
    "            plt.figure(figsize=(18,6))\n",
    "            plt.title('negative $\\Delta$ BAND-band values= fainter in HSC; positive $\\Delta$ BAND-band values= brighter in HSC; DATA ORIGIN UNKNOWN')\n",
    "            plt.errorbar(res_delta_band_and_redshift_median[:,1], res_delta_band_and_redshift_median[:,0], yerr=res_delta_std[:,0])\n",
    "            plt.plot(res_delta_band_and_redshift_median[:,1], second_deg_fit(res_delta_band_and_redshift_median[:,1].astype(float)), ls='--', color='orange')    \n",
    "            plt.ylabel('$\\Delta$ BAND-band (SDSS - HSC)')\n",
    "            plt.xlabel('redshift')\n",
    "            if (ylim != None):\n",
    "                plt.ylim(ylim[0], ylim[1])\n",
    "            if (xlim != None):\n",
    "                plt.xlim(xlim[0], xlim[1])\n",
    "                \n",
    "            plt.show()\n",
    "            \n",
    "\n",
    "    elif (sortby == 'g_mag_HSC'):\n",
    "        \n",
    "        # Extract the data that we're going to use.\n",
    "        delta_band_and_redshift, delta_band_err = extract_g_mag_data(data_array, SDSSband, HSCband, info=3)\n",
    "        print(delta_band_redshift.shape)\n",
    "    \n",
    "        \n",
    "        delta_band_and_redshift_sorted_and_split=np.array_split(delta_band_and_redshift[np.argsort(delta_band_and_redshift[:,1])], int(len(delta_band_and_redshift)/obj_per_bin))\n",
    "        \n",
    "        \n",
    "        \n",
    "        # Next we sort each bin by g_mag\n",
    "        for i in range(len(delta_band_and_redshift_sorted_and_split)):\n",
    "            delta_band_and_redshift_sorted_and_split[i] = delta_band_and_redshift_sorted_and_split[i][np.argsort(delta_band_and_redshift_sorted_and_split[i][:, delta_band_and_redshift_sorted_and_split[i].shape[1]-1])]\n",
    "\n",
    "        res_delta_band_and_redshift = []\n",
    "        res_delta_band_and_redshift_median = []\n",
    "        res_delta_std = []\n",
    "        \n",
    "        if (num_to_choose <= 0):\n",
    "            for i in range(len(delta_band_and_redshift_sorted_and_split)):\n",
    "                res_delta_band_and_redshift.append(np.mean(delta_band_and_redshift_sorted_and_split[i][num_to_choose:],axis=0))\n",
    "                res_delta_band_and_redshift_median.append(np.median(delta_band_and_redshift_sorted_and_split[i][num_to_choose:],axis=0))\n",
    "                res_delta_std.append(np.array(delta_band_and_redshift_sorted_and_split[i][num_to_choose:][:,:], dtype=np.float64).std(axis=0))\n",
    "\n",
    "        elif (num_to_choose >= 0):\n",
    "            for i in range(len(delta_band_and_redshift_sorted_and_split)):\n",
    "                res_delta_band_and_redshift.append(np.mean(delta_band_and_redshift_sorted_and_split[i][:num_to_choose],axis=0))\n",
    "                res_delta_band_and_redshift_median.append(np.median(delta_band_and_redshift_sorted_and_split[i][:num_to_choose],axis=0))\n",
    "                res_delta_std.append(np.array(delta_band_and_redshift_sorted_and_split[i][:num_to_choose][:,:], dtype=np.float64).std(axis=0))\n",
    "\n",
    "        else:\n",
    "            # You guessed it, throw an error\n",
    "            pass\n",
    "        \n",
    "        res_delta_band_and_redshift=np.array(res_delta_band_and_redshift)\n",
    "        res_delta_band_and_redshift_median=np.array(res_delta_band_and_redshift_median)\n",
    "        res_delta_std=np.array(res_delta_std)\n",
    "        \n",
    "\n",
    "                \n",
    "        second_deg_fit=np.poly1d(np.polyfit(res_delta_band_and_redshift[:,1].astype(float), res_delta_band_and_redshift[:,0].astype(float), 2))\n",
    "    \n",
    "        \n",
    "        if (smoothing_method == 'mean'):\n",
    "            # PLotting\n",
    "            matplotlib.rcParams.update({'font.size': 12})\n",
    "            plt.figure(figsize=(18,6))\n",
    "            plt.title('negative $\\Delta$ BAND-band values= fainter in HSC; positive $\\Delta$ BAND-band values= brighter in HSC; DATA ORIGIN UNKNOWN')\n",
    "            plt.errorbar(res_delta_band_and_redshift[:,1], res_delta_band_and_redshift[:,0], yerr=res_delta_std[:,0])\n",
    "            plt.plot(res_delta_band_and_redshift[:,1], second_deg_fit(res_delta_band_and_redshift[:,1].astype(float)), ls='--', color='orange')    \n",
    "            plt.ylabel('$\\Delta$ BAND-band (SDSS - HSC)')\n",
    "            plt.xlabel('redshift')\n",
    "            if (ylim != None):\n",
    "                plt.ylim(ylim[0], ylim[1])\n",
    "            if (xlim != None):\n",
    "                plt.xlim(xlim[0], xlim[1])\n",
    "                \n",
    "            plt.show()\n",
    "        \n",
    "        elif (smoothing_method == 'median'):\n",
    "            # PLotting\n",
    "            matplotlib.rcParams.update({'font.size': 12})\n",
    "            plt.figure(figsize=(18,6))\n",
    "            plt.title('negative $\\Delta$ BAND-band values= fainter in HSC; positive $\\Delta$ BAND-band values= brighter in HSC; DATA ORIGIN UNKNOWN')\n",
    "            plt.errorbar(res_delta_band_and_redshift_median[:,1], res_delta_band_and_redshift_median[:,0], yerr=res_delta_std[:,0])\n",
    "            plt.plot(res_delta_band_and_redshift_median[:,1], second_deg_fit(res_delta_band_and_redshift_median[:,1].astype(float)), ls='--', color='orange')    \n",
    "            plt.ylabel('$\\Delta$ BAND-band (SDSS - HSC)')\n",
    "            plt.xlabel('redshift')\n",
    "            if (ylim != None):\n",
    "                plt.ylim(ylim[0], ylim[1])\n",
    "            if (xlim != None):\n",
    "                plt.xlim(xlim[0], xlim[1])\n",
    "                \n",
    "            plt.show()\n",
    "    \n",
    "    \n",
    "    else:\n",
    "        \"Throw an error here later\"\n",
    "        pass\n",
    "\n",
    "    return  "
   ]
  },
  {
   "cell_type": "code",
   "execution_count": 25,
   "metadata": {
    "ExecuteTime": {
     "end_time": "2019-07-06T18:17:51.597131Z",
     "start_time": "2019-07-06T18:17:51.436653Z"
    },
    "hidden": true
   },
   "outputs": [],
   "source": [
    "\"\"\"\n",
    "DRIVER CELL\n",
    "===============\n",
    "data_col needs to be updated for the function to work properly!!\n",
    "delta_g = 4\n",
    "delta_g_cmodel=6\n",
    "delta_r = 10\n",
    "delta_r_cmodel = 12\n",
    "delta_ i = 16\n",
    "delta_i_cmodel = 18\n",
    "\n",
    "\n",
    "PARAMETERS\n",
    "---------------\n",
    "data_array. Where you want to pull information from. \n",
    "data_col. Which column the data is in.\n",
    "obj_per_bin. Self explaintory.\n",
    "sortby. Options are 'redshift', 'delta_band', 'g_mag_HSC', and 'g_mag_SDSS' \n",
    "smoothing_method. Options are 'mean' and 'median'\n",
    "num_to_choose=20. How many objects you want to choose to use from each bin. Only relevant when sorting due to g_band mag. Use a positive number to choose dim objects, negative to choose bright objects.\n",
    "\"\"\"\n",
    "\n",
    "make_graph(matched_array, SDSSband=4, HSCband=18, obj_per_bin=100, sortby='redshift', smoothing_method='mean', num_to_choose=20, ylim=(-0.4, 0.2), xlim=(.1, .3))\n",
    "#make_graph(matched_array, data_col=18, obj_per_bin = 100, sortby='g_mag_SDSS', smoothing_method='mean', num_to_choose=20, ylim=(-0.4, 0.2), xlim=(.1, .3))"
   ]
  },
  {
   "cell_type": "markdown",
   "metadata": {
    "heading_collapsed": true
   },
   "source": [
    "## Further plots"
   ]
  },
  {
   "cell_type": "markdown",
   "metadata": {
    "heading_collapsed": true
   },
   "source": [
    "## Custom order plot"
   ]
  },
  {
   "cell_type": "code",
   "execution_count": null,
   "metadata": {
    "ExecuteTime": {
     "end_time": "2019-06-25T15:39:44.245625Z",
     "start_time": "2019-06-25T15:37:33.756Z"
    },
    "hidden": true
   },
   "outputs": [],
   "source": [
    "np.std(np.array(x[9][:,0]))\n",
    "graphable_data = []\n",
    "for i in range(len(x[9])):\n",
    "    graphable_data.append(x[9][i,0])"
   ]
  },
  {
   "cell_type": "code",
   "execution_count": null,
   "metadata": {
    "ExecuteTime": {
     "end_time": "2019-06-25T15:39:44.247377Z",
     "start_time": "2019-06-25T15:37:34.081Z"
    },
    "hidden": true
   },
   "outputs": [],
   "source": [
    "plt.hist(graphable_data)\n",
    "plt.axvline(np.mean(graphable_data), color='red')\n",
    "plt.hist(graphable_data[-20:])\n",
    "plt.axvline(np.mean(graphable_data[-20:]), color='cyan')\n",
    "plt.hist(graphable_data[:20])\n",
    "plt.axvline(np.mean(graphable_data[:20]), color='black')\n",
    "plt.show()"
   ]
  },
  {
   "cell_type": "markdown",
   "metadata": {
    "hidden": true
   },
   "source": [
    "### New graph"
   ]
  },
  {
   "cell_type": "code",
   "execution_count": 26,
   "metadata": {
    "ExecuteTime": {
     "end_time": "2019-07-06T18:23:08.572248Z",
     "start_time": "2019-07-06T18:23:08.531753Z"
    },
    "hidden": true
   },
   "outputs": [],
   "source": [
    "def DCSP(data_col=4, smoothing_method='mean', ylim=None, num_to_choose=None):\n",
    "    '''\n",
    "    Graphing function. \n",
    "    Input is new_matched_data_array and your favorite set of parameters.\n",
    "    Output is a graph.\n",
    "    '''\n",
    "\n",
    "\n",
    "\n",
    "    #######################\n",
    "    # Set variables\n",
    "    redshift_col = 3\n",
    "    error_col = data_col + 1\n",
    "    g_mag_SDSS_col = 8\n",
    "    obj_per_bin = 100\n",
    "    data_array = matched_data_array\n",
    "    \n",
    "    # Failsafe in case the user forgets to select a number of objects per bin.\n",
    "    \n",
    "    # Extract the data that we're going to use.\n",
    "    delta_band_and_redshift = data_array[:, [data_col, redshift_col]]\n",
    "    \n",
    "    # Add on a row that represents the g_mag in SDSS. We'll sort by this later\n",
    "    delta_band_and_redshift = np.hstack((delta_band_and_redshift, np.reshape(data_array[:, g_mag_SDSS_col], (len(data_array[:]),1)) ))\n",
    "\n",
    "\n",
    "    delta_band_and_redshift_sorted_and_split=np.array_split(delta_band_and_redshift[np.argsort(delta_band_and_redshift[:,1])], int(len(delta_band_and_redshift)/obj_per_bin))\n",
    "\n",
    "\n",
    "\n",
    "    # Next we sort each bin by g_mag\n",
    "    for i in range(len(delta_band_and_redshift_sorted_and_split)):\n",
    "        delta_band_and_redshift_sorted_and_split[i] = delta_band_and_redshift_sorted_and_split[i][np.argsort(delta_band_and_redshift_sorted_and_split[i][:, delta_band_and_redshift_sorted_and_split[i].shape[1]-1])]\n",
    "\n",
    "    \n",
    "    \n",
    "    res_delta_band_and_redshift_0_20 = []\n",
    "    res_delta_band_and_redshift_20_40 = []\n",
    "    res_delta_band_and_redshift_40_60 = []\n",
    "    res_delta_band_and_redshift_60_80 = []\n",
    "    res_delta_band_and_redshift_80_100 = []\n",
    "    res_delta_band_and_redshift_all = []\n",
    "\n",
    "    res_delta_band_and_redshift_0_20_med = []\n",
    "    res_delta_band_and_redshift_20_40_med = []\n",
    "    res_delta_band_and_redshift_40_60_med = []\n",
    "    res_delta_band_and_redshift_60_80_med = []\n",
    "    res_delta_band_and_redshift_80_100_med = []\n",
    "    res_delta_band_and_redshift_all_med = []\n",
    "    \n",
    "    res_delta_std_all = []\n",
    "    \n",
    "    for i in range(len(delta_band_and_redshift_sorted_and_split)):\n",
    "        res_delta_band_and_redshift_0_20.append(np.mean(delta_band_and_redshift_sorted_and_split[i][:20],axis=0))\n",
    "        res_delta_band_and_redshift_20_40.append(np.mean(delta_band_and_redshift_sorted_and_split[i][20:40],axis=0))\n",
    "        res_delta_band_and_redshift_40_60.append(np.mean(delta_band_and_redshift_sorted_and_split[i][40:60],axis=0))\n",
    "        res_delta_band_and_redshift_60_80.append(np.mean(delta_band_and_redshift_sorted_and_split[i][60:80],axis=0))\n",
    "        res_delta_band_and_redshift_80_100.append(np.mean(delta_band_and_redshift_sorted_and_split[i][80:100],axis=0))\n",
    "        res_delta_band_and_redshift_all.append(np.mean(delta_band_and_redshift_sorted_and_split[i],axis=0))\n",
    "        \n",
    "        res_delta_band_and_redshift_0_20_med.append(np.median(delta_band_and_redshift_sorted_and_split[i][:20],axis=0))\n",
    "        res_delta_band_and_redshift_20_40_med.append(np.median(delta_band_and_redshift_sorted_and_split[i][20:40],axis=0))\n",
    "        res_delta_band_and_redshift_40_60_med.append(np.median(delta_band_and_redshift_sorted_and_split[i][40:60],axis=0))\n",
    "        res_delta_band_and_redshift_60_80_med.append(np.median(delta_band_and_redshift_sorted_and_split[i][60:80],axis=0))\n",
    "        res_delta_band_and_redshift_80_100_med.append(np.median(delta_band_and_redshift_sorted_and_split[i][80:100],axis=0))\n",
    "        res_delta_band_and_redshift_all_med.append(np.median(delta_band_and_redshift_sorted_and_split[i],axis=0))\n",
    "\n",
    "        res_delta_std_all.append(np.array(delta_band_and_redshift_sorted_and_split[i][:,:], dtype=np.float64).std(axis=0))\n",
    "        \n",
    "    else:\n",
    "        # You guessed it, throw an error\n",
    "        pass\n",
    "\n",
    "    res_delta_band_and_redshift_0_20 = np.array(res_delta_band_and_redshift_0_20)\n",
    "    res_delta_band_and_redshift_20_40 = np.array(res_delta_band_and_redshift_20_40)\n",
    "    res_delta_band_and_redshift_40_60 = np.array(res_delta_band_and_redshift_40_60)\n",
    "    res_delta_band_and_redshift_60_80 = np.array(res_delta_band_and_redshift_60_80)\n",
    "    res_delta_band_and_redshift_80_100 = np.array(res_delta_band_and_redshift_80_100)\n",
    "    res_delta_band_and_redshift_all = np.array(res_delta_band_and_redshift_all)\n",
    "\n",
    "    res_delta_band_and_redshift_0_20_med = np.array(res_delta_band_and_redshift_0_20_med)\n",
    "    res_delta_band_and_redshift_20_40_med = np.array(res_delta_band_and_redshift_20_40_med)\n",
    "    res_delta_band_and_redshift_40_60_med = np.array(res_delta_band_and_redshift_40_60_med)\n",
    "    res_delta_band_and_redshift_60_80_med = np.array(res_delta_band_and_redshift_60_80_med)\n",
    "    res_delta_band_and_redshift_80_100_med = np.array(res_delta_band_and_redshift_80_100_med)\n",
    "    res_delta_band_and_redshift_all_med = np.array(res_delta_band_and_redshift_all_med)\n",
    "    \n",
    "    res_delta_std_all = np.array(res_delta_std_all)\n",
    "\n",
    "    second_deg_fit_0_20 = np.poly1d(np.polyfit(res_delta_band_and_redshift_0_20[:,1].astype(float), res_delta_band_and_redshift_0_20[:, 0].astype(float), 2))\n",
    "    second_deg_fit_20_40 = np.poly1d(np.polyfit(res_delta_band_and_redshift_20_40[:,1].astype(float), res_delta_band_and_redshift_20_40[:, 0].astype(float), 2))\n",
    "    second_deg_fit_40_60 = np.poly1d(np.polyfit(res_delta_band_and_redshift_40_60[:,1].astype(float), res_delta_band_and_redshift_40_60[:, 0].astype(float), 2))\n",
    "    second_deg_fit_60_80 = np.poly1d(np.polyfit(res_delta_band_and_redshift_60_80[:,1].astype(float), res_delta_band_and_redshift_60_80[:, 0].astype(float), 2))\n",
    "    second_deg_fit_80_100 = np.poly1d(np.polyfit(res_delta_band_and_redshift_80_100[:,1].astype(float), res_delta_band_and_redshift_80_100[:, 0].astype(float), 2))\n",
    "    \n",
    "    second_deg_fit_0_20_med = np.poly1d(np.polyfit(res_delta_band_and_redshift_0_20_med[:,1].astype(float), res_delta_band_and_redshift_0_20_med[:, 0].astype(float), 2))\n",
    "    second_deg_fit_20_40_med = np.poly1d(np.polyfit(res_delta_band_and_redshift_20_40_med[:,1].astype(float), res_delta_band_and_redshift_20_40_med[:, 0].astype(float), 2))\n",
    "    second_deg_fit_40_60_med = np.poly1d(np.polyfit(res_delta_band_and_redshift_40_60_med[:,1].astype(float), res_delta_band_and_redshift_40_60_med[:, 0].astype(float), 2))\n",
    "    second_deg_fit_60_80_med = np.poly1d(np.polyfit(res_delta_band_and_redshift_60_80_med[:,1].astype(float), res_delta_band_and_redshift_60_80_med[:, 0].astype(float), 2))\n",
    "    second_deg_fit_80_100_med = np.poly1d(np.polyfit(res_delta_band_and_redshift_80_100_med[:,1].astype(float), res_delta_band_and_redshift_80_100_med[:, 0].astype(float), 2))\n",
    "\n",
    "\n",
    "    if (smoothing_method == 'mean'):\n",
    "        # PLotting\n",
    "        matplotlib.rcParams.update({'font.size': 12})\n",
    "        plt.figure(figsize=(18,6))\n",
    "        plt.title('negative $\\Delta$ BAND-band values= fainter in HSC; positive $\\Delta$ BAND-band values= brighter in HSC')\n",
    "        plt.errorbar(res_delta_band_and_redshift_all[:,1], res_delta_band_and_redshift_all[:,0], yerr=res_delta_std_all[:,0], color='grey', alpha=.5)\n",
    "        plt.plot(res_delta_band_and_redshift_all[:,1], second_deg_fit_80_100(res_delta_band_and_redshift_80_100[:,1].astype(float)), ls='--', color='blue', label='Brightest')\n",
    "        plt.plot(res_delta_band_and_redshift_all[:,1], second_deg_fit_60_80(res_delta_band_and_redshift_60_80[:,1].astype(float)), ls='--', color='green', label='Brighter')\n",
    "        plt.plot(res_delta_band_and_redshift_all[:,1], second_deg_fit_40_60(res_delta_band_and_redshift_40_60[:,1].astype(float)), ls='--', color='brown', label='Average')\n",
    "        plt.plot(res_delta_band_and_redshift_all[:,1], second_deg_fit_20_40(res_delta_band_and_redshift_20_40[:,1].astype(float)), ls='--', color='orange', label='Dimmer')\n",
    "        plt.plot(res_delta_band_and_redshift_all[:,1], second_deg_fit_0_20(res_delta_band_and_redshift_0_20[:,1].astype(float)), ls='--', color='red', label='Dimmest')        \n",
    "        plt.ylabel('$\\Delta$ BAND-band (SDSS - HSC)')\n",
    "        plt.xlabel('redshift')\n",
    "        if (ylim != None):\n",
    "            plt.ylim(ylim[0], ylim[1])\n",
    "        else:\n",
    "            pass\n",
    "        plt.legend()\n",
    "        plt.show()\n",
    "\n",
    "    elif (smoothing_method == 'median'):\n",
    "        # PLotting\n",
    "        matplotlib.rcParams.update({'font.size': 12})\n",
    "        plt.figure(figsize=(18,6))\n",
    "        plt.title('negative $\\Delta$ BAND-band values= fainter in HSC; positive $\\Delta$ BAND-band values= brighter in HSC')\n",
    "        plt.errorbar(res_delta_band_and_redshift_all_med[:,1], res_delta_band_and_redshift_all_med[:,0], yerr=res_delta_std_all[:,0], color='grey', alpha=.5)\n",
    "        plt.plot(res_delta_band_and_redshift_all_med[:,1], second_deg_fit_80_100(res_delta_band_and_redshift_80_100_med[:,1].astype(float)), ls='--', color='blue', label='Brightest')\n",
    "        plt.plot(res_delta_band_and_redshift_all_med[:,1], second_deg_fit_60_80(res_delta_band_and_redshift_60_80_med[:,1].astype(float)), ls='--', color='green', label='Brighter')\n",
    "        plt.plot(res_delta_band_and_redshift_all_med[:,1], second_deg_fit_40_60(res_delta_band_and_redshift_40_60_med[:,1].astype(float)), ls='--', color='brown', label='Average')\n",
    "        plt.plot(res_delta_band_and_redshift_all_med[:,1], second_deg_fit_20_40(res_delta_band_and_redshift_20_40_med[:,1].astype(float)), ls='--', color='orange', label='Dimmer')\n",
    "        plt.plot(res_delta_band_and_redshift_all_med[:,1], second_deg_fit_0_20(res_delta_band_and_redshift_0_20_med[:,1].astype(float)), ls='--', color='red', label='Dimmest')           \n",
    "        plt.ylabel('$\\Delta$ BAND-band (SDSS - HSC)')\n",
    "        plt.xlabel('redshift')\n",
    "        if (ylim != None):\n",
    "            plt.ylim(ylim[0], ylim[1])\n",
    "        else:\n",
    "            pass\n",
    "        plt.legend()\n",
    "        plt.show()\n",
    "    pass"
   ]
  },
  {
   "cell_type": "code",
   "execution_count": 27,
   "metadata": {
    "ExecuteTime": {
     "end_time": "2019-07-06T18:23:13.208968Z",
     "start_time": "2019-07-06T18:23:12.970207Z"
    },
    "hidden": true
   },
   "outputs": [
    {
     "ename": "NameError",
     "evalue": "name 'matched_data_array' is not defined",
     "output_type": "error",
     "traceback": [
      "\u001b[0;31m---------------------------------------------------------------------------\u001b[0m",
      "\u001b[0;31mNameError\u001b[0m                                 Traceback (most recent call last)",
      "\u001b[0;32m<ipython-input-27-d3edfe42b7a4>\u001b[0m in \u001b[0;36m<module>\u001b[0;34m\u001b[0m\n\u001b[1;32m      1\u001b[0m \u001b[0;31m# Test cell\u001b[0m\u001b[0;34m\u001b[0m\u001b[0;34m\u001b[0m\u001b[0;34m\u001b[0m\u001b[0m\n\u001b[1;32m      2\u001b[0m \u001b[0;34m\u001b[0m\u001b[0m\n\u001b[0;32m----> 3\u001b[0;31m \u001b[0mDCSP\u001b[0m\u001b[0;34m(\u001b[0m\u001b[0mdata_col\u001b[0m\u001b[0;34m=\u001b[0m\u001b[0;36m16\u001b[0m\u001b[0;34m,\u001b[0m \u001b[0msmoothing_method\u001b[0m\u001b[0;34m=\u001b[0m\u001b[0;34m'mean'\u001b[0m\u001b[0;34m,\u001b[0m \u001b[0mylim\u001b[0m\u001b[0;34m=\u001b[0m\u001b[0;34m(\u001b[0m\u001b[0;34m-\u001b[0m\u001b[0;36m.4\u001b[0m\u001b[0;34m,\u001b[0m \u001b[0;36m.4\u001b[0m\u001b[0;34m)\u001b[0m\u001b[0;34m,\u001b[0m \u001b[0mnum_to_choose\u001b[0m\u001b[0;34m=\u001b[0m\u001b[0;36m100\u001b[0m\u001b[0;34m)\u001b[0m\u001b[0;34m\u001b[0m\u001b[0;34m\u001b[0m\u001b[0m\n\u001b[0m\u001b[1;32m      4\u001b[0m \u001b[0mDCSP\u001b[0m\u001b[0;34m(\u001b[0m\u001b[0mdata_col\u001b[0m\u001b[0;34m=\u001b[0m\u001b[0;36m18\u001b[0m\u001b[0;34m,\u001b[0m \u001b[0msmoothing_method\u001b[0m\u001b[0;34m=\u001b[0m\u001b[0;34m'mean'\u001b[0m\u001b[0;34m,\u001b[0m \u001b[0mylim\u001b[0m\u001b[0;34m=\u001b[0m\u001b[0;34m(\u001b[0m\u001b[0;34m-\u001b[0m\u001b[0;36m.4\u001b[0m\u001b[0;34m,\u001b[0m\u001b[0;36m.4\u001b[0m\u001b[0;34m)\u001b[0m\u001b[0;34m,\u001b[0m \u001b[0mnum_to_choose\u001b[0m\u001b[0;34m=\u001b[0m\u001b[0;36m100\u001b[0m\u001b[0;34m)\u001b[0m\u001b[0;34m\u001b[0m\u001b[0;34m\u001b[0m\u001b[0m\n",
      "\u001b[0;32m<ipython-input-26-3e64e1c7c759>\u001b[0m in \u001b[0;36mDCSP\u001b[0;34m(data_col, smoothing_method, ylim, num_to_choose)\u001b[0m\n\u001b[1;32m     10\u001b[0m     \u001b[0mg_mag_SDSS_col\u001b[0m \u001b[0;34m=\u001b[0m \u001b[0;36m8\u001b[0m\u001b[0;34m\u001b[0m\u001b[0;34m\u001b[0m\u001b[0m\n\u001b[1;32m     11\u001b[0m     \u001b[0mobj_per_bin\u001b[0m \u001b[0;34m=\u001b[0m \u001b[0;36m100\u001b[0m\u001b[0;34m\u001b[0m\u001b[0;34m\u001b[0m\u001b[0m\n\u001b[0;32m---> 12\u001b[0;31m     \u001b[0mdata_array\u001b[0m \u001b[0;34m=\u001b[0m \u001b[0mmatched_data_array\u001b[0m\u001b[0;34m\u001b[0m\u001b[0;34m\u001b[0m\u001b[0m\n\u001b[0m\u001b[1;32m     13\u001b[0m \u001b[0;34m\u001b[0m\u001b[0m\n\u001b[1;32m     14\u001b[0m     \u001b[0;31m# Failsafe in case the user forgets to select a number of objects per bin.\u001b[0m\u001b[0;34m\u001b[0m\u001b[0;34m\u001b[0m\u001b[0;34m\u001b[0m\u001b[0m\n",
      "\u001b[0;31mNameError\u001b[0m: name 'matched_data_array' is not defined"
     ]
    }
   ],
   "source": [
    "# Test cell\n",
    "\n",
    "DCSP(data_col=16, smoothing_method='mean', ylim=(-.4, .4), num_to_choose=100)\n",
    "DCSP(data_col=18, smoothing_method='mean', ylim=(-.4,.4), num_to_choose=100)"
   ]
  },
  {
   "cell_type": "markdown",
   "metadata": {},
   "source": [
    "# Plots"
   ]
  },
  {
   "cell_type": "markdown",
   "metadata": {
    "heading_collapsed": true
   },
   "source": [
    "## Change in luminosity as a function of redshift. HSC data is from psf model."
   ]
  },
  {
   "cell_type": "code",
   "execution_count": 185,
   "metadata": {
    "ExecuteTime": {
     "end_time": "2019-07-02T18:57:30.362409Z",
     "start_time": "2019-07-02T18:57:30.229035Z"
    },
    "hidden": true
   },
   "outputs": [],
   "source": [
    "# below we are seeing, most probably, difference between SDSS and HSC filters \n",
    "matplotlib.rcParams.update({'font.size': 12})\n",
    "plt.figure(figsize=(18,6))\n",
    "plt.subplot(121)\n",
    "plt.suptitle('negative $\\Delta$ g-band values= fainter in HSC; positive $\\Delta$ g-band values= brighter in HSC; Both data from psf')\n",
    "plt.plot(res_delta_redshift_via_delta[:,0],res_delta_redshift_via_delta[:,1])\n",
    "#plt.plot(res_delta_redshift_via_delta_median[:,0],res_delta_redshift_via_delta_median[:,1],alpha=0.2)\n",
    "plt.xlabel('$\\Delta$ g-band (SDSS - HSC)')\n",
    "plt.ylabel('redshift')\n",
    "plt.subplot(122)\n",
    "plt.plot(res_delta_redshift_via_redshift[:,1],res_delta_redshift_via_redshift[:,0])\n",
    "#plt.plot(res_delta_redshift_via_redshift_median[:,1],res_delta_redshift_via_redshift_median[:,0],alpha=0.2)\n",
    "plt.ylabel('$\\Delta$ g-band (SDSS - HSC)')\n",
    "plt.xlabel('redshift')\n",
    "plt.show()"
   ]
  },
  {
   "cell_type": "code",
   "execution_count": null,
   "metadata": {
    "ExecuteTime": {
     "end_time": "2019-06-25T15:39:44.268884Z",
     "start_time": "2019-06-25T15:37:38.862Z"
    },
    "hidden": true
   },
   "outputs": [],
   "source": [
    "matplotlib.rcParams.update({'font.size': 12})\n",
    "plt.figure(figsize=(18,6))\n",
    "plt.subplot(121)\n",
    "plt.suptitle('negative $\\Delta$ r-band values= fainter in HSC; positive $\\Delta$ r-band values= brighter in HSC; Both data from psf')\n",
    "plt.plot(res_delta_redshift_via_delta_r[:,0],res_delta_redshift_via_delta_r[:,1])\n",
    "#plt.plot(res_delta_redshift_via_delta_median[:,0],res_delta_redshift_via_delta_median[:,1],alpha=0.2)\n",
    "plt.xlabel('$\\Delta$ g-band (SDSS - HSC)')\n",
    "plt.ylabel('redshift')\n",
    "plt.subplot(122)\n",
    "plt.plot(res_delta_redshift_via_redshift_r[:,1],res_delta_redshift_via_redshift_r[:,0])\n",
    "plt.plot(res_delta_redshift_via_redshift_r[:,1],p20_r(res_delta_redshift_via_redshift_r[:,1]),ls='--',color='orange')\n",
    "#plt.plot(res_delta_redshift_via_redshift_median[:,1],res_delta_redshift_via_redshift_median[:,0],alpha=0.2)\n",
    "plt.ylabel('$\\Delta$ g-band (SDSS - HSC)')\n",
    "plt.xlabel('redshift')\n",
    "plt.show()"
   ]
  },
  {
   "cell_type": "code",
   "execution_count": null,
   "metadata": {
    "ExecuteTime": {
     "end_time": "2019-06-25T15:39:44.270882Z",
     "start_time": "2019-06-25T15:37:39.112Z"
    },
    "hidden": true
   },
   "outputs": [],
   "source": [
    "matplotlib.rcParams.update({'font.size': 12})\n",
    "plt.figure(figsize=(18,6))\n",
    "plt.subplot(121)\n",
    "plt.suptitle('negative $\\Delta$ i-band values= fainter in HSC; positive $\\Delta$ i-band values= brighter in HSC; Both data from psf')\n",
    "plt.plot(res_delta_redshift_via_delta_i[:,0],res_delta_redshift_via_delta_i[:,1])\n",
    "#plt.plot(res_delta_redshift_via_delta_median[:,0],res_delta_redshift_via_delta_median[:,1],alpha=0.2)\n",
    "plt.xlabel('$\\Delta$ i-band (SDSS - HSC)')\n",
    "plt.ylabel('redshift')\n",
    "plt.subplot(122)\n",
    "plt.plot(res_delta_redshift_via_redshift_i[:,1],res_delta_redshift_via_redshift_i[:,0])\n",
    "plt.plot(res_delta_redshift_via_redshift_i[:,1],p20_i(res_delta_redshift_via_redshift_i[:,1]),ls='--',color='orange')\n",
    "#plt.plot(res_delta_redshift_via_redshift_median[:,1],res_delta_redshift_via_redshift_median[:,0],alpha=0.2)\n",
    "plt.ylabel('$\\Delta$ i-band (SDSS - HSC)')\n",
    "plt.xlabel('redshift')\n",
    "plt.show()"
   ]
  },
  {
   "cell_type": "markdown",
   "metadata": {
    "heading_collapsed": true
   },
   "source": [
    "## Change in luminosity as a function of redshift. HSC data is from cmodel."
   ]
  },
  {
   "cell_type": "code",
   "execution_count": null,
   "metadata": {
    "ExecuteTime": {
     "end_time": "2019-06-25T15:39:44.272561Z",
     "start_time": "2019-06-25T15:37:39.835Z"
    },
    "hidden": true
   },
   "outputs": [],
   "source": [
    "# below we are seeing, most probably, difference between SDSS and HSC filters \n",
    "matplotlib.rcParams.update({'font.size': 12})\n",
    "plt.figure(figsize=(18,6))\n",
    "plt.subplot(121)\n",
    "plt.suptitle('negative $\\Delta$ g-band values= fainter in HSC; positive $\\Delta$ g-band values= brighter in HSC; HSC data is from cmodel')\n",
    "plt.plot(res_delta_redshift_via_delta_gcmodel[:,0],res_delta_redshift_via_delta_gcmodel[:,1])\n",
    "#plt.plot(res_delta_redshift_via_delta_median[:,0],res_delta_redshift_via_delta_median[:,1],alpha=0.2)\n",
    "plt.xlabel('$\\Delta$ g-band (SDSS - HSC)')\n",
    "plt.ylabel('redshift')\n",
    "plt.subplot(122)\n",
    "plt.plot(res_delta_redshift_via_redshift_gcmodel[:,1],res_delta_redshift_via_redshift_gcmodel[:,0])\n",
    "plt.plot(res_delta_redshift_via_redshift_gcmodel[:,1],p20_g(res_delta_redshift_via_redshift_gcmodel[:,1].astype(float)),ls='--',color='orange')\n",
    "#plt.plot(res_delta_redshift_via_redshift_median[:,1],res_delta_redshift_via_redshift_median[:,0],alpha=0.2)\n",
    "plt.ylabel('$\\Delta$ g-band (SDSS - HSC)')\n",
    "plt.xlabel('redshift')\n",
    "plt.show()"
   ]
  },
  {
   "cell_type": "code",
   "execution_count": null,
   "metadata": {
    "ExecuteTime": {
     "end_time": "2019-06-25T15:39:44.274684Z",
     "start_time": "2019-06-25T15:37:40.178Z"
    },
    "hidden": true
   },
   "outputs": [],
   "source": [
    "matplotlib.rcParams.update({'font.size': 12})\n",
    "plt.figure(figsize=(18,6))\n",
    "plt.subplot(121)\n",
    "plt.suptitle('negative $\\Delta$ r-band values= fainter in HSC; positive $\\Delta$ r-band values= brighter in HSC; Both data from psf')\n",
    "plt.plot(res_delta_redshift_via_delta_rcmodel[:,0],res_delta_redshift_via_delta_rcmodel[:,1])\n",
    "#plt.plot(res_delta_redshift_via_delta_median[:,0],res_delta_redshift_via_delta_median[:,1],alpha=0.2)\n",
    "plt.xlabel('$\\Delta$ g-band (SDSS - HSC)')\n",
    "plt.ylabel('redshift')\n",
    "plt.subplot(122)\n",
    "plt.plot(res_delta_redshift_via_redshift_rcmodel[:,1],res_delta_redshift_via_redshift_rcmodel[:,0])\n",
    "plt.plot(res_delta_redshift_via_redshift_rcmodel[:,1],p20_r(res_delta_redshift_via_redshift_rcmodel[:,1]),ls='--',color='orange')\n",
    "#plt.plot(res_delta_redshift_via_redshift_median[:,1],res_delta_redshift_via_redshift_median[:,0],alpha=0.2)\n",
    "plt.ylabel('$\\Delta$ g-band (SDSS - HSC)')\n",
    "plt.xlabel('redshift')\n",
    "plt.show()"
   ]
  },
  {
   "cell_type": "code",
   "execution_count": null,
   "metadata": {
    "ExecuteTime": {
     "end_time": "2019-06-25T15:39:44.276305Z",
     "start_time": "2019-06-25T15:37:40.509Z"
    },
    "hidden": true
   },
   "outputs": [],
   "source": [
    "matplotlib.rcParams.update({'font.size': 12})\n",
    "plt.figure(figsize=(18,6))\n",
    "plt.subplot(121)\n",
    "plt.suptitle('negative $\\Delta$ i-band values= fainter in HSC; positive $\\Delta$ i-band values= brighter in HSC; HSC data is from cmodel')\n",
    "plt.plot(res_delta_redshift_via_delta_icmodel[:,0],res_delta_redshift_via_delta_icmodel[:,1])\n",
    "#plt.plot(res_delta_redshift_via_delta_median[:,0],res_delta_redshift_via_delta_median[:,1],alpha=0.2)\n",
    "plt.xlabel('$\\Delta$ i-band (SDSS - HSC)')\n",
    "plt.ylabel('redshift')\n",
    "plt.subplot(122)\n",
    "plt.plot(res_delta_redshift_via_redshift_icmodel[:,1],res_delta_redshift_via_redshift_icmodel[:,0])\n",
    "plt.plot(res_delta_redshift_via_redshift_icmodel[:,1],p20_i(res_delta_redshift_via_redshift_icmodel[:,1]),ls='--',color='orange')\n",
    "#plt.plot(res_delata_redshift_via_redshift_median[:,1],res_delta_redshift_via_redshift_median[:,0],alpha=0.2)\n",
    "plt.ylabel('$\\Delta$ i-band (SDSS - HSC)')\n",
    "plt.xlabel('redshift')\n",
    "plt.show()"
   ]
  },
  {
   "cell_type": "markdown",
   "metadata": {
    "heading_collapsed": true
   },
   "source": [
    "## More graphs"
   ]
  },
  {
   "cell_type": "code",
   "execution_count": null,
   "metadata": {
    "ExecuteTime": {
     "end_time": "2019-06-18T19:33:27.937964Z",
     "start_time": "2019-06-18T19:33:27.930889Z"
    },
    "hidden": true
   },
   "outputs": [],
   "source": [
    "res_delta_redshift_via_redshift"
   ]
  },
  {
   "cell_type": "code",
   "execution_count": null,
   "metadata": {
    "ExecuteTime": {
     "end_time": "2019-06-18T19:34:25.154240Z",
     "start_time": "2019-06-18T19:34:24.929699Z"
    },
    "hidden": true
   },
   "outputs": [],
   "source": [
    "matplotlib.rcParams.update({'font.size': 12})\n",
    "plt.figure(figsize=(18,6))\n",
    "plt.plot(res_delta_redshift_via_redshift[:,1],res_delta_redshift_via_redshift_median[:,0])\n",
    "plt.plot(res_delta_redshift_via_redshift[:,1],p20_g(res_delta_redshift_via_redshift[:,1].astype(float)),ls='--',color='orange')\n",
    "plt.ylabel('$\\Delta$ g-band (SDSS - HSC)')\n",
    "plt.xlabel('redshift')\n",
    "plt.show()"
   ]
  },
  {
   "cell_type": "markdown",
   "metadata": {},
   "source": [
    "## Nice plot summarizing what we've done."
   ]
  },
  {
   "cell_type": "markdown",
   "metadata": {},
   "source": [
    "### Old Code"
   ]
  },
  {
   "cell_type": "code",
   "execution_count": 16,
   "metadata": {
    "ExecuteTime": {
     "end_time": "2019-08-02T19:52:38.534730Z",
     "start_time": "2019-08-02T19:51:27.167517Z"
    }
   },
   "outputs": [
    {
     "name": "stderr",
     "output_type": "stream",
     "text": [
      "Skipping line 305: Expected 75 fields in line 305, saw 76. Error could possibly be due to quotes being ignored when a multi-char delimiter is used.\n",
      "Skipping line 1633: Expected 75 fields in line 1633, saw 76. Error could possibly be due to quotes being ignored when a multi-char delimiter is used.\n",
      "Skipping line 1745: Expected 75 fields in line 1745, saw 76. Error could possibly be due to quotes being ignored when a multi-char delimiter is used.\n",
      "Skipping line 1828: Expected 75 fields in line 1828, saw 76. Error could possibly be due to quotes being ignored when a multi-char delimiter is used.\n",
      "Skipping line 3631: Expected 75 fields in line 3631, saw 76. Error could possibly be due to quotes being ignored when a multi-char delimiter is used.\n",
      "Skipping line 4123: Expected 75 fields in line 4123, saw 76. Error could possibly be due to quotes being ignored when a multi-char delimiter is used.\n",
      "Skipping line 4124: Expected 75 fields in line 4124, saw 76. Error could possibly be due to quotes being ignored when a multi-char delimiter is used.\n",
      "Skipping line 4238: Expected 75 fields in line 4238, saw 76. Error could possibly be due to quotes being ignored when a multi-char delimiter is used.\n",
      "Skipping line 4248: Expected 75 fields in line 4248, saw 76. Error could possibly be due to quotes being ignored when a multi-char delimiter is used.\n",
      "Skipping line 5456: Expected 75 fields in line 5456, saw 76. Error could possibly be due to quotes being ignored when a multi-char delimiter is used.\n",
      "Skipping line 6375: Expected 75 fields in line 6375, saw 76. Error could possibly be due to quotes being ignored when a multi-char delimiter is used.\n",
      "Skipping line 10353: Expected 75 fields in line 10353, saw 76. Error could possibly be due to quotes being ignored when a multi-char delimiter is used.\n",
      "Skipping line 14972: Expected 75 fields in line 14972, saw 76. Error could possibly be due to quotes being ignored when a multi-char delimiter is used.\n",
      "Skipping line 18544: Expected 75 fields in line 18544, saw 76. Error could possibly be due to quotes being ignored when a multi-char delimiter is used.\n",
      "Skipping line 18641: Expected 75 fields in line 18641, saw 76. Error could possibly be due to quotes being ignored when a multi-char delimiter is used.\n",
      "Skipping line 18809: Expected 75 fields in line 18809, saw 76. Error could possibly be due to quotes being ignored when a multi-char delimiter is used.\n",
      "Skipping line 21010: Expected 75 fields in line 21010, saw 76. Error could possibly be due to quotes being ignored when a multi-char delimiter is used.\n",
      "Skipping line 21361: Expected 75 fields in line 21361, saw 76. Error could possibly be due to quotes being ignored when a multi-char delimiter is used.\n",
      "Skipping line 21437: Expected 75 fields in line 21437, saw 76. Error could possibly be due to quotes being ignored when a multi-char delimiter is used.\n",
      "Skipping line 23667: Expected 75 fields in line 23667, saw 76. Error could possibly be due to quotes being ignored when a multi-char delimiter is used.\n",
      "Skipping line 24564: Expected 75 fields in line 24564, saw 76. Error could possibly be due to quotes being ignored when a multi-char delimiter is used.\n",
      "Skipping line 25106: Expected 75 fields in line 25106, saw 76. Error could possibly be due to quotes being ignored when a multi-char delimiter is used.\n",
      "Skipping line 25702: Expected 75 fields in line 25702, saw 76. Error could possibly be due to quotes being ignored when a multi-char delimiter is used.\n",
      "Skipping line 25756: Expected 75 fields in line 25756, saw 76. Error could possibly be due to quotes being ignored when a multi-char delimiter is used.\n",
      "Skipping line 26759: Expected 75 fields in line 26759, saw 76. Error could possibly be due to quotes being ignored when a multi-char delimiter is used.\n",
      "Skipping line 28490: Expected 75 fields in line 28490, saw 76. Error could possibly be due to quotes being ignored when a multi-char delimiter is used.\n",
      "Skipping line 28815: Expected 75 fields in line 28815, saw 76. Error could possibly be due to quotes being ignored when a multi-char delimiter is used.\n",
      "Skipping line 29963: Expected 75 fields in line 29963, saw 76. Error could possibly be due to quotes being ignored when a multi-char delimiter is used.\n",
      "Skipping line 33691: Expected 75 fields in line 33691, saw 76. Error could possibly be due to quotes being ignored when a multi-char delimiter is used.\n",
      "Skipping line 33920: Expected 75 fields in line 33920, saw 76. Error could possibly be due to quotes being ignored when a multi-char delimiter is used.\n",
      "Skipping line 34775: Expected 75 fields in line 34775, saw 76. Error could possibly be due to quotes being ignored when a multi-char delimiter is used.\n",
      "Skipping line 35598: Expected 75 fields in line 35598, saw 76. Error could possibly be due to quotes being ignored when a multi-char delimiter is used.\n",
      "Skipping line 36729: Expected 75 fields in line 36729, saw 76. Error could possibly be due to quotes being ignored when a multi-char delimiter is used.\n",
      "Skipping line 37012: Expected 75 fields in line 37012, saw 76. Error could possibly be due to quotes being ignored when a multi-char delimiter is used.\n",
      "Skipping line 40860: Expected 75 fields in line 40860, saw 76. Error could possibly be due to quotes being ignored when a multi-char delimiter is used.\n",
      "Skipping line 41001: Expected 75 fields in line 41001, saw 76. Error could possibly be due to quotes being ignored when a multi-char delimiter is used.\n",
      "Skipping line 41012: Expected 75 fields in line 41012, saw 76. Error could possibly be due to quotes being ignored when a multi-char delimiter is used.\n",
      "Skipping line 41076: Expected 75 fields in line 41076, saw 76. Error could possibly be due to quotes being ignored when a multi-char delimiter is used.\n",
      "Skipping line 41080: Expected 75 fields in line 41080, saw 76. Error could possibly be due to quotes being ignored when a multi-char delimiter is used.\n",
      "Skipping line 41268: Expected 75 fields in line 41268, saw 76. Error could possibly be due to quotes being ignored when a multi-char delimiter is used.\n",
      "Skipping line 41335: Expected 75 fields in line 41335, saw 76. Error could possibly be due to quotes being ignored when a multi-char delimiter is used.\n",
      "Skipping line 41952: Expected 75 fields in line 41952, saw 76. Error could possibly be due to quotes being ignored when a multi-char delimiter is used.\n",
      "Skipping line 42080: Expected 75 fields in line 42080, saw 76. Error could possibly be due to quotes being ignored when a multi-char delimiter is used.\n",
      "Skipping line 42206: Expected 75 fields in line 42206, saw 76. Error could possibly be due to quotes being ignored when a multi-char delimiter is used.\n",
      "Skipping line 43184: Expected 75 fields in line 43184, saw 76. Error could possibly be due to quotes being ignored when a multi-char delimiter is used.\n",
      "Skipping line 43655: Expected 75 fields in line 43655, saw 77. Error could possibly be due to quotes being ignored when a multi-char delimiter is used.\n",
      "Skipping line 43770: Expected 75 fields in line 43770, saw 76. Error could possibly be due to quotes being ignored when a multi-char delimiter is used.\n",
      "Skipping line 43857: Expected 75 fields in line 43857, saw 76. Error could possibly be due to quotes being ignored when a multi-char delimiter is used.\n",
      "Skipping line 44262: Expected 75 fields in line 44262, saw 76. Error could possibly be due to quotes being ignored when a multi-char delimiter is used.\n",
      "Skipping line 45311: Expected 75 fields in line 45311, saw 77. Error could possibly be due to quotes being ignored when a multi-char delimiter is used.\n",
      "Skipping line 49664: Expected 75 fields in line 49664, saw 76. Error could possibly be due to quotes being ignored when a multi-char delimiter is used.\n",
      "Skipping line 49762: Expected 75 fields in line 49762, saw 76. Error could possibly be due to quotes being ignored when a multi-char delimiter is used.\n",
      "Skipping line 51345: Expected 75 fields in line 51345, saw 76. Error could possibly be due to quotes being ignored when a multi-char delimiter is used.\n",
      "Skipping line 53261: Expected 75 fields in line 53261, saw 76. Error could possibly be due to quotes being ignored when a multi-char delimiter is used.\n",
      "Skipping line 53752: Expected 75 fields in line 53752, saw 76. Error could possibly be due to quotes being ignored when a multi-char delimiter is used.\n",
      "Skipping line 55282: Expected 75 fields in line 55282, saw 76. Error could possibly be due to quotes being ignored when a multi-char delimiter is used.\n",
      "Skipping line 55324: Expected 75 fields in line 55324, saw 76. Error could possibly be due to quotes being ignored when a multi-char delimiter is used.\n",
      "Skipping line 55515: Expected 75 fields in line 55515, saw 76. Error could possibly be due to quotes being ignored when a multi-char delimiter is used.\n",
      "Skipping line 55734: Expected 75 fields in line 55734, saw 76. Error could possibly be due to quotes being ignored when a multi-char delimiter is used.\n",
      "Skipping line 56635: Expected 75 fields in line 56635, saw 76. Error could possibly be due to quotes being ignored when a multi-char delimiter is used.\n",
      "Skipping line 57989: Expected 75 fields in line 57989, saw 76. Error could possibly be due to quotes being ignored when a multi-char delimiter is used.\n",
      "Skipping line 57996: Expected 75 fields in line 57996, saw 76. Error could possibly be due to quotes being ignored when a multi-char delimiter is used.\n",
      "Skipping line 58059: Expected 75 fields in line 58059, saw 76. Error could possibly be due to quotes being ignored when a multi-char delimiter is used.\n",
      "Skipping line 58108: Expected 75 fields in line 58108, saw 76. Error could possibly be due to quotes being ignored when a multi-char delimiter is used.\n",
      "Skipping line 58647: Expected 75 fields in line 58647, saw 76. Error could possibly be due to quotes being ignored when a multi-char delimiter is used.\n",
      "Skipping line 60159: Expected 75 fields in line 60159, saw 76. Error could possibly be due to quotes being ignored when a multi-char delimiter is used.\n",
      "Skipping line 60198: Expected 75 fields in line 60198, saw 76. Error could possibly be due to quotes being ignored when a multi-char delimiter is used.\n",
      "Skipping line 60200: Expected 75 fields in line 60200, saw 76. Error could possibly be due to quotes being ignored when a multi-char delimiter is used.\n",
      "Skipping line 60376: Expected 75 fields in line 60376, saw 76. Error could possibly be due to quotes being ignored when a multi-char delimiter is used.\n",
      "Skipping line 61344: Expected 75 fields in line 61344, saw 76. Error could possibly be due to quotes being ignored when a multi-char delimiter is used.\n",
      "Skipping line 63658: Expected 75 fields in line 63658, saw 76. Error could possibly be due to quotes being ignored when a multi-char delimiter is used.\n",
      "Skipping line 63750: Expected 75 fields in line 63750, saw 76. Error could possibly be due to quotes being ignored when a multi-char delimiter is used.\n",
      "Skipping line 64216: Expected 75 fields in line 64216, saw 76. Error could possibly be due to quotes being ignored when a multi-char delimiter is used.\n",
      "Skipping line 64294: Expected 75 fields in line 64294, saw 76. Error could possibly be due to quotes being ignored when a multi-char delimiter is used.\n",
      "Skipping line 64299: Expected 75 fields in line 64299, saw 76. Error could possibly be due to quotes being ignored when a multi-char delimiter is used.\n",
      "Skipping line 64390: Expected 75 fields in line 64390, saw 76. Error could possibly be due to quotes being ignored when a multi-char delimiter is used.\n",
      "Skipping line 64437: Expected 75 fields in line 64437, saw 76. Error could possibly be due to quotes being ignored when a multi-char delimiter is used.\n",
      "Skipping line 64737: Expected 75 fields in line 64737, saw 76. Error could possibly be due to quotes being ignored when a multi-char delimiter is used.\n",
      "Skipping line 64758: Expected 75 fields in line 64758, saw 76. Error could possibly be due to quotes being ignored when a multi-char delimiter is used.\n",
      "Skipping line 64998: Expected 75 fields in line 64998, saw 76. Error could possibly be due to quotes being ignored when a multi-char delimiter is used.\n",
      "Skipping line 65354: Expected 75 fields in line 65354, saw 76. Error could possibly be due to quotes being ignored when a multi-char delimiter is used.\n",
      "Skipping line 65391: Expected 75 fields in line 65391, saw 76. Error could possibly be due to quotes being ignored when a multi-char delimiter is used.\n",
      "Skipping line 65410: Expected 75 fields in line 65410, saw 76. Error could possibly be due to quotes being ignored when a multi-char delimiter is used.\n",
      "Skipping line 65484: Expected 75 fields in line 65484, saw 76. Error could possibly be due to quotes being ignored when a multi-char delimiter is used.\n",
      "Skipping line 65549: Expected 75 fields in line 65549, saw 76. Error could possibly be due to quotes being ignored when a multi-char delimiter is used.\n",
      "Skipping line 66970: Expected 75 fields in line 66970, saw 76. Error could possibly be due to quotes being ignored when a multi-char delimiter is used.\n",
      "Skipping line 67337: Expected 75 fields in line 67337, saw 76. Error could possibly be due to quotes being ignored when a multi-char delimiter is used.\n",
      "Skipping line 67414: Expected 75 fields in line 67414, saw 76. Error could possibly be due to quotes being ignored when a multi-char delimiter is used.\n",
      "Skipping line 67433: Expected 75 fields in line 67433, saw 76. Error could possibly be due to quotes being ignored when a multi-char delimiter is used.\n",
      "Skipping line 70145: Expected 75 fields in line 70145, saw 76. Error could possibly be due to quotes being ignored when a multi-char delimiter is used.\n",
      "Skipping line 70234: Expected 75 fields in line 70234, saw 76. Error could possibly be due to quotes being ignored when a multi-char delimiter is used.\n",
      "Skipping line 70328: Expected 75 fields in line 70328, saw 76. Error could possibly be due to quotes being ignored when a multi-char delimiter is used.\n",
      "Skipping line 70340: Expected 75 fields in line 70340, saw 76. Error could possibly be due to quotes being ignored when a multi-char delimiter is used.\n",
      "Skipping line 70791: Expected 75 fields in line 70791, saw 76. Error could possibly be due to quotes being ignored when a multi-char delimiter is used.\n",
      "Skipping line 70869: Expected 75 fields in line 70869, saw 76. Error could possibly be due to quotes being ignored when a multi-char delimiter is used.\n",
      "Skipping line 71018: Expected 75 fields in line 71018, saw 76. Error could possibly be due to quotes being ignored when a multi-char delimiter is used.\n",
      "Skipping line 71408: Expected 75 fields in line 71408, saw 76. Error could possibly be due to quotes being ignored when a multi-char delimiter is used.\n",
      "Skipping line 71577: Expected 75 fields in line 71577, saw 76. Error could possibly be due to quotes being ignored when a multi-char delimiter is used.\n",
      "Skipping line 73150: Expected 75 fields in line 73150, saw 76. Error could possibly be due to quotes being ignored when a multi-char delimiter is used.\n",
      "Skipping line 73750: Expected 75 fields in line 73750, saw 76. Error could possibly be due to quotes being ignored when a multi-char delimiter is used.\n",
      "Skipping line 76006: Expected 75 fields in line 76006, saw 76. Error could possibly be due to quotes being ignored when a multi-char delimiter is used.\n",
      "Skipping line 76498: Expected 75 fields in line 76498, saw 76. Error could possibly be due to quotes being ignored when a multi-char delimiter is used.\n",
      "Skipping line 77443: Expected 75 fields in line 77443, saw 76. Error could possibly be due to quotes being ignored when a multi-char delimiter is used.\n",
      "Skipping line 80801: Expected 75 fields in line 80801, saw 76. Error could possibly be due to quotes being ignored when a multi-char delimiter is used.\n",
      "Skipping line 84050: Expected 75 fields in line 84050, saw 76. Error could possibly be due to quotes being ignored when a multi-char delimiter is used.\n",
      "Skipping line 84659: Expected 75 fields in line 84659, saw 76. Error could possibly be due to quotes being ignored when a multi-char delimiter is used.\n",
      "Skipping line 86016: Expected 75 fields in line 86016, saw 76. Error could possibly be due to quotes being ignored when a multi-char delimiter is used.\n",
      "Skipping line 86039: Expected 75 fields in line 86039, saw 76. Error could possibly be due to quotes being ignored when a multi-char delimiter is used.\n",
      "Skipping line 90294: Expected 75 fields in line 90294, saw 76. Error could possibly be due to quotes being ignored when a multi-char delimiter is used.\n",
      "Skipping line 90473: Expected 75 fields in line 90473, saw 76. Error could possibly be due to quotes being ignored when a multi-char delimiter is used.\n",
      "Skipping line 92343: Expected 75 fields in line 92343, saw 76. Error could possibly be due to quotes being ignored when a multi-char delimiter is used.\n",
      "Skipping line 95203: Expected 75 fields in line 95203, saw 76. Error could possibly be due to quotes being ignored when a multi-char delimiter is used.\n",
      "Skipping line 95289: Expected 75 fields in line 95289, saw 76. Error could possibly be due to quotes being ignored when a multi-char delimiter is used.\n",
      "Skipping line 95312: Expected 75 fields in line 95312, saw 76. Error could possibly be due to quotes being ignored when a multi-char delimiter is used.\n",
      "Skipping line 95765: Expected 75 fields in line 95765, saw 76. Error could possibly be due to quotes being ignored when a multi-char delimiter is used.\n",
      "Skipping line 95782: Expected 75 fields in line 95782, saw 76. Error could possibly be due to quotes being ignored when a multi-char delimiter is used.\n",
      "Skipping line 95836: Expected 75 fields in line 95836, saw 76. Error could possibly be due to quotes being ignored when a multi-char delimiter is used.\n",
      "Skipping line 95909: Expected 75 fields in line 95909, saw 76. Error could possibly be due to quotes being ignored when a multi-char delimiter is used.\n",
      "Skipping line 96288: Expected 75 fields in line 96288, saw 76. Error could possibly be due to quotes being ignored when a multi-char delimiter is used.\n",
      "Skipping line 96969: Expected 75 fields in line 96969, saw 76. Error could possibly be due to quotes being ignored when a multi-char delimiter is used.\n",
      "Skipping line 97028: Expected 75 fields in line 97028, saw 76. Error could possibly be due to quotes being ignored when a multi-char delimiter is used.\n",
      "Skipping line 97031: Expected 75 fields in line 97031, saw 76. Error could possibly be due to quotes being ignored when a multi-char delimiter is used.\n",
      "Skipping line 97048: Expected 75 fields in line 97048, saw 76. Error could possibly be due to quotes being ignored when a multi-char delimiter is used.\n",
      "Skipping line 97062: Expected 75 fields in line 97062, saw 76. Error could possibly be due to quotes being ignored when a multi-char delimiter is used.\n",
      "Skipping line 98324: Expected 75 fields in line 98324, saw 76. Error could possibly be due to quotes being ignored when a multi-char delimiter is used.\n",
      "Skipping line 99100: Expected 75 fields in line 99100, saw 76. Error could possibly be due to quotes being ignored when a multi-char delimiter is used.\n",
      "Skipping line 102999: Expected 75 fields in line 102999, saw 76. Error could possibly be due to quotes being ignored when a multi-char delimiter is used.\n",
      "Skipping line 103217: Expected 75 fields in line 103217, saw 76. Error could possibly be due to quotes being ignored when a multi-char delimiter is used.\n",
      "Skipping line 104899: Expected 75 fields in line 104899, saw 76. Error could possibly be due to quotes being ignored when a multi-char delimiter is used.\n",
      "Skipping line 105110: Expected 75 fields in line 105110, saw 76. Error could possibly be due to quotes being ignored when a multi-char delimiter is used.\n",
      "Skipping line 105200: Expected 75 fields in line 105200, saw 76. Error could possibly be due to quotes being ignored when a multi-char delimiter is used.\n",
      "Skipping line 105212: Expected 75 fields in line 105212, saw 76. Error could possibly be due to quotes being ignored when a multi-char delimiter is used.\n",
      "Skipping line 105288: Expected 75 fields in line 105288, saw 76. Error could possibly be due to quotes being ignored when a multi-char delimiter is used.\n",
      "Skipping line 105387: Expected 75 fields in line 105387, saw 76. Error could possibly be due to quotes being ignored when a multi-char delimiter is used.\n",
      "Skipping line 105406: Expected 75 fields in line 105406, saw 76. Error could possibly be due to quotes being ignored when a multi-char delimiter is used.\n",
      "Skipping line 105498: Expected 75 fields in line 105498, saw 76. Error could possibly be due to quotes being ignored when a multi-char delimiter is used.\n",
      "Skipping line 105527: Expected 75 fields in line 105527, saw 76. Error could possibly be due to quotes being ignored when a multi-char delimiter is used.\n",
      "Skipping line 105768: Expected 75 fields in line 105768, saw 76. Error could possibly be due to quotes being ignored when a multi-char delimiter is used.\n"
     ]
    },
    {
     "name": "stderr",
     "output_type": "stream",
     "text": [
      "100%|██████████| 105645/105645 [00:51<00:00, 2067.42it/s]\n",
      "100%|██████████| 105645/105645 [00:11<00:00, 9263.11it/s] \n"
     ]
    }
   ],
   "source": [
    "dr7_old = pd.read_csv(DATA_DIRECTORY+'dr7qso.dat', skiprows=80, sep='\\s+', engine='python', error_bad_lines=False, header=None)\n",
    "\n",
    "Positions_of_dr7_old = np.transpose([dr7_old[1].values, dr7_old[2].values])\n",
    "#version with flags\n",
    "df_old = pd.read_csv(DATA_DIRECTORY+'194782.csv')\n",
    "# give ra and dec\n",
    "Positions_of_df_old=np.transpose([df_old['# ra'].values,df_old['dec'].values])\n",
    "\n",
    "res_matching_old=[]\n",
    "for j in tqdm(range(len(Positions_of_dr7_old))):\n",
    "    # finds distance from each of the objects in dr7_old catalogue from the objects in HSC catalogue\n",
    "    PositionOfQuasars_euclidean_distances_old=euclidean_distances([Positions_of_dr7_old[j]],Positions_of_df_old)\n",
    "    # shortest distance\n",
    "    shortest_distance_old=np.min(PositionOfQuasars_euclidean_distances_old[0])\n",
    "    # element of the ``Positions_of_df'' that has the shortest distance to the SDSS QSO\n",
    "    shortest_distance_index_old=np.where(PositionOfQuasars_euclidean_distances_old[0]==np.min(PositionOfQuasars_euclidean_distances_old[0]))[0][0]\n",
    "    res_matching_old.append([shortest_distance_old,df_old.loc[shortest_distance_index_old].values])\n",
    "    \n",
    "matched_array_old=[]\n",
    "matched_array_extended_SDSS_old=[]\n",
    "for i in tqdm(range(len(res_matching_old))):\n",
    "    if res_matching_old[i][0]>0.001:\n",
    "        pass\n",
    "    else:\n",
    "        # extract columns 0,1,2,3,6,7,8,9,10,11 from SDSS, which are SDSS ID, ra, dec, redshift and psf measurments in different bands (g->[6,7],r->[8,9],i->[10,11])\n",
    "        matched_array_old.append(np.concatenate((dr7_old.loc[i][[0,1,2,3,6,7,8,9,10,11]],res_matching_old[i][1])))\n",
    "        # extract columns 1,2,3 which are ra, dec and redshift (plan to add mass from Schen catalog)\n",
    "        matched_array_extended_SDSS_old.append(np.concatenate((dr7_old.loc[i][[1,2,3]],res_matching_old[i][1])))     \n",
    "matched_array_old=np.array(matched_array_old)\n",
    "matched_array_extended_SDSS_old=np.array(matched_array_extended_SDSS_old)\n",
    "\n",
    "matched_array_filtered_old=matched_array_old[matched_array_old[:,4]>16]\n",
    "\n",
    "# sdss psf-g band mag - HSC psf-g band mag\n",
    "g_mag_dif_old=(matched_array_filtered_old[:,4]-matched_array_filtered_old[:,14+4]).astype(float)\n",
    "# sdss psf-r band mag - HSC psf-r band mag\n",
    "r_mag_dif_old=(matched_array_filtered_old[:,6]-matched_array_filtered_old[:,14+6]).astype(float)\n",
    "# sdss psf-i band mag - HSC psf-i band\n",
    "i_mag_dif_old=(matched_array_filtered_old[:,8]-matched_array_filtered_old[:,14+8]).astype(float)\n",
    "# error sdss g band mag - HSC g band mag\n",
    "g_mag_dif_err_old=np.sqrt(((matched_array_filtered_old[:,5]).astype(float))**2+((matched_array_filtered_old[:,14+5]).astype(float))**2)\n",
    "# Error for the sdss psf-r band magnitude - HSC psf-r band magnitude\n",
    "r_mag_dif_err_old=np.sqrt(((matched_array_filtered_old[:,7]).astype(float))**2+((matched_array_filtered_old[:,14+7]).astype(float))**2)\n",
    "# Error for the sdss psf-i band magnitude - HSC psf-i band magnitude\n",
    "i_mag_dif_err_old=np.sqrt(((matched_array_filtered_old[:,9]).astype(float))**2+((matched_array_filtered_old[:,14+9]).astype(float))**2)\n",
    "# sdss psf-g band mag - HSC cmodel-g band mag\n",
    "gcmodel_mag_dif_old=(matched_array_filtered_old[:,4]-matched_array_filtered_old[:,4+8]).astype(float)\n",
    "# sdss psf-r band mag - HSC cmodel-r band mag\n",
    "rcmodel_mag_dif_old=(matched_array_filtered_old[:,6]-matched_array_filtered_old[:,6+8]).astype(float)\n",
    "# sdss psf-i band mag - HSC cmodel-i band\n",
    "icmodel_mag_dif_old=(matched_array_filtered_old[:,8]-matched_array_filtered_old[:,8+8]).astype(float)\n",
    "# error sdss g band mag - HSC cmodel-g band mag\n",
    "gcmodel_mag_dif_err_old=np.sqrt(((matched_array_filtered_old[:,5]).astype(float))**2+((matched_array_filtered_old[:,5+8]).astype(float))**2)\n",
    "# Error for the SDSS psf-r band magnitude - HSC cmodel-r band magnitude\n",
    "rcmodel_mag_dif_err_old=np.sqrt(((matched_array_filtered_old[:,7]).astype(float))**2+((matched_array_filtered_old[:,7+8]).astype(float))**2)\n",
    "# Error for the SDSS psf-i band magnitude - HSC cmodel-i band magnitude\n",
    "icmodel_mag_dif_err_old=np.sqrt(((matched_array_filtered_old[:,9]).astype(float))**2+((matched_array_filtered_old[:,9+8]).astype(float))**2)\n",
    "\n",
    "new_matched_data_array_old = np.insert(matched_array_filtered_old, 4, g_mag_dif_old, axis=1)\n",
    "new_matched_data_array_old = np.insert(new_matched_data_array_old, 5, g_mag_dif_err_old, axis=1)\n",
    "new_matched_data_array_old = np.insert(new_matched_data_array_old, 6, gcmodel_mag_dif_old, axis=1)\n",
    "new_matched_data_array_old = np.insert(new_matched_data_array_old, 7, gcmodel_mag_dif_err_old, axis=1)\n",
    "new_matched_data_array_old = np.insert(new_matched_data_array_old, 10, r_mag_dif_old, axis=1)\n",
    "new_matched_data_array_old = np.insert(new_matched_data_array_old, 11, r_mag_dif_err_old, axis=1)\n",
    "new_matched_data_array_old = np.insert(new_matched_data_array_old, 12, rcmodel_mag_dif_old, axis=1)\n",
    "new_matched_data_array_old = np.insert(new_matched_data_array_old, 13, rcmodel_mag_dif_err_old, axis=1)\n",
    "new_matched_data_array_old = np.insert(new_matched_data_array_old, 16, i_mag_dif_old, axis=1)\n",
    "new_matched_data_array_old = np.insert(new_matched_data_array_old, 17, i_mag_dif_err_old, axis=1)\n",
    "new_matched_data_array_old = np.insert(new_matched_data_array_old, 18, icmodel_mag_dif_old, axis=1)\n",
    "new_matched_data_array_old = np.insert(new_matched_data_array_old, 19, icmodel_mag_dif_err_old, axis=1)"
   ]
  },
  {
   "cell_type": "code",
   "execution_count": 17,
   "metadata": {
    "ExecuteTime": {
     "end_time": "2019-08-02T19:52:38.555120Z",
     "start_time": "2019-08-02T19:52:38.537702Z"
    },
    "code_folding": []
   },
   "outputs": [],
   "source": [
    "def extract_g_mag_data(matched_array, SDSSband = 4, HSCband = 18, info=1):\n",
    "    \"\"\"\n",
    "    info just determines if you want a return value of (delta_band, redshift), or\n",
    "    (delta_band, redshift, g_mag_SDSS)\n",
    "    \"\"\"\n",
    "    # Set variables\n",
    "    redshift_col = 3\n",
    "    SDSSerr = SDSSband + 1\n",
    "    HSCerr = HSCband + 1\n",
    "    \n",
    "    interpolated_center = 37\n",
    "    saturated_center = 40\n",
    "    edge_flag = 31\n",
    "    \n",
    "    \n",
    "    matched_array_filtered = matched_array[np.logical_and.reduce((np.isfinite(matched_array[:, SDSSband].astype(float)), \\\n",
    "                                                                  np.isfinite(matched_array[:, HSCband].astype(float)), \\\n",
    "                                                                  np.isfinite(matched_array[:, SDSSerr].astype(float)), \\\n",
    "                                                                  np.isfinite(matched_array[:, HSCerr].astype(float)), \\\n",
    "                                                                  (matched_array[:, interpolated_center] == False), \\\n",
    "                                                                  (matched_array[:, saturated_center] == False), \\\n",
    "                                                                  (matched_array[:, edge_flag] == False), \\\n",
    "                                                                  ))]\n",
    "\n",
    "    band_mag_dif = (matched_array_filtered[:, SDSSband] - matched_array_filtered[:, HSCband]).astype(float)\n",
    "    band_mag_dif = np.vstack((band_mag_dif, matched_array_filtered[:, redshift_col]))\n",
    "    \n",
    "    band_mag_dif_err = np.sqrt(((matched_array_filtered[:, SDSSerr]).astype(float))**2 +\n",
    "                               ((matched_array_filtered[:, HSCerr]).astype(float))**2)\n",
    "    if info == 1:\n",
    "        pass\n",
    "        \n",
    "    if info == 2:\n",
    "        band_mag_dif = np.vstack((band_mag_dif, matched_array_filtered[:, SDSSband]))\n",
    "        \n",
    "    if info == 3:        \n",
    "        band_mag_dif = np.vstack((band_mag_dif, matched_array_filtered[:, HSCband]))\n",
    "    \n",
    "    if info == 4:\n",
    "        band_mag_dif = np.vstack((band_mag_dif, matched_array_filtered[:, interpolated_center]))\n",
    "        band_mag_dif = np.vstack((band_mag_dif, matched_array_filtered[:, saturated_center]))\n",
    "        band_mag_dif = np.vstack((band_mag_dif, matched_array_filtered[:, edge_flag]))\n",
    "        band_mag_dif = np.vstack((band_mag_dif, matched_array_filtered[:, 1]))\n",
    "        band_mag_dif = np.vstack((band_mag_dif, matched_array_filtered[:, 2]))\n",
    "        \n",
    "    return (band_mag_dif.T, band_mag_dif_err)"
   ]
  },
  {
   "cell_type": "code",
   "execution_count": 18,
   "metadata": {
    "ExecuteTime": {
     "end_time": "2019-08-02T19:52:38.802588Z",
     "start_time": "2019-08-02T19:52:38.560420Z"
    }
   },
   "outputs": [],
   "source": [
    "############ OLD STUFF\n",
    "redshift_col_old = 3\n",
    "data_col_old = 4\n",
    "error_col_old = data_col_old + 1\n",
    "g_mag_SDSS_col_old = 8\n",
    "obj_per_bin_old = 100\n",
    "data_array_old = new_matched_data_array_old\n",
    "delta_band_and_redshift_old = data_array_old[:, [data_col_old, redshift_col_old]]\n",
    "delta_band_and_redshift_old = np.hstack((delta_band_and_redshift_old, np.reshape(data_array_old[:, g_mag_SDSS_col_old], (len(data_array_old[:]),1)) ))\n",
    "delta_band_and_redshift_sorted_and_split_old=np.array_split(delta_band_and_redshift_old[np.argsort(delta_band_and_redshift_old[:,1])], int(len(delta_band_and_redshift_old)/obj_per_bin_old))\n",
    "\n",
    "\n",
    "\n",
    "# Next we sort each bin by g_mag\n",
    "for i in range(len(delta_band_and_redshift_sorted_and_split_old)):\n",
    "    delta_band_and_redshift_sorted_and_split_old[i] = delta_band_and_redshift_sorted_and_split_old[i][np.argsort(delta_band_and_redshift_sorted_and_split_old[i][:, delta_band_and_redshift_sorted_and_split_old[i].shape[1]-1])]\n",
    "\n",
    "\n",
    "\n",
    "res_delta_band_and_redshift_0_20_old = []\n",
    "res_delta_band_and_redshift_20_40_old = []\n",
    "res_delta_band_and_redshift_40_60_old = []\n",
    "res_delta_band_and_redshift_60_80_old = []\n",
    "res_delta_band_and_redshift_80_100_old = []\n",
    "res_delta_band_and_redshift_all_old = []\n",
    "\n",
    "res_delta_band_and_redshift_0_20_med_old = []\n",
    "res_delta_band_and_redshift_20_40_med_old= []\n",
    "res_delta_band_and_redshift_40_60_med_old= []\n",
    "res_delta_band_and_redshift_60_80_med_old = []\n",
    "res_delta_band_and_redshift_80_100_med_old = []\n",
    "res_delta_band_and_redshift_all_med_old = []\n",
    "\n",
    "res_delta_std_all_old = []\n",
    "\n",
    "for i in range(len(delta_band_and_redshift_sorted_and_split_old)):\n",
    "    res_delta_band_and_redshift_0_20_old.append(np.mean(delta_band_and_redshift_sorted_and_split_old[i][:20],axis=0))\n",
    "    res_delta_band_and_redshift_20_40_old.append(np.mean(delta_band_and_redshift_sorted_and_split_old[i][20:40],axis=0))\n",
    "    res_delta_band_and_redshift_40_60_old.append(np.mean(delta_band_and_redshift_sorted_and_split_old[i][40:60],axis=0))\n",
    "    res_delta_band_and_redshift_60_80_old.append(np.mean(delta_band_and_redshift_sorted_and_split_old[i][60:80],axis=0))\n",
    "    res_delta_band_and_redshift_80_100_old.append(np.mean(delta_band_and_redshift_sorted_and_split_old[i][80:100],axis=0))\n",
    "    res_delta_band_and_redshift_all_old.append(np.mean(delta_band_and_redshift_sorted_and_split_old[i],axis=0))\n",
    "\n",
    "    res_delta_band_and_redshift_0_20_med_old.append(np.median(delta_band_and_redshift_sorted_and_split_old[i][:20],axis=0))\n",
    "    res_delta_band_and_redshift_20_40_med_old.append(np.median(delta_band_and_redshift_sorted_and_split_old[i][20:40],axis=0))\n",
    "    res_delta_band_and_redshift_40_60_med_old.append(np.median(delta_band_and_redshift_sorted_and_split_old[i][40:60],axis=0))\n",
    "    res_delta_band_and_redshift_60_80_med_old.append(np.median(delta_band_and_redshift_sorted_and_split_old[i][60:80],axis=0))\n",
    "    res_delta_band_and_redshift_80_100_med_old.append(np.median(delta_band_and_redshift_sorted_and_split_old[i][80:100],axis=0))\n",
    "    res_delta_band_and_redshift_all_med_old.append(np.median(delta_band_and_redshift_sorted_and_split_old[i],axis=0))\n",
    "\n",
    "    res_delta_std_all_old.append(np.array(delta_band_and_redshift_sorted_and_split_old[i][:,:], dtype=np.float64).std(axis=0))\n",
    "\n",
    "\n",
    "res_delta_band_and_redshift_0_20_old = np.array(res_delta_band_and_redshift_0_20_old)\n",
    "res_delta_band_and_redshift_20_40_old = np.array(res_delta_band_and_redshift_20_40_old)\n",
    "res_delta_band_and_redshift_40_60_old = np.array(res_delta_band_and_redshift_40_60_old)\n",
    "res_delta_band_and_redshift_60_80_old = np.array(res_delta_band_and_redshift_60_80_old)\n",
    "res_delta_band_and_redshift_80_100_old = np.array(res_delta_band_and_redshift_80_100_old)\n",
    "res_delta_band_and_redshift_all_old = np.array(res_delta_band_and_redshift_all_old)\n",
    "\n",
    "res_delta_band_and_redshift_0_20_med_old = np.array(res_delta_band_and_redshift_0_20_med_old)\n",
    "res_delta_band_and_redshift_20_40_med_old = np.array(res_delta_band_and_redshift_20_40_med_old)\n",
    "res_delta_band_and_redshift_40_60_med_old = np.array(res_delta_band_and_redshift_40_60_med_old)\n",
    "res_delta_band_and_redshift_60_80_med_old = np.array(res_delta_band_and_redshift_60_80_med_old)\n",
    "res_delta_band_and_redshift_80_100_med_old = np.array(res_delta_band_and_redshift_80_100_med_old)\n",
    "res_delta_band_and_redshift_all_med_old = np.array(res_delta_band_and_redshift_all_med_old)\n",
    "\n",
    "res_delta_std_all_old = np.array(res_delta_std_all_old)\n",
    "\n",
    "second_deg_fit_0_20_old = np.poly1d(np.polyfit(res_delta_band_and_redshift_0_20_old[:,1].astype(float), res_delta_band_and_redshift_0_20_old[:, 0].astype(float), 2))\n",
    "second_deg_fit_20_40_old = np.poly1d(np.polyfit(res_delta_band_and_redshift_20_40_old[:,1].astype(float), res_delta_band_and_redshift_20_40_old[:, 0].astype(float), 2))\n",
    "second_deg_fit_40_60_old = np.poly1d(np.polyfit(res_delta_band_and_redshift_40_60_old[:,1].astype(float), res_delta_band_and_redshift_40_60_old[:, 0].astype(float), 2))\n",
    "second_deg_fit_60_80_old = np.poly1d(np.polyfit(res_delta_band_and_redshift_60_80_old[:,1].astype(float), res_delta_band_and_redshift_60_80_old[:, 0].astype(float), 2))\n",
    "second_deg_fit_80_100_old = np.poly1d(np.polyfit(res_delta_band_and_redshift_80_100_old[:,1].astype(float), res_delta_band_and_redshift_80_100_old[:, 0].astype(float), 2))\n",
    "\n",
    "second_deg_fit_0_20_med_old = np.poly1d(np.polyfit(res_delta_band_and_redshift_0_20_med_old[:,1].astype(float), res_delta_band_and_redshift_0_20_med_old[:, 0].astype(float), 2))\n",
    "second_deg_fit_20_40_med_old = np.poly1d(np.polyfit(res_delta_band_and_redshift_20_40_med_old[:,1].astype(float), res_delta_band_and_redshift_20_40_med_old[:, 0].astype(float), 2))\n",
    "second_deg_fit_40_60_med_old = np.poly1d(np.polyfit(res_delta_band_and_redshift_40_60_med_old[:,1].astype(float), res_delta_band_and_redshift_40_60_med_old[:, 0].astype(float), 2))\n",
    "second_deg_fit_60_80_med_old = np.poly1d(np.polyfit(res_delta_band_and_redshift_60_80_med_old[:,1].astype(float), res_delta_band_and_redshift_60_80_med_old[:, 0].astype(float), 2))\n",
    "second_deg_fit_80_100_med_old = np.poly1d(np.polyfit(res_delta_band_and_redshift_80_100_med_old[:,1].astype(float), res_delta_band_and_redshift_80_100_med_old[:, 0].astype(float), 2))\n",
    "############\n",
    "\n",
    "\n",
    "\n",
    "# Set variables\n",
    "obj_per_bin = 100\n",
    "smoothing_method='mean'\n",
    "ylim=(-.4, .4)\n",
    "num_to_choose=100\n",
    "\n",
    "\n",
    "delta_band_and_redshift, _trash = extract_g_mag_data(matched_array, SDSSband=4, HSCband=18, info=2)\n",
    "\n",
    "# Add on a row that represents the g_mag in SDSS. We'll sort by this later\n",
    "\n",
    "delta_band_and_redshift_sorted_and_split=np.array_split(delta_band_and_redshift[np.argsort(delta_band_and_redshift[:,1])], int(len(delta_band_and_redshift)/obj_per_bin))\n",
    "\n",
    "\n",
    "\n",
    "# Next we sort each bin by g_mag\n",
    "for i in range(len(delta_band_and_redshift_sorted_and_split)):\n",
    "    delta_band_and_redshift_sorted_and_split[i] = delta_band_and_redshift_sorted_and_split[i][np.argsort(delta_band_and_redshift_sorted_and_split[i][:, delta_band_and_redshift_sorted_and_split[i].shape[1]-1])]\n",
    "\n",
    "res_delta_band_and_redshift_0_20 = []\n",
    "res_delta_band_and_redshift_20_40 = []\n",
    "res_delta_band_and_redshift_40_60 = []\n",
    "res_delta_band_and_redshift_60_80 = []\n",
    "res_delta_band_and_redshift_80_100 = []\n",
    "res_delta_band_and_redshift_all = []\n",
    "\n",
    "res_delta_band_and_redshift_0_20_med = []\n",
    "res_delta_band_and_redshift_20_40_med = []\n",
    "res_delta_band_and_redshift_40_60_med = []\n",
    "res_delta_band_and_redshift_60_80_med = []\n",
    "res_delta_band_and_redshift_80_100_med = []\n",
    "res_delta_band_and_redshift_all_med = []\n",
    "\n",
    "res_delta_std_all = []\n",
    "\n",
    "for i in range(len(delta_band_and_redshift_sorted_and_split)):\n",
    "    res_delta_band_and_redshift_0_20.append(np.mean(delta_band_and_redshift_sorted_and_split[i][:20],axis=0))\n",
    "    res_delta_band_and_redshift_20_40.append(np.mean(delta_band_and_redshift_sorted_and_split[i][20:40],axis=0))\n",
    "    res_delta_band_and_redshift_40_60.append(np.mean(delta_band_and_redshift_sorted_and_split[i][40:60],axis=0))\n",
    "    res_delta_band_and_redshift_60_80.append(np.mean(delta_band_and_redshift_sorted_and_split[i][60:80],axis=0))\n",
    "    res_delta_band_and_redshift_80_100.append(np.mean(delta_band_and_redshift_sorted_and_split[i][80:100],axis=0))\n",
    "    res_delta_band_and_redshift_all.append(np.mean(delta_band_and_redshift_sorted_and_split[i],axis=0))\n",
    "    \n",
    "    res_delta_band_and_redshift_0_20_med.append(np.median(delta_band_and_redshift_sorted_and_split[i][:20],axis=0))\n",
    "    res_delta_band_and_redshift_20_40_med.append(np.median(delta_band_and_redshift_sorted_and_split[i][20:40],axis=0))\n",
    "    res_delta_band_and_redshift_40_60_med.append(np.median(delta_band_and_redshift_sorted_and_split[i][40:60],axis=0))\n",
    "    res_delta_band_and_redshift_60_80_med.append(np.median(delta_band_and_redshift_sorted_and_split[i][60:80],axis=0))\n",
    "    res_delta_band_and_redshift_80_100_med.append(np.median(delta_band_and_redshift_sorted_and_split[i][80:100],axis=0))\n",
    "    res_delta_band_and_redshift_all_med.append(np.median(delta_band_and_redshift_sorted_and_split[i],axis=0))\n",
    "\n",
    "    res_delta_std_all.append(np.array(delta_band_and_redshift_sorted_and_split[i][:,:], dtype=np.float64).std(axis=0))\n",
    "\n",
    "\n",
    "\n",
    "\n",
    "res_delta_band_and_redshift_0_20 = np.array(res_delta_band_and_redshift_0_20)\n",
    "res_delta_band_and_redshift_20_40 = np.array(res_delta_band_and_redshift_20_40)\n",
    "res_delta_band_and_redshift_40_60 = np.array(res_delta_band_and_redshift_40_60)\n",
    "res_delta_band_and_redshift_60_80 = np.array(res_delta_band_and_redshift_60_80)\n",
    "res_delta_band_and_redshift_80_100 = np.array(res_delta_band_and_redshift_80_100)\n",
    "res_delta_band_and_redshift_all = np.array(res_delta_band_and_redshift_all)\n",
    "\n",
    "\n",
    "res_delta_band_and_redshift_0_20_med = np.array(res_delta_band_and_redshift_0_20_med)\n",
    "res_delta_band_and_redshift_20_40_med = np.array(res_delta_band_and_redshift_20_40_med)\n",
    "res_delta_band_and_redshift_40_60_med = np.array(res_delta_band_and_redshift_40_60_med)\n",
    "res_delta_band_and_redshift_60_80_med = np.array(res_delta_band_and_redshift_60_80_med)\n",
    "res_delta_band_and_redshift_80_100_med = np.array(res_delta_band_and_redshift_80_100_med)\n",
    "res_delta_band_and_redshift_all_med = np.array(res_delta_band_and_redshift_all_med)\n",
    "\n",
    "res_delta_std_all = np.array(res_delta_std_all)\n",
    "\n",
    "second_deg_fit_0_20 = np.poly1d(np.polyfit(res_delta_band_and_redshift_0_20[:,1].astype(float), res_delta_band_and_redshift_0_20[:, 0].astype(float), 2))\n",
    "second_deg_fit_20_40 = np.poly1d(np.polyfit(res_delta_band_and_redshift_20_40[:,1].astype(float), res_delta_band_and_redshift_20_40[:, 0].astype(float), 2))\n",
    "second_deg_fit_40_60 = np.poly1d(np.polyfit(res_delta_band_and_redshift_40_60[:,1].astype(float), res_delta_band_and_redshift_40_60[:, 0].astype(float), 2))\n",
    "second_deg_fit_60_80 = np.poly1d(np.polyfit(res_delta_band_and_redshift_60_80[:,1].astype(float), res_delta_band_and_redshift_60_80[:, 0].astype(float), 2))\n",
    "second_deg_fit_80_100 = np.poly1d(np.polyfit(res_delta_band_and_redshift_80_100[:,1].astype(float), res_delta_band_and_redshift_80_100[:, 0].astype(float), 2))\n",
    "\n",
    "second_deg_fit_0_20_med = np.poly1d(np.polyfit(res_delta_band_and_redshift_0_20_med[:,1].astype(float), res_delta_band_and_redshift_0_20_med[:, 0].astype(float), 2))\n",
    "second_deg_fit_20_40_med = np.poly1d(np.polyfit(res_delta_band_and_redshift_20_40_med[:,1].astype(float), res_delta_band_and_redshift_20_40_med[:, 0].astype(float), 2))\n",
    "second_deg_fit_40_60_med = np.poly1d(np.polyfit(res_delta_band_and_redshift_40_60_med[:,1].astype(float), res_delta_band_and_redshift_40_60_med[:, 0].astype(float), 2))\n",
    "second_deg_fit_60_80_med = np.poly1d(np.polyfit(res_delta_band_and_redshift_60_80_med[:,1].astype(float), res_delta_band_and_redshift_60_80_med[:, 0].astype(float), 2))\n",
    "second_deg_fit_80_100_med = np.poly1d(np.polyfit(res_delta_band_and_redshift_80_100_med[:,1].astype(float), res_delta_band_and_redshift_80_100_med[:, 0].astype(float), 2))"
   ]
  },
  {
   "cell_type": "markdown",
   "metadata": {},
   "source": [
    "### New Graph"
   ]
  },
  {
   "cell_type": "code",
   "execution_count": 20,
   "metadata": {
    "ExecuteTime": {
     "end_time": "2019-08-02T19:52:59.207964Z",
     "start_time": "2019-08-02T19:52:57.680286Z"
    }
   },
   "outputs": [
    {
     "data": {
      "image/png": "[encoded data removed]",
      "text/plain": [
       "<Figure size 1440x720 with 2 Axes>"
      ]
     },
     "metadata": {
      "needs_background": "light"
     },
     "output_type": "display_data"
    }
   ],
   "source": [
    "ylim = (-.4, .4)\n",
    "xlim = (0.19, 4.2)\n",
    "\n",
    "with plt.style.context('seaborn-paper'):\n",
    "    fig = plt.figure(1, figsize=(20, 10))\n",
    "    fig.subplots_adjust(hspace=.1)\n",
    "    \n",
    "    axis1 = plt.subplot(211)\n",
    "    axis1.tick_params(direction='in', length=10, width=1.5, labelsize=20)\n",
    "    axis1.spines['top'].set_linewidth(1.5)\n",
    "    axis1.spines['right'].set_linewidth(1.5)\n",
    "    axis1.spines['bottom'].set_linewidth(1.5)\n",
    "    axis1.spines['left'].set_linewidth(1.5)\n",
    "    plt.setp(axis1.get_xticklabels(), visible=False)\n",
    "    plt.errorbar(res_delta_band_and_redshift_all[:,1], res_delta_band_and_redshift_all[:,0], yerr=res_delta_std_all[:,0], color='grey', fmt='s', alpha=.5)\n",
    "    plt.plot(res_delta_band_and_redshift_all[:,1], second_deg_fit_80_100(res_delta_band_and_redshift_80_100[:,1].astype(float)), ls='--', color='red', label='Dimmest $20\\%$')\n",
    "    plt.plot(res_delta_band_and_redshift_all[:,1], second_deg_fit_60_80(res_delta_band_and_redshift_60_80[:,1].astype(float)), ls='--', color='orange', label='$60-80\\%$')\n",
    "    plt.plot(res_delta_band_and_redshift_all[:,1], second_deg_fit_40_60(res_delta_band_and_redshift_40_60[:,1].astype(float)), ls='--', color='brown', label='$40-60\\%$')\n",
    "    plt.plot(res_delta_band_and_redshift_all[:,1], second_deg_fit_20_40(res_delta_band_and_redshift_20_40[:,1].astype(float)), ls='--', color='green', label='$20-40\\%$')\n",
    "    plt.plot(res_delta_band_and_redshift_all[:,1], second_deg_fit_0_20(res_delta_band_and_redshift_0_20[:,1].astype(float)), ls='--', color='blue', label='Brightest $20\\%$')      \n",
    "    plt.ylabel('$\\Delta$ m$_g$ (SDSS - HSC)', fontsize= 25)\n",
    "    plt.ylim(ylim[0], ylim[1])\n",
    "    plt.xlim(xlim[0], xlim[1])\n",
    "    plt.legend(prop={'size':20}, frameon=False)\n",
    "    \n",
    "    axis2 = plt.subplot(212, sharex=axis1, sharey=axis1)\n",
    "    axis2.tick_params(direction='in', length=10, width=1.5, labelsize=20)\n",
    "    axis2.spines['top'].set_linewidth(1.5)\n",
    "    axis2.spines['right'].set_linewidth(1.5)\n",
    "    axis2.spines['bottom'].set_linewidth(1.5)\n",
    "    axis2.spines['left'].set_linewidth(1.5)\n",
    "    plt.errorbar(res_delta_band_and_redshift_all_old[:,1], res_delta_band_and_redshift_all_old[:,0], yerr=res_delta_std_all_old[:,0], color='grey', fmt='s', alpha=.5)\n",
    "    plt.plot(res_delta_band_and_redshift_all_old[:,1], second_deg_fit_80_100_old(res_delta_band_and_redshift_80_100_old[:,1].astype(float)), ls='--', color='red', label='Dimmest $20\\%$')\n",
    "    plt.plot(res_delta_band_and_redshift_all_old[:,1], second_deg_fit_60_80_old(res_delta_band_and_redshift_60_80_old[:,1].astype(float)), ls='--', color='orange', label='$60-80\\%$')\n",
    "    plt.plot(res_delta_band_and_redshift_all_old[:,1], second_deg_fit_40_60_old(res_delta_band_and_redshift_40_60_old[:,1].astype(float)), ls='--', color='brown', label='$40-60\\%$')\n",
    "    plt.plot(res_delta_band_and_redshift_all_old[:,1], second_deg_fit_20_40_old(res_delta_band_and_redshift_20_40_old[:,1].astype(float)), ls='--', color='green', label='$20-40\\%$')\n",
    "    plt.plot(res_delta_band_and_redshift_all_old[:,1], second_deg_fit_0_20_old(res_delta_band_and_redshift_0_20_old[:,1].astype(float)), ls='--', color='blue', label='Brightest $20\\%$') \n",
    "    plt.ylabel('$\\Delta$ m$_g$ (SDSS - HSC)', fontsize = 25)\n",
    "    plt.xlabel('$z$ (redshift)', fontsize = 30)\n",
    "    plt.savefig('Figure 1.pdf', bbox_inches='tight')\n",
    "plt.savefig('Figure 1.png', bbox_inches='tight')\n",
    "plt.show()\n"
   ]
  }
 ],
 "metadata": {
  "kernelspec": {
   "display_name": "Python 3",
   "language": "python",
   "name": "python3"
  },
  "language_info": {
   "codemirror_mode": {
    "name": "ipython",
    "version": 3
   },
   "file_extension": ".py",
   "mimetype": "text/x-python",
   "name": "python",
   "nbconvert_exporter": "python",
   "pygments_lexer": "ipython3",
   "version": "3.7.3"
  },
  "latex_envs": {
   "LaTeX_envs_menu_present": true,
   "autoclose": true,
   "autocomplete": true,
   "bibliofile": "biblio.bib",
   "cite_by": "apalike",
   "current_citInitial": 1,
   "eqLabelWithNumbers": true,
   "eqNumInitial": 1,
   "hotkeys": {
    "equation": "Ctrl-E",
    "itemize": "Ctrl-I"
   },
   "labels_anchors": false,
   "latex_user_defs": false,
   "report_style_numbering": false,
   "user_envs_cfg": false
  },
  "toc": {
   "base_numbering": 1,
   "nav_menu": {},
   "number_sections": true,
   "sideBar": true,
   "skip_h1_title": false,
   "title_cell": "Table of Contents",
   "title_sidebar": "Contents",
   "toc_cell": false,
   "toc_position": {},
   "toc_section_display": true,
   "toc_window_display": false
  },
  "varInspector": {
   "cols": {
    "lenName": 16,
    "lenType": 16,
    "lenVar": 40
   },
   "kernels_config": {
    "python": {
     "delete_cmd_postfix": "",
     "delete_cmd_prefix": "del ",
     "library": "var_list.py",
     "varRefreshCmd": "print(var_dic_list())"
    },
    "r": {
     "delete_cmd_postfix": ") ",
     "delete_cmd_prefix": "rm(",
     "library": "var_list.r",
     "varRefreshCmd": "cat(var_dic_list()) "
    }
   },
   "types_to_exclude": [
    "module",
    "function",
    "builtin_function_or_method",
    "instance",
    "_Feature"
   ],
   "window_display": false
  }
 },
 "nbformat": 4,
 "nbformat_minor": 2
}
