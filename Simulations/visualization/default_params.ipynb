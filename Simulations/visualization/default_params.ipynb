{
 "cells": [
  {
   "cell_type": "code",
   "execution_count": 1,
   "metadata": {
    "ExecuteTime": {
     "end_time": "2019-07-12T20:08:39.971115Z",
     "start_time": "2019-07-12T20:08:39.965532Z"
    }
   },
   "outputs": [
    {
     "name": "stdout",
     "output_type": "stream",
     "text": [
      "\n"
     ]
    }
   ],
   "source": [
    "\"\"\"\n",
    "Made on July 10th, 2019\n",
    "@author: Theodore Pena\n",
    "@contact: theodore.pena@tufts.edu\n",
    "\"\"\"\n",
    "print()"
   ]
  },
  {
   "cell_type": "markdown",
   "metadata": {},
   "source": [
    "# Setup and imports"
   ]
  },
  {
   "cell_type": "code",
   "execution_count": 2,
   "metadata": {
    "ExecuteTime": {
     "end_time": "2019-07-12T20:08:48.579098Z",
     "start_time": "2019-07-12T20:08:41.215541Z"
    }
   },
   "outputs": [
    {
     "name": "stdout",
     "output_type": "stream",
     "text": [
      "sys version: 3.7.3 (default, Mar 27 2019, 22:11:17) \n",
      "[GCC 7.3.0]\n",
      "numpy version: 1.16.2\n",
      "pandas version: 0.24.2\n"
     ]
    },
    {
     "data": {
      "text/html": [
       "<style>.container { width:100% !important; }</style>"
      ],
      "text/plain": [
       "<IPython.core.display.HTML object>"
      ]
     },
     "metadata": {},
     "output_type": "display_data"
    }
   ],
   "source": [
    "import sys\n",
    "print(\"sys version: {}\".format(sys.version))\n",
    "# This project is entirely in python 3.7\n",
    "\n",
    "import matplotlib\n",
    "import matplotlib.pyplot as plt\n",
    "%matplotlib qt \n",
    "# If you don't have an X server, line 7 might crash your kernel. Try '%matplotlib inline' instead.\n",
    "\n",
    "import numpy as np\n",
    "print(\"numpy version: {}\".format(np.__version__))\n",
    "\n",
    "import pandas as pd\n",
    "print(\"pandas version: {}\".format(pd.__version__))\n",
    "\n",
    "from tqdm import tqdm\n",
    "# This gives for loops progress bars.\n",
    "\n",
    "import random\n",
    "# This helps choosing random numbers from our arrays\n",
    "random.seed(565) # Set random seed for reproducibility\n",
    "\n",
    "from IPython.core.display import display, HTML\n",
    "# An alternate, cleaner take on the jupyter workspace\n",
    "display(HTML(\"<style>.container { width:100% !important; }</style>\"))"
   ]
  },
  {
   "cell_type": "code",
   "execution_count": 3,
   "metadata": {
    "ExecuteTime": {
     "end_time": "2019-07-12T20:08:50.163325Z",
     "start_time": "2019-07-12T20:08:50.150697Z"
    },
    "code_folding": [
     0
    ]
   },
   "outputs": [
    {
     "data": {
      "application/javascript": [
       "try {\n",
       "  require(['base/js/utils'], function (utils) {\n",
       "    utils.load_extension('code_prettify/code_prettify');\n",
       "    utils.load_extension('collapsible_headings/main'); \n",
       "    utils.load_extension('codefolding/edit'); \n",
       "    utils.load_extension('codefolding/main'); \n",
       "    utils.load_extension('execute_time/ExecuteTime');   \n",
       "    utils.load_extension('toc2/main'); \n",
       "  });\n",
       "}\n",
       "catch (err) {\n",
       "  console.log('toc2 load error:', err);\n",
       "}\n"
      ],
      "text/plain": [
       "<IPython.core.display.Javascript object>"
      ]
     },
     "metadata": {},
     "output_type": "display_data"
    }
   ],
   "source": [
    "%%javascript\n",
    "try {\n",
    "  require(['base/js/utils'], function (utils) {\n",
    "    utils.load_extension('code_prettify/code_prettify');\n",
    "    utils.load_extension('collapsible_headings/main'); \n",
    "    utils.load_extension('codefolding/edit'); \n",
    "    utils.load_extension('codefolding/main'); \n",
    "    utils.load_extension('execute_time/ExecuteTime');   \n",
    "    utils.load_extension('toc2/main'); \n",
    "  });\n",
    "}\n",
    "catch (err) {\n",
    "  console.log('toc2 load error:', err);\n",
    "}"
   ]
  },
  {
   "cell_type": "markdown",
   "metadata": {},
   "source": [
    "# Data extraction"
   ]
  },
  {
   "cell_type": "code",
   "execution_count": 4,
   "metadata": {
    "ExecuteTime": {
     "end_time": "2019-07-12T20:08:51.461121Z",
     "start_time": "2019-07-12T20:08:51.456128Z"
    },
    "code_folding": []
   },
   "outputs": [],
   "source": [
    "# Variables\n",
    "brightest_percent = 1 # Out of the entire sample, the program will randomly choose from the brightest (brightest_percent)%. Setting this to 100 means that we choose randomly from the whole sample. \n",
    "num_random_points = 1000 # This is the number of points that are randomly choosen from the light curve\n",
    "t_max = 1000 # The last number in the sequence 5, 10, ..., 1000 (the point furthest from each chosen point)\n",
    "t_step = 5 # The diffrence between two points in the sequence 5, 10, ...\n",
    "length_curve = 2**24 # Number of points in the curve\n",
    "num_curves = 20 # Number of curves we're examining"
   ]
  },
  {
   "cell_type": "code",
   "execution_count": 5,
   "metadata": {
    "ExecuteTime": {
     "end_time": "2019-07-12T20:09:06.234715Z",
     "start_time": "2019-07-12T20:08:52.058958Z"
    },
    "code_folding": [
     0
    ],
    "scrolled": true
   },
   "outputs": [
    {
     "name": "stderr",
     "output_type": "stream",
     "text": [
      "100%|██████████| 21/21 [00:08<00:00,  2.06it/s]\n"
     ]
    }
   ],
   "source": [
    "# Load the data\n",
    "default_curves = []\n",
    "for i in tqdm(range(num_curves + 1)):\n",
    "    \n",
    "    if i == 0:\n",
    "        continue # for some reason the results files start at 1 and not 0\n",
    "        \n",
    "    _er_curve = np.zeros(length_curve, dtype=float)\n",
    "    _er_curve = np.fromfile('/home/tpena01/AGN_variability_project/Simulations/light_curves/default_params/results_Default_curve_{}.bin'.format(str(i)))\n",
    "    default_curves.append(_er_curve)\n",
    "\n",
    "default_curves = np.array(default_curves)\n",
    "\n",
    "default_curves = np.log10(default_curves) # Move everything into the log domain"
   ]
  },
  {
   "cell_type": "code",
   "execution_count": 6,
   "metadata": {
    "ExecuteTime": {
     "end_time": "2019-07-12T20:09:08.867448Z",
     "start_time": "2019-07-12T20:09:06.236825Z"
    },
    "code_folding": [
     0
    ]
   },
   "outputs": [
    {
     "name": "stderr",
     "output_type": "stream",
     "text": [
      "100%|██████████| 20/20 [00:02<00:00,  7.40it/s]\n"
     ]
    }
   ],
   "source": [
    "# Cut out the last t_max points\n",
    "cut_curves = np.zeros((np.array(list(default_curves.shape)) - np.array([0, t_max])))\n",
    "for i in tqdm(range(num_curves)):\n",
    "    cut_curves[i, :] = default_curves[i, :-t_max]"
   ]
  },
  {
   "cell_type": "code",
   "execution_count": 7,
   "metadata": {
    "ExecuteTime": {
     "end_time": "2019-07-12T20:09:14.449902Z",
     "start_time": "2019-07-12T20:09:09.507507Z"
    },
    "code_folding": [
     0
    ]
   },
   "outputs": [
    {
     "name": "stderr",
     "output_type": "stream",
     "text": [
      "100%|██████████| 20/20 [00:04<00:00,  4.35it/s]\n"
     ]
    }
   ],
   "source": [
    "# Select the brightest (brightest_percent)% of points\n",
    "num_brightest = int(np.floor((cut_curves[0].shape[0] * (brightest_percent/100))))\n",
    "\n",
    "indices = []\n",
    "for i in tqdm(range(cut_curves.shape[0])):\n",
    "    indices.append(np.argpartition(cut_curves[i, :], -num_brightest)[-num_brightest:])\n",
    "\n",
    "indices = np.array(indices)"
   ]
  },
  {
   "cell_type": "code",
   "execution_count": 24,
   "metadata": {
    "ExecuteTime": {
     "end_time": "2019-07-12T20:17:55.859350Z",
     "start_time": "2019-07-12T20:17:55.665102Z"
    },
    "code_folding": [
     0
    ]
   },
   "outputs": [
    {
     "name": "stderr",
     "output_type": "stream",
     "text": [
      "100%|██████████| 20/20 [00:00<00:00, 108.87it/s]\n"
     ]
    }
   ],
   "source": [
    "# Randomly sample from the chosen indices\n",
    "chosen_indices = []\n",
    "for brightest_points_in_curve in tqdm(indices):\n",
    "    chosen_indices.append(random.sample(list(brightest_points_in_curve), num_random_points))\n",
    "\n",
    "chosen_indices = np.array(chosen_indices, dtype=int)"
   ]
  },
  {
   "cell_type": "code",
   "execution_count": 9,
   "metadata": {
    "ExecuteTime": {
     "end_time": "2019-07-12T20:09:15.743536Z",
     "start_time": "2019-07-12T20:09:15.730659Z"
    },
    "code_folding": [
     0
    ]
   },
   "outputs": [
    {
     "name": "stderr",
     "output_type": "stream",
     "text": [
      "100%|██████████| 20/20 [00:00<00:00, 7872.93it/s]\n"
     ]
    }
   ],
   "source": [
    "# Find the smallest number that we've chosen (We print this out later)\n",
    "small_points = []\n",
    "for i in tqdm(range(num_curves)):\n",
    "    small_points.append(np.min(cut_curves[i][chosen_indices[i]]))\n",
    "\n",
    "smallest_point = \"The smallest Eddington ratio chosen while making this plot was \" + str(np.min(small_points))"
   ]
  },
  {
   "cell_type": "code",
   "execution_count": 61,
   "metadata": {
    "ExecuteTime": {
     "end_time": "2019-07-12T20:41:44.995998Z",
     "start_time": "2019-07-12T20:41:44.807279Z"
    },
    "code_folding": [],
    "scrolled": false
   },
   "outputs": [
    {
     "name": "stderr",
     "output_type": "stream",
     "text": [
      "/home/tpena01/anaconda3/lib/python3.7/site-packages/ipykernel_launcher.py:3: RuntimeWarning: divide by zero encountered in log10\n",
      "  This is separate from the ipykernel package so we can avoid doing imports until\n",
      "100%|██████████| 20/20 [00:00<00:00, 242.75it/s]\n",
      "100%|██████████| 201/201 [00:00<00:00, 3837.84it/s]\n"
     ]
    }
   ],
   "source": [
    "# Select all our points\n",
    "t_examine = np.arange(0, t_max+1, t_step)\n",
    "t_log = np.log10(t_examine) # Used later\n",
    "\n",
    "t_array = np.tile(t_examine, (num_random_points, 1))\n",
    "\n",
    "master_array = np.zeros(t_examine.shape, dtype=int)\n",
    "\n",
    "for i in tqdm(range(num_curves)):\n",
    "    indices_array = np.tile(chosen_indices[i, :], (t_array.shape[1], 1)).T\n",
    "    \n",
    "    indices_array = indices_array + t_array    \n",
    "    master_array = np.vstack((default_curves[i][indices_array], master_array))\n",
    "\n",
    "master_array = np.delete(master_array, -1, 0)\n",
    "\n",
    "starting_vals = np.copy(master_array[:, 0])\n",
    "for i in tqdm(range(master_array.shape[1])):\n",
    "    master_array[:, i] = master_array[:, i] - starting_vals"
   ]
  },
  {
   "cell_type": "code",
   "execution_count": 63,
   "metadata": {
    "ExecuteTime": {
     "end_time": "2019-07-12T20:41:52.036940Z",
     "start_time": "2019-07-12T20:41:51.939604Z"
    },
    "code_folding": [
     0
    ]
   },
   "outputs": [
    {
     "name": "stderr",
     "output_type": "stream",
     "text": [
      "100%|██████████| 201/201 [00:00<00:00, 2229.68it/s]\n"
     ]
    }
   ],
   "source": [
    "# Find our trends\n",
    "means = []\n",
    "stands = []\n",
    "\n",
    "for i in tqdm(range(master_array.shape[1])):\n",
    "    means.append(np.mean(master_array[:, i]))\n",
    "    stands.append(np.std(master_array[:, i]))\n",
    "\n",
    "means = np.array(means)\n",
    "stands = np.array(stands)"
   ]
  },
  {
   "cell_type": "code",
   "execution_count": 64,
   "metadata": {
    "ExecuteTime": {
     "end_time": "2019-07-12T20:41:52.308246Z",
     "start_time": "2019-07-12T20:41:52.303049Z"
    }
   },
   "outputs": [],
   "source": [
    "# Get a line of best fit\n",
    "best_fit = np.poly1d(np.poly1d(np.polyfit(t_log.astype(float)[1:], means.astype(float)[1:], 1)))"
   ]
  },
  {
   "cell_type": "markdown",
   "metadata": {},
   "source": [
    "# Graphs"
   ]
  },
  {
   "cell_type": "markdown",
   "metadata": {},
   "source": [
    "## Delta Eddington ratio plot"
   ]
  },
  {
   "cell_type": "code",
   "execution_count": 65,
   "metadata": {
    "ExecuteTime": {
     "end_time": "2019-07-12T20:41:53.926018Z",
     "start_time": "2019-07-12T20:41:53.464903Z"
    }
   },
   "outputs": [
    {
     "data": {
      "image/png": "[encoded data removed]",
      "text/plain": [
       "<Figure size 1440x720 with 1 Axes>"
      ]
     },
     "metadata": {
      "needs_background": "light"
     },
     "output_type": "display_data"
    }
   ],
   "source": [
    "with plt.style.context('seaborn-paper'):\n",
    "    fig, ax = plt.subplots(1, figsize=(20, 10))\n",
    "    \n",
    "    ax.tick_params(direction='in', length=6, width=1.5, labelsize=20)\n",
    "    ax.spines['top'].set_linewidth(1.5)\n",
    "    ax.spines['right'].set_linewidth(1.5)\n",
    "    ax.spines['bottom'].set_linewidth(1.5)\n",
    "    ax.spines['left'].set_linewidth(1.5)\n",
    "    \n",
    "    plt.errorbar(t_log, means, yerr=stands, fmt='s', alpha=.5)\n",
    "    plt.plot(t_log[1:], best_fit(t_log[1:].astype(float)), ls='--', color='orange')\n",
    "    \n",
    "    plt.ylabel('$\\Delta EDD.$ $RATIO$ (SIMULATED)', fontsize= 20)\n",
    "    plt.xlabel('$\\log_{10}(t)$ (SIMULATED)', fontsize= 20)\n",
    "    ax.text(.7, -0.47, smallest_point, fontsize=18)\n",
    "    \n",
    "plt.savefig('Simulated_delta_g.pdf', bbox_inches='tight')    \n",
    "plt.show()"
   ]
  },
  {
   "cell_type": "markdown",
   "metadata": {},
   "source": [
    "## Raw Eddington curve"
   ]
  },
  {
   "cell_type": "code",
   "execution_count": 16,
   "metadata": {
    "ExecuteTime": {
     "end_time": "2019-07-12T20:11:12.354514Z",
     "start_time": "2019-07-12T20:11:12.230792Z"
    }
   },
   "outputs": [
    {
     "data": {
      "image/png": "[encoded data removed]",
      "text/plain": [
       "<Figure size 432x288 with 1 Axes>"
      ]
     },
     "metadata": {
      "needs_background": "light"
     },
     "output_type": "display_data"
    }
   ],
   "source": [
    "%matplotlib inline\n",
    "plt.plot(np.arange(10), default_curves[0][chosen_indices[0][0]:chosen_indices[0][0]+10])\n",
    "plt.show()"
   ]
  },
  {
   "cell_type": "code",
   "execution_count": 21,
   "metadata": {
    "ExecuteTime": {
     "end_time": "2019-07-12T20:13:51.804015Z",
     "start_time": "2019-07-12T20:13:51.794453Z"
    }
   },
   "outputs": [
    {
     "data": {
      "text/plain": [
       "array([ 0.07468742,  0.06372204,  0.06546074,  0.08359231,  0.05952108,\n",
       "        0.03435593,  0.03015752,  0.03516224,  0.02315361,  0.02002882,\n",
       "       -0.00237727,  0.00076988,  0.00085671,  0.02619281,  0.03347494,\n",
       "        0.04090598,  0.02446196,  0.01355159,  0.0228412 ,  0.04436062,\n",
       "        0.05948026,  0.06131724,  0.0652944 ,  0.0931154 ,  0.11381156,\n",
       "        0.13728324,  0.14211605,  0.12901962,  0.10250935,  0.07228209,\n",
       "        0.07022431,  0.06097183,  0.05574897,  0.04689275,  0.03803099,\n",
       "        0.04182606,  0.03210777,  0.04581882,  0.06184152,  0.07334421,\n",
       "        0.071215  ,  0.0741019 ,  0.08999852,  0.09435391,  0.11422271,\n",
       "        0.14223189,  0.15948728,  0.16363347,  0.15418377,  0.15523986,\n",
       "        0.14319653,  0.11045642,  0.08393778,  0.07751212,  0.08149225,\n",
       "        0.07371142,  0.08950361,  0.10613216,  0.10374818,  0.09930451,\n",
       "        0.0820827 ,  0.06367291,  0.073104  ,  0.05855334,  0.05049816,\n",
       "        0.04492894,  0.05310501,  0.05566482,  0.07050778,  0.08390109,\n",
       "        0.08588397,  0.07744791,  0.07121398,  0.07235468,  0.05333315,\n",
       "        0.05776206,  0.05656919,  0.06454396,  0.0697056 ,  0.05995208,\n",
       "        0.05046553,  0.06204545,  0.07034882,  0.06633443,  0.05282215,\n",
       "        0.05987313,  0.05312845,  0.0315374 ,  0.01814366,  0.02307505,\n",
       "        0.03008359,  0.02810979,  0.03009612,  0.03071032,  0.05195471,\n",
       "        0.07623936,  0.10082584,  0.09060568,  0.11038102,  0.11475192,\n",
       "        0.10941346,  0.10812569,  0.10947499,  0.10248707,  0.09648002,\n",
       "        0.07491788,  0.07986919,  0.06695177,  0.06121966,  0.0575262 ,\n",
       "        0.05078459,  0.05064054,  0.04999823,  0.05389564,  0.07045656,\n",
       "        0.09227407,  0.1191063 ,  0.13779291,  0.16071982,  0.18396744,\n",
       "        0.20584171,  0.19339681,  0.21094679,  0.22240427,  0.2686796 ,\n",
       "        0.28458224,  0.30901001,  0.30783556,  0.30404544,  0.26383231,\n",
       "        0.24269477,  0.22626446,  0.22194582,  0.21361673,  0.22556387,\n",
       "        0.20829774,  0.21411386,  0.19148868,  0.16498514,  0.15983208,\n",
       "        0.14442499,  0.1473595 ,  0.15741985,  0.16894139,  0.18892421,\n",
       "        0.17419135,  0.16682887,  0.16681189,  0.16015885,  0.14452929,\n",
       "        0.13927779,  0.13820198,  0.12630166,  0.12292649,  0.13202772,\n",
       "        0.12778043,  0.13676439,  0.12546843,  0.10960236,  0.09244793,\n",
       "        0.1109229 ,  0.1262211 ,  0.15623486,  0.17328613,  0.17634742,\n",
       "        0.19842991,  0.20294607,  0.17703802,  0.14777413,  0.1284236 ,\n",
       "        0.12613024,  0.0940481 ,  0.06979352,  0.0594944 ,  0.06025708,\n",
       "        0.06093819,  0.06143638,  0.06322192,  0.06609268,  0.05023197,\n",
       "        0.04288912,  0.03227134,  0.01716695, -0.00748508, -0.01337284,\n",
       "       -0.0225421 , -0.00826674, -0.0017603 ,  0.01846302,  0.01522236,\n",
       "        0.02053678,  0.03616513,  0.05238022,  0.05715698,  0.06687749,\n",
       "        0.06248874,  0.051101  ,  0.07501287,  0.07442189,  0.09333923,\n",
       "        0.11898869])"
      ]
     },
     "execution_count": 21,
     "metadata": {},
     "output_type": "execute_result"
    }
   ],
   "source": [
    "master_array[1, :]"
   ]
  },
  {
   "cell_type": "markdown",
   "metadata": {
    "heading_collapsed": true
   },
   "source": [
    "## Eddington ratio distribution"
   ]
  },
  {
   "cell_type": "code",
   "execution_count": null,
   "metadata": {
    "ExecuteTime": {
     "end_time": "2019-07-12T20:00:21.237129Z",
     "start_time": "2019-07-12T20:00:20.862722Z"
    },
    "hidden": true
   },
   "outputs": [],
   "source": [
    "plt.hist(default_curves[0], lw=.05) # Log axis for count, shrink bins\n",
    "                                    # Also overplot histogram of the chosen points\n",
    "plt.title('Eddington ratio distribution')\n",
    "plt.xlabel('EDD. Ratio')\n",
    "plt.show()"
   ]
  }
 ],
 "metadata": {
  "kernelspec": {
   "display_name": "Python 3",
   "language": "python",
   "name": "python3"
  },
  "language_info": {
   "codemirror_mode": {
    "name": "ipython",
    "version": 3
   },
   "file_extension": ".py",
   "mimetype": "text/x-python",
   "name": "python",
   "nbconvert_exporter": "python",
   "pygments_lexer": "ipython3",
   "version": "3.7.3"
  },
  "toc": {
   "base_numbering": 1,
   "nav_menu": {},
   "number_sections": true,
   "sideBar": true,
   "skip_h1_title": false,
   "title_cell": "Table of Contents",
   "title_sidebar": "Contents",
   "toc_cell": false,
   "toc_position": {},
   "toc_section_display": true,
   "toc_window_display": false
  }
 },
 "nbformat": 4,
 "nbformat_minor": 2
}
