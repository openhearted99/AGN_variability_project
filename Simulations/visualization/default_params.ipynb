{
 "cells": [
  {
   "cell_type": "code",
   "execution_count": 1,
   "metadata": {
    "ExecuteTime": {
     "end_time": "2019-07-15T21:01:16.209090Z",
     "start_time": "2019-07-15T21:01:16.202173Z"
    }
   },
   "outputs": [
    {
     "name": "stdout",
     "output_type": "stream",
     "text": [
      "\n"
     ]
    }
   ],
   "source": [
    "\"\"\"\n",
    "Made on July 10th, 2019\n",
    "@author: Theodore Pena\n",
    "@contact: theodore.pena@tufts.edu\n",
    "\"\"\"\n",
    "print()"
   ]
  },
  {
   "cell_type": "markdown",
   "metadata": {},
   "source": [
    "# Setup and imports"
   ]
  },
  {
   "cell_type": "code",
   "execution_count": 2,
   "metadata": {
    "ExecuteTime": {
     "end_time": "2019-07-15T21:01:17.969448Z",
     "start_time": "2019-07-15T21:01:16.795509Z"
    }
   },
   "outputs": [
    {
     "name": "stdout",
     "output_type": "stream",
     "text": [
      "sys version: 3.7.3 (default, Mar 27 2019, 22:11:17) \n",
      "[GCC 7.3.0]\n",
      "numpy version: 1.16.2\n",
      "pandas version: 0.24.2\n"
     ]
    },
    {
     "data": {
      "text/html": [
       "<style>.container { width:100% !important; }</style>"
      ],
      "text/plain": [
       "<IPython.core.display.HTML object>"
      ]
     },
     "metadata": {},
     "output_type": "display_data"
    }
   ],
   "source": [
    "import sys\n",
    "print(\"sys version: {}\".format(sys.version))\n",
    "# This project is entirely in python 3.7\n",
    "\n",
    "import matplotlib\n",
    "import matplotlib.pyplot as plt\n",
    "%matplotlib qt \n",
    "# If you don't have an X server, line 7 might crash your kernel. Try '%matplotlib inline' instead.\n",
    "\n",
    "import numpy as np\n",
    "print(\"numpy version: {}\".format(np.__version__))\n",
    "\n",
    "import pandas as pd\n",
    "print(\"pandas version: {}\".format(pd.__version__))\n",
    "\n",
    "from tqdm import tqdm\n",
    "# This gives for loops progress bars.\n",
    "\n",
    "import random\n",
    "# This helps choosing random numbers from our arrays\n",
    "random.seed(565) # Set random seed for reproducibility\n",
    "\n",
    "from IPython.core.display import display, HTML\n",
    "# An alternate, cleaner take on the jupyter workspace\n",
    "display(HTML(\"<style>.container { width:100% !important; }</style>\"))"
   ]
  },
  {
   "cell_type": "code",
   "execution_count": 3,
   "metadata": {
    "ExecuteTime": {
     "end_time": "2019-07-15T21:01:17.978899Z",
     "start_time": "2019-07-15T21:01:17.972168Z"
    },
    "code_folding": []
   },
   "outputs": [
    {
     "data": {
      "application/javascript": [
       "try {\n",
       "  require(['base/js/utils'], function (utils) {\n",
       "    utils.load_extension('code_prettify/code_prettify');\n",
       "    utils.load_extension('collapsible_headings/main'); \n",
       "    utils.load_extension('codefolding/edit'); \n",
       "    utils.load_extension('codefolding/main'); \n",
       "    utils.load_extension('execute_time/ExecuteTime');   \n",
       "    utils.load_extension('toc2/main'); \n",
       "  });\n",
       "}\n",
       "catch (err) {\n",
       "  console.log('toc2 load error:', err);\n",
       "}\n"
      ],
      "text/plain": [
       "<IPython.core.display.Javascript object>"
      ]
     },
     "metadata": {},
     "output_type": "display_data"
    }
   ],
   "source": [
    "%%javascript\n",
    "try {\n",
    "  require(['base/js/utils'], function (utils) {\n",
    "    utils.load_extension('code_prettify/code_prettify');\n",
    "    utils.load_extension('collapsible_headings/main'); \n",
    "    utils.load_extension('codefolding/edit'); \n",
    "    utils.load_extension('codefolding/main'); \n",
    "    utils.load_extension('execute_time/ExecuteTime');   \n",
    "    utils.load_extension('toc2/main'); \n",
    "  });\n",
    "}\n",
    "catch (err) {\n",
    "  console.log('toc2 load error:', err);\n",
    "}"
   ]
  },
  {
   "cell_type": "markdown",
   "metadata": {
    "heading_collapsed": true
   },
   "source": [
    "# Data extraction"
   ]
  },
  {
   "cell_type": "markdown",
   "metadata": {
    "heading_collapsed": true,
    "hidden": true
   },
   "source": [
    "## Wolfram style"
   ]
  },
  {
   "cell_type": "code",
   "execution_count": 4,
   "metadata": {
    "ExecuteTime": {
     "end_time": "2019-07-15T21:01:19.277918Z",
     "start_time": "2019-07-15T21:01:19.273024Z"
    },
    "code_folding": [],
    "hidden": true
   },
   "outputs": [],
   "source": [
    "# Variables\n",
    "brightest_percent = 1 # Out of the entire sample, the program will randomly choose from the brightest (brightest_percent)%. Setting this to 100 means that we choose randomly from the whole sample. \n",
    "num_random_points = 1000 # This is the number of points that are randomly choosen from the light curve\n",
    "t_max = 1000 # The last number in the sequence 5, 10, ..., 1000 (the point furthest from each chosen point)\n",
    "t_step = 5 # The diffrence between two points in the sequence 5, 10, ...\n",
    "length_curve = 2**24 # Number of points in the curve\n",
    "num_curves = 20 # Number of curves we're examining"
   ]
  },
  {
   "cell_type": "code",
   "execution_count": 5,
   "metadata": {
    "ExecuteTime": {
     "end_time": "2019-07-15T21:01:28.680038Z",
     "start_time": "2019-07-15T21:01:19.773918Z"
    },
    "code_folding": [],
    "hidden": true,
    "scrolled": true
   },
   "outputs": [
    {
     "name": "stderr",
     "output_type": "stream",
     "text": [
      "100%|██████████| 21/21 [00:02<00:00,  7.80it/s]\n"
     ]
    }
   ],
   "source": [
    "# Load the data\n",
    "default_curves = []\n",
    "for i in tqdm(range(num_curves + 1)):\n",
    "    \n",
    "    if i == 0:\n",
    "        continue # for some reason the results files start at 1 and not 0\n",
    "        \n",
    "    _er_curve = np.zeros(length_curve, dtype=float)\n",
    "    _er_curve = np.fromfile('/home/tpena01/AGN_variability_project/Simulations/light_curves/default_params/results_Default_curve_{}.bin'.format(str(i)))\n",
    "    default_curves.append(_er_curve)\n",
    "\n",
    "default_curves = np.array(default_curves)\n",
    "\n",
    "default_curves = np.log10(default_curves) # Move everything into the log domain"
   ]
  },
  {
   "cell_type": "code",
   "execution_count": 6,
   "metadata": {
    "ExecuteTime": {
     "end_time": "2019-07-15T21:01:31.233537Z",
     "start_time": "2019-07-15T21:01:28.682122Z"
    },
    "code_folding": [],
    "hidden": true
   },
   "outputs": [
    {
     "name": "stderr",
     "output_type": "stream",
     "text": [
      "100%|██████████| 20/20 [00:02<00:00,  8.15it/s]\n"
     ]
    }
   ],
   "source": [
    "# Cut out the last t_max points\n",
    "cut_curves = np.zeros((np.array(list(default_curves.shape)) - np.array([0, t_max])))\n",
    "for i in tqdm(range(num_curves)):\n",
    "    cut_curves[i, :] = default_curves[i, :-t_max]"
   ]
  },
  {
   "cell_type": "code",
   "execution_count": 7,
   "metadata": {
    "ExecuteTime": {
     "end_time": "2019-07-15T21:01:36.444849Z",
     "start_time": "2019-07-15T21:01:31.236923Z"
    },
    "code_folding": [],
    "hidden": true
   },
   "outputs": [
    {
     "name": "stderr",
     "output_type": "stream",
     "text": [
      "100%|██████████| 20/20 [00:04<00:00,  3.99it/s]\n"
     ]
    }
   ],
   "source": [
    "# Select the brightest (brightest_percent)% of points\n",
    "num_brightest = int(np.floor((cut_curves[0].shape[0] * (brightest_percent/100))))\n",
    "\n",
    "indices = []\n",
    "for i in tqdm(range(cut_curves.shape[0])):\n",
    "    indices.append(np.argpartition(cut_curves[i, :], -num_brightest)[-num_brightest:])\n",
    "\n",
    "indices = np.array(indices)"
   ]
  },
  {
   "cell_type": "code",
   "execution_count": 8,
   "metadata": {
    "ExecuteTime": {
     "end_time": "2019-07-15T21:01:36.712214Z",
     "start_time": "2019-07-15T21:01:36.447760Z"
    },
    "code_folding": [],
    "hidden": true
   },
   "outputs": [
    {
     "name": "stderr",
     "output_type": "stream",
     "text": [
      "100%|██████████| 20/20 [00:00<00:00, 78.69it/s]\n"
     ]
    }
   ],
   "source": [
    "# Randomly sample from the chosen indices\n",
    "chosen_indices = []\n",
    "for brightest_points_in_curve in tqdm(indices):\n",
    "    chosen_indices.append(random.sample(list(brightest_points_in_curve), num_random_points))\n",
    "\n",
    "chosen_indices = np.array(chosen_indices, dtype=int)"
   ]
  },
  {
   "cell_type": "code",
   "execution_count": 9,
   "metadata": {
    "ExecuteTime": {
     "end_time": "2019-07-15T21:01:36.728347Z",
     "start_time": "2019-07-15T21:01:36.714450Z"
    },
    "code_folding": [],
    "hidden": true
   },
   "outputs": [
    {
     "name": "stderr",
     "output_type": "stream",
     "text": [
      "100%|██████████| 20/20 [00:00<00:00, 4863.53it/s]\n"
     ]
    }
   ],
   "source": [
    "# Find the smallest number that we've chosen (We print this out later)\n",
    "small_points = []\n",
    "for i in tqdm(range(num_curves)):\n",
    "    small_points.append(np.min(cut_curves[i][chosen_indices[i]]))\n",
    "\n",
    "smallest_point = \"The smallest log10(Eddington ratio) chosen while making this plot was \" + str(np.min(small_points))"
   ]
  },
  {
   "cell_type": "code",
   "execution_count": 10,
   "metadata": {
    "ExecuteTime": {
     "end_time": "2019-07-15T21:01:37.282165Z",
     "start_time": "2019-07-15T21:01:36.731635Z"
    },
    "code_folding": [],
    "hidden": true,
    "scrolled": false
   },
   "outputs": [
    {
     "name": "stderr",
     "output_type": "stream",
     "text": [
      "100%|██████████| 20/20 [00:00<00:00, 42.55it/s]\n",
      "100%|██████████| 201/201 [00:00<00:00, 3810.38it/s]\n"
     ]
    }
   ],
   "source": [
    "# Select all our points\n",
    "t_examine = np.logspace(0, np.log10(t_max), t_max/t_step + 1).astype(int)\n",
    "t_log = np.log10(t_examine) # Used later\n",
    "\n",
    "t_array = np.tile(t_examine, (num_random_points, 1))\n",
    "\n",
    "master_array = np.zeros(t_examine.shape, dtype=int)\n",
    "\n",
    "for i in tqdm(range(num_curves)):\n",
    "    indices_array = np.tile(chosen_indices[i, :], (t_array.shape[1], 1)).T\n",
    "    \n",
    "    indices_array = indices_array + t_array    \n",
    "    master_array = np.vstack((default_curves[i][indices_array], master_array))\n",
    "\n",
    "master_array = np.delete(master_array, -1, 0)\n",
    "\n",
    "starting_vals = np.copy(master_array[:, 0])\n",
    "for i in tqdm(range(master_array.shape[1])):\n",
    "    master_array[:, i] = master_array[:, i] - starting_vals"
   ]
  },
  {
   "cell_type": "code",
   "execution_count": 11,
   "metadata": {
    "ExecuteTime": {
     "end_time": "2019-07-15T21:01:37.377370Z",
     "start_time": "2019-07-15T21:01:37.284177Z"
    },
    "code_folding": [],
    "hidden": true
   },
   "outputs": [
    {
     "name": "stderr",
     "output_type": "stream",
     "text": [
      "100%|██████████| 201/201 [00:00<00:00, 2353.61it/s]\n"
     ]
    }
   ],
   "source": [
    "# Find our trends\n",
    "means = []\n",
    "stands = []\n",
    "\n",
    "for i in tqdm(range(master_array.shape[1])):\n",
    "    means.append(np.mean(master_array[:, i]))\n",
    "    stands.append(np.std(master_array[:, i]))\n",
    "\n",
    "means = np.array(means)\n",
    "stands = np.array(stands)"
   ]
  },
  {
   "cell_type": "code",
   "execution_count": 12,
   "metadata": {
    "ExecuteTime": {
     "end_time": "2019-07-15T21:01:37.387463Z",
     "start_time": "2019-07-15T21:01:37.381323Z"
    },
    "hidden": true
   },
   "outputs": [],
   "source": [
    "# Get a line of best fit\n",
    "best_fit = np.poly1d(np.poly1d(np.polyfit(t_log.astype(float)[1:], means.astype(float)[1:], 1)))"
   ]
  },
  {
   "cell_type": "markdown",
   "metadata": {
    "heading_collapsed": true,
    "hidden": true
   },
   "source": [
    "## Python style"
   ]
  },
  {
   "cell_type": "code",
   "execution_count": 13,
   "metadata": {
    "ExecuteTime": {
     "end_time": "2019-07-15T21:01:37.420798Z",
     "start_time": "2019-07-15T21:01:37.391073Z"
    },
    "hidden": true
   },
   "outputs": [],
   "source": [
    "def generate_curve(brightest_percent=1, num_random_points=1000, t_max=1000, t_step=5, length_curve=2**24, num_curves=20):\n",
    "    \"\"\"\n",
    "    Input: Parameters documented in the cell above\n",
    "    Output: Graph of delta Eddington ratio as a function of delta time.  \n",
    "    \"\"\"\n",
    "    # Load the data\n",
    "    default_curves = []\n",
    "    for i in tqdm(range(num_curves + 1)):\n",
    "\n",
    "        if i == 0:\n",
    "            continue # for some reason the results files start at 1 and not 0\n",
    "\n",
    "        _er_curve = np.zeros(length_curve, dtype=float)\n",
    "        _er_curve = np.fromfile('/home/tpena01/AGN_variability_project/Simulations/light_curves/default_params/results_Default_curve_{}.bin'.format(str(i)))\n",
    "        default_curves.append(_er_curve)\n",
    "\n",
    "    default_curves = np.array(default_curves)\n",
    "\n",
    "    default_curves = np.log10(default_curves) # Move everything into the log domain\n",
    "    \n",
    "    \n",
    "    # Cut out the last t_max points\n",
    "    cut_curves = np.zeros((np.array(list(default_curves.shape)) - np.array([0, t_max])))\n",
    "    for i in tqdm(range(num_curves)):\n",
    "        cut_curves[i, :] = default_curves[i, :-t_max]\n",
    "    \n",
    "    \n",
    "    # Select the brightest (brightest_percent)% of points\n",
    "    num_brightest = int(np.floor((cut_curves[0].shape[0] * (brightest_percent/100))))\n",
    "\n",
    "    indices = []\n",
    "    for i in tqdm(range(cut_curves.shape[0])):\n",
    "        indices.append(np.argpartition(cut_curves[i, :], -num_brightest)[-num_brightest:])\n",
    "\n",
    "    indices = np.array(indices)\n",
    "    \n",
    "    \n",
    "    # Randomly sample from the chosen indices\n",
    "    chosen_indices = []\n",
    "    for brightest_points_in_curve in tqdm(indices):\n",
    "        chosen_indices.append(random.sample(list(brightest_points_in_curve), num_random_points))\n",
    "\n",
    "    chosen_indices = np.array(chosen_indices, dtype=int)\n",
    "    \n",
    "    \n",
    "    # Find the smallest number that we've chosen (We print this out later)\n",
    "    small_points = []\n",
    "    for i in tqdm(range(num_curves)):\n",
    "        small_points.append(np.min(cut_curves[i][chosen_indices[i]]))\n",
    "\n",
    "    smallest_point = \"The smallest log10(Eddington) ratio chosen while making this plot was \" + str(np.min(small_points))\n",
    "    \n",
    "    \n",
    "    # Select all our points\n",
    "    t_examine = np.logspace(0, np.log10(t_max), t_max/t_step + 1).astype(int)\n",
    "    t_log = np.log10(t_examine) # Used later\n",
    "\n",
    "    t_array = np.tile(t_examine, (num_random_points, 1))\n",
    "\n",
    "    master_array = np.zeros(t_examine.shape, dtype=int)\n",
    "\n",
    "    for i in tqdm(range(num_curves)):\n",
    "        indices_array = np.tile(chosen_indices[i, :], (t_array.shape[1], 1)).T\n",
    "\n",
    "        indices_array = indices_array + t_array    \n",
    "        master_array = np.vstack((default_curves[i][indices_array], master_array))\n",
    "\n",
    "    master_array = np.delete(master_array, -1, 0)\n",
    "\n",
    "    starting_vals = np.copy(master_array[:, 0])\n",
    "    for i in tqdm(range(master_array.shape[1])):\n",
    "        master_array[:, i] = master_array[:, i] - starting_vals\n",
    "        \n",
    "\n",
    "    # Find our trends\n",
    "    means = []\n",
    "    stands = []\n",
    "\n",
    "    for i in tqdm(range(master_array.shape[1])):\n",
    "        means.append(np.mean(master_array[:, i]))\n",
    "        stands.append(np.std(master_array[:, i]))\n",
    "\n",
    "    means = np.array(means)\n",
    "    stands = np.array(stands)\n",
    "    \n",
    "    \n",
    "    # Get a line of best fit\n",
    "    best_fit = np.poly1d(np.poly1d(np.polyfit(t_log.astype(float)[1:], means.astype(float)[1:], 1)))\n",
    "    \n",
    "    return (t_log, means, stands, best_fit, smallest_point)"
   ]
  },
  {
   "cell_type": "markdown",
   "metadata": {},
   "source": [
    "# Graphs"
   ]
  },
  {
   "cell_type": "markdown",
   "metadata": {
    "heading_collapsed": true
   },
   "source": [
    "## Delta Eddington ratio plot"
   ]
  },
  {
   "cell_type": "markdown",
   "metadata": {
    "heading_collapsed": true
   },
   "source": [
    "## Eddington ratio distribution"
   ]
  },
  {
   "cell_type": "code",
   "execution_count": 84,
   "metadata": {
    "ExecuteTime": {
     "end_time": "2019-07-15T16:31:27.872954Z",
     "start_time": "2019-07-15T16:31:27.478895Z"
    },
    "hidden": true
   },
   "outputs": [
    {
     "data": {
      "image/png": "[encoded data removed]",
      "text/plain": [
       "<Figure size 432x288 with 1 Axes>"
      ]
     },
     "metadata": {
      "needs_background": "light"
     },
     "output_type": "display_data"
    }
   ],
   "source": [
    "plt.hist(default_curves[0], lw=.05)\n",
    "plt.title('Eddington ratio distribution')\n",
    "plt.xlabel('EDD. Ratio')\n",
    "plt.show()"
   ]
  },
  {
   "cell_type": "markdown",
   "metadata": {},
   "source": [
    "## 10-panel plots"
   ]
  },
  {
   "cell_type": "markdown",
   "metadata": {},
   "source": [
    "### Plot curves"
   ]
  },
  {
   "cell_type": "code",
   "execution_count": 34,
   "metadata": {
    "ExecuteTime": {
     "end_time": "2019-07-15T21:17:29.787014Z",
     "start_time": "2019-07-15T21:17:28.027599Z"
    },
    "code_folding": []
   },
   "outputs": [],
   "source": [
    "# Delta Eddington ratio plots\n",
    "with plt.style.context('seaborn-paper'):\n",
    "    fig, ax = plt.subplots(5, 2, figsize=(20, 10), sharex=True, sharey=True, gridspec_kw={'width_ratios': [1, 1], 'wspace':0, 'left':0.03, 'right':1, 'bottom':.03, 'top':.95})\n",
    "    \n",
    "    ax[0,0].set_title('100%')\n",
    "    ax[0,0].tick_params(direction='in', length=6, width=1.5)\n",
    "    ax[0,0].spines['top'].set_linewidth(1.5)\n",
    "    ax[0,0].spines['right'].set_linewidth(1.5)\n",
    "    ax[0,0].spines['bottom'].set_linewidth(1.5)\n",
    "    ax[0,0].spines['left'].set_linewidth(1.5)\n",
    "    \n",
    "    \n",
    "    ax[0,0].errorbar(t_log100, means100, yerr=stands100, fmt='s', alpha=.5)\n",
    "    ax[0,0].plot(t_log100[1:], best_fit100(t_log100[1:].astype(float)), ls='--', color='orange')\n",
    "    \n",
    "    ax[0,0].text(0, -1, smallest_point1)\n",
    "    \n",
    "    \n",
    "    \n",
    "    ax[0,1].set_title('50%')\n",
    "    ax[0,1].tick_params(direction='in', length=6, width=1.5)\n",
    "    ax[0,1].spines['top'].set_linewidth(1.5)\n",
    "    ax[0,1].spines['right'].set_linewidth(1.5)\n",
    "    ax[0,1].spines['bottom'].set_linewidth(1.5)\n",
    "    ax[0,1].spines['left'].set_linewidth(1.5)\n",
    "    \n",
    "    \n",
    "    ax[0,1].errorbar(t_log50, means50, yerr=stands50, fmt='s', alpha=.5)\n",
    "    ax[0,1].plot(t_log50[1:], best_fit50(t_log50[1:].astype(float)), ls='--', color='orange')\n",
    "    \n",
    "    ax[0,1].text(0, -1, smallest_point50)\n",
    "    \n",
    "    \n",
    "    \n",
    "    ax[1,0].set_title('10%')\n",
    "    ax[1,0].tick_params(direction='in', length=6, width=1.5)\n",
    "    ax[1,0].spines['top'].set_linewidth(1.5)\n",
    "    ax[1,0].spines['right'].set_linewidth(1.5)\n",
    "    ax[1,0].spines['bottom'].set_linewidth(1.5)\n",
    "    ax[1,0].spines['left'].set_linewidth(1.5)\n",
    "    \n",
    "    \n",
    "    ax[1,0].errorbar(t_log10, means10, yerr=stands10, fmt='s', alpha=.5)\n",
    "    ax[1,0].plot(t_log10[1:], best_fit10(t_log10[1:].astype(float)), ls='--', color='orange')\n",
    "    \n",
    "    ax[1,0].text(0, -1, smallest_point10)\n",
    "    \n",
    "    \n",
    "    \n",
    "    ax[1,1].set_title('5%')\n",
    "    ax[1,1].tick_params(direction='in', length=6, width=1.5)\n",
    "    ax[1,1].spines['top'].set_linewidth(1.5)\n",
    "    ax[1,1].spines['right'].set_linewidth(1.5)\n",
    "    ax[1,1].spines['bottom'].set_linewidth(1.5)\n",
    "    ax[1,1].spines['left'].set_linewidth(1.5)\n",
    "    \n",
    "    \n",
    "    ax[1,1].errorbar(t_log5, means5, yerr=stands5, fmt='s', alpha=.5)\n",
    "    ax[1,1].plot(t_log5[1:], best_fit5(t_log5[1:].astype(float)), ls='--', color='orange')\n",
    "    \n",
    "    ax[1,1].text(0, -1, smallest_point5)\n",
    "    \n",
    "    \n",
    "    \n",
    "    ax[2,0].set_title('1%')\n",
    "    ax[2,0].tick_params(direction='in', length=6, width=1.5)\n",
    "    ax[2,0].spines['top'].set_linewidth(1.5)\n",
    "    ax[2,0].spines['right'].set_linewidth(1.5)\n",
    "    ax[2,0].spines['bottom'].set_linewidth(1.5)\n",
    "    ax[2,0].spines['left'].set_linewidth(1.5)\n",
    "    \n",
    "    \n",
    "    ax[2,0].errorbar(t_log1, means1, yerr=stands1, fmt='s', alpha=.5)\n",
    "    ax[2,0].plot(t_log1[1:], best_fit1(t_log1[1:].astype(float)), ls='--', color='orange')\n",
    "    \n",
    "    ax[2,0].text(0, -1, smallest_point1)\n",
    "    \n",
    "\n",
    "    \n",
    "    \n",
    "    ax[2,1].set_title('0.5%')\n",
    "    ax[2,1].tick_params(direction='in', length=6, width=1.5)\n",
    "    ax[2,1].spines['top'].set_linewidth(1.5)\n",
    "    ax[2,1].spines['right'].set_linewidth(1.5)\n",
    "    ax[2,1].spines['bottom'].set_linewidth(1.5)\n",
    "    ax[2,1].spines['left'].set_linewidth(1.5)\n",
    "    \n",
    "    \n",
    "    ax[2,1].errorbar(t_log05, means05, yerr=stands05, fmt='s', alpha=.5)\n",
    "    ax[2,1].plot(t_log05[1:], best_fit05(t_log05[1:].astype(float)), ls='--', color='orange')\n",
    "    \n",
    "    ax[2,1].text(0, -1, smallest_point05)\n",
    "    \n",
    "    \n",
    "    ax[3,0].set_title('0.1%')\n",
    "    ax[3,0].tick_params(direction='in', length=6, width=1.5)\n",
    "    ax[3,0].spines['top'].set_linewidth(1.5)\n",
    "    ax[3,0].spines['right'].set_linewidth(1.5)\n",
    "    ax[3,0].spines['bottom'].set_linewidth(1.5)\n",
    "    ax[3,0].spines['left'].set_linewidth(1.5)\n",
    "    \n",
    "    \n",
    "    ax[3,0].errorbar(t_log01, means01, yerr=stands01, fmt='s', alpha=.5)\n",
    "    ax[3,0].plot(t_log01[1:], best_fit01(t_log01[1:].astype(float)), ls='--', color='orange')\n",
    "    \n",
    "    ax[3,0].text(0, -1, smallest_point01)\n",
    "    \n",
    "\n",
    "    \n",
    "    \n",
    "    ax[3,1].set_title('0.05%')\n",
    "    ax[3,1].tick_params(direction='in', length=6, width=1.5)\n",
    "    ax[3,1].spines['top'].set_linewidth(1.5)\n",
    "    ax[3,1].spines['right'].set_linewidth(1.5)\n",
    "    ax[3,1].spines['bottom'].set_linewidth(1.5)\n",
    "    ax[3,1].spines['left'].set_linewidth(1.5)\n",
    "    \n",
    "    \n",
    "    ax[3,1].errorbar(t_log005, means005, yerr=stands005, fmt='s', alpha=.5)\n",
    "    ax[3,1].plot(t_log005[1:], best_fit005(t_log005[1:].astype(float)), ls='--', color='orange')\n",
    "    \n",
    "    ax[3,1].text(0, -1, smallest_point005)\n",
    "    \n",
    "    \n",
    "    \n",
    "    ax[4,0].set_title('0.01%')\n",
    "    ax[4,0].tick_params(direction='in', length=6, width=1.5)\n",
    "    ax[4,0].spines['top'].set_linewidth(1.5)\n",
    "    ax[4,0].spines['right'].set_linewidth(1.5)\n",
    "    ax[4,0].spines['bottom'].set_linewidth(1.5)\n",
    "    ax[4,0].spines['left'].set_linewidth(1.5)\n",
    "    \n",
    "    \n",
    "    ax[4,0].errorbar(t_log001, means001, yerr=stands001, fmt='s', alpha=.5)\n",
    "    ax[4,0].plot(t_log001[1:], best_fit001(t_log001[1:].astype(float)), ls='--', color='orange')\n",
    "    \n",
    "    ax[4,0].text(0, -1, smallest_point001)\n",
    "    \n",
    "    \n",
    "    \n",
    "    ax[4,1].set_title('As small as possible (0.006%)')\n",
    "    ax[4,1].tick_params(direction='in', length=6, width=1.5)\n",
    "    ax[4,1].spines['top'].set_linewidth(1.5)\n",
    "    ax[4,1].spines['right'].set_linewidth(1.5)\n",
    "    ax[4,1].spines['bottom'].set_linewidth(1.5)\n",
    "    ax[4,1].spines['left'].set_linewidth(1.5)\n",
    "    ax[4,1].set_xlabel('')\n",
    "    \n",
    "    ax[4,1].errorbar(t_loginf, meansinf, yerr=standsinf, fmt='s', alpha=.5)\n",
    "    ax[4,1].plot(t_loginf[1:], best_fitinf(t_loginf[1:].astype(float)), ls='--', color='orange')\n",
    "    \n",
    "    ax[4,1].text(0, -1, smallest_pointinf)\n",
    "    \n",
    "plt.savefig('Simulated_delta_g_for_diff_brightness.pdf', bbox_inches='tight')  \n",
    "plt.show()"
   ]
  },
  {
   "cell_type": "code",
   "execution_count": 30,
   "metadata": {
    "ExecuteTime": {
     "end_time": "2019-07-15T21:13:53.107172Z",
     "start_time": "2019-07-15T21:13:51.759332Z"
    },
    "code_folding": [
     0
    ]
   },
   "outputs": [],
   "source": [
    "# Structure function plots\n",
    "# Delta Eddington ratio plots\n",
    "with plt.style.context('seaborn-paper'):\n",
    "    fig, ax = plt.subplots(5, 2, figsize=(20, 10), sharex=True, sharey=True, gridspec_kw={'width_ratios': [1, 1], 'wspace':0, 'left':0.03, 'right':1, 'bottom':.03, 'top':.95})\n",
    "    \n",
    "    ax[0,0].set_title('100%')\n",
    "    ax[0,0].tick_params(direction='in', length=6, width=1.5)\n",
    "    ax[0,0].spines['top'].set_linewidth(1.5)\n",
    "    ax[0,0].spines['right'].set_linewidth(1.5)\n",
    "    ax[0,0].spines['bottom'].set_linewidth(1.5)\n",
    "    ax[0,0].spines['left'].set_linewidth(1.5)\n",
    "    \n",
    "    \n",
    "    ax[0,0].plot(t_log100[1:], stands100[1:])\n",
    "    \n",
    "    #ax[0,0].text(0, 0, smallest_point1)\n",
    "    \n",
    "    \n",
    "    \n",
    "    ax[0,1].set_title('50%')\n",
    "    ax[0,1].tick_params(direction='in', length=6, width=1.5)\n",
    "    ax[0,1].spines['top'].set_linewidth(1.5)\n",
    "    ax[0,1].spines['right'].set_linewidth(1.5)\n",
    "    ax[0,1].spines['bottom'].set_linewidth(1.5)\n",
    "    ax[0,1].spines['left'].set_linewidth(1.5)\n",
    "    \n",
    "    \n",
    "    ax[0,1].plot(t_log50[1:], stands50[1:])\n",
    "    \n",
    "    #ax[0,1].text(0, 0, smallest_point50)\n",
    "    \n",
    "    \n",
    "    \n",
    "    ax[1,0].set_title('10%')\n",
    "    ax[1,0].tick_params(direction='in', length=6, width=1.5)\n",
    "    ax[1,0].spines['top'].set_linewidth(1.5)\n",
    "    ax[1,0].spines['right'].set_linewidth(1.5)\n",
    "    ax[1,0].spines['bottom'].set_linewidth(1.5)\n",
    "    ax[1,0].spines['left'].set_linewidth(1.5)\n",
    "    \n",
    "    \n",
    "    ax[1,0].errorbar(t_log10, means10, yerr=stands10, fmt='s', alpha=.5)\n",
    "    ax[1,0].plot(t_log10[1:], best_fit10(t_log10[1:].astype(float)), ls='--', color='orange')\n",
    "    \n",
    "    #ax[1,0].text(0, 0, smallest_point10)\n",
    "    \n",
    "    \n",
    "    \n",
    "    ax[1,1].set_title('5%')\n",
    "    ax[1,1].tick_params(direction='in', length=6, width=1.5)\n",
    "    ax[1,1].spines['top'].set_linewidth(1.5)\n",
    "    ax[1,1].spines['right'].set_linewidth(1.5)\n",
    "    ax[1,1].spines['bottom'].set_linewidth(1.5)\n",
    "    ax[1,1].spines['left'].set_linewidth(1.5)\n",
    "    \n",
    "    \n",
    "    ax[1,1].errorbar(t_log5, means5, yerr=stands5, fmt='s', alpha=.5)\n",
    "    ax[1,1].plot(t_log5[1:], best_fit5(t_log5[1:].astype(float)), ls='--', color='orange')\n",
    "    \n",
    "    #ax[1,1].text(0, 0, smallest_point5)\n",
    "    \n",
    "    \n",
    "    \n",
    "    ax[2,0].set_title('1%')\n",
    "    ax[2,0].tick_params(direction='in', length=6, width=1.5)\n",
    "    ax[2,0].spines['top'].set_linewidth(1.5)\n",
    "    ax[2,0].spines['right'].set_linewidth(1.5)\n",
    "    ax[2,0].spines['bottom'].set_linewidth(1.5)\n",
    "    ax[2,0].spines['left'].set_linewidth(1.5)\n",
    "    \n",
    "    \n",
    "    ax[2,0].errorbar(t_log1, means1, yerr=stands1, fmt='s', alpha=.5)\n",
    "    ax[2,0].plot(t_log1[1:], best_fit1(t_log1[1:].astype(float)), ls='--', color='orange')\n",
    "    \n",
    "    #ax[2,0].text(0, 0, smallest_point1)\n",
    "    \n",
    "\n",
    "    \n",
    "    \n",
    "    ax[2,1].set_title('0.5%')\n",
    "    ax[2,1].tick_params(direction='in', length=6, width=1.5)\n",
    "    ax[2,1].spines['top'].set_linewidth(1.5)\n",
    "    ax[2,1].spines['right'].set_linewidth(1.5)\n",
    "    ax[2,1].spines['bottom'].set_linewidth(1.5)\n",
    "    ax[2,1].spines['left'].set_linewidth(1.5)\n",
    "    \n",
    "    \n",
    "    ax[2,1].errorbar(t_log05, means05, yerr=stands05, fmt='s', alpha=.5)\n",
    "    ax[2,1].plot(t_log05[1:], best_fit05(t_log05[1:].astype(float)), ls='--', color='orange')\n",
    "    \n",
    "    #ax[2,1].text(0, 0, smallest_point05)\n",
    "    \n",
    "    \n",
    "    ax[3,0].set_title('0.1%')\n",
    "    ax[3,0].tick_params(direction='in', length=6, width=1.5)\n",
    "    ax[3,0].spines['top'].set_linewidth(1.5)\n",
    "    ax[3,0].spines['right'].set_linewidth(1.5)\n",
    "    ax[3,0].spines['bottom'].set_linewidth(1.5)\n",
    "    ax[3,0].spines['left'].set_linewidth(1.5)\n",
    "    \n",
    "    \n",
    "    ax[3,0].errorbar(t_log01, means01, yerr=stands01, fmt='s', alpha=.5)\n",
    "    ax[3,0].plot(t_log01[1:], best_fit01(t_log01[1:].astype(float)), ls='--', color='orange')\n",
    "    \n",
    "    #ax[2,0].text(0, 0, smallest_point01)\n",
    "    \n",
    "\n",
    "    \n",
    "    \n",
    "    ax[3,1].set_title('0.05%')\n",
    "    ax[3,1].tick_params(direction='in', length=6, width=1.5)\n",
    "    ax[3,1].spines['top'].set_linewidth(1.5)\n",
    "    ax[3,1].spines['right'].set_linewidth(1.5)\n",
    "    ax[3,1].spines['bottom'].set_linewidth(1.5)\n",
    "    ax[3,1].spines['left'].set_linewidth(1.5)\n",
    "    \n",
    "    \n",
    "    ax[3,1].errorbar(t_log005, means005, yerr=stands005, fmt='s', alpha=.5)\n",
    "    ax[3,1].plot(t_log005[1:], best_fit005(t_log005[1:].astype(float)), ls='--', color='orange')\n",
    "    \n",
    "    #ax[2,1].text(0, 0, smallest_point005)\n",
    "    \n",
    "    \n",
    "    \n",
    "    ax[4,0].set_title('0.01%')\n",
    "    ax[4,0].tick_params(direction='in', length=6, width=1.5)\n",
    "    ax[4,0].spines['top'].set_linewidth(1.5)\n",
    "    ax[4,0].spines['right'].set_linewidth(1.5)\n",
    "    ax[4,0].spines['bottom'].set_linewidth(1.5)\n",
    "    ax[4,0].spines['left'].set_linewidth(1.5)\n",
    "    \n",
    "    \n",
    "    ax[4,0].errorbar(t_log001, means001, yerr=stands001, fmt='s', alpha=.5)\n",
    "    ax[4,0].plot(t_log001[1:], best_fit001(t_log001[1:].astype(float)), ls='--', color='orange')\n",
    "    \n",
    "    #ax[4,0].text(0, 0, smallest_point001)\n",
    "    \n",
    "    \n",
    "    \n",
    "    ax[4,1].set_title('As small as possible (0.006%)')\n",
    "    ax[4,1].tick_params(direction='in', length=6, width=1.5)\n",
    "    ax[4,1].spines['top'].set_linewidth(1.5)\n",
    "    ax[4,1].spines['right'].set_linewidth(1.5)\n",
    "    ax[4,1].spines['bottom'].set_linewidth(1.5)\n",
    "    ax[4,1].spines['left'].set_linewidth(1.5)\n",
    "    \n",
    "    \n",
    "    ax[4,1].errorbar(t_loginf, meansinf, yerr=standsinf, fmt='s', alpha=.5)\n",
    "    ax[4,1].plot(t_loginf[1:], best_fitinf(t_loginf[1:].astype(float)), ls='--', color='orange')\n",
    "    \n",
    "    #ax[4,1].text(0, 0, smallest_pointinf)\n",
    "    \n",
    "plt.savefig('Simulated_delta_g_for_diff_brightness.pdf', bbox_inches='tight')  \n",
    "plt.show()"
   ]
  },
  {
   "cell_type": "markdown",
   "metadata": {
    "heading_collapsed": true
   },
   "source": [
    "### Create curves"
   ]
  },
  {
   "cell_type": "code",
   "execution_count": 15,
   "metadata": {
    "ExecuteTime": {
     "end_time": "2019-07-15T21:01:58.125398Z",
     "start_time": "2019-07-15T21:01:58.122142Z"
    },
    "hidden": true
   },
   "outputs": [],
   "source": [
    "# # Variables\n",
    "# brightest_percent = 1 # Out of the entire sample, the program will randomly choose from the brightest (brightest_percent)%. Setting this to 100 means that we choose randomly from the whole sample. \n",
    "# num_random_points = 1000 # This is the number of points that are randomly choosen from the light curve\n",
    "# t_max = 1000 # The last number in the sequence 5, 10, ..., 1000 (the point furthest from each chosen point)\n",
    "# t_step = 5 # The diffrence between two points in the sequence 5, 10, ...\n",
    "# length_curve = 2**24 # Number of points in the curve\n",
    "# num_curves = 20 # Number of curves we're examining"
   ]
  },
  {
   "cell_type": "code",
   "execution_count": 16,
   "metadata": {
    "ExecuteTime": {
     "end_time": "2019-07-15T21:03:40.413463Z",
     "start_time": "2019-07-15T21:01:58.414514Z"
    },
    "hidden": true
   },
   "outputs": [
    {
     "name": "stderr",
     "output_type": "stream",
     "text": [
      "100%|██████████| 21/21 [00:02<00:00,  7.38it/s]\n",
      "100%|██████████| 20/20 [00:03<00:00,  4.54it/s]\n",
      "100%|██████████| 20/20 [00:13<00:00,  1.31s/it]\n",
      "100%|██████████| 20/20 [00:49<00:00,  1.64s/it]\n",
      "100%|██████████| 20/20 [00:00<00:00, 437.97it/s]\n",
      "100%|██████████| 20/20 [00:01<00:00, 15.91it/s]\n",
      "100%|██████████| 201/201 [00:00<00:00, 2979.95it/s]\n",
      "100%|██████████| 201/201 [00:00<00:00, 2491.78it/s]\n"
     ]
    }
   ],
   "source": [
    "t_log100, means100, stands100, best_fit100, smallest_point100 = generate_curve(brightest_percent=100)"
   ]
  },
  {
   "cell_type": "code",
   "execution_count": 17,
   "metadata": {
    "ExecuteTime": {
     "end_time": "2019-07-15T21:04:26.165021Z",
     "start_time": "2019-07-15T21:03:40.429555Z"
    },
    "hidden": true
   },
   "outputs": [
    {
     "name": "stderr",
     "output_type": "stream",
     "text": [
      "100%|██████████| 21/21 [00:10<00:00,  2.39it/s]\n",
      "100%|██████████| 20/20 [00:02<00:00,  7.26it/s]\n",
      "100%|██████████| 20/20 [00:06<00:00,  3.44it/s]\n",
      "100%|██████████| 20/20 [00:14<00:00,  1.31it/s]\n",
      "100%|██████████| 20/20 [00:00<00:00, 2230.95it/s]\n",
      "100%|██████████| 20/20 [00:00<00:00, 189.04it/s]\n",
      "100%|██████████| 201/201 [00:00<00:00, 2043.97it/s]\n",
      "100%|██████████| 201/201 [00:00<00:00, 1337.01it/s]\n"
     ]
    }
   ],
   "source": [
    "t_log50, means50, stands50, best_fit50, smallest_point50 = generate_curve(brightest_percent=50)"
   ]
  },
  {
   "cell_type": "code",
   "execution_count": 18,
   "metadata": {
    "ExecuteTime": {
     "end_time": "2019-07-15T21:04:51.118947Z",
     "start_time": "2019-07-15T21:04:26.233871Z"
    },
    "hidden": true
   },
   "outputs": [
    {
     "name": "stderr",
     "output_type": "stream",
     "text": [
      "100%|██████████| 21/21 [00:06<00:00,  5.48it/s]\n",
      "100%|██████████| 20/20 [00:02<00:00,  7.74it/s]\n",
      "100%|██████████| 20/20 [00:04<00:00,  4.54it/s]\n",
      "100%|██████████| 20/20 [00:02<00:00,  8.55it/s]\n",
      "100%|██████████| 20/20 [00:00<00:00, 4970.73it/s]\n",
      "100%|██████████| 20/20 [00:00<00:00, 251.59it/s]\n",
      "100%|██████████| 201/201 [00:00<00:00, 3162.00it/s]\n",
      "100%|██████████| 201/201 [00:00<00:00, 2629.89it/s]\n"
     ]
    }
   ],
   "source": [
    "t_log10, means10, stands10, best_fit10, smallest_point10 = generate_curve(brightest_percent=10)"
   ]
  },
  {
   "cell_type": "code",
   "execution_count": 19,
   "metadata": {
    "ExecuteTime": {
     "end_time": "2019-07-15T21:05:09.853883Z",
     "start_time": "2019-07-15T21:04:51.123562Z"
    },
    "hidden": true
   },
   "outputs": [
    {
     "name": "stderr",
     "output_type": "stream",
     "text": [
      "100%|██████████| 21/21 [00:04<00:00,  7.92it/s]\n",
      "100%|██████████| 20/20 [00:02<00:00,  8.11it/s]\n",
      "100%|██████████| 20/20 [00:04<00:00,  4.82it/s]\n",
      "100%|██████████| 20/20 [00:01<00:00, 17.21it/s]\n",
      "100%|██████████| 20/20 [00:00<00:00, 18666.24it/s]\n",
      "100%|██████████| 20/20 [00:00<00:00, 254.36it/s]\n",
      "100%|██████████| 201/201 [00:00<00:00, 4213.23it/s]\n",
      "100%|██████████| 201/201 [00:00<00:00, 3073.66it/s]\n"
     ]
    }
   ],
   "source": [
    "t_log5, means5, stands5, best_fit5, smallest_point5 = generate_curve(brightest_percent=5)"
   ]
  },
  {
   "cell_type": "code",
   "execution_count": 20,
   "metadata": {
    "ExecuteTime": {
     "end_time": "2019-07-15T21:05:35.075067Z",
     "start_time": "2019-07-15T21:05:09.856702Z"
    },
    "hidden": true
   },
   "outputs": [
    {
     "name": "stderr",
     "output_type": "stream",
     "text": [
      "100%|██████████| 21/21 [00:04<00:00,  7.68it/s]\n",
      "100%|██████████| 20/20 [00:04<00:00,  6.89it/s]\n",
      "100%|██████████| 20/20 [00:05<00:00,  3.58it/s]\n",
      "100%|██████████| 20/20 [00:00<00:00, 59.42it/s]\n",
      "100%|██████████| 20/20 [00:00<00:00, 9033.61it/s]\n",
      "100%|██████████| 20/20 [00:00<00:00, 267.03it/s]\n",
      "100%|██████████| 201/201 [00:00<00:00, 3037.60it/s]\n",
      "100%|██████████| 201/201 [00:00<00:00, 1815.78it/s]\n"
     ]
    }
   ],
   "source": [
    "t_log1, means1, stands1, best_fit1, smallest_point1 = generate_curve(brightest_percent=1)"
   ]
  },
  {
   "cell_type": "code",
   "execution_count": 21,
   "metadata": {
    "ExecuteTime": {
     "end_time": "2019-07-15T21:05:54.380279Z",
     "start_time": "2019-07-15T21:05:35.077869Z"
    },
    "hidden": true
   },
   "outputs": [
    {
     "name": "stderr",
     "output_type": "stream",
     "text": [
      "100%|██████████| 21/21 [00:04<00:00,  7.51it/s]\n",
      "100%|██████████| 20/20 [00:02<00:00,  6.26it/s]\n",
      "100%|██████████| 20/20 [00:04<00:00,  4.65it/s]\n",
      "100%|██████████| 20/20 [00:00<00:00, 107.95it/s]\n",
      "100%|██████████| 20/20 [00:00<00:00, 11180.34it/s]\n",
      "100%|██████████| 20/20 [00:00<00:00, 248.27it/s]\n",
      "100%|██████████| 201/201 [00:00<00:00, 2855.74it/s]\n",
      "100%|██████████| 201/201 [00:00<00:00, 2352.81it/s]\n"
     ]
    }
   ],
   "source": [
    "t_log05, means05, stands05, best_fit05, smallest_point05 = generate_curve(brightest_percent=0.5)"
   ]
  },
  {
   "cell_type": "code",
   "execution_count": 22,
   "metadata": {
    "ExecuteTime": {
     "end_time": "2019-07-15T21:06:13.167268Z",
     "start_time": "2019-07-15T21:05:54.383914Z"
    },
    "hidden": true
   },
   "outputs": [
    {
     "name": "stderr",
     "output_type": "stream",
     "text": [
      "100%|██████████| 21/21 [00:04<00:00,  7.60it/s]\n",
      "100%|██████████| 20/20 [00:02<00:00,  7.65it/s]\n",
      "100%|██████████| 20/20 [00:04<00:00,  4.78it/s]\n",
      "100%|██████████| 20/20 [00:00<00:00, 351.84it/s]\n",
      "100%|██████████| 20/20 [00:00<00:00, 4470.11it/s]\n",
      "100%|██████████| 20/20 [00:00<00:00, 225.75it/s]\n",
      "100%|██████████| 201/201 [00:00<00:00, 2810.11it/s]\n",
      "100%|██████████| 201/201 [00:00<00:00, 2475.24it/s]\n"
     ]
    }
   ],
   "source": [
    "t_log01, means01, stands01, best_fit01, smallest_point01 = generate_curve(brightest_percent=0.1)"
   ]
  },
  {
   "cell_type": "code",
   "execution_count": 23,
   "metadata": {
    "ExecuteTime": {
     "end_time": "2019-07-15T21:06:31.716429Z",
     "start_time": "2019-07-15T21:06:13.181730Z"
    },
    "hidden": true
   },
   "outputs": [
    {
     "name": "stderr",
     "output_type": "stream",
     "text": [
      "100%|██████████| 21/21 [00:04<00:00,  7.77it/s]\n",
      "100%|██████████| 20/20 [00:02<00:00,  7.82it/s]\n",
      "100%|██████████| 20/20 [00:04<00:00,  4.72it/s]\n",
      "100%|██████████| 20/20 [00:00<00:00, 475.84it/s]\n",
      "100%|██████████| 20/20 [00:00<00:00, 7963.36it/s]\n",
      "100%|██████████| 20/20 [00:00<00:00, 260.36it/s]\n",
      "100%|██████████| 201/201 [00:00<00:00, 3296.79it/s]\n",
      "100%|██████████| 201/201 [00:00<00:00, 2463.68it/s]\n"
     ]
    }
   ],
   "source": [
    "t_log005, means005, stands005, best_fit005, smallest_point005 = generate_curve(brightest_percent=0.05)"
   ]
  },
  {
   "cell_type": "code",
   "execution_count": 24,
   "metadata": {
    "ExecuteTime": {
     "end_time": "2019-07-15T21:06:49.649038Z",
     "start_time": "2019-07-15T21:06:31.722908Z"
    },
    "hidden": true
   },
   "outputs": [
    {
     "name": "stderr",
     "output_type": "stream",
     "text": [
      "100%|██████████| 21/21 [00:04<00:00,  7.69it/s]\n",
      "100%|██████████| 20/20 [00:02<00:00,  7.74it/s]\n",
      "100%|██████████| 20/20 [00:04<00:00,  4.82it/s]\n",
      "100%|██████████| 20/20 [00:00<00:00, 787.80it/s]\n",
      "100%|██████████| 20/20 [00:00<00:00, 14383.76it/s]\n",
      "100%|██████████| 20/20 [00:00<00:00, 135.36it/s]\n",
      "100%|██████████| 201/201 [00:00<00:00, 3034.49it/s]\n",
      "100%|██████████| 201/201 [00:00<00:00, 2402.28it/s]\n"
     ]
    }
   ],
   "source": [
    "t_log001, means001, stands001, best_fit001, smallest_point001 = generate_curve(brightest_percent=0.01)"
   ]
  },
  {
   "cell_type": "code",
   "execution_count": 25,
   "metadata": {
    "ExecuteTime": {
     "end_time": "2019-07-15T21:07:07.838762Z",
     "start_time": "2019-07-15T21:06:49.651775Z"
    },
    "hidden": true
   },
   "outputs": [
    {
     "name": "stderr",
     "output_type": "stream",
     "text": [
      "100%|██████████| 21/21 [00:04<00:00,  7.66it/s]\n",
      "100%|██████████| 20/20 [00:02<00:00,  7.75it/s]\n",
      "100%|██████████| 20/20 [00:04<00:00,  4.67it/s]\n",
      "100%|██████████| 20/20 [00:00<00:00, 889.07it/s]\n",
      "100%|██████████| 20/20 [00:00<00:00, 8044.31it/s]\n",
      "100%|██████████| 20/20 [00:00<00:00, 264.76it/s]\n",
      "100%|██████████| 201/201 [00:00<00:00, 3193.95it/s]\n",
      "100%|██████████| 201/201 [00:00<00:00, 2291.58it/s]\n"
     ]
    }
   ],
   "source": [
    "t_loginf, meansinf, standsinf, best_fitinf, smallest_pointinf = generate_curve(brightest_percent=0.006)"
   ]
  },
  {
   "cell_type": "markdown",
   "metadata": {},
   "source": [
    "## 4-Line plots"
   ]
  },
  {
   "cell_type": "code",
   "execution_count": null,
   "metadata": {},
   "outputs": [],
   "source": []
  }
 ],
 "metadata": {
  "kernelspec": {
   "display_name": "Python 3",
   "language": "python",
   "name": "python3"
  },
  "language_info": {
   "codemirror_mode": {
    "name": "ipython",
    "version": 3
   },
   "file_extension": ".py",
   "mimetype": "text/x-python",
   "name": "python",
   "nbconvert_exporter": "python",
   "pygments_lexer": "ipython3",
   "version": "3.7.3"
  },
  "toc": {
   "base_numbering": 1,
   "nav_menu": {
    "height": "356px",
    "width": "292px"
   },
   "number_sections": true,
   "sideBar": true,
   "skip_h1_title": false,
   "title_cell": "Table of Contents",
   "title_sidebar": "Contents",
   "toc_cell": false,
   "toc_position": {},
   "toc_section_display": true,
   "toc_window_display": false
  },
  "widgets": {
   "application/vnd.jupyter.widget-state+json": {
    "state": {},
    "version_major": 2,
    "version_minor": 0
   }
  }
 },
 "nbformat": 4,
 "nbformat_minor": 2
}
