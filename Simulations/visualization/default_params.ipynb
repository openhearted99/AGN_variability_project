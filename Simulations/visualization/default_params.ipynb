{
 "cells": [
  {
   "cell_type": "code",
   "execution_count": null,
   "metadata": {
    "ExecuteTime": {
     "end_time": "2019-07-11T21:19:35.980930Z",
     "start_time": "2019-07-11T21:19:35.972383Z"
    }
   },
   "outputs": [],
   "source": [
    "\"\"\"\n",
    "Made on July 10th, 2019\n",
    "@author: Theodore Pena\n",
    "@contact: theodore.pena@tufts.edu\n",
    "\"\"\"\n",
    "print()"
   ]
  },
  {
   "cell_type": "markdown",
   "metadata": {},
   "source": [
    "# Setup and imports"
   ]
  },
  {
   "cell_type": "code",
   "execution_count": 2,
   "metadata": {
    "ExecuteTime": {
     "end_time": "2019-07-11T22:01:15.356221Z",
     "start_time": "2019-07-11T22:01:14.019772Z"
    }
   },
   "outputs": [
    {
     "name": "stdout",
     "output_type": "stream",
     "text": [
      "sys version: 3.7.3 (default, Mar 27 2019, 22:11:17) \n",
      "[GCC 7.3.0]\n",
      "numpy version: 1.16.2\n",
      "pandas version: 0.24.2\n"
     ]
    },
    {
     "data": {
      "text/html": [
       "<style>.container { width:100% !important; }</style>"
      ],
      "text/plain": [
       "<IPython.core.display.HTML object>"
      ]
     },
     "metadata": {},
     "output_type": "display_data"
    }
   ],
   "source": [
    "import sys\n",
    "print(\"sys version: {}\".format(sys.version))\n",
    "# This project is entirely in python 3.7\n",
    "\n",
    "import matplotlib\n",
    "import matplotlib.pyplot as plt\n",
    "%matplotlib qt \n",
    "# If you don't have an X server, line 7 might crash your kernel. Try '%matplotlib inline' instead.\n",
    "\n",
    "import numpy as np\n",
    "print(\"numpy version: {}\".format(np.__version__))\n",
    "\n",
    "import pandas as pd\n",
    "print(\"pandas version: {}\".format(pd.__version__))\n",
    "\n",
    "from tqdm import tqdm\n",
    "# This gives for loops progress bars.\n",
    "\n",
    "import random\n",
    "# This helps choosing random numbers from our arrays\n",
    "\n",
    "from IPython.core.display import display, HTML\n",
    "# An alternate, cleaner take on the jupyter workspace\n",
    "display(HTML(\"<style>.container { width:100% !important; }</style>\"))"
   ]
  },
  {
   "cell_type": "code",
   "execution_count": 3,
   "metadata": {
    "ExecuteTime": {
     "end_time": "2019-07-11T22:01:15.364580Z",
     "start_time": "2019-07-11T22:01:15.358889Z"
    },
    "code_folding": []
   },
   "outputs": [
    {
     "data": {
      "application/javascript": [
       "try {\n",
       "  require(['base/js/utils'], function (utils) {\n",
       "    utils.load_extension('code_prettify/code_prettify');\n",
       "    utils.load_extension('collapsible_headings/main'); \n",
       "    utils.load_extension('codefolding/edit'); \n",
       "    utils.load_extension('codefolding/main'); \n",
       "    utils.load_extension('execute_time/ExecuteTime');   \n",
       "    utils.load_extension('toc2/main'); \n",
       "  });\n",
       "}\n",
       "catch (err) {\n",
       "  console.log('toc2 load error:', err);\n",
       "}\n"
      ],
      "text/plain": [
       "<IPython.core.display.Javascript object>"
      ]
     },
     "metadata": {},
     "output_type": "display_data"
    }
   ],
   "source": [
    "%%javascript\n",
    "try {\n",
    "  require(['base/js/utils'], function (utils) {\n",
    "    utils.load_extension('code_prettify/code_prettify');\n",
    "    utils.load_extension('collapsible_headings/main'); \n",
    "    utils.load_extension('codefolding/edit'); \n",
    "    utils.load_extension('codefolding/main'); \n",
    "    utils.load_extension('execute_time/ExecuteTime');   \n",
    "    utils.load_extension('toc2/main'); \n",
    "  });\n",
    "}\n",
    "catch (err) {\n",
    "  console.log('toc2 load error:', err);\n",
    "}"
   ]
  },
  {
   "cell_type": "markdown",
   "metadata": {},
   "source": [
    "# Data extraction"
   ]
  },
  {
   "cell_type": "code",
   "execution_count": 4,
   "metadata": {
    "ExecuteTime": {
     "end_time": "2019-07-11T22:01:15.375544Z",
     "start_time": "2019-07-11T22:01:15.368091Z"
    }
   },
   "outputs": [],
   "source": [
    "# Variables\n",
    "brightest_percent = 1 # Out of the entire sample, the program will choose the brightest (brightest_percent)%. Setting this to 100 means that we choose randomly from the whole sample. \n",
    "num_random_points = 1000 # This is the number of points that are randomly choosen from the light curve\n",
    "t_max = 1000 # The last number in the sequence 5, 10, ..., 1000 (the point furthest from each chosen point)\n",
    "t_step = 5 # The diffrence between two points in the sequence 5, 10, ...\n",
    "length_curve = 2**24 # Number of points in the curve\n",
    "num_curves = 20 # Number of curves we're examining"
   ]
  },
  {
   "cell_type": "code",
   "execution_count": 5,
   "metadata": {
    "ExecuteTime": {
     "end_time": "2019-07-11T22:01:27.028076Z",
     "start_time": "2019-07-11T22:01:15.378342Z"
    },
    "scrolled": true
   },
   "outputs": [
    {
     "name": "stderr",
     "output_type": "stream",
     "text": [
      "100%|██████████| 21/21 [00:08<00:00,  2.25it/s]\n"
     ]
    }
   ],
   "source": [
    "# Load the data\n",
    "default_curves = []\n",
    "for i in tqdm(range(num_curves + 1)):\n",
    "    \n",
    "    if i == 0:\n",
    "        continue # for some reason the results files start at 1 and not 0\n",
    "        \n",
    "    _er_curve = np.zeros(length_curve, dtype=float)\n",
    "    _er_curve = np.fromfile('/home/tpena01/AGN_variability_project/Simulations/light_curves/default_params/results_Default_curve_{}.bin'.format(str(i)))\n",
    "    default_curves.append(_er_curve)\n",
    "\n",
    "default_curves = np.array(default_curves)"
   ]
  },
  {
   "cell_type": "code",
   "execution_count": 6,
   "metadata": {
    "ExecuteTime": {
     "end_time": "2019-07-11T22:01:29.740624Z",
     "start_time": "2019-07-11T22:01:27.119768Z"
    }
   },
   "outputs": [
    {
     "name": "stderr",
     "output_type": "stream",
     "text": [
      "100%|██████████| 20/20 [00:02<00:00,  6.40it/s]\n"
     ]
    }
   ],
   "source": [
    "# Cut out the last t_max points\n",
    "cut_curves = np.zeros((np.array(list(default_curves.shape)) - np.array([0, t_max])))\n",
    "for i in tqdm(range(num_curves)):\n",
    "    cut_curves[i, :] = default_curves[i, :-t_max]"
   ]
  },
  {
   "cell_type": "code",
   "execution_count": 7,
   "metadata": {
    "ExecuteTime": {
     "end_time": "2019-07-11T22:01:34.714027Z",
     "start_time": "2019-07-11T22:01:29.743470Z"
    }
   },
   "outputs": [
    {
     "name": "stderr",
     "output_type": "stream",
     "text": [
      "100%|██████████| 20/20 [00:04<00:00,  4.44it/s]\n"
     ]
    }
   ],
   "source": [
    "# Select the brightest (brightest_percent)% of points\n",
    "num_brightest = int(np.floor((cut_curves[0].shape[0] * (brightest_percent/100))))\n",
    "\n",
    "indices = []\n",
    "for i in tqdm(range(cut_curves.shape[0])):\n",
    "    indices.append(np.argpartition(cut_curves[i, :], -num_brightest)[-num_brightest:])\n",
    "\n",
    "indices = np.array(indices)"
   ]
  },
  {
   "cell_type": "code",
   "execution_count": 8,
   "metadata": {
    "ExecuteTime": {
     "end_time": "2019-07-11T22:01:34.926807Z",
     "start_time": "2019-07-11T22:01:34.716414Z"
    }
   },
   "outputs": [
    {
     "name": "stderr",
     "output_type": "stream",
     "text": [
      "100%|██████████| 20/20 [00:00<00:00, 104.01it/s]\n"
     ]
    }
   ],
   "source": [
    "# Randomly sample from the chosen indices\n",
    "\n",
    "chosen_indices = []\n",
    "for brightest_points_in_curve in tqdm(indices):\n",
    "    chosen_indices.append(random.sample(list(brightest_points_in_curve), num_random_points))\n",
    "\n",
    "chosen_indices = np.array(chosen_indices, dtype=int)"
   ]
  },
  {
   "cell_type": "code",
   "execution_count": 9,
   "metadata": {
    "ExecuteTime": {
     "end_time": "2019-07-11T22:01:35.491223Z",
     "start_time": "2019-07-11T22:01:34.930378Z"
    },
    "scrolled": false
   },
   "outputs": [
    {
     "name": "stderr",
     "output_type": "stream",
     "text": [
      "100%|██████████| 20/20 [00:00<00:00, 42.11it/s]\n",
      "100%|██████████| 201/201 [00:00<00:00, 3423.77it/s]\n"
     ]
    }
   ],
   "source": [
    "# Select all our points\n",
    "t_examine = np.arange(0, t_max+1, t_step)\n",
    "\n",
    "master_array = np.zeros(t_examine.shape, dtype=int)\n",
    "\n",
    "for i in tqdm(range(cut_curves.shape[0])):\n",
    "    master_array = np.vstack((default_curves[i][(np.reshape(chosen_indices[i, :], (len(chosen_indices[i, :]), 1)) + t_examine).astype(int)], master_array))\n",
    "\n",
    "master_array = np.delete(master_array, -1, 0)\n",
    "\n",
    "for i in tqdm(range(master_array.shape[1])):\n",
    "    master_array[:, i] = master_array[:, i] - master_array[0, i]"
   ]
  },
  {
   "cell_type": "code",
   "execution_count": 10,
   "metadata": {
    "ExecuteTime": {
     "end_time": "2019-07-11T22:01:35.604317Z",
     "start_time": "2019-07-11T22:01:35.494341Z"
    }
   },
   "outputs": [
    {
     "name": "stderr",
     "output_type": "stream",
     "text": [
      "100%|██████████| 201/201 [00:00<00:00, 2080.89it/s]\n"
     ]
    }
   ],
   "source": [
    "# Find our trends\n",
    "means = []\n",
    "stands = []\n",
    "\n",
    "for i in tqdm(range(master_array.shape[1])):\n",
    "    means.append(np.mean(master_array[:, i]))\n",
    "    stands.append(np.std(master_array[:, i]))\n",
    "\n",
    "means = np.array(means)\n",
    "stands = np.array(stands)"
   ]
  },
  {
   "cell_type": "markdown",
   "metadata": {},
   "source": [
    "# Graphs"
   ]
  },
  {
   "cell_type": "code",
   "execution_count": 11,
   "metadata": {
    "ExecuteTime": {
     "end_time": "2019-07-11T22:01:36.444130Z",
     "start_time": "2019-07-11T22:01:35.606914Z"
    }
   },
   "outputs": [
    {
     "name": "stderr",
     "output_type": "stream",
     "text": [
      "/home/tpena01/anaconda3/lib/python3.7/site-packages/ipykernel_launcher.py:8: RuntimeWarning: divide by zero encountered in log10\n",
      "  \n"
     ]
    },
    {
     "data": {
      "image/png": "[encoded data removed]",
      "text/plain": [
       "<Figure size 1440x720 with 1 Axes>"
      ]
     },
     "metadata": {
      "needs_background": "light"
     },
     "output_type": "display_data"
    }
   ],
   "source": [
    "with plt.style.context('seaborn-paper'):\n",
    "    fig, ax = plt.subplots(1, figsize=(20, 10))\n",
    "    ax.tick_params(direction='in', length=6, width=1.5, labelsize=20)\n",
    "    ax.spines['top'].set_linewidth(1.5)\n",
    "    ax.spines['right'].set_linewidth(1.5)\n",
    "    ax.spines['bottom'].set_linewidth(1.5)\n",
    "    ax.spines['left'].set_linewidth(1.5)\n",
    "    plt.errorbar(np.log10(t_examine), means, yerr=stands, fmt='s')    \n",
    "    plt.ylabel('$\\Delta$ m$_g$ (SIMULATED)', fontsize= 20)\n",
    "    plt.xlabel('Time (SIMULATED)', fontsize= 20)\n",
    "    \n",
    "plt.savefig('Simulated_delta_g.pdf', bbox_inches='tight')    \n",
    "plt.show()\n"
   ]
  }
 ],
 "metadata": {
  "kernelspec": {
   "display_name": "Python 3",
   "language": "python",
   "name": "python3"
  },
  "language_info": {
   "codemirror_mode": {
    "name": "ipython",
    "version": 3
   },
   "file_extension": ".py",
   "mimetype": "text/x-python",
   "name": "python",
   "nbconvert_exporter": "python",
   "pygments_lexer": "ipython3",
   "version": "3.7.3"
  },
  "toc": {
   "base_numbering": 1,
   "nav_menu": {},
   "number_sections": true,
   "sideBar": true,
   "skip_h1_title": false,
   "title_cell": "Table of Contents",
   "title_sidebar": "Contents",
   "toc_cell": false,
   "toc_position": {},
   "toc_section_display": true,
   "toc_window_display": false
  }
 },
 "nbformat": 4,
 "nbformat_minor": 2
}
