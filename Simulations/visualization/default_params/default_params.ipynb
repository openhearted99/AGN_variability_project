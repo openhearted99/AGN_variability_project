{
 "cells": [
  {
   "cell_type": "code",
   "execution_count": 1,
   "metadata": {
    "ExecuteTime": {
     "end_time": "2019-07-17T16:15:10.540809Z",
     "start_time": "2019-07-17T16:15:10.535871Z"
    }
   },
   "outputs": [
    {
     "name": "stdout",
     "output_type": "stream",
     "text": [
      "\n"
     ]
    }
   ],
   "source": [
    "\"\"\"\n",
    "Made on July 10th, 2019\n",
    "@author: Theodore Pena\n",
    "@contact: theodore.pena@tufts.edu\n",
    "\"\"\"\n",
    "print()"
   ]
  },
  {
   "cell_type": "markdown",
   "metadata": {},
   "source": [
    "# Setup and imports"
   ]
  },
  {
   "cell_type": "code",
   "execution_count": 3,
   "metadata": {
    "ExecuteTime": {
     "end_time": "2019-07-17T19:50:52.156039Z",
     "start_time": "2019-07-17T19:50:43.663477Z"
    }
   },
   "outputs": [
    {
     "name": "stdout",
     "output_type": "stream",
     "text": [
      "sys version: 3.7.3 (default, Mar 27 2019, 22:11:17) \n",
      "[GCC 7.3.0]\n",
      "numpy version: 1.16.2\n",
      "pandas version: 0.24.2\n"
     ]
    },
    {
     "data": {
      "text/html": [
       "<style>.container { width:100% !important; }</style>"
      ],
      "text/plain": [
       "<IPython.core.display.HTML object>"
      ]
     },
     "metadata": {},
     "output_type": "display_data"
    }
   ],
   "source": [
    "import sys\n",
    "print(\"sys version: {}\".format(sys.version))\n",
    "# This project is entirely in python 3.7\n",
    "\n",
    "import matplotlib\n",
    "import matplotlib.pyplot as plt\n",
    "%matplotlib qt \n",
    "# If you don't have an X server, line 7 might crash your kernel. Try '%matplotlib inline' instead.\n",
    "\n",
    "import numpy as np\n",
    "print(\"numpy version: {}\".format(np.__version__))\n",
    "\n",
    "import pandas as pd\n",
    "print(\"pandas version: {}\".format(pd.__version__))\n",
    "\n",
    "from tqdm import tqdm\n",
    "# This gives for loops progress bars.\n",
    "\n",
    "import random\n",
    "# This helps choosing random numbers from our arrays\n",
    "random.seed(565) # Set random seed for reproducibility\n",
    "\n",
    "from IPython.core.display import display, HTML\n",
    "# An alternate, cleaner take on the jupyter workspace\n",
    "display(HTML(\"<style>.container { width:100% !important; }</style>\"))"
   ]
  },
  {
   "cell_type": "code",
   "execution_count": 4,
   "metadata": {
    "ExecuteTime": {
     "end_time": "2019-07-17T16:15:25.288263Z",
     "start_time": "2019-07-17T16:15:25.281659Z"
    },
    "code_folding": []
   },
   "outputs": [
    {
     "data": {
      "application/javascript": [
       "try {\n",
       "  require(['base/js/utils'], function (utils) {\n",
       "    utils.load_extension('code_prettify/code_prettify');\n",
       "    utils.load_extension('collapsible_headings/main'); \n",
       "    utils.load_extension('codefolding/edit'); \n",
       "    utils.load_extension('codefolding/main'); \n",
       "    utils.load_extension('execute_time/ExecuteTime');   \n",
       "    utils.load_extension('toc2/main'); \n",
       "  });\n",
       "}\n",
       "catch (err) {\n",
       "  console.log('toc2 load error:', err);\n",
       "}\n"
      ],
      "text/plain": [
       "<IPython.core.display.Javascript object>"
      ]
     },
     "metadata": {},
     "output_type": "display_data"
    }
   ],
   "source": [
    "%%javascript\n",
    "try {\n",
    "  require(['base/js/utils'], function (utils) {\n",
    "    utils.load_extension('code_prettify/code_prettify');\n",
    "    utils.load_extension('collapsible_headings/main'); \n",
    "    utils.load_extension('codefolding/edit'); \n",
    "    utils.load_extension('codefolding/main'); \n",
    "    utils.load_extension('execute_time/ExecuteTime');   \n",
    "    utils.load_extension('toc2/main'); \n",
    "  });\n",
    "}\n",
    "catch (err) {\n",
    "  console.log('toc2 load error:', err);\n",
    "}"
   ]
  },
  {
   "cell_type": "markdown",
   "metadata": {},
   "source": [
    "# Data extraction"
   ]
  },
  {
   "cell_type": "markdown",
   "metadata": {
    "heading_collapsed": true
   },
   "source": [
    "## Wolfram style"
   ]
  },
  {
   "cell_type": "code",
   "execution_count": 32,
   "metadata": {
    "ExecuteTime": {
     "end_time": "2019-07-17T20:29:51.863389Z",
     "start_time": "2019-07-17T20:29:51.858747Z"
    },
    "code_folding": [],
    "hidden": true
   },
   "outputs": [],
   "source": [
    "# Variables\n",
    "brightest_percent = 1 # Out of the entire sample, the program will randomly choose from the brightest (brightest_percent)%. Setting this to 100 means that we choose randomly from the whole sample. \n",
    "num_random_points = 1000 # This is the number of points that are randomly choosen from the light curve\n",
    "t_max = 10000 # The last number in the sequence 5, 10, ..., 1000 (the point furthest from each chosen point)\n",
    "t_step = 10 # The diffrence between two points in the sequence 5, 10, ...\n",
    "length_curve = 2**24 # Number of points in the curve\n",
    "num_curves = 20 # Number of curves we're examining"
   ]
  },
  {
   "cell_type": "code",
   "execution_count": 33,
   "metadata": {
    "ExecuteTime": {
     "end_time": "2019-07-17T20:30:10.359055Z",
     "start_time": "2019-07-17T20:29:52.253764Z"
    },
    "code_folding": [],
    "hidden": true
   },
   "outputs": [
    {
     "name": "stderr",
     "output_type": "stream",
     "text": [
      "100%|██████████| 21/21 [00:08<00:00,  2.21it/s]\n"
     ]
    }
   ],
   "source": [
    "# Load the data\n",
    "default_curves = []\n",
    "for i in tqdm(range(num_curves + 1)):\n",
    "\n",
    "    if i == 0:\n",
    "        continue # for some reason the results files start at 1 and not 0\n",
    "\n",
    "    _er_curve = np.zeros(length_curve, dtype=float)\n",
    "    _er_curve = np.fromfile('/home/tpena01/AGN_variability_project/Simulations/light_curves/default_params/results_Default_curve_{}.bin'.format(str(i)))\n",
    "    default_curves.append(_er_curve)\n",
    "\n",
    "default_curves = np.array(default_curves)\n",
    "\n",
    "default_curves = np.log10(default_curves) # Move everything into the log domain"
   ]
  },
  {
   "cell_type": "code",
   "execution_count": 34,
   "metadata": {
    "ExecuteTime": {
     "end_time": "2019-07-17T20:30:13.346687Z",
     "start_time": "2019-07-17T20:30:10.361761Z"
    },
    "code_folding": [],
    "hidden": true
   },
   "outputs": [
    {
     "name": "stderr",
     "output_type": "stream",
     "text": [
      "100%|██████████| 20/20 [00:02<00:00,  6.66it/s]\n"
     ]
    }
   ],
   "source": [
    "# Cut out the last t_max points\n",
    "cut_curves = np.zeros((np.array(list(default_curves.shape)) - np.array([0, t_max])))\n",
    "for i in tqdm(range(num_curves)):\n",
    "    cut_curves[i, :] = default_curves[i, :-t_max]"
   ]
  },
  {
   "cell_type": "code",
   "execution_count": 36,
   "metadata": {
    "ExecuteTime": {
     "end_time": "2019-07-17T20:30:43.539660Z",
     "start_time": "2019-07-17T20:30:38.585808Z"
    },
    "code_folding": [],
    "hidden": true
   },
   "outputs": [
    {
     "name": "stderr",
     "output_type": "stream",
     "text": [
      "100%|██████████| 20/20 [00:04<00:00,  4.42it/s]\n"
     ]
    }
   ],
   "source": [
    "# Select the brightest (brightest_percent)% of points\n",
    "num_brightest = int(np.floor((cut_curves[0].shape[0] * (brightest_percent/100))))\n",
    "\n",
    "if brightest_percent == 100:\n",
    "    num_brightest=cut_curves[0].shape[0]\n",
    "\n",
    "indices = []\n",
    "for i in tqdm(range(cut_curves.shape[0])):\n",
    "    indices.append(np.argpartition(cut_curves[i, :], -num_brightest)[-num_brightest:])\n",
    "\n",
    "indices = np.array(indices)"
   ]
  },
  {
   "cell_type": "code",
   "execution_count": 32,
   "metadata": {
    "ExecuteTime": {
     "end_time": "2019-07-17T17:36:47.514550Z",
     "start_time": "2019-07-17T17:36:47.172960Z"
    },
    "code_folding": [],
    "hidden": true
   },
   "outputs": [
    {
     "name": "stderr",
     "output_type": "stream",
     "text": [
      "100%|██████████| 20/20 [00:00<00:00, 59.58it/s]\n"
     ]
    }
   ],
   "source": [
    "# Randomly sample from the chosen indices\n",
    "chosen_indices = []\n",
    "for brightest_points_in_curve in tqdm(indices):\n",
    "    chosen_indices.append(random.sample(list(brightest_points_in_curve), num_random_points))\n",
    "\n",
    "chosen_indices = np.array(chosen_indices, dtype=int)"
   ]
  },
  {
   "cell_type": "code",
   "execution_count": 33,
   "metadata": {
    "ExecuteTime": {
     "end_time": "2019-07-17T17:36:47.531594Z",
     "start_time": "2019-07-17T17:36:47.517767Z"
    },
    "code_folding": [],
    "hidden": true
   },
   "outputs": [
    {
     "name": "stderr",
     "output_type": "stream",
     "text": [
      "100%|██████████| 20/20 [00:00<00:00, 8719.97it/s]\n"
     ]
    }
   ],
   "source": [
    "# Find the smallest number that we've chosen (We print this out later)\n",
    "small_points = []\n",
    "for i in tqdm(range(num_curves)):\n",
    "    small_points.append(np.min(cut_curves[i][chosen_indices[i]]))\n",
    "\n",
    "smallest_point = \"Min log(Edd):\" + str(np.min(small_points))[:3]"
   ]
  },
  {
   "cell_type": "code",
   "execution_count": 34,
   "metadata": {
    "ExecuteTime": {
     "end_time": "2019-07-17T17:36:47.667358Z",
     "start_time": "2019-07-17T17:36:47.536691Z"
    },
    "code_folding": [],
    "hidden": true
   },
   "outputs": [
    {
     "name": "stderr",
     "output_type": "stream",
     "text": [
      "100%|██████████| 20/20 [00:00<00:00, 241.75it/s]\n",
      "100%|██████████| 93/93 [00:00<00:00, 3723.04it/s]\n"
     ]
    }
   ],
   "source": [
    "# Select all our points\n",
    "t_examine = np.logspace(0, np.log10(t_max), np.log(t_max)*10 + 1).astype(int)\n",
    "t_log = np.log10(t_examine) # Used later\n",
    "\n",
    "t_array = np.tile(t_examine, (num_random_points, 1))\n",
    "\n",
    "master_array = np.zeros(t_examine.shape, dtype=int)\n",
    "\n",
    "for i in tqdm(range(num_curves)):\n",
    "    indices_array = np.tile(chosen_indices[i, :], (t_array.shape[1], 1)).T\n",
    "\n",
    "    indices_array = indices_array + t_array    \n",
    "    master_array = np.vstack((default_curves[i][indices_array], master_array))\n",
    "\n",
    "master_array = np.delete(master_array, -1, 0)\n",
    "\n",
    "starting_vals = np.copy(master_array[:, 0])\n",
    "for i in tqdm(range(master_array.shape[1])):\n",
    "    master_array[:, i] = master_array[:, i] - starting_vals"
   ]
  },
  {
   "cell_type": "code",
   "execution_count": 35,
   "metadata": {
    "ExecuteTime": {
     "end_time": "2019-07-17T17:36:47.739286Z",
     "start_time": "2019-07-17T17:36:47.670096Z"
    },
    "code_folding": [],
    "hidden": true
   },
   "outputs": [
    {
     "name": "stderr",
     "output_type": "stream",
     "text": [
      "100%|██████████| 93/93 [00:00<00:00, 1650.94it/s]\n"
     ]
    }
   ],
   "source": [
    "# Find our trends\n",
    "means = []\n",
    "stands = []\n",
    "\n",
    "for i in tqdm(range(master_array.shape[1])):\n",
    "    means.append(np.mean(master_array[:, i]))\n",
    "    stands.append(np.std(master_array[:, i]))\n",
    "\n",
    "means = np.array(means)\n",
    "stands = np.array(stands)"
   ]
  },
  {
   "cell_type": "code",
   "execution_count": 36,
   "metadata": {
    "ExecuteTime": {
     "end_time": "2019-07-17T17:36:48.696118Z",
     "start_time": "2019-07-17T17:36:48.690018Z"
    },
    "code_folding": [],
    "hidden": true,
    "scrolled": true
   },
   "outputs": [],
   "source": [
    "# Get a line of best fit\n",
    "best_fit = np.poly1d(np.poly1d(np.polyfit(t_log.astype(float)[1:], means.astype(float)[1:], 1)))"
   ]
  },
  {
   "cell_type": "markdown",
   "metadata": {},
   "source": [
    "## Python style"
   ]
  },
  {
   "cell_type": "code",
   "execution_count": 51,
   "metadata": {
    "ExecuteTime": {
     "end_time": "2019-07-17T20:45:12.941711Z",
     "start_time": "2019-07-17T20:45:12.916018Z"
    }
   },
   "outputs": [],
   "source": [
    "def generate_curve(brightest_percent_lower=1, brightest_percent_upper=0, num_random_points=1000, t_max=10000, t_step=10, length_curve=2**24, num_curves=20):\n",
    "    \"\"\"\n",
    "    Input: Parameters documented in the cell above\n",
    "    Output: Graph of delta Eddington ratio as a function of delta time. \n",
    "    \"\"\"\n",
    "    \n",
    "    if brightest_percent_lower <= brightest_percent_upper:\n",
    "        sys.exit('Can\\'t have an interval where the lower bound is greater than or equal to the upper bound. Remember, things are reversed. 100% is a reasonable lower bound, and brightest_percent_upper defaults to zero.')\n",
    "        \n",
    "        \n",
    "    # Load the data\n",
    "    default_curves = []\n",
    "    for i in tqdm(range(num_curves + 1)):\n",
    "\n",
    "        if i == 0:\n",
    "            continue # for some reason the results files start at 1 and not 0\n",
    "\n",
    "        _er_curve = np.zeros(length_curve, dtype=float)\n",
    "        _er_curve = np.fromfile('/home/tpena01/AGN_variability_project/Simulations/light_curves/default_params/results_Default_curve_{}.bin'.format(str(i)))\n",
    "        default_curves.append(_er_curve)\n",
    "\n",
    "    default_curves = np.array(default_curves)\n",
    "\n",
    "    default_curves = np.log10(default_curves) # Move everything into the log domain\n",
    "    \n",
    "    \n",
    "    # Cut out the last t_max points\n",
    "    cut_curves = np.zeros((np.array(list(default_curves.shape)) - np.array([0, t_max])))\n",
    "    for i in tqdm(range(num_curves)):\n",
    "        cut_curves[i, :] = default_curves[i, :-t_max]\n",
    "    \n",
    "    ##\n",
    "    # Select all points brighter than brightest_percent_lower%\n",
    "    num_brightest_lower = int(np.floor((cut_curves[0].shape[0] * (brightest_percent_lower/100))))\n",
    "    \n",
    "    if brightest_percent_lower == 100:\n",
    "        num_brightest_lower = cut_curves[0].shape[0]\n",
    "        \n",
    "    if brightest_percent_lower == 0:\n",
    "        sys.exit('Cannot use 0 as a lower bound.')\n",
    "    \n",
    "    else:\n",
    "        indices_lower = []\n",
    "        for i in tqdm(range(num_curves)):\n",
    "            indices_lower.append(np.argpartition(cut_curves[i, :], -num_brightest_lower)[-num_brightest_lower:])\n",
    "\n",
    "        indices_lower = np.array(indices_lower)\n",
    "    \n",
    "    \n",
    "    # Select all points brighter than brightest_percent_upper%\n",
    "    num_brightest_upper = int(np.floor((cut_curves[0].shape[0] * (brightest_percent_upper/100))))\n",
    "    \n",
    "    \n",
    "    if brightest_percent_upper == 100:\n",
    "        num_brightest_upper = cut_curves[0].shape[0]\n",
    "        \n",
    "    if brightest_percent_upper == 0:\n",
    "        indices_upper = []\n",
    "        for i in range(num_curves):\n",
    "            indices_upper.append(np.array([]))\n",
    "    \n",
    "    else:\n",
    "        indices_upper = []\n",
    "        for i in tqdm(range(num_curves)):\n",
    "            indices_upper.append(np.argpartition(cut_curves[i, :], -num_brightest_upper)[-num_brightest_upper:])\n",
    "\n",
    "        indices_upper = np.array(indices_upper)\n",
    "    \n",
    "    print(indices_lower[0], indices_lower[1])\n",
    "    indices = []\n",
    "    for i in range(num_curves):\n",
    "        indices.append(np.setdiff1d(indices_lower[i], indices_upper[i], assume_unique=True))\n",
    "    \n",
    "    \n",
    "    ##\n",
    "    \n",
    "    # Randomly sample from the chosen indices\n",
    "    chosen_indices = []\n",
    "    for brightest_points_in_curve in tqdm(indices):\n",
    "        chosen_indices.append(random.sample(list(brightest_points_in_curve), num_random_points))\n",
    "\n",
    "    chosen_indices = np.array(chosen_indices, dtype=int)\n",
    "    \n",
    "    \n",
    "    # Find the smallest number that we've chosen (We print this out later)\n",
    "    small_points = []\n",
    "    for i in tqdm(range(num_curves)):\n",
    "        small_points.append(np.min(cut_curves[i][chosen_indices[i]]))\n",
    "\n",
    "    smallest_point = \"Min log(Edd): \" + str(np.min(small_points))[:6]\n",
    "    \n",
    "    \n",
    "    # Select all our points\n",
    "    t_examine = np.logspace(0, np.log10(t_max), np.log(t_max)*10 + 1).astype(int)\n",
    "    t_log = np.log10(t_examine) # Used later\n",
    "\n",
    "    t_array = np.tile(t_examine, (num_random_points, 1))\n",
    "\n",
    "    master_array = np.zeros(t_examine.shape, dtype=int)\n",
    "\n",
    "    for i in tqdm(range(num_curves)):\n",
    "        indices_array = np.tile(chosen_indices[i, :], (t_array.shape[1], 1)).T\n",
    "\n",
    "        indices_array = indices_array + t_array    \n",
    "        master_array = np.vstack((default_curves[i][indices_array], master_array))\n",
    "\n",
    "    master_array = np.delete(master_array, -1, 0)\n",
    "\n",
    "    starting_vals = np.copy(master_array[:, 0])\n",
    "    for i in tqdm(range(master_array.shape[1])):\n",
    "        master_array[:, i] = master_array[:, i] - starting_vals\n",
    "        \n",
    "\n",
    "    # Find our trends\n",
    "    means = []\n",
    "    stands = []\n",
    "\n",
    "    for i in tqdm(range(master_array.shape[1])):\n",
    "        means.append(np.mean(master_array[:, i]))\n",
    "        stands.append(np.std(master_array[:, i]))\n",
    "\n",
    "    means = np.array(means)\n",
    "    stands = np.array(stands)\n",
    "    \n",
    "    \n",
    "    # Get a line of best fit\n",
    "    best_fit = np.poly1d(np.poly1d(np.polyfit(t_log.astype(float)[1:], means.astype(float)[1:], 1)))\n",
    "    \n",
    "    return (t_log, means, stands, best_fit, smallest_point)"
   ]
  },
  {
   "cell_type": "markdown",
   "metadata": {},
   "source": [
    "# Graphs"
   ]
  },
  {
   "cell_type": "markdown",
   "metadata": {
    "heading_collapsed": true
   },
   "source": [
    "## Eddington ratio distribution"
   ]
  },
  {
   "cell_type": "code",
   "execution_count": 78,
   "metadata": {
    "ExecuteTime": {
     "end_time": "2019-07-17T19:23:49.409323Z",
     "start_time": "2019-07-17T19:23:31.344555Z"
    },
    "hidden": true
   },
   "outputs": [],
   "source": [
    "plt.hist(default_curves[0], bins=int(length_curve/1000))\n",
    "plt.yscale('log')\n",
    "plt.title('log(Eddington ratio) distribution')\n",
    "plt.xlabel('log(EDD. Ratio)')\n",
    "for i in range(len(small_points_vec)):\n",
    "    plt.axvline(x=small_points_vec[i], label=small_points_names[i], c='orange')\n",
    "plt.legend()\n",
    "plt.show()"
   ]
  },
  {
   "cell_type": "code",
   "execution_count": 75,
   "metadata": {
    "ExecuteTime": {
     "end_time": "2019-07-17T18:22:17.734372Z",
     "start_time": "2019-07-17T18:22:17.726550Z"
    },
    "hidden": true
   },
   "outputs": [],
   "source": [
    "small_points_vec = [float(smallest_point100[14:]), float(smallest_point50[14:]), float(smallest_point10[14:]), float(smallest_point5[14:]), float(smallest_point1[14:]), float(smallest_point05[14:]), float(smallest_point01[14:]), float(smallest_point005[14:]), float(smallest_point001[14:]), float(smallest_pointinf[14:])]\n",
    "small_points_names = [str(100), str(50), str(10), str(5), str(1), str(0.5), str(0.1), str(0.05), str(0.01), str(0.006)]"
   ]
  },
  {
   "cell_type": "markdown",
   "metadata": {},
   "source": [
    "## 10-panel plots"
   ]
  },
  {
   "cell_type": "markdown",
   "metadata": {
    "heading_collapsed": true
   },
   "source": [
    "### Plot curves"
   ]
  },
  {
   "cell_type": "code",
   "execution_count": 54,
   "metadata": {
    "ExecuteTime": {
     "end_time": "2019-07-17T20:52:48.857617Z",
     "start_time": "2019-07-17T20:52:45.853466Z"
    },
    "code_folding": [],
    "hidden": true
   },
   "outputs": [],
   "source": [
    "%matplotlib qt\n",
    "# Delta Eddington ratio plots\n",
    "with plt.style.context('seaborn-paper'):\n",
    "    fig, ax = plt.subplots(5, 2, figsize=(20, 10), sharex=True, sharey=True, gridspec_kw={'width_ratios': [1, 1], 'wspace':0, 'left':0.04, 'right':0.96, 'bottom':0.05, 'top':0.95})\n",
    "    \n",
    "    ax[0,0].set_title('100%', fontsize=13)\n",
    "    ax[0,0].tick_params(direction='in', length=6, width=1.5)\n",
    "    ax[0,0].spines['top'].set_linewidth(1.5)\n",
    "    ax[0,0].spines['right'].set_linewidth(1.5)\n",
    "    ax[0,0].spines['bottom'].set_linewidth(1.5)\n",
    "    ax[0,0].spines['left'].set_linewidth(1.5)\n",
    "    \n",
    "    ax[0,0].hlines(0, 0, t_log100[-1] + 0.2, linewidth=1, linestyle='--')\n",
    "    ax[0,0].errorbar(t_log100, means100, yerr=stands100, fmt='s', alpha=.5)\n",
    "    ax[0,0].plot(t_log100[1:], best_fit100(t_log100[1:].astype(float)), ls='--', color='orange')\n",
    "    \n",
    "    ax[0,0].text(0, -1, smallest_point100)\n",
    "    \n",
    "    \n",
    "    \n",
    "    ax[0,1].set_title('50%', fontsize=13)\n",
    "    ax[0,1].tick_params(direction='in', length=6, width=1.5)\n",
    "    ax[0,1].spines['top'].set_linewidth(1.5)\n",
    "    ax[0,1].spines['right'].set_linewidth(1.5)\n",
    "    ax[0,1].spines['bottom'].set_linewidth(1.5)\n",
    "    ax[0,1].spines['left'].set_linewidth(1.5)\n",
    "    \n",
    "    ax[0,1].hlines(0, 0, t_log50[-1] +0.2, linewidth=1, linestyle='--')\n",
    "    ax[0,1].errorbar(t_log50, means50, yerr=stands50, fmt='s', alpha=.5)\n",
    "    ax[0,1].plot(t_log50[1:], best_fit50(t_log50[1:].astype(float)), ls='--', color='orange')\n",
    "    \n",
    "    ax[0,1].text(0, -1, smallest_point50)\n",
    "    \n",
    "    \n",
    "    \n",
    "    ax[1,0].set_title('10%', fontsize=13)\n",
    "    ax[1,0].tick_params(direction='in', length=6, width=1.5)\n",
    "    ax[1,0].spines['top'].set_linewidth(1.5)\n",
    "    ax[1,0].spines['right'].set_linewidth(1.5)\n",
    "    ax[1,0].spines['bottom'].set_linewidth(1.5)\n",
    "    ax[1,0].spines['left'].set_linewidth(1.5)\n",
    "    \n",
    "    ax[1,0].hlines(0, 0, t_log10[-1] +0.2, linewidth=1, linestyle='--')\n",
    "    ax[1,0].errorbar(t_log10, means10, yerr=stands10, fmt='s', alpha=.5)\n",
    "    ax[1,0].plot(t_log10[1:], best_fit10(t_log10[1:].astype(float)), ls='--', color='orange')\n",
    "    \n",
    "    ax[1,0].text(0, -1, smallest_point10)\n",
    "    \n",
    "    \n",
    "    \n",
    "    ax[1,1].set_title('5%', fontsize=13)\n",
    "    ax[1,1].tick_params(direction='in', length=6, width=1.5)\n",
    "    ax[1,1].spines['top'].set_linewidth(1.5)\n",
    "    ax[1,1].spines['right'].set_linewidth(1.5)\n",
    "    ax[1,1].spines['bottom'].set_linewidth(1.5)\n",
    "    ax[1,1].spines['left'].set_linewidth(1.5)\n",
    "    \n",
    "    ax[1,1].hlines(0,  0, t_log5[-1] +0.2, linewidth=1, linestyle='--')\n",
    "    ax[1,1].errorbar(t_log5, means5, yerr=stands5, fmt='s', alpha=.5)\n",
    "    ax[1,1].plot(t_log5[1:], best_fit5(t_log5[1:].astype(float)), ls='--', color='orange')\n",
    "    \n",
    "    ax[1,1].text(0, -1, smallest_point5)\n",
    "    \n",
    "    \n",
    "    \n",
    "    ax[2,0].set_title('1%', fontsize=13)\n",
    "    ax[2,0].tick_params(direction='in', length=6, width=1.5)\n",
    "    ax[2,0].spines['top'].set_linewidth(1.5)\n",
    "    ax[2,0].spines['right'].set_linewidth(1.5)\n",
    "    ax[2,0].spines['bottom'].set_linewidth(1.5)\n",
    "    ax[2,0].spines['left'].set_linewidth(1.5)\n",
    "    \n",
    "    ax[2,0].hlines(0, 0, t_log1[-1] +0.2, linewidth=1, linestyle='--')\n",
    "    ax[2,0].errorbar(t_log1, means1, yerr=stands1, fmt='s', alpha=.5)\n",
    "    ax[2,0].plot(t_log1[1:], best_fit1(t_log1[1:].astype(float)), ls='--', color='orange')\n",
    "    \n",
    "    ax[2,0].text(0, -1, smallest_point1)\n",
    "    \n",
    "\n",
    "    \n",
    "    \n",
    "    ax[2,1].set_title('0.5%', fontsize=13)\n",
    "    ax[2,1].tick_params(direction='in', length=6, width=1.5)\n",
    "    ax[2,1].spines['top'].set_linewidth(1.5)\n",
    "    ax[2,1].spines['right'].set_linewidth(1.5)\n",
    "    ax[2,1].spines['bottom'].set_linewidth(1.5)\n",
    "    ax[2,1].spines['left'].set_linewidth(1.5)\n",
    "    \n",
    "    ax[2,1].hlines(0, 0, t_log05[-1] +0.2, linewidth=1, linestyle='--')\n",
    "    ax[2,1].errorbar(t_log05, means05, yerr=stands05, fmt='s', alpha=.5)\n",
    "    ax[2,1].plot(t_log05[1:], best_fit05(t_log05[1:].astype(float)), ls='--', color='orange')\n",
    "    \n",
    "    ax[2,1].text(0, -1, smallest_point05)\n",
    "    \n",
    "    \n",
    "    ax[3,0].set_title('0.1%', fontsize=13)\n",
    "    ax[3,0].tick_params(direction='in', length=6, width=1.5)\n",
    "    ax[3,0].spines['top'].set_linewidth(1.5)\n",
    "    ax[3,0].spines['right'].set_linewidth(1.5)\n",
    "    ax[3,0].spines['bottom'].set_linewidth(1.5)\n",
    "    ax[3,0].spines['left'].set_linewidth(1.5)\n",
    "    \n",
    "    ax[3,0].hlines(0, 0, t_log01[-1] +0.2, linewidth=1, linestyle='--')\n",
    "    ax[3,0].errorbar(t_log01, means01, yerr=stands01, fmt='s', alpha=.5)\n",
    "    ax[3,0].plot(t_log01[1:], best_fit01(t_log01[1:].astype(float)), ls='--', color='orange')\n",
    "    \n",
    "    ax[3,0].text(0, -1, smallest_point01)\n",
    "    \n",
    "\n",
    "    \n",
    "    \n",
    "    ax[3,1].set_title('0.05%', fontsize=13)\n",
    "    ax[3,1].tick_params(direction='in', length=6, width=1.5)\n",
    "    ax[3,1].spines['top'].set_linewidth(1.5)\n",
    "    ax[3,1].spines['right'].set_linewidth(1.5)\n",
    "    ax[3,1].spines['bottom'].set_linewidth(1.5)\n",
    "    ax[3,1].spines['left'].set_linewidth(1.5)\n",
    "    \n",
    "    ax[3,1].hlines(0, 0, t_log005[-1] +0.2, linewidth=1, linestyle='--')\n",
    "    ax[3,1].errorbar(t_log005, means005, yerr=stands005, fmt='s', alpha=.5)\n",
    "    ax[3,1].plot(t_log005[1:], best_fit005(t_log005[1:].astype(float)), ls='--', color='orange')\n",
    "    \n",
    "    ax[3,1].text(0, -1, smallest_point005)\n",
    "    \n",
    "    \n",
    "    \n",
    "    ax[4,0].set_title('0.01%', fontsize=13)\n",
    "    ax[4,0].tick_params(direction='in', length=6, width=1.5)\n",
    "    ax[4,0].spines['top'].set_linewidth(1.5)\n",
    "    ax[4,0].spines['right'].set_linewidth(1.5)\n",
    "    ax[4,0].spines['bottom'].set_linewidth(1.5)\n",
    "    ax[4,0].spines['left'].set_linewidth(1.5)\n",
    "    ax[4,0].set_xlabel('log(t/time units)', fontsize=13)\n",
    "    ax[4,0].set_ylabel('Mean $\\Delta$log(Edd. Ratio)', fontsize=13)\n",
    "    \n",
    "    ax[4,0].hlines(0, 0, t_log001[-1] +0.2, linewidth=1, linestyle='--')\n",
    "    ax[4,0].errorbar(t_log001, means001, yerr=stands001, fmt='s', alpha=.5)\n",
    "    ax[4,0].plot(t_log001[1:], best_fit001(t_log001[1:].astype(float)), ls='--', color='orange')\n",
    "    \n",
    "    ax[4,0].text(0, -1, smallest_point001)\n",
    "    \n",
    "    \n",
    "    \n",
    "    ax[4,1].set_title('As small as possible (0.006%)', fontsize=13)\n",
    "    ax[4,1].tick_params(direction='in', length=6, width=1.5)\n",
    "    ax[4,1].spines['top'].set_linewidth(1.5)\n",
    "    ax[4,1].spines['right'].set_linewidth(1.5)\n",
    "    ax[4,1].spines['bottom'].set_linewidth(1.5)\n",
    "    ax[4,1].spines['left'].set_linewidth(1.5)\n",
    "    ax[4,1].set_xlabel('log(t/time units)', fontsize=13)\n",
    "    \n",
    "    ax[4,1].hlines(0, 0, t_loginf[-1] +0.2, linewidth=1, linestyle='--')\n",
    "    ax[4,1].errorbar(t_loginf, meansinf, yerr=standsinf, fmt='s', alpha=.5)\n",
    "    ax[4,1].plot(t_loginf[1:], best_fitinf(t_loginf[1:].astype(float)), ls='--', color='orange')\n",
    "    \n",
    "    ax[4,1].text(0, -1, smallest_pointinf)\n",
    "    \n",
    "plt.savefig('10-panel_delta_eddington_default.pdf', bbox_inches='tight')  \n",
    "plt.show()"
   ]
  },
  {
   "cell_type": "code",
   "execution_count": 44,
   "metadata": {
    "ExecuteTime": {
     "end_time": "2019-07-17T20:42:25.323208Z",
     "start_time": "2019-07-17T20:42:23.379994Z"
    },
    "code_folding": [],
    "hidden": true
   },
   "outputs": [
    {
     "data": {
      "image/png": "[encoded data removed]",
      "text/plain": [
       "<Figure size 1440x720 with 10 Axes>"
      ]
     },
     "metadata": {
      "needs_background": "light"
     },
     "output_type": "display_data"
    }
   ],
   "source": [
    "# Structure function plots\n",
    "with plt.style.context('seaborn-paper'):\n",
    "    fig, ax = plt.subplots(5, 2, figsize=(20, 10), sharex=True, sharey=True, gridspec_kw={'width_ratios': [1, 1], 'wspace':0, 'left':0.04, 'right':0.96, 'bottom':0.05, 'top':0.95})\n",
    "    \n",
    "    ax[0,0].set_title('100%', fontsize=13)\n",
    "    ax[0,0].tick_params(direction='in', length=6, width=1.5)\n",
    "    ax[0,0].spines['top'].set_linewidth(1.5)\n",
    "    ax[0,0].spines['right'].set_linewidth(1.5)\n",
    "    ax[0,0].spines['bottom'].set_linewidth(1.5)\n",
    "    ax[0,0].spines['left'].set_linewidth(1.5)\n",
    "    \n",
    "    \n",
    "    ax[0,0].plot(t_log100[1:], stands100[1:])\n",
    "    \n",
    "    ax[0,0].text(0, 0.6, smallest_point100)\n",
    "    \n",
    "    \n",
    "    \n",
    "    ax[0,1].set_title('50%', fontsize=13)\n",
    "    ax[0,1].tick_params(direction='in', length=6, width=1.5)\n",
    "    ax[0,1].spines['top'].set_linewidth(1.5)\n",
    "    ax[0,1].spines['right'].set_linewidth(1.5)\n",
    "    ax[0,1].spines['bottom'].set_linewidth(1.5)\n",
    "    ax[0,1].spines['left'].set_linewidth(1.5)\n",
    "    \n",
    "    \n",
    "    ax[0,1].plot(t_log50[1:], stands50[1:])\n",
    "    \n",
    "    ax[0,1].text(0, 0.6, smallest_point50)\n",
    "    \n",
    "    \n",
    "    \n",
    "    ax[1,0].set_title('10%', fontsize=13)\n",
    "    ax[1,0].tick_params(direction='in', length=6, width=1.5)\n",
    "    ax[1,0].spines['top'].set_linewidth(1.5)\n",
    "    ax[1,0].spines['right'].set_linewidth(1.5)\n",
    "    ax[1,0].spines['bottom'].set_linewidth(1.5)\n",
    "    ax[1,0].spines['left'].set_linewidth(1.5)\n",
    "    \n",
    "    \n",
    "    ax[1,0].plot(t_log10[1:], stands10[1:])\n",
    "    \n",
    "    ax[1,0].text(0, 0.6, smallest_point10)\n",
    "    \n",
    "    \n",
    "    \n",
    "    ax[1,1].set_title('5%', fontsize=13)\n",
    "    ax[1,1].tick_params(direction='in', length=6, width=1.5)\n",
    "    ax[1,1].spines['top'].set_linewidth(1.5)\n",
    "    ax[1,1].spines['right'].set_linewidth(1.5)\n",
    "    ax[1,1].spines['bottom'].set_linewidth(1.5)\n",
    "    ax[1,1].spines['left'].set_linewidth(1.5)\n",
    "    \n",
    "    \n",
    "    ax[1,1].plot(t_log5[1:], stands5[1:])\n",
    "    \n",
    "    ax[1,1].text(0, 0.6, smallest_point5)\n",
    "    \n",
    "    \n",
    "    \n",
    "    ax[2,0].set_title('1%', fontsize=13)\n",
    "    ax[2,0].tick_params(direction='in', length=6, width=1.5)\n",
    "    ax[2,0].spines['top'].set_linewidth(1.5)\n",
    "    ax[2,0].spines['right'].set_linewidth(1.5)\n",
    "    ax[2,0].spines['bottom'].set_linewidth(1.5)\n",
    "    ax[2,0].spines['left'].set_linewidth(1.5)\n",
    "    \n",
    "    \n",
    "    ax[2,0].plot(t_log1[1:], stands1[1:])\n",
    "    \n",
    "    ax[2,0].text(0, 0.6, smallest_point1)\n",
    "    \n",
    "\n",
    "    \n",
    "    \n",
    "    ax[2,1].set_title('0.5%', fontsize=13)\n",
    "    ax[2,1].tick_params(direction='in', length=6, width=1.5)\n",
    "    ax[2,1].spines['top'].set_linewidth(1.5)\n",
    "    ax[2,1].spines['right'].set_linewidth(1.5)\n",
    "    ax[2,1].spines['bottom'].set_linewidth(1.5)\n",
    "    ax[2,1].spines['left'].set_linewidth(1.5)\n",
    "    \n",
    "    \n",
    "    ax[2,1].plot(t_log05[1:], stands05[1:])\n",
    "    \n",
    "    ax[2,1].text(0, 0.6, smallest_point05)\n",
    "    \n",
    "    \n",
    "    ax[3,0].set_title('0.1%', fontsize=13)\n",
    "    ax[3,0].tick_params(direction='in', length=6, width=1.5)\n",
    "    ax[3,0].spines['top'].set_linewidth(1.5)\n",
    "    ax[3,0].spines['right'].set_linewidth(1.5)\n",
    "    ax[3,0].spines['bottom'].set_linewidth(1.5)\n",
    "    ax[3,0].spines['left'].set_linewidth(1.5)\n",
    "    \n",
    "    \n",
    "    ax[3,0].plot(t_log01[1:], stands01[1:])\n",
    "    \n",
    "    ax[3,0].text(0, 0.6, smallest_point01)\n",
    "    \n",
    "\n",
    "    \n",
    "    \n",
    "    ax[3,1].set_title('0.05%', fontsize=13)\n",
    "    ax[3,1].tick_params(direction='in', length=6, width=1.5)\n",
    "    ax[3,1].spines['top'].set_linewidth(1.5)\n",
    "    ax[3,1].spines['right'].set_linewidth(1.5)\n",
    "    ax[3,1].spines['bottom'].set_linewidth(1.5)\n",
    "    ax[3,1].spines['left'].set_linewidth(1.5)\n",
    "    \n",
    "    \n",
    "    ax[3,1].plot(t_log005[1:], stands005[1:])\n",
    "    \n",
    "    ax[3,1].text(0, 0.6, smallest_point005)\n",
    "    \n",
    "    \n",
    "    \n",
    "    ax[4,0].set_title('0.01%', fontsize=13)\n",
    "    ax[4,0].tick_params(direction='in', length=6, width=1.5)\n",
    "    ax[4,0].spines['top'].set_linewidth(1.5)\n",
    "    ax[4,0].spines['right'].set_linewidth(1.5)\n",
    "    ax[4,0].spines['bottom'].set_linewidth(1.5)\n",
    "    ax[4,0].spines['left'].set_linewidth(1.5)\n",
    "    ax[4,0].set_xlabel('log(t/time units)', fontsize=13)\n",
    "    ax[4,0].set_ylabel('log(SF)', fontsize=13)\n",
    "    \n",
    "    \n",
    "    ax[4,0].plot(t_log001[1:], stands001[1:])\n",
    "    \n",
    "    ax[4,0].text(0, 0.6, smallest_point001)\n",
    "    \n",
    "    \n",
    "    \n",
    "    ax[4,1].set_title('As small as possible (0.006%)', fontsize=13)\n",
    "    ax[4,1].tick_params(direction='in', length=6, width=1.5)\n",
    "    ax[4,1].spines['top'].set_linewidth(1.5)\n",
    "    ax[4,1].spines['right'].set_linewidth(1.5)\n",
    "    ax[4,1].spines['bottom'].set_linewidth(1.5)\n",
    "    ax[4,1].spines['left'].set_linewidth(1.5)\n",
    "    ax[4,1].set_xlabel('log(t/time units)', fontsize=13)\n",
    "    \n",
    "    \n",
    "    ax[4,1].plot(t_loginf[1:], standsinf[1:])\n",
    "    \n",
    "    ax[4,1].text(0, 0.6, smallest_pointinf)\n",
    "    \n",
    "plt.savefig('10-panel_structure_functions_default.pdf', bbox_inches='tight')  \n",
    "plt.show()"
   ]
  },
  {
   "cell_type": "markdown",
   "metadata": {
    "heading_collapsed": true
   },
   "source": [
    "### Create curves"
   ]
  },
  {
   "cell_type": "code",
   "execution_count": 40,
   "metadata": {
    "ExecuteTime": {
     "end_time": "2019-07-17T20:39:23.648070Z",
     "start_time": "2019-07-17T20:34:43.210489Z"
    },
    "hidden": true
   },
   "outputs": [
    {
     "name": "stderr",
     "output_type": "stream",
     "text": [
      "100%|██████████| 21/21 [00:09<00:00,  2.09it/s]\n",
      "100%|██████████| 20/20 [00:02<00:00,  7.51it/s]\n",
      "100%|██████████| 20/20 [00:06<00:00,  1.88it/s]\n",
      "100%|██████████| 20/20 [00:21<00:00,  1.05it/s]\n",
      "100%|██████████| 20/20 [00:00<00:00, 1389.53it/s]\n",
      "100%|██████████| 20/20 [00:00<00:00, 140.24it/s]\n",
      "100%|██████████| 93/93 [00:00<00:00, 1737.91it/s]\n",
      "100%|██████████| 93/93 [00:00<00:00, 1459.23it/s]\n",
      "100%|██████████| 21/21 [00:08<00:00,  2.18it/s]\n",
      "100%|██████████| 20/20 [00:02<00:00,  7.45it/s]\n",
      "100%|██████████| 20/20 [00:06<00:00,  3.31it/s]\n",
      "100%|██████████| 20/20 [00:11<00:00,  1.82it/s]\n",
      "100%|██████████| 20/20 [00:00<00:00, 2036.86it/s]\n",
      "100%|██████████| 20/20 [00:00<00:00, 137.78it/s]\n",
      "100%|██████████| 93/93 [00:00<00:00, 2009.10it/s]\n",
      "100%|██████████| 93/93 [00:00<00:00, 1391.15it/s]\n",
      "100%|██████████| 21/21 [00:03<00:00,  6.12it/s]\n",
      "100%|██████████| 20/20 [00:02<00:00,  6.83it/s]\n",
      "100%|██████████| 20/20 [00:05<00:00,  3.81it/s]\n",
      "100%|██████████| 20/20 [00:01<00:00, 13.04it/s]\n",
      "100%|██████████| 20/20 [00:00<00:00, 3090.18it/s]\n",
      "100%|██████████| 20/20 [00:00<00:00, 171.90it/s]\n",
      "100%|██████████| 93/93 [00:00<00:00, 2090.78it/s]\n",
      "100%|██████████| 93/93 [00:00<00:00, 1422.60it/s]\n",
      "100%|██████████| 21/21 [00:02<00:00,  6.61it/s]\n",
      "100%|██████████| 20/20 [00:02<00:00,  6.20it/s]\n",
      "100%|██████████| 20/20 [00:05<00:00,  3.10it/s]\n",
      "100%|██████████| 20/20 [00:00<00:00, 24.79it/s]\n",
      "100%|██████████| 20/20 [00:00<00:00, 4263.37it/s]\n",
      "100%|██████████| 20/20 [00:00<00:00, 255.27it/s]\n",
      "100%|██████████| 93/93 [00:00<00:00, 3716.05it/s]\n",
      "100%|██████████| 93/93 [00:00<00:00, 1865.45it/s]\n",
      "100%|██████████| 21/21 [00:02<00:00,  7.16it/s]\n",
      "100%|██████████| 20/20 [00:02<00:00,  7.37it/s]\n",
      "100%|██████████| 20/20 [00:05<00:00,  4.39it/s]\n",
      "100%|██████████| 20/20 [00:00<00:00, 103.48it/s]\n",
      "100%|██████████| 20/20 [00:00<00:00, 5097.29it/s]\n",
      "100%|██████████| 20/20 [00:00<00:00, 339.21it/s]\n",
      "100%|██████████| 93/93 [00:00<00:00, 2222.57it/s]\n",
      "100%|██████████| 93/93 [00:00<00:00, 1595.80it/s]\n",
      "100%|██████████| 21/21 [00:02<00:00,  7.20it/s]\n",
      "100%|██████████| 20/20 [00:02<00:00,  7.16it/s]\n",
      "100%|██████████| 20/20 [00:05<00:00,  4.02it/s]\n",
      "100%|██████████| 20/20 [00:00<00:00, 184.93it/s]\n",
      "100%|██████████| 20/20 [00:00<00:00, 6452.78it/s]\n",
      "100%|██████████| 20/20 [00:00<00:00, 386.58it/s]\n",
      "100%|██████████| 93/93 [00:00<00:00, 2348.17it/s]\n",
      "100%|██████████| 93/93 [00:00<00:00, 1508.22it/s]\n",
      "100%|██████████| 21/21 [00:02<00:00,  7.20it/s]\n",
      "100%|██████████| 20/20 [00:02<00:00,  7.24it/s]\n",
      "100%|██████████| 20/20 [00:05<00:00,  3.57it/s]\n",
      "100%|██████████| 20/20 [00:00<00:00, 500.16it/s]\n",
      "100%|██████████| 20/20 [00:00<00:00, 6604.16it/s]\n",
      "100%|██████████| 20/20 [00:00<00:00, 436.30it/s]\n",
      "100%|██████████| 93/93 [00:00<00:00, 2446.35it/s]\n",
      "100%|██████████| 93/93 [00:00<00:00, 1545.95it/s]\n",
      "100%|██████████| 21/21 [00:02<00:00,  7.17it/s]\n",
      "100%|██████████| 20/20 [00:03<00:00,  5.80it/s]\n",
      "100%|██████████| 20/20 [00:05<00:00,  3.83it/s]\n",
      "100%|██████████| 20/20 [00:00<00:00, 549.71it/s]\n",
      "100%|██████████| 20/20 [00:00<00:00, 11238.76it/s]\n",
      "100%|██████████| 20/20 [00:00<00:00, 524.02it/s]\n",
      "100%|██████████| 93/93 [00:00<00:00, 2373.99it/s]\n",
      "100%|██████████| 93/93 [00:00<00:00, 1556.32it/s]\n",
      "100%|██████████| 21/21 [00:03<00:00,  6.67it/s]\n",
      "100%|██████████| 20/20 [00:03<00:00,  6.85it/s]\n",
      "100%|██████████| 20/20 [00:05<00:00,  3.70it/s]\n",
      "100%|██████████| 20/20 [00:00<00:00, 774.53it/s]\n",
      "100%|██████████| 20/20 [00:00<00:00, 8609.00it/s]\n",
      "100%|██████████| 20/20 [00:00<00:00, 520.25it/s]\n",
      "100%|██████████| 93/93 [00:00<00:00, 2114.51it/s]\n",
      "100%|██████████| 93/93 [00:00<00:00, 1540.23it/s]\n",
      "100%|██████████| 21/21 [00:02<00:00,  6.70it/s]\n",
      "100%|██████████| 20/20 [00:03<00:00,  6.92it/s]\n",
      "100%|██████████| 20/20 [00:05<00:00,  3.90it/s]\n",
      "100%|██████████| 20/20 [00:00<00:00, 407.27it/s]\n",
      "100%|██████████| 20/20 [00:00<00:00, 21833.96it/s]\n",
      "100%|██████████| 20/20 [00:00<00:00, 304.47it/s]\n",
      "100%|██████████| 93/93 [00:00<00:00, 2331.92it/s]\n",
      "100%|██████████| 93/93 [00:00<00:00, 1622.06it/s]\n"
     ]
    }
   ],
   "source": [
    "t_log100, means100, stands100, best_fit100, smallest_point100 = generate_curve(brightest_percent_lower=100)\n",
    "\n",
    "t_log50, means50, stands50, best_fit50, smallest_point50 = generate_curve(brightest_percent_lower=50)\n",
    "\n",
    "t_log10, means10, stands10, best_fit10, smallest_point10 = generate_curve(brightest_percent_lower=10)\n",
    "\n",
    "t_log5, means5, stands5, best_fit5, smallest_point5 = generate_curve(brightest_percent_lower=5)\n",
    "\n",
    "t_log1, means1, stands1, best_fit1, smallest_point1 = generate_curve(brightest_percent_lower=1)\n",
    "\n",
    "t_log05, means05, stands05, best_fit05, smallest_point05 = generate_curve(brightest_percent_lower=0.5)\n",
    "\n",
    "t_log01, means01, stands01, best_fit01, smallest_point01 = generate_curve(brightest_percent_lower=0.1)\n",
    "\n",
    "t_log005, means005, stands005, best_fit005, smallest_point005 = generate_curve(brightest_percent_lower=0.05)\n",
    "\n",
    "t_log001, means001, stands001, best_fit001, smallest_point001 = generate_curve(brightest_percent_lower=0.01)\n",
    "\n",
    "t_loginf, meansinf, standsinf, best_fitinf, smallest_pointinf = generate_curve(brightest_percent_lower=0.006)"
   ]
  },
  {
   "cell_type": "markdown",
   "metadata": {},
   "source": [
    "## 4-Line plots"
   ]
  },
  {
   "cell_type": "markdown",
   "metadata": {},
   "source": [
    "### Plot curves"
   ]
  },
  {
   "cell_type": "code",
   "execution_count": 56,
   "metadata": {
    "ExecuteTime": {
     "end_time": "2019-07-17T20:55:11.972944Z",
     "start_time": "2019-07-17T20:55:11.623036Z"
    }
   },
   "outputs": [],
   "source": [
    "# PSD regime determination plot\n",
    "with plt.style.context('seaborn-paper'):\n",
    "    fig, ax = plt.subplots(1, figsize=(20, 10))\n",
    "    \n",
    "    ax.set_title('Mean change in log(Edd. Ratio) as a function of chosen percent ', fontsize=13)\n",
    "    ax.tick_params(direction='in', length=6, width=1.5)\n",
    "    ax.spines['top'].set_linewidth(1.5)\n",
    "    ax.spines['right'].set_linewidth(1.5)\n",
    "    ax.spines['bottom'].set_linewidth(1.5)\n",
    "    ax.spines['left'].set_linewidth(1.5)\n",
    "    ax.set_xlabel('Percentage of total data', fontsize=13)\n",
    "    ax.set_xlim(x[0], x[-1])\n",
    "    ax.set_ylabel('Mean $\\Delta$log(Edd. Ratio)', fontsize=13)\n",
    "    \n",
    "    ax.plot(x, log_t_1, label='log(t/time units) = 1')\n",
    "    ax.plot(x, log_t_2, label='log(t/time units) = 2')\n",
    "    ax.plot(x, log_t_3, label='log(t/time units) = 3')\n",
    "    ax.plot(x, log_t_4, label='log(t/time units) = 4')\n",
    "    \n",
    "    ax.legend()\n",
    "    \n",
    "plt.savefig('4-line_delta_eddington_default.pdf', bbox_inches='tight')  \n",
    "plt.show()"
   ]
  },
  {
   "cell_type": "code",
   "execution_count": 57,
   "metadata": {
    "ExecuteTime": {
     "end_time": "2019-07-17T20:55:15.400069Z",
     "start_time": "2019-07-17T20:55:15.028859Z"
    }
   },
   "outputs": [],
   "source": [
    "# Structure functions in a strange space\n",
    "with plt.style.context('seaborn-paper'):\n",
    "    fig, ax = plt.subplots(1, figsize=(20, 10))\n",
    "    \n",
    "    ax.set_title('log(SF) as a function of log(chosen percent)', fontsize=13)\n",
    "    ax.tick_params(direction='in', length=6, width=1.5)\n",
    "    ax.spines['top'].set_linewidth(1.5)\n",
    "    ax.spines['right'].set_linewidth(1.5)\n",
    "    ax.spines['bottom'].set_linewidth(1.5)\n",
    "    ax.spines['left'].set_linewidth(1.5)\n",
    "    ax.set_xlabel('log(percentage of total data)', fontsize=13)\n",
    "    ax.set_xlim(x[0], x[-1])\n",
    "    ax.set_ylabel('log(SF)', fontsize=13)\n",
    "    \n",
    "    ax.plot(x, log_t_1_stands, label='log(t/time units) = 1')\n",
    "    ax.plot(x, log_t_2_stands, label='log(t/time units) = 2')\n",
    "    ax.plot(x, log_t_3_stands, label='log(t/time units) = 3')\n",
    "    ax.plot(x, log_t_4_stands, label='log(t/time units) = 4')\n",
    "    \n",
    "    ax.legend()\n",
    "    \n",
    "plt.savefig('4-line_structure_function_default.pdf', bbox_inches='tight')  \n",
    "plt.show()"
   ]
  },
  {
   "cell_type": "markdown",
   "metadata": {
    "heading_collapsed": true
   },
   "source": [
    "### Create curves"
   ]
  },
  {
   "cell_type": "code",
   "execution_count": 52,
   "metadata": {
    "ExecuteTime": {
     "end_time": "2019-07-17T20:47:07.690330Z",
     "start_time": "2019-07-17T20:45:16.847017Z"
    },
    "hidden": true
   },
   "outputs": [
    {
     "name": "stderr",
     "output_type": "stream",
     "text": [
      "100%|██████████| 21/21 [00:09<00:00,  1.89it/s]\n",
      "100%|██████████| 20/20 [00:11<00:00,  1.13s/it]\n",
      "100%|██████████| 20/20 [00:06<00:00,  3.02it/s]\n"
     ]
    },
    {
     "name": "stdout",
     "output_type": "stream",
     "text": [
      "[  946503        1        2 ... 16767213 16767214 16767215] [13435515        1        2 ... 16767213 16767214 16767215]\n"
     ]
    },
    {
     "name": "stderr",
     "output_type": "stream",
     "text": [
      "100%|██████████| 20/20 [00:19<00:00,  1.13it/s]\n",
      "100%|██████████| 20/20 [00:00<00:00, 3624.37it/s]\n",
      "100%|██████████| 20/20 [00:00<00:00, 45.25it/s]\n",
      "100%|██████████| 93/93 [00:00<00:00, 2060.68it/s]\n",
      "100%|██████████| 93/93 [00:00<00:00, 1899.63it/s]\n",
      "100%|██████████| 21/21 [00:08<00:00,  2.86it/s]\n",
      "100%|██████████| 20/20 [00:02<00:00,  7.38it/s]\n",
      " 75%|███████▌  | 15/20 [00:04<00:01,  3.03it/s]\n"
     ]
    },
    {
     "ename": "KeyboardInterrupt",
     "evalue": "",
     "output_type": "error",
     "traceback": [
      "\u001b[0;31m---------------------------------------------------------------------------\u001b[0m",
      "\u001b[0;31mKeyboardInterrupt\u001b[0m                         Traceback (most recent call last)",
      "\u001b[0;32m<ipython-input-52-4431986f9d33>\u001b[0m in \u001b[0;36m<module>\u001b[0;34m\u001b[0m\n\u001b[1;32m      1\u001b[0m \u001b[0mt_log100\u001b[0m\u001b[0;34m,\u001b[0m \u001b[0mmeans100\u001b[0m\u001b[0;34m,\u001b[0m \u001b[0mstands100\u001b[0m\u001b[0;34m,\u001b[0m \u001b[0mbest_fit100\u001b[0m\u001b[0;34m,\u001b[0m \u001b[0msmallest_point100\u001b[0m \u001b[0;34m=\u001b[0m \u001b[0mgenerate_curve\u001b[0m\u001b[0;34m(\u001b[0m\u001b[0mbrightest_percent_lower\u001b[0m\u001b[0;34m=\u001b[0m\u001b[0;36m100\u001b[0m\u001b[0;34m)\u001b[0m\u001b[0;34m\u001b[0m\u001b[0;34m\u001b[0m\u001b[0m\n\u001b[1;32m      2\u001b[0m \u001b[0;34m\u001b[0m\u001b[0m\n\u001b[0;32m----> 3\u001b[0;31m \u001b[0mt_log50\u001b[0m\u001b[0;34m,\u001b[0m \u001b[0mmeans50\u001b[0m\u001b[0;34m,\u001b[0m \u001b[0mstands50\u001b[0m\u001b[0;34m,\u001b[0m \u001b[0mbest_fit50\u001b[0m\u001b[0;34m,\u001b[0m \u001b[0msmallest_point50\u001b[0m \u001b[0;34m=\u001b[0m \u001b[0mgenerate_curve\u001b[0m\u001b[0;34m(\u001b[0m\u001b[0mbrightest_percent_lower\u001b[0m\u001b[0;34m=\u001b[0m\u001b[0;36m50\u001b[0m\u001b[0;34m)\u001b[0m\u001b[0;34m\u001b[0m\u001b[0;34m\u001b[0m\u001b[0m\n\u001b[0m\u001b[1;32m      4\u001b[0m \u001b[0;34m\u001b[0m\u001b[0m\n\u001b[1;32m      5\u001b[0m \u001b[0mt_log10\u001b[0m\u001b[0;34m,\u001b[0m \u001b[0mmeans10\u001b[0m\u001b[0;34m,\u001b[0m \u001b[0mstands10\u001b[0m\u001b[0;34m,\u001b[0m \u001b[0mbest_fit10\u001b[0m\u001b[0;34m,\u001b[0m \u001b[0msmallest_point10\u001b[0m \u001b[0;34m=\u001b[0m \u001b[0mgenerate_curve\u001b[0m\u001b[0;34m(\u001b[0m\u001b[0mbrightest_percent_lower\u001b[0m\u001b[0;34m=\u001b[0m\u001b[0;36m10\u001b[0m\u001b[0;34m)\u001b[0m\u001b[0;34m\u001b[0m\u001b[0;34m\u001b[0m\u001b[0m\n",
      "\u001b[0;32m<ipython-input-51-6e68c2f0040b>\u001b[0m in \u001b[0;36mgenerate_curve\u001b[0;34m(brightest_percent_lower, brightest_percent_upper, num_random_points, t_max, t_step, length_curve, num_curves)\u001b[0m\n\u001b[1;32m     43\u001b[0m         \u001b[0mindices_lower\u001b[0m \u001b[0;34m=\u001b[0m \u001b[0;34m[\u001b[0m\u001b[0;34m]\u001b[0m\u001b[0;34m\u001b[0m\u001b[0;34m\u001b[0m\u001b[0m\n\u001b[1;32m     44\u001b[0m         \u001b[0;32mfor\u001b[0m \u001b[0mi\u001b[0m \u001b[0;32min\u001b[0m \u001b[0mtqdm\u001b[0m\u001b[0;34m(\u001b[0m\u001b[0mrange\u001b[0m\u001b[0;34m(\u001b[0m\u001b[0mnum_curves\u001b[0m\u001b[0;34m)\u001b[0m\u001b[0;34m)\u001b[0m\u001b[0;34m:\u001b[0m\u001b[0;34m\u001b[0m\u001b[0;34m\u001b[0m\u001b[0m\n\u001b[0;32m---> 45\u001b[0;31m             \u001b[0mindices_lower\u001b[0m\u001b[0;34m.\u001b[0m\u001b[0mappend\u001b[0m\u001b[0;34m(\u001b[0m\u001b[0mnp\u001b[0m\u001b[0;34m.\u001b[0m\u001b[0margpartition\u001b[0m\u001b[0;34m(\u001b[0m\u001b[0mcut_curves\u001b[0m\u001b[0;34m[\u001b[0m\u001b[0mi\u001b[0m\u001b[0;34m,\u001b[0m \u001b[0;34m:\u001b[0m\u001b[0;34m]\u001b[0m\u001b[0;34m,\u001b[0m \u001b[0;34m-\u001b[0m\u001b[0mnum_brightest_lower\u001b[0m\u001b[0;34m)\u001b[0m\u001b[0;34m[\u001b[0m\u001b[0;34m-\u001b[0m\u001b[0mnum_brightest_lower\u001b[0m\u001b[0;34m:\u001b[0m\u001b[0;34m]\u001b[0m\u001b[0;34m)\u001b[0m\u001b[0;34m\u001b[0m\u001b[0;34m\u001b[0m\u001b[0m\n\u001b[0m\u001b[1;32m     46\u001b[0m \u001b[0;34m\u001b[0m\u001b[0m\n\u001b[1;32m     47\u001b[0m         \u001b[0mindices_lower\u001b[0m \u001b[0;34m=\u001b[0m \u001b[0mnp\u001b[0m\u001b[0;34m.\u001b[0m\u001b[0marray\u001b[0m\u001b[0;34m(\u001b[0m\u001b[0mindices_lower\u001b[0m\u001b[0;34m)\u001b[0m\u001b[0;34m\u001b[0m\u001b[0;34m\u001b[0m\u001b[0m\n",
      "\u001b[0;32m~/anaconda3/lib/python3.7/site-packages/numpy/core/fromnumeric.py\u001b[0m in \u001b[0;36margpartition\u001b[0;34m(a, kth, axis, kind, order)\u001b[0m\n\u001b[1;32m    806\u001b[0m \u001b[0;34m\u001b[0m\u001b[0m\n\u001b[1;32m    807\u001b[0m     \"\"\"\n\u001b[0;32m--> 808\u001b[0;31m     \u001b[0;32mreturn\u001b[0m \u001b[0m_wrapfunc\u001b[0m\u001b[0;34m(\u001b[0m\u001b[0ma\u001b[0m\u001b[0;34m,\u001b[0m \u001b[0;34m'argpartition'\u001b[0m\u001b[0;34m,\u001b[0m \u001b[0mkth\u001b[0m\u001b[0;34m,\u001b[0m \u001b[0maxis\u001b[0m\u001b[0;34m=\u001b[0m\u001b[0maxis\u001b[0m\u001b[0;34m,\u001b[0m \u001b[0mkind\u001b[0m\u001b[0;34m=\u001b[0m\u001b[0mkind\u001b[0m\u001b[0;34m,\u001b[0m \u001b[0morder\u001b[0m\u001b[0;34m=\u001b[0m\u001b[0morder\u001b[0m\u001b[0;34m)\u001b[0m\u001b[0;34m\u001b[0m\u001b[0;34m\u001b[0m\u001b[0m\n\u001b[0m\u001b[1;32m    809\u001b[0m \u001b[0;34m\u001b[0m\u001b[0m\n\u001b[1;32m    810\u001b[0m \u001b[0;34m\u001b[0m\u001b[0m\n",
      "\u001b[0;32m~/anaconda3/lib/python3.7/site-packages/numpy/core/fromnumeric.py\u001b[0m in \u001b[0;36m_wrapfunc\u001b[0;34m(obj, method, *args, **kwds)\u001b[0m\n\u001b[1;32m     54\u001b[0m \u001b[0;32mdef\u001b[0m \u001b[0m_wrapfunc\u001b[0m\u001b[0;34m(\u001b[0m\u001b[0mobj\u001b[0m\u001b[0;34m,\u001b[0m \u001b[0mmethod\u001b[0m\u001b[0;34m,\u001b[0m \u001b[0;34m*\u001b[0m\u001b[0margs\u001b[0m\u001b[0;34m,\u001b[0m \u001b[0;34m**\u001b[0m\u001b[0mkwds\u001b[0m\u001b[0;34m)\u001b[0m\u001b[0;34m:\u001b[0m\u001b[0;34m\u001b[0m\u001b[0;34m\u001b[0m\u001b[0m\n\u001b[1;32m     55\u001b[0m     \u001b[0;32mtry\u001b[0m\u001b[0;34m:\u001b[0m\u001b[0;34m\u001b[0m\u001b[0;34m\u001b[0m\u001b[0m\n\u001b[0;32m---> 56\u001b[0;31m         \u001b[0;32mreturn\u001b[0m \u001b[0mgetattr\u001b[0m\u001b[0;34m(\u001b[0m\u001b[0mobj\u001b[0m\u001b[0;34m,\u001b[0m \u001b[0mmethod\u001b[0m\u001b[0;34m)\u001b[0m\u001b[0;34m(\u001b[0m\u001b[0;34m*\u001b[0m\u001b[0margs\u001b[0m\u001b[0;34m,\u001b[0m \u001b[0;34m**\u001b[0m\u001b[0mkwds\u001b[0m\u001b[0;34m)\u001b[0m\u001b[0;34m\u001b[0m\u001b[0;34m\u001b[0m\u001b[0m\n\u001b[0m\u001b[1;32m     57\u001b[0m \u001b[0;34m\u001b[0m\u001b[0m\n\u001b[1;32m     58\u001b[0m     \u001b[0;31m# An AttributeError occurs if the object does not have\u001b[0m\u001b[0;34m\u001b[0m\u001b[0;34m\u001b[0m\u001b[0;34m\u001b[0m\u001b[0m\n",
      "\u001b[0;31mKeyboardInterrupt\u001b[0m: "
     ]
    }
   ],
   "source": [
    "t_log100, means100, stands100, best_fit100, smallest_point100 = generate_curve(brightest_percent_lower=100)\n",
    "\n",
    "t_log50, means50, stands50, best_fit50, smallest_point50 = generate_curve(brightest_percent_lower=50)\n",
    "\n",
    "t_log10, means10, stands10, best_fit10, smallest_point10 = generate_curve(brightest_percent_lower=10)\n",
    "\n",
    "t_log5, means5, stands5, best_fit5, smallest_point5 = generate_curve(brightest_percent_lower=5)\n",
    "\n",
    "t_log1, means1, stands1, best_fit1, smallest_point1 = generate_curve(brightest_percent_lower=1)\n",
    "\n",
    "t_log05, means05, stands05, best_fit05, smallest_point05 = generate_curve(brightest_percent_lower=0.5)\n",
    "\n",
    "t_log01, means01, stands01, best_fit01, smallest_point01 = generate_curve(brightest_percent_lower=0.1)\n",
    "\n",
    "t_log005, means005, stands005, best_fit005, smallest_point005 = generate_curve(brightest_percent_lower=0.05)\n",
    "\n",
    "t_log001, means001, stands001, best_fit001, smallest_point001 = generate_curve(brightest_percent_lower=0.01)\n",
    "\n",
    "t_loginf, meansinf, standsinf, best_fitinf, smallest_pointinf = generate_curve(brightest_percent_lower=0.006)"
   ]
  },
  {
   "cell_type": "code",
   "execution_count": 46,
   "metadata": {
    "ExecuteTime": {
     "end_time": "2019-07-17T20:42:42.998597Z",
     "start_time": "2019-07-17T20:42:42.962183Z"
    },
    "hidden": true
   },
   "outputs": [],
   "source": [
    "log_t_1 = [means100[np.where(t_log100==1)[0][0]], means50[np.where(t_log50==1)[0][0]], means10[np.where(t_log10==1)[0][0]], means5[np.where(t_log5==1)[0][0]], means1[np.where(t_log1==1)[0][0]], means05[np.where(t_log05==1)[0][0]], means01[np.where(t_log01==1)[0][0]], means005[np.where(t_log005==1)[0][0]], means001[np.where(t_log001==1)[0][0]], meansinf[np.where(t_loginf==1)[0][0]]]\n",
    "log_t_2 = [means100[np.where(t_log100==2)[0][0]], means50[np.where(t_log50==2)[0][0]], means10[np.where(t_log10==2)[0][0]], means5[np.where(t_log5==2)[0][0]], means1[np.where(t_log1==2)[0][0]], means05[np.where(t_log05==2)[0][0]], means01[np.where(t_log01==2)[0][0]], means005[np.where(t_log005==2)[0][0]], means001[np.where(t_log001==2)[0][0]], meansinf[np.where(t_loginf==2)[0][0]]]\n",
    "log_t_3 = [means100[np.where(t_log100==3)[0][0]], means50[np.where(t_log50==3)[0][0]], means10[np.where(t_log10==3)[0][0]], means5[np.where(t_log5==3)[0][0]], means1[np.where(t_log1==3)[0][0]], means05[np.where(t_log05==3)[0][0]], means01[np.where(t_log01==3)[0][0]], means005[np.where(t_log005==3)[0][0]], means001[np.where(t_log001==3)[0][0]], meansinf[np.where(t_loginf==3)[0][0]]]\n",
    "log_t_4 = [means100[np.where(t_log100==4)[0][0]], means50[np.where(t_log50==4)[0][0]], means10[np.where(t_log10==4)[0][0]], means5[np.where(t_log5==4)[0][0]], means1[np.where(t_log1==4)[0][0]], means05[np.where(t_log05==4)[0][0]], means01[np.where(t_log01==4)[0][0]], means005[np.where(t_log005==4)[0][0]], means001[np.where(t_log001==4)[0][0]], meansinf[np.where(t_loginf==4)[0][0]]]\n",
    "\n",
    "log_t_1_stands = [stands100[np.where(t_log100==1)[0][0]], stands50[np.where(t_log50==1)[0][0]], stands10[np.where(t_log10==1)[0][0]], stands5[np.where(t_log5==1)[0][0]], stands1[np.where(t_log1==1)[0][0]], stands05[np.where(t_log05==1)[0][0]], stands01[np.where(t_log01==1)[0][0]], stands005[np.where(t_log005==1)[0][0]], stands001[np.where(t_log001==1)[0][0]], standsinf[np.where(t_loginf==1)[0][0]]]\n",
    "log_t_1_stands = np.log10(np.array(log_t_1_stands))\n",
    "log_t_2_stands = [stands100[np.where(t_log100==2)[0][0]], stands50[np.where(t_log50==2)[0][0]], stands10[np.where(t_log10==2)[0][0]], stands5[np.where(t_log5==2)[0][0]], stands1[np.where(t_log1==2)[0][0]], stands05[np.where(t_log05==2)[0][0]], stands01[np.where(t_log01==2)[0][0]], stands005[np.where(t_log005==2)[0][0]], stands001[np.where(t_log001==2)[0][0]], standsinf[np.where(t_loginf==2)[0][0]]]\n",
    "log_t_2_stands = np.log10(np.array(log_t_2_stands))\n",
    "log_t_3_stands = [stands100[np.where(t_log100==3)[0][0]], stands50[np.where(t_log50==3)[0][0]], stands10[np.where(t_log10==3)[0][0]], stands5[np.where(t_log5==3)[0][0]], stands1[np.where(t_log1==3)[0][0]], stands05[np.where(t_log05==3)[0][0]], stands01[np.where(t_log01==3)[0][0]], stands005[np.where(t_log005==3)[0][0]], stands001[np.where(t_log001==3)[0][0]], standsinf[np.where(t_loginf==3)[0][0]]]\n",
    "log_t_3_stands = np.log10(np.array(log_t_3_stands))\n",
    "log_t_4_stands = [stands100[np.where(t_log100==4)[0][0]], stands50[np.where(t_log50==4)[0][0]], stands10[np.where(t_log10==4)[0][0]], stands5[np.where(t_log5==4)[0][0]], stands1[np.where(t_log1==4)[0][0]], stands05[np.where(t_log05==4)[0][0]], stands01[np.where(t_log01==4)[0][0]], stands005[np.where(t_log005==4)[0][0]], stands001[np.where(t_log001==4)[0][0]], standsinf[np.where(t_loginf==4)[0][0]]]\n",
    "log_t_4_stands = np.log10(np.array(log_t_4_stands))\n",
    "\n",
    "\n",
    "x = [100, 50, 10, 5, 1, 0.5, 0.1, 0.05, 0.01, 0.006]\n",
    "x = np.log10(np.array(x))"
   ]
  }
 ],
 "metadata": {
  "kernelspec": {
   "display_name": "Python 3",
   "language": "python",
   "name": "python3"
  },
  "language_info": {
   "codemirror_mode": {
    "name": "ipython",
    "version": 3
   },
   "file_extension": ".py",
   "mimetype": "text/x-python",
   "name": "python",
   "nbconvert_exporter": "python",
   "pygments_lexer": "ipython3",
   "version": "3.7.3"
  },
  "toc": {
   "base_numbering": 1,
   "nav_menu": {
    "height": "356px",
    "width": "292px"
   },
   "number_sections": true,
   "sideBar": true,
   "skip_h1_title": false,
   "title_cell": "Table of Contents",
   "title_sidebar": "Contents",
   "toc_cell": false,
   "toc_position": {},
   "toc_section_display": true,
   "toc_window_display": false
  },
  "widgets": {
   "application/vnd.jupyter.widget-state+json": {
    "state": {},
    "version_major": 2,
    "version_minor": 0
   }
  }
 },
 "nbformat": 4,
 "nbformat_minor": 2
}
